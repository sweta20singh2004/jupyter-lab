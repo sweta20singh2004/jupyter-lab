{
 "cells": [
  {
   "cell_type": "code",
   "execution_count": 4,
   "id": "64fa8cc7-0132-42f7-864f-d4f903f9a735",
   "metadata": {},
   "outputs": [
    {
     "name": "stdout",
     "output_type": "stream",
     "text": [
      "Collecting matplotlib\n",
      "  Downloading matplotlib-3.10.0-cp311-cp311-manylinux_2_17_x86_64.manylinux2014_x86_64.whl.metadata (11 kB)\n",
      "Collecting contourpy>=1.0.1 (from matplotlib)\n",
      "  Downloading contourpy-1.3.1-cp311-cp311-manylinux_2_17_x86_64.manylinux2014_x86_64.whl.metadata (5.4 kB)\n",
      "Collecting cycler>=0.10 (from matplotlib)\n",
      "  Downloading cycler-0.12.1-py3-none-any.whl.metadata (3.8 kB)\n",
      "Collecting fonttools>=4.22.0 (from matplotlib)\n",
      "  Downloading fonttools-4.55.3-cp311-cp311-manylinux_2_17_x86_64.manylinux2014_x86_64.whl.metadata (165 kB)\n",
      "\u001b[2K     \u001b[90m━━━━━━━━━━━━━━━━━━━━━━━━━━━━━━━━━━━━━━━\u001b[0m \u001b[32m165.1/165.1 kB\u001b[0m \u001b[31m1.0 MB/s\u001b[0m eta \u001b[36m0:00:00\u001b[0m00:01\u001b[0m00:01\u001b[0m\n",
      "\u001b[?25hCollecting kiwisolver>=1.3.1 (from matplotlib)\n",
      "  Downloading kiwisolver-1.4.8-cp311-cp311-manylinux_2_17_x86_64.manylinux2014_x86_64.whl.metadata (6.2 kB)\n",
      "Requirement already satisfied: numpy>=1.23 in /opt/conda/lib/python3.11/site-packages (from matplotlib) (2.2.1)\n",
      "Requirement already satisfied: packaging>=20.0 in /opt/conda/lib/python3.11/site-packages (from matplotlib) (23.2)\n",
      "Collecting pillow>=8 (from matplotlib)\n",
      "  Downloading pillow-11.1.0-cp311-cp311-manylinux_2_28_x86_64.whl.metadata (9.1 kB)\n",
      "Collecting pyparsing>=2.3.1 (from matplotlib)\n",
      "  Downloading pyparsing-3.2.1-py3-none-any.whl.metadata (5.0 kB)\n",
      "Requirement already satisfied: python-dateutil>=2.7 in /opt/conda/lib/python3.11/site-packages (from matplotlib) (2.8.2)\n",
      "Requirement already satisfied: six>=1.5 in /opt/conda/lib/python3.11/site-packages (from python-dateutil>=2.7->matplotlib) (1.16.0)\n",
      "Downloading matplotlib-3.10.0-cp311-cp311-manylinux_2_17_x86_64.manylinux2014_x86_64.whl (8.6 MB)\n",
      "\u001b[2K   \u001b[90m━━━━━━━━━━━━━━━━━━━━━━━━━━━━━━━━━━━━━━━━\u001b[0m \u001b[32m8.6/8.6 MB\u001b[0m \u001b[31m3.6 MB/s\u001b[0m eta \u001b[36m0:00:00\u001b[0m00:01\u001b[0m00:01\u001b[0mm\n",
      "\u001b[?25hDownloading contourpy-1.3.1-cp311-cp311-manylinux_2_17_x86_64.manylinux2014_x86_64.whl (326 kB)\n",
      "\u001b[2K   \u001b[90m━━━━━━━━━━━━━━━━━━━━━━━━━━━━━━━━━━━━━━━━\u001b[0m \u001b[32m326.2/326.2 kB\u001b[0m \u001b[31m1.3 MB/s\u001b[0m eta \u001b[36m0:00:00\u001b[0ma \u001b[36m0:00:01\u001b[0m\n",
      "\u001b[?25hDownloading cycler-0.12.1-py3-none-any.whl (8.3 kB)\n",
      "Downloading fonttools-4.55.3-cp311-cp311-manylinux_2_17_x86_64.manylinux2014_x86_64.whl (4.9 MB)\n",
      "\u001b[2K   \u001b[90m━━━━━━━━━━━━━━━━━━━━━━━━━━━━━━━━━━━━━━━━\u001b[0m \u001b[32m4.9/4.9 MB\u001b[0m \u001b[31m3.4 MB/s\u001b[0m eta \u001b[36m0:00:00\u001b[0m00:01\u001b[0m00:01\u001b[0m\n",
      "\u001b[?25hDownloading kiwisolver-1.4.8-cp311-cp311-manylinux_2_17_x86_64.manylinux2014_x86_64.whl (1.4 MB)\n",
      "\u001b[2K   \u001b[90m━━━━━━━━━━━━━━━━━━━━━━━━━━━━━━━━━━━━━━━━\u001b[0m \u001b[32m1.4/1.4 MB\u001b[0m \u001b[31m2.8 MB/s\u001b[0m eta \u001b[36m0:00:00\u001b[0m00:01\u001b[0m00:01\u001b[0m\n",
      "\u001b[?25hDownloading pillow-11.1.0-cp311-cp311-manylinux_2_28_x86_64.whl (4.5 MB)\n",
      "\u001b[2K   \u001b[90m━━━━━━━━━━━━━━━━━━━━━━━━━━━━━━━━━━━━━━━━\u001b[0m \u001b[32m4.5/4.5 MB\u001b[0m \u001b[31m3.4 MB/s\u001b[0m eta \u001b[36m0:00:00\u001b[0m00:01\u001b[0m00:01\u001b[0m\n",
      "\u001b[?25hDownloading pyparsing-3.2.1-py3-none-any.whl (107 kB)\n",
      "\u001b[2K   \u001b[90m━━━━━━━━━━━━━━━━━━━━━━━━━━━━━━━━━━━━━━━\u001b[0m \u001b[32m107.7/107.7 kB\u001b[0m \u001b[31m765.1 kB/s\u001b[0m eta \u001b[36m0:00:00\u001b[0m \u001b[36m0:00:01\u001b[0m\n",
      "\u001b[?25hInstalling collected packages: pyparsing, pillow, kiwisolver, fonttools, cycler, contourpy, matplotlib\n",
      "Successfully installed contourpy-1.3.1 cycler-0.12.1 fonttools-4.55.3 kiwisolver-1.4.8 matplotlib-3.10.0 pillow-11.1.0 pyparsing-3.2.1\n",
      "Note: you may need to restart the kernel to use updated packages.\n"
     ]
    }
   ],
   "source": [
    "pip install matplotlib"
   ]
  },
  {
   "cell_type": "code",
   "execution_count": 1,
   "id": "079e9b98-7462-4ef8-aaf1-a1858c6060b4",
   "metadata": {},
   "outputs": [
    {
     "name": "stdout",
     "output_type": "stream",
     "text": [
      "  Student_ID     Name  Age  Gender Grade  Marks\n",
      "0    SID1000     John   25    Male     A     51\n",
      "1    SID1001    Alice   21    Male     D     86\n",
      "2    SID1002      Bob   19  Female     B     91\n",
      "3    SID1003  Charlie   18    Male     B     75\n",
      "4    SID1004    David   24    Male     F     79\n",
      "5    SID1005      Eve   19    Male     F     57\n",
      "6    SID1006    Frank   18    Male     B     97\n",
      "7    SID1007    Grace   19  Female     A     60\n",
      "8    SID1008    Helen   23  Female     B     66\n",
      "9    SID1009      Ivy   24    Male     F     75\n"
     ]
    }
   ],
   "source": [
    "import pandas as pd\n",
    "import random\n",
    "\n",
    "# Define some sample data for students\n",
    "students_data = {\n",
    "    'Student_ID': [f'SID{1000+i}' for i in range(10)],\n",
    "    'Name': ['John', 'Alice', 'Bob', 'Charlie', 'David', 'Eve', 'Frank', 'Grace', 'Helen', 'Ivy'],\n",
    "    'Age': [random.randint(18, 25) for _ in range(10)],\n",
    "    'Gender': [random.choice(['Male', 'Female']) for _ in range(10)],\n",
    "    'Grade': [random.choice(['A', 'B', 'C', 'D', 'F']) for _ in range(10)],\n",
    "    'Marks': [random.randint(50, 100) for _ in range(10)],\n",
    "}\n",
    "\n",
    "# Create a DataFrame\n",
    "df = pd.DataFrame(students_data)\n",
    "\n",
    "# Display the DataFrame\n",
    "print(df)"
   ]
  },
  {
   "cell_type": "code",
   "execution_count": 8,
   "id": "46d85c65-f8d7-491e-ac1f-9283e1baea20",
   "metadata": {},
   "outputs": [
    {
     "name": "stdout",
     "output_type": "stream",
     "text": [
      "  Student_ID     Name  Age  Gender Grade  Marks\n",
      "0        C38    Aarav   23    Male     C     76\n",
      "1        C23     Isha   20  Female     A     62\n",
      "2        D52   Vivaan   19  Female     A     63\n",
      "3        G99     Diya   21    Male     F     93\n",
      "4        G99  Reyansh   25  Female     F     61\n",
      "5        D93   Ananya   21    Male     A     77\n",
      "6        G56    Arjun   24  Female     A     65\n",
      "7        C77   Saanvi   21  Female     D     78\n",
      "8        D58   Aditya   23    Male     B     55\n",
      "9        G89    Kiara   25  Female     C     53\n"
     ]
    },
    {
     "data": {
      "image/png": "[encoded data removed]",
      "text/plain": [
       "<Figure size 640x480 with 1 Axes>"
      ]
     },
     "metadata": {},
     "output_type": "display_data"
    }
   ],
   "source": [
    "import pandas as pd\n",
    "import random\n",
    "import matplotlib.pyplot as pl \n",
    "# Define some Indian student names and sample data\n",
    "students_data = {\n",
    "    'Student_ID': [f'{random.choice([\"A\", \"B\", \"C\", \"D\", \"E\", \"F\", \"G\"])}{random.randint(10, 99)}' for _ in range(10)],\n",
    "    'Name': ['Aarav', 'Isha', 'Vivaan', 'Diya', 'Reyansh', 'Ananya', 'Arjun', 'Saanvi', 'Aditya', 'Kiara'],\n",
    "    'Age': [random.randint(18, 25) for _ in range(10)],\n",
    "    'Gender': [random.choice(['Male', 'Female']) for _ in range(10)],\n",
    "    'Grade': [random.choice(['A', 'B', 'C', 'D', 'F']) for _ in range(10)],\n",
    "    'Marks': [random.randint(50, 100) for _ in range(10)],\n",
    "}\n",
    "b = ['r','g']\n",
    "# Create a DataFrame\n",
    "df = pd.DataFrame(students_data)\n",
    "print(df) \n",
    "df.plot(kind = 'bar', color = b, edgecolor = 'c', linewidth = 2) \n",
    "pl.show()"
   ]
  },
  {
   "cell_type": "code",
   "execution_count": 2,
   "id": "a0c1b4e3-5397-4e23-b56b-8362a9321916",
   "metadata": {},
   "outputs": [
    {
     "name": "stdout",
     "output_type": "stream",
     "text": [
      "Initial values in dataframe\n",
      "     Name  Marks  Grade\n",
      "0   Rohan     76    NaN\n",
      "1   Misha     56    NaN\n",
      "2    Mike     91    NaN\n",
      "3  Simran     67    NaN\n"
     ]
    },
    {
     "ename": "TypeError",
     "evalue": "'Index' object is not callable",
     "output_type": "error",
     "traceback": [
      "\u001b[0;31m---------------------------------------------------------------------------\u001b[0m",
      "\u001b[0;31mTypeError\u001b[0m                                 Traceback (most recent call last)",
      "Cell \u001b[0;32mIn[2], line 10\u001b[0m\n\u001b[1;32m      8\u001b[0m \u001b[38;5;28mprint\u001b[39m(\u001b[38;5;124m'\u001b[39m\u001b[38;5;124mInitial values in dataframe\u001b[39m\u001b[38;5;124m'\u001b[39m) \n\u001b[1;32m      9\u001b[0m \u001b[38;5;28mprint\u001b[39m(df1) \n\u001b[0;32m---> 10\u001b[0m \u001b[38;5;28;01mfor\u001b[39;00m(col, colSeries) \u001b[38;5;129;01min\u001b[39;00m \u001b[43mdf1\u001b[49m\u001b[38;5;241;43m.\u001b[39;49m\u001b[43mcolumns\u001b[49m\u001b[43m(\u001b[49m\u001b[43m)\u001b[49m: \n\u001b[1;32m     11\u001b[0m     length \u001b[38;5;241m=\u001b[39m \u001b[38;5;28mlen\u001b[39m(colSeries) \n\u001b[1;32m     12\u001b[0m     \u001b[38;5;28;01mif\u001b[39;00m col \u001b[38;5;241m==\u001b[39m \u001b[38;5;124m'\u001b[39m\u001b[38;5;124mMarks\u001b[39m\u001b[38;5;124m'\u001b[39m:\n",
      "\u001b[0;31mTypeError\u001b[0m: 'Index' object is not callable"
     ]
    }
   ],
   "source": [
    "import pandas as pd \n",
    "import numpy as np \n",
    "names = pd.Series(['Rohan','Misha','Mike','Simran']) \n",
    "marks = pd.Series([76,56,91,67]) \n",
    "Stud = {'Name':names, 'Marks':marks} \n",
    "df1 = pd.DataFrame(Stud, columns = ['Name','Marks']) \n",
    "df1['Grade'] = np.nan\n",
    "print('Initial values in dataframe') \n",
    "print(df1) \n",
    "for(col, colSeries) in df1.columns(): \n",
    "    length = len(colSeries) \n",
    "    if col == 'Marks':\n",
    "        lstMrks = [] \n",
    "        for row in range(length): \n",
    "            mrks = colSeries[row] \n",
    "            if mrks>= 90:\n",
    "               lstMrks.append('A+') \n",
    "            elif mrks >= 70:\n",
    "               lstMrks.append('A') \n",
    "            elif mrks >= 60:\n",
    "               lstMrks.append('B') \n",
    "            elif mrks >= 50:\n",
    "               lstMrks.append('C')\n",
    "            elif mrks >= 40:\n",
    "               lstMrks.append('D')\n",
    "            else:\n",
    "               lstMrks.append('F') \n",
    "df1['Grade'] = lstMrks \n",
    "print(df1) "
   ]
  },
  {
   "cell_type": "code",
   "execution_count": null,
   "id": "a6821dc2-a16c-46d8-9ab1-0767e8880fd4",
   "metadata": {},
   "outputs": [],
   "source": []
  }
 ],
 "metadata": {
  "kernelspec": {
   "display_name": "Python 3 (ipykernel)",
   "language": "python",
   "name": "python3"
  },
  "language_info": {
   "codemirror_mode": {
    "name": "ipython",
    "version": 3
   },
   "file_extension": ".py",
   "mimetype": "text/x-python",
   "name": "python",
   "nbconvert_exporter": "python",
   "pygments_lexer": "ipython3",
   "version": "3.11.6"
  }
 },
 "nbformat": 4,
 "nbformat_minor": 5
}
