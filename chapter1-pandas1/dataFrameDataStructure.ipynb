{
 "cells": [
  {
   "cell_type": "markdown",
   "id": "2f86589a-070d-4ef1-82aa-7a3f37bbaedf",
   "metadata": {},
   "source": [
    "## DataFrame Data Structure"
   ]
  },
  {
   "cell_type": "markdown",
   "id": "51bd94fc-94cc-4da9-87c3-9e27c709c468",
   "metadata": {
    "jp-MarkdownHeadingCollapsed": true
   },
   "source": [
    "### Creating a DataFrame Object from a 2-D Dictionary"
   ]
  },
  {
   "cell_type": "code",
   "execution_count": 4,
   "id": "da86b655-941a-4edd-8020-aa495f41db8d",
   "metadata": {},
   "outputs": [
    {
     "name": "stdout",
     "output_type": "stream",
     "text": [
      "{'students': ['Ruchika', 'Neha', 'Mark', 'Bianca', 'Jamaal'], 'marks': [79.5, 83.75, 74, 88.5, 89], 'Sports': ['Cricket', 'Badminton', 'Football', 'Athletics', 'kabaddi']}\n",
      "  students  marks     Sports\n",
      "0  Ruchika  79.50    Cricket\n",
      "1     Neha  83.75  Badminton\n",
      "2     Mark  74.00   Football\n",
      "3   Bianca  88.50  Athletics\n",
      "4   Jamaal  89.00    kabaddi\n"
     ]
    }
   ],
   "source": [
    "import pandas as pd\n",
    "dict = {'students': ['Ruchika','Neha','Mark','Bianca','Jamaal'],\n",
    "        'marks': [79.5,83.75,74,88.5,89], 'Sports': ['Cricket','Badminton',\n",
    "                                                     'Football','Athletics','kabaddi']} \n",
    "print(dict)\n",
    "df1 = pd.DataFrame(dict)\n",
    "print(df1)"
   ]
  },
  {
   "cell_type": "code",
   "execution_count": 5,
   "id": "749626c3-45fa-4c19-a3ab-ca0c0efead25",
   "metadata": {},
   "outputs": [
    {
     "name": "stdout",
     "output_type": "stream",
     "text": [
      "    students  marks     Sports\n",
      "I    Ruchika  79.50    Cricket\n",
      "II      Neha  83.75  Badminton\n",
      "III     Mark  74.00   Football\n",
      "IV    Bianca  88.50  Athletics\n",
      "V     Jamaal  89.00    kabaddi\n"
     ]
    }
   ],
   "source": [
    "# Modifying index \n",
    "df2 = pd.DataFrame(dict, index = ['I','II','III','IV','V'])\n",
    "print(df2)"
   ]
  },
  {
   "cell_type": "markdown",
   "id": "2f45f726-02be-452a-a245-e7a5a561a55b",
   "metadata": {},
   "source": [
    "Example 21 : Given a dictionary that stores the section names list as value for section key and contribution amounts list as values for contri key. Write code to create and display the data frame using above dictionary."
   ]
  },
  {
   "cell_type": "code",
   "execution_count": 9,
   "id": "9519c3ff-c4b7-4118-b5dc-679f52e20bcf",
   "metadata": {
    "jp-MarkdownHeadingCollapsed": true
   },
   "outputs": [
    {
     "name": "stdout",
     "output_type": "stream",
     "text": [
      "  section  contri\n",
      "0       A    6700\n",
      "1       B    5500\n",
      "2       C    5000\n",
      "3       D    5200\n"
     ]
    }
   ],
   "source": [
    "dict1 = {'section':['A','B','C','D'], 'contri': [6700,5500,5000,5200]} \n",
    "df1 = pd.DataFrame(dict1)\n",
    "print(df1)"
   ]
  },
  {
   "cell_type": "code",
   "execution_count": 12,
   "id": "68b6357d-3443-459b-b8b0-0e15ee5c06f5",
   "metadata": {},
   "outputs": [
    {
     "name": "stdout",
     "output_type": "stream",
     "text": [
      "     Sales Marketing\n",
      "name   Sam    Sanaya\n",
      "age     24        24\n",
      "sex   Male    Female\n"
     ]
    }
   ],
   "source": [
    "people = {'Sales':{'name':'Sam','age':'24','sex':'Male'},\n",
    "          'Marketing':{'name':'Sanaya','age':'24','sex':'Female'}} \n",
    "df2 = pd.DataFrame(people)\n",
    "print(df2)"
   ]
  },
  {
   "cell_type": "markdown",
   "id": "44a8faca-8d16-4b5a-bf14-3dd1bd89a6f8",
   "metadata": {},
   "source": [
    "Example 22: Create and display a DataFrame from a 2D dictionary, Sales, which stores the quarter wise sales as inner dictionary for two years."
   ]
  },
  {
   "cell_type": "code",
   "execution_count": 14,
   "id": "53f44b79-2c34-416c-8c39-906d8d104644",
   "metadata": {},
   "outputs": [
    {
     "name": "stdout",
     "output_type": "stream",
     "text": [
      "        yr1    yr2\n",
      "Qtr1  34500  44900\n",
      "Qtr2  56000  46100\n",
      "Qtr3  47000  57000\n",
      "Qtr4  49000  59000\n"
     ]
    }
   ],
   "source": [
    "Sales = {'yr1':{'Qtr1':34500,'Qtr2':56000,'Qtr3':47000,'Qtr4':49000},\n",
    "         'yr2':{'Qtr1':44900,'Qtr2':46100,'Qtr3':57000,'Qtr4':59000}} \n",
    "df3 = pd.DataFrame(Sales) \n",
    "print(df3)"
   ]
  },
  {
   "cell_type": "code",
   "execution_count": 16,
   "id": "64272fc4-5557-40de-919c-eaa819528cb2",
   "metadata": {},
   "outputs": [
    {
     "name": "stdout",
     "output_type": "stream",
     "text": [
      "          I      II\n",
      "yr1  1500.0  2200.0\n",
      "yr2  2500.0     NaN\n",
      "Nil     NaN     0.0\n"
     ]
    }
   ],
   "source": [
    "import pandas as pd\n",
    "collect1 = {'yr1':1500, 'yr2':2500} \n",
    "collect2 = {'yr1':2200, 'Nil':0} \n",
    "collect = {'I':collect1, 'II':collect2}\n",
    "df4 = pd.DataFrame(collect) \n",
    "print(df4)"
   ]
  },
  {
   "cell_type": "markdown",
   "id": "45a51e9b-d17f-4af8-8465-2c4408556cdc",
   "metadata": {},
   "source": [
    "Example 23: Carefully read the code \n",
    "(i) List the index labels of the DataFrame df3\n",
    "(ii)List the column names of DtaFrame df3"
   ]
  },
  {
   "cell_type": "code",
   "execution_count": 18,
   "id": "16a715fb-f29b-4d43-8bd9-6b2f45c146ba",
   "metadata": {},
   "outputs": [
    {
     "name": "stdout",
     "output_type": "stream",
     "text": [
      "            1        2\n",
      "Qtr1  44900.0      NaN\n",
      "Qtr2  46100.0      NaN\n",
      "Q3    57000.0      NaN\n",
      "Q4    59000.0      NaN\n",
      "A         NaN  54500.0\n",
      "B         NaN  51000.0\n",
      "Qtr4      NaN  57000.0\n"
     ]
    }
   ],
   "source": [
    "import pandas as pd \n",
    "yr1 = {'Qtr1':44900,'Qtr2':46100,'Q3':57000,'Q4':59000} \n",
    "yr2 = {'A':54500,'B':51000,'Qtr4':57000} \n",
    "disales1 = {1:yr1,2:yr2} \n",
    "df3 = pd.DataFrame(disales1)\n",
    "print(df3)"
   ]
  },
  {
   "cell_type": "markdown",
   "id": "cb4d54ff-5479-4c4d-93fb-34f08f49cdb9",
   "metadata": {
    "jp-MarkdownHeadingCollapsed": true
   },
   "source": [
    "### Creating a DataFrame Object from a list of Dictionaries/Lists"
   ]
  },
  {
   "cell_type": "code",
   "execution_count": 24,
   "id": "0164d670-d86a-4ab0-8f9c-06f348006830",
   "metadata": {},
   "outputs": [
    {
     "name": "stdout",
     "output_type": "stream",
     "text": [
      "   Rollno    Name  Marks\n",
      "0     115   Kajal   97.5\n",
      "1     236  Ayushi   78.5\n",
      "2     307    Nada   85.5\n",
      "3     422  Shashi   89.5\n",
      "      Rollno    Name  Marks\n",
      "SecA     115   Kajal   97.5\n",
      "SecB     236  Ayushi   78.5\n",
      "SecC     307    Nada   85.5\n",
      "SecD     422  Shashi   89.5\n"
     ]
    }
   ],
   "source": [
    "import pandas as pd \n",
    "topperA = {'Rollno':115, 'Name':'Kajal','Marks':97.5}\n",
    "topperB = {'Rollno':236, 'Name':'Ayushi','Marks':78.5}\n",
    "topperC = {'Rollno':307, 'Name':'Nada','Marks':85.5}\n",
    "topperD = {'Rollno':422, 'Name':'Shashi','Marks':89.5} \n",
    "toppers = [topperA,topperB,topperC,topperD]\n",
    "topdf = pd.DataFrame(toppers) \n",
    "print(topdf) \n",
    "topdf = pd.DataFrame(toppers, index = ['SecA','SecB','SecC','SecD']) \n",
    "print(topdf)\n",
    "                "
   ]
  },
  {
   "cell_type": "markdown",
   "id": "983d49d4-37a3-4a8c-b67f-d41e469e28d7",
   "metadata": {},
   "source": [
    "Example 24: Write a program to create a dataframe from a list containing dictionaries of the sales performance of four zone offices. Zone names should be the row labels."
   ]
  },
  {
   "cell_type": "code",
   "execution_count": 25,
   "id": "e6dcb9a8-7aeb-42c7-a1bf-e6e41a9862e2",
   "metadata": {},
   "outputs": [
    {
     "name": "stdout",
     "output_type": "stream",
     "text": [
      "       Target  Sales\n",
      "zoneA   56000  58000\n",
      "zoneB   70000  68000\n",
      "zoneC   75000  78000\n",
      "zoneD   60000  61000\n"
     ]
    }
   ],
   "source": [
    "import pandas as pd \n",
    "zoneA = {'Target':56000,'Sales':58000} \n",
    "zoneB = {'Target':70000,'Sales':68000} \n",
    "zoneC = {'Target':75000,'Sales':78000} \n",
    "zoneD = {'Target':60000,'Sales':61000} \n",
    "sales = [zoneA,zoneB,zoneC,zoneD] \n",
    "salesdf = pd.DataFrame(sales, index = ['zoneA','zoneB','zoneC','zoneD'])\n",
    "print(salesdf)\n",
    "\n"
   ]
  },
  {
   "cell_type": "code",
   "execution_count": 29,
   "id": "d1c16564-9a62-4059-8517-a3ed90fcdad8",
   "metadata": {},
   "outputs": [
    {
     "name": "stdout",
     "output_type": "stream",
     "text": [
      "    0   1   2\n",
      "0  25  45  60\n",
      "1  34  67  89\n",
      "2  88  90  56\n"
     ]
    }
   ],
   "source": [
    "list2 =[[25,45,60],[34,67,89],[88,90,56]]\n",
    "df1 = pd.DataFrame(list2) \n",
    "print(df1)"
   ]
  },
  {
   "cell_type": "markdown",
   "id": "611bc37d-815d-4ad8-8c8f-ef3c32663b5b",
   "metadata": {},
   "source": [
    "Example 25: Write a program to create a dataframe from a 2D list. Specify own index labels."
   ]
  },
  {
   "cell_type": "code",
   "execution_count": 31,
   "id": "eb2e0001-d73c-4805-bf9f-34fde1739f75",
   "metadata": {},
   "outputs": [
    {
     "name": "stdout",
     "output_type": "stream",
     "text": [
      "       0   1   2\n",
      "row1  25  45  60\n",
      "row2  34  67  89\n",
      "row3  88  90  56\n"
     ]
    }
   ],
   "source": [
    "import pandas as pd \n",
    "list = [[25,45,60],[34,67,89],[88,90,56]] \n",
    "df2 = pd.DataFrame(list, index = ['row1','row2','row3']) \n",
    "print(df2)"
   ]
  },
  {
   "cell_type": "markdown",
   "id": "e1931493-638f-4b58-899c-d8bab03d25e3",
   "metadata": {},
   "source": [
    "Example 26: Write a program create a dataframe from a list containing 2 lists, each containing Target and actual Sales figures of four zonal offices. Give appropriate row labels."
   ]
  },
  {
   "cell_type": "code",
   "execution_count": 34,
   "id": "2419fdff-55d6-479e-906b-b626ccbc59f1",
   "metadata": {},
   "outputs": [
    {
     "name": "stdout",
     "output_type": "stream",
     "text": [
      "        ZoneA  ZoneB  ZoneC  ZoneD\n",
      "Target  56000  70000  86000  75000\n",
      "Sales   58000  68000  78000  89000\n"
     ]
    }
   ],
   "source": [
    "import pandas as pd \n",
    "Target = [56000,70000,86000,75000] \n",
    "Sales = [58000,68000,78000,89000] \n",
    "ZoneSales = [Target,Sales] \n",
    "zsaledf = pd.DataFrame(ZoneSales, columns = ['ZoneA','ZoneB','ZoneC','ZoneD'],\n",
    "                       index = ['Target','Sales']) \n",
    "print(zsaledf)"
   ]
  },
  {
   "cell_type": "markdown",
   "id": "8aafb0a0-4d1b-4090-8ef9-c082e67e6de2",
   "metadata": {
    "jp-MarkdownHeadingCollapsed": true
   },
   "source": [
    "### Creating a DataFrame Object from a 2-D ndarray"
   ]
  },
  {
   "cell_type": "code",
   "execution_count": 1,
   "id": "17f21d1d-b3ac-49fa-b491-e5602c437b27",
   "metadata": {},
   "outputs": [
    {
     "name": "stdout",
     "output_type": "stream",
     "text": [
      "(2, 3)\n",
      "   0  1  2\n",
      "0  1  2  3\n",
      "1  4  5  6\n"
     ]
    }
   ],
   "source": [
    "import pandas as pd \n",
    "import numpy as np \n",
    "narr1 = np.array([[1,2,3],[4,5,6]],np.int32) \n",
    "print(narr1.shape) \n",
    "dtf1 = pd.DataFrame(narr1) \n",
    "print(dtf1)"
   ]
  },
  {
   "cell_type": "markdown",
   "id": "67c00836-c69e-44e1-9dc9-0c8dc142aef3",
   "metadata": {},
   "source": [
    "Specifying own columns name"
   ]
  },
  {
   "cell_type": "code",
   "execution_count": 38,
   "id": "f1079dd2-5669-49d0-9334-2b619dac758e",
   "metadata": {},
   "outputs": [
    {
     "name": "stdout",
     "output_type": "stream",
     "text": [
      "   One  Two  Three\n",
      "0    1    2      3\n",
      "1    4    5      6\n"
     ]
    }
   ],
   "source": [
    "dtf2 = pd.DataFrame(narr1, columns = ['One','Two','Three']) \n",
    "print(dtf2)"
   ]
  },
  {
   "cell_type": "code",
   "execution_count": 41,
   "id": "7f8b796f-dae8-4718-b1a7-e1ee267a412e",
   "metadata": {},
   "outputs": [
    {
     "name": "stdout",
     "output_type": "stream",
     "text": [
      "   First  Second  Third\n",
      "A   11.5    21.2   33.8\n",
      "B   40.0    50.0   60.0\n",
      "C  212.3   301.5  405.2\n"
     ]
    }
   ],
   "source": [
    "narr2 = np.array([[11.5,21.2,33.8],[40,50,60],[212.3,301.5,405.2]]) \n",
    "df3 = pd.DataFrame(narr2, index = ['A','B','C'], columns = ['First','Second','Third']) \n",
    "print(df3)"
   ]
  },
  {
   "cell_type": "code",
   "execution_count": 3,
   "id": "0670c63e-f121-47ae-8859-57a95a7b528a",
   "metadata": {},
   "outputs": [
    {
     "name": "stdout",
     "output_type": "stream",
     "text": [
      "                       0\n",
      "0         [101.5, 201.2]\n",
      "1    [400, 50, 600, 700]\n",
      "2  [212.3, 301.5, 405.2]\n"
     ]
    }
   ],
   "source": [
    "import numpy as np \n",
    "import pandas as pd \n",
    "narr3 = np.array([list([101.5,201.2]),list([400,50,600,700]),list([212.3,301.5,405.2])], \n",
    "                 dtype = object)\n",
    "dtf4 = pd.DataFrame(narr3) \n",
    "print(dtf4)"
   ]
  },
  {
   "cell_type": "markdown",
   "id": "4fefb6d5-239a-47c2-be15-da2519cd913c",
   "metadata": {},
   "source": [
    "Example 27: What will be the output of the following code?"
   ]
  },
  {
   "cell_type": "code",
   "execution_count": 50,
   "id": "752cb0af-a013-49e0-8ffd-c733d2a75553",
   "metadata": {},
   "outputs": [
    {
     "name": "stdout",
     "output_type": "stream",
     "text": [
      "    0   1\n",
      "0  11  12\n",
      "1  13  14\n",
      "2  15  26\n"
     ]
    }
   ],
   "source": [
    "import pandas as pd \n",
    "import numpy as np \n",
    "arr1 = np.array([ [11,12],[13,14],[15,26]],np.int32) \n",
    "dtf2 = pd.DataFrame(arr1) \n",
    "print(dtf2)"
   ]
  },
  {
   "cell_type": "markdown",
   "id": "b6503861-ebc9-471f-84d1-207a6348dac2",
   "metadata": {},
   "source": [
    "Example 28: Write a program to create a DataFrame from a 2D array."
   ]
  },
  {
   "cell_type": "code",
   "execution_count": 51,
   "id": "0f228536-9c52-46ea-b16d-99bf96bf7495",
   "metadata": {},
   "outputs": [
    {
     "name": "stdout",
     "output_type": "stream",
     "text": [
      "     0    1    2\n",
      "0  101  113  124\n",
      "1  130  140  200\n",
      "2  115  216  217\n"
     ]
    }
   ],
   "source": [
    "import pandas as pd \n",
    "import numpy as np \n",
    "arr2 = np.array([ [101,113,124],[130,140,200],[115,216,217]]) \n",
    "dtf3 = pd.DataFrame(arr2) \n",
    "print(dtf3)"
   ]
  },
  {
   "cell_type": "markdown",
   "id": "6ba47e6c-fd50-403b-8684-62f0bc23c045",
   "metadata": {
    "jp-MarkdownHeadingCollapsed": true
   },
   "source": [
    "### Creating a DataFrame Obj. from a 2D Dictionary with Values as Series Obj."
   ]
  },
  {
   "cell_type": "code",
   "execution_count": 52,
   "id": "fd58aec9-8586-4047-ac39-4d94b2d8c8de",
   "metadata": {},
   "outputs": [
    {
     "name": "stdout",
     "output_type": "stream",
     "text": [
      "   people  Amount\n",
      "0      20  166000\n",
      "1      30  246000\n",
      "2      44  563000\n"
     ]
    }
   ],
   "source": [
    "import pandas as pd \n",
    "staff = pd.Series([20,30,44]) \n",
    "salaries = pd.Series([166000,246000,563000]) \n",
    "school = {'people':staff,'Amount':salaries} \n",
    "df4 = pd.DataFrame(school) \n",
    "print(df4)"
   ]
  },
  {
   "cell_type": "markdown",
   "id": "cfb0d54f-c617-4682-bde4-c3a2a988dd18",
   "metadata": {},
   "source": [
    "Example 29: Consider two series object staff and salaries that store the number of people in verious office branches and salaries distributed in these branches, respectively.\n",
    "Write a program to create another Series object that stores average salary per branch and then create a DataFrame object from these Series objects."
   ]
  },
  {
   "cell_type": "code",
   "execution_count": 54,
   "id": "d96dfdeb-7bc9-452c-984a-8490cade43e6",
   "metadata": {},
   "outputs": [
    {
     "name": "stdout",
     "output_type": "stream",
     "text": [
      "   people  Amount       Average\n",
      "0      20  279000  13950.000000\n",
      "1      36  366800  10188.888889\n",
      "2      44  563000  12795.454545\n"
     ]
    }
   ],
   "source": [
    "import pandas as pd \n",
    "import numpy as np \n",
    "staff = pd.Series([20,36,44]) \n",
    "salaries = pd.Series([279000,366800,563000]) \n",
    "avg = salaries/staff \n",
    "org = {'people':staff, 'Amount':salaries,'Average':avg} \n",
    "dtf5 = pd.DataFrame(org) \n",
    "print(dtf5)"
   ]
  },
  {
   "cell_type": "code",
   "execution_count": 5,
   "id": "2ce5b213-5515-4c36-a433-6979157be0ee",
   "metadata": {},
   "outputs": [
    {
     "name": "stdout",
     "output_type": "stream",
     "text": [
      "   0  1  2\n",
      "0  1  2  3\n",
      "1  4  5  6\n"
     ]
    }
   ],
   "source": [
    "import pandas as pd\n",
    "import numpy as np \n",
    "s = np.array([ [1,2,3],[4,5,6] ]) \n",
    "df1 = pd.DataFrame(s)\n",
    "print(df1)"
   ]
  },
  {
   "cell_type": "code",
   "execution_count": 11,
   "id": "c096b14a-51c4-4430-aff0-e606214b5732",
   "metadata": {},
   "outputs": [
    {
     "name": "stdout",
     "output_type": "stream",
     "text": [
      "   0  1  2\n",
      "0  1  2  3\n",
      "1  4  5  6\n",
      "   0  1  2\n",
      "0  1  2  3\n",
      "1  4  5  6\n",
      "    0  1  2\n",
      "I   1  2  3\n",
      "II  4  5  6\n"
     ]
    }
   ],
   "source": [
    "print(pd.DataFrame([ [1,2,3],[4,5,6] ],[0,1] ))\n",
    "print(pd.DataFrame([ [1,2,3],[4,5,6] ] ))\n",
    "print(pd.DataFrame([ [1,2,3],[4,5,6] ],[\"I\",\"II\"] ))"
   ]
  },
  {
   "cell_type": "code",
   "execution_count": 12,
   "id": "05ca75cc-9266-46e9-b24d-0a0e8a30bb35",
   "metadata": {},
   "outputs": [
    {
     "name": "stdout",
     "output_type": "stream",
     "text": [
      "     Sales Marketing\n",
      "name   Sam    Sanaya\n",
      "age     24        24\n",
      "sex   Male    Female\n"
     ]
    }
   ],
   "source": [
    "import pandas as pd \n",
    "people = {'Sales':{'name':'Sam','age':'24','sex':'Male'},\n",
    "          'Marketing':{'name':'Sanaya','age':'24','sex':'Female'}} \n",
    "df2 = pd.DataFrame(people)\n",
    "print(df2)"
   ]
  },
  {
   "cell_type": "code",
   "execution_count": 13,
   "id": "602f4cb1-d905-4f71-902a-a1992c3abf91",
   "metadata": {},
   "outputs": [
    {
     "name": "stdout",
     "output_type": "stream",
     "text": [
      "Index(['name', 'age', 'sex'], dtype='object')\n"
     ]
    }
   ],
   "source": [
    "print(df2.index)"
   ]
  },
  {
   "cell_type": "code",
   "execution_count": 14,
   "id": "0c8c442c-f9d0-458d-aca9-d7742102aaed",
   "metadata": {},
   "outputs": [
    {
     "name": "stdout",
     "output_type": "stream",
     "text": [
      "Index(['Sales', 'Marketing'], dtype='object')\n"
     ]
    }
   ],
   "source": [
    "print(df2.columns)"
   ]
  },
  {
   "cell_type": "code",
   "execution_count": 15,
   "id": "34c1c8ea-74b3-433f-a3af-2e8e2cb4214b",
   "metadata": {},
   "outputs": [
    {
     "name": "stdout",
     "output_type": "stream",
     "text": [
      "6\n"
     ]
    }
   ],
   "source": [
    "print(df2.size)"
   ]
  },
  {
   "cell_type": "code",
   "execution_count": 16,
   "id": "d08eded5-7d94-47f2-b27a-65ab351a85cb",
   "metadata": {},
   "outputs": [
    {
     "name": "stdout",
     "output_type": "stream",
     "text": [
      "[Index(['name', 'age', 'sex'], dtype='object'), Index(['Sales', 'Marketing'], dtype='object')]\n"
     ]
    }
   ],
   "source": [
    "print(df2.axes)"
   ]
  },
  {
   "cell_type": "code",
   "execution_count": 18,
   "id": "4eb692fb-ddff-495c-839b-d26d17406f8b",
   "metadata": {},
   "outputs": [
    {
     "name": "stdout",
     "output_type": "stream",
     "text": [
      "Sales        object\n",
      "Marketing    object\n",
      "dtype: object\n"
     ]
    }
   ],
   "source": [
    "print(df2.dtypes) "
   ]
  },
  {
   "cell_type": "code",
   "execution_count": 19,
   "id": "55fcb339-7691-44ac-b345-a970e6979c51",
   "metadata": {},
   "outputs": [
    {
     "name": "stdout",
     "output_type": "stream",
     "text": [
      "2\n"
     ]
    }
   ],
   "source": [
    "print(df2.ndim)"
   ]
  },
  {
   "cell_type": "code",
   "execution_count": 20,
   "id": "4f365965-d101-4ad4-8461-7af8cfc20f40",
   "metadata": {},
   "outputs": [
    {
     "name": "stdout",
     "output_type": "stream",
     "text": [
      "False\n"
     ]
    }
   ],
   "source": [
    "print(df2.empty)"
   ]
  },
  {
   "cell_type": "code",
   "execution_count": 21,
   "id": "659cb444-8dc5-4fd8-b747-4db240d223c9",
   "metadata": {},
   "outputs": [
    {
     "name": "stdout",
     "output_type": "stream",
     "text": [
      "(3, 2)\n"
     ]
    }
   ],
   "source": [
    "print(df2.shape)"
   ]
  },
  {
   "cell_type": "markdown",
   "id": "78e5badf-4ceb-479f-96f2-922b558df206",
   "metadata": {},
   "source": [
    "Getting Number of Rows in a DataDrame"
   ]
  },
  {
   "cell_type": "code",
   "execution_count": 24,
   "id": "b0bcfd80-392e-47a4-be12-368bd3431a43",
   "metadata": {},
   "outputs": [
    {
     "name": "stdout",
     "output_type": "stream",
     "text": [
      "3\n"
     ]
    }
   ],
   "source": [
    "print(len(df2)) "
   ]
  },
  {
   "cell_type": "markdown",
   "id": "9362d547-9dc8-406b-8254-c401f686a23c",
   "metadata": {},
   "source": [
    "Getting Count of non-NA Values in DataFrame"
   ]
  },
  {
   "cell_type": "code",
   "execution_count": 28,
   "id": "23595f71-929b-4d53-8a99-8fa600e33918",
   "metadata": {},
   "outputs": [
    {
     "name": "stdout",
     "output_type": "stream",
     "text": [
      "     Sales Marketing\n",
      "name   Sam    Sanaya\n",
      "age     24        24\n",
      "sex   Male    Female\n",
      "Sales        3\n",
      "Marketing    3\n",
      "dtype: int64\n",
      "Sales        3\n",
      "Marketing    3\n",
      "dtype: int64\n"
     ]
    }
   ],
   "source": [
    "print(df2)\n",
    "print(df2.count()) \n",
    "print(df2.count(0))"
   ]
  },
  {
   "cell_type": "code",
   "execution_count": 29,
   "id": "a24dbdd5-c22b-4060-8c38-1b6420dc07fb",
   "metadata": {},
   "outputs": [
    {
     "name": "stdout",
     "output_type": "stream",
     "text": [
      "name    2\n",
      "age     2\n",
      "sex     2\n",
      "dtype: int64\n",
      "name    2\n",
      "age     2\n",
      "sex     2\n",
      "dtype: int64\n"
     ]
    }
   ],
   "source": [
    "print(df2.count(1)) \n",
    "print(df2.count(axis = 'columns'))"
   ]
  },
  {
   "cell_type": "markdown",
   "id": "36fb7c48-19af-422d-9927-8ffd313f170c",
   "metadata": {},
   "source": [
    "Tranposing a DataFrame"
   ]
  },
  {
   "cell_type": "code",
   "execution_count": 31,
   "id": "620b80ae-dac1-428c-b441-18718045cb0d",
   "metadata": {},
   "outputs": [
    {
     "name": "stdout",
     "output_type": "stream",
     "text": [
      "     Sales Marketing\n",
      "name   Sam    Sanaya\n",
      "age     24        24\n",
      "sex   Male    Female\n",
      "             name age     sex\n",
      "Sales         Sam  24    Male\n",
      "Marketing  Sanaya  24  Female\n"
     ]
    }
   ],
   "source": [
    "print(df2) \n",
    "print(df2.T) "
   ]
  },
  {
   "cell_type": "markdown",
   "id": "09524f9d-b52a-4b22-9e91-ecf9357c3a63",
   "metadata": {},
   "source": [
    "Example 30: Write a program to create a DataFrame to store weight, age and names of 3 people. Print the DataFrame and its transpose"
   ]
  },
  {
   "cell_type": "code",
   "execution_count": 32,
   "id": "2c74af22-ba1c-40a7-a576-92a457b04fda",
   "metadata": {},
   "outputs": [
    {
     "name": "stdout",
     "output_type": "stream",
     "text": [
      "Original DataFrame\n",
      "   weight     Name  Age\n",
      "0      45    Arnav   15\n",
      "1      72  Charley   22\n",
      "2      66     Guru   35\n",
      "Transpose\n",
      "            0        1     2\n",
      "weight     45       72    66\n",
      "Name    Arnav  Charley  Guru\n",
      "Age        15       22    35\n"
     ]
    }
   ],
   "source": [
    "import pandas as pd \n",
    "v = pd.DataFrame({'weight':[45,72,66],\n",
    "                  'Name':['Arnav','Charley','Guru'],\n",
    "                  'Age':[15,22,35]}) \n",
    "print(\"Original DataFrame\") \n",
    "print(v) \n",
    "print(\"Transpose\") \n",
    "print(v.T) "
   ]
  },
  {
   "cell_type": "code",
   "execution_count": 35,
   "id": "aaa6fae8-2f1a-449f-8558-4dfa469ff092",
   "metadata": {},
   "outputs": [
    {
     "name": "stdout",
     "output_type": "stream",
     "text": [
      "3\n",
      "3\n"
     ]
    }
   ],
   "source": [
    "print(v.shape[1]) \n",
    "print(v.shape[0]) "
   ]
  },
  {
   "cell_type": "markdown",
   "id": "7972912b-4d21-48ec-9048-5d8993d6eab3",
   "metadata": {},
   "source": [
    "Numpy Representation of DataFrame"
   ]
  },
  {
   "cell_type": "code",
   "execution_count": 38,
   "id": "fcf31461-fd35-441b-85e6-785ef8d31a63",
   "metadata": {},
   "outputs": [
    {
     "name": "stdout",
     "output_type": "stream",
     "text": [
      "[[45 'Arnav' 15]\n",
      " [72 'Charley' 22]\n",
      " [66 'Guru' 35]]\n"
     ]
    }
   ],
   "source": [
    "print(v.values) "
   ]
  },
  {
   "cell_type": "markdown",
   "id": "8cbb45ad-72d0-4d1a-b139-ba649e1471ba",
   "metadata": {
    "jp-MarkdownHeadingCollapsed": true
   },
   "source": [
    "### Selecting/Accessing a Column"
   ]
  },
  {
   "cell_type": "code",
   "execution_count": 40,
   "id": "b6d5fbcf-68d0-4e0a-a026-63b747793c74",
   "metadata": {},
   "outputs": [
    {
     "name": "stdout",
     "output_type": "stream",
     "text": [
      "  students  marks     Sports\n",
      "0  Ruchika  79.50    Cricket\n",
      "1     Neha  83.75  Badminton\n",
      "2     Mark  74.00   Football\n",
      "3   Bianca  88.50  Athletics\n",
      "4   Jamaal  89.00    kabaddi\n"
     ]
    }
   ],
   "source": [
    "#Syntax: <DataFrame>[<column name>] we can use (.) also\n",
    "import pandas as pd \n",
    "import pandas as pd\n",
    "dict = {'students': ['Ruchika','Neha','Mark','Bianca','Jamaal'],\n",
    "        'marks': [79.5,83.75,74,88.5,89], 'Sports': ['Cricket','Badminton',\n",
    "                                                     'Football','Athletics','kabaddi']} \n",
    "#print(dict)\n",
    "df1 = pd.DataFrame(dict)\n",
    "print(df1) "
   ]
  },
  {
   "cell_type": "code",
   "execution_count": 45,
   "id": "04422498-2d6c-4430-a02f-b90ffc7f3766",
   "metadata": {},
   "outputs": [
    {
     "name": "stdout",
     "output_type": "stream",
     "text": [
      "students    5\n",
      "marks       5\n",
      "Sports      5\n",
      "dtype: int64\n",
      "0    Ruchika\n",
      "1       Neha\n",
      "2       Mark\n",
      "3     Bianca\n",
      "4     Jamaal\n",
      "Name: students, dtype: object\n"
     ]
    }
   ],
   "source": [
    "print(df1.students)"
   ]
  },
  {
   "cell_type": "code",
   "execution_count": 46,
   "id": "48581f81-70c7-4952-a3ee-c00d9378ddad",
   "metadata": {},
   "outputs": [
    {
     "name": "stdout",
     "output_type": "stream",
     "text": [
      "0    79.50\n",
      "1    83.75\n",
      "2    74.00\n",
      "3    88.50\n",
      "4    89.00\n",
      "Name: marks, dtype: float64\n"
     ]
    }
   ],
   "source": [
    "print(df1.marks)"
   ]
  },
  {
   "cell_type": "code",
   "execution_count": 47,
   "id": "f7d2679d-bef7-424f-a82d-3cb5985abd4f",
   "metadata": {},
   "outputs": [
    {
     "name": "stdout",
     "output_type": "stream",
     "text": [
      "0      Cricket\n",
      "1    Badminton\n",
      "2     Football\n",
      "3    Athletics\n",
      "4      kabaddi\n",
      "Name: Sports, dtype: object\n"
     ]
    }
   ],
   "source": [
    "print(df1.Sports)"
   ]
  },
  {
   "cell_type": "markdown",
   "id": "e5a023ba-2265-4a1a-a248-ad51dd7cf705",
   "metadata": {},
   "source": [
    "Selecting/Accessing multiples columns"
   ]
  },
  {
   "cell_type": "code",
   "execution_count": 50,
   "id": "969ac71e-8078-4876-b3c2-c8538407e41e",
   "metadata": {},
   "outputs": [
    {
     "name": "stdout",
     "output_type": "stream",
     "text": [
      "0    Ruchika\n",
      "1       Neha\n",
      "2       Mark\n",
      "3     Bianca\n",
      "4     Jamaal\n",
      "Name: students, dtype: object 0    79.50\n",
      "1    83.75\n",
      "2    74.00\n",
      "3    88.50\n",
      "4    89.00\n",
      "Name: marks, dtype: float64 0      Cricket\n",
      "1    Badminton\n",
      "2     Football\n",
      "3    Athletics\n",
      "4      kabaddi\n",
      "Name: Sports, dtype: object\n"
     ]
    }
   ],
   "source": [
    "#Syntax:<DataFrame>[[<column name>,column name>column name>......]] \n",
    "print(df1.students,df1.marks,df1.Sports) "
   ]
  },
  {
   "cell_type": "markdown",
   "id": "42bb5c86-8122-46d1-8061-e111c7275936",
   "metadata": {},
   "source": [
    "Example 31: Given a DataFrame namely aid that stores the aid by NGOs for different states. Write a program to display the aid.\n",
    "(i) Books and Uniform only            (ii) Shoes only"
   ]
  },
  {
   "cell_type": "code",
   "execution_count": 11,
   "id": "1eea3ba7-9564-423d-bf96-461d206fa7ab",
   "metadata": {},
   "outputs": [
    {
     "name": "stdout",
     "output_type": "stream",
     "text": [
      "      0     1    2     3\n",
      "0  7916  6189  610  8810\n",
      "1  8508  8202  508  6798\n",
      "2  7226  6149  611  9611\n",
      "3  7617  6157  457  6457\n",
      "        Toys  Books  Uniform  Shoes\n",
      "Andhra  7916   6189      610   8810\n",
      "Odisha  8508   8202      508   6798\n",
      "M.P     7226   6149      611   9611\n",
      "U.P     7617   6157      457   6457\n",
      "        Toys  Books  Uniform  Shoes\n",
      "Andhra   NaN    NaN      NaN    NaN\n",
      "Odisha   NaN    NaN      NaN    NaN\n",
      "M.P      NaN    NaN      NaN    NaN\n",
      "U.P      NaN    NaN      NaN    NaN\n"
     ]
    }
   ],
   "source": [
    "import pandas as pd \n",
    "s = pd.DataFrame([ [7916,6189,610,8810],[8508,8202,508,6798],[7226,6149,611,9611],\n",
    "                  [7617,6157,457,6457]], index = [0,1,2,3], columns = [0,1,2,3])\n",
    "print(s) \n",
    "a = pd.DataFrame([ [7916,6189,610,8810],[8508,8202,508,6798],[7226,6149,611,9611],\n",
    "                  [7617,6157,457,6457]],index = ['Andhra','Odisha','M.P','U.P'] ,\n",
    "                 columns = ['Toys','Books','Uniform','Shoes']\n",
    "                ) \n",
    "print(a) \n",
    "# You can not pass a dataframe inside a dataframe.\n",
    "b = pd.DataFrame(s,index = ['Andhra','Odisha','M.P','U.P'] ,\n",
    "                 columns = ['Toys','Books','Uniform','Shoes']\n",
    "                ) \n",
    "print(b)"
   ]
  },
  {
   "cell_type": "code",
   "execution_count": 2,
   "id": "17e67eba-9258-4b69-af1b-cda5dd384a3d",
   "metadata": {},
   "outputs": [
    {
     "name": "stdout",
     "output_type": "stream",
     "text": [
      "        Toys  Books  Uniform  Shoes\n",
      "Andhra  7916   6189      610   8810\n",
      "Odisha  8508   8202      508   6798\n",
      "M.P     7226   6149      611   9611\n",
      "U.P     7617   6157      457   6457\n",
      "Aid for books and uniform:\n",
      "        Books  Uniform\n",
      "Andhra   6189      610\n",
      "Odisha   8202      508\n",
      "M.P      6149      611\n",
      "U.P      6157      457\n",
      "Aid for shoes:\n",
      "Andhra    8810\n",
      "Odisha    6798\n",
      "M.P       9611\n",
      "U.P       6457\n",
      "Name: Shoes, dtype: int64\n"
     ]
    }
   ],
   "source": [
    "import pandas as pd \n",
    "a = [7916,6189,610,8810] \n",
    "b = [8508,8202,508,6798] \n",
    "c = [7226,6149,611,9611] \n",
    "d = [7617,6157,457,6457] \n",
    "e = [a,b,c,d] \n",
    "aid = pd.DataFrame(e, columns = ['Toys','Books','Uniform','Shoes'],\n",
    "                 index = ['Andhra','Odisha','M.P','U.P']) \n",
    "print(aid)\n",
    "print(\"Aid for books and uniform:\") \n",
    "print(aid[['Books','Uniform']]) \n",
    "print(\"Aid for shoes:\") \n",
    "print(aid['Shoes']) \n"
   ]
  },
  {
   "cell_type": "markdown",
   "id": "078f3dac-51ea-40bc-9fd3-418f255b23f5",
   "metadata": {},
   "source": [
    "Selecting/Accessing a Subset from a DataFrame using Row/Column Names"
   ]
  },
  {
   "cell_type": "code",
   "execution_count": 19,
   "id": "fe7f191a-7a22-47cf-9857-6dbb5533696a",
   "metadata": {},
   "outputs": [
    {
     "name": "stdout",
     "output_type": "stream",
     "text": [
      "        Toys  Books  Uniform  Shoes\n",
      "Andhra  7916   6189      610   8810\n",
      "Odisha  8508   8202      508   6798\n",
      "M.P     7226   6149      611   9611\n",
      "U.P     7617   6157      457   6457\n",
      "Toys       7226\n",
      "Books      6149\n",
      "Uniform     611\n",
      "Shoes      9611\n",
      "Name: M.P, dtype: int64\n",
      "        Toys  Books  Uniform  Shoes\n",
      "Andhra  7916   6189      610   8810\n",
      "Odisha  8508   8202      508   6798\n",
      "M.P     7226   6149      611   9611\n",
      "U.P     7617   6157      457   6457\n"
     ]
    }
   ],
   "source": [
    "#Syntax: <DataFrameObject>.loc[,startrow>: <endrow>, <startcolumn>: <endcolumn>]\n",
    "import pandas as pd \n",
    "s = pd.DataFrame([ [7916,6189,610,8810],[8508,8202,508,6798],[7226,6149,611,9611],\n",
    "                  [7617,6157,457,6457]], index = [0,1,2,3], columns = [0,1,2,3])\n",
    "# print(s) \n",
    "a = pd.DataFrame([ [7916,6189,610,8810],[8508,8202,508,6798],[7226,6149,611,9611],\n",
    "                  [7617,6157,457,6457]],index = ['Andhra','Odisha','M.P','U.P'] ,\n",
    "                 columns = ['Toys','Books','Uniform','Shoes']\n",
    "                )\n",
    "print(a) \n",
    "\n",
    "# To Access a row\n",
    "print(a.loc['M.P', :])\n",
    "\n",
    "\n",
    "# To Access multiple row\n",
    "print(a.loc['Andhra':'U.P',:])"
   ]
  },
  {
   "cell_type": "markdown",
   "id": "2f9a4581-46d4-4020-a964-e4970ced1c74",
   "metadata": {},
   "source": [
    "To Access selective columns"
   ]
  },
  {
   "cell_type": "code",
   "execution_count": null,
   "id": "d1e5b417-4c60-4420-98d5-767b11eb7892",
   "metadata": {},
   "outputs": [],
   "source": [
    "#Syntax: <DFobject>.loc[ :, <start column>:<end column> ]"
   ]
  },
  {
   "cell_type": "code",
   "execution_count": 7,
   "id": "4c202617-9a61-419e-b54a-2ccf44b7d452",
   "metadata": {},
   "outputs": [
    {
     "name": "stdout",
     "output_type": "stream",
     "text": [
      "        Toys  Books  Uniform  Shoes\n",
      "Andhra  7916   6189      610   8810\n",
      "Odisha  8508   8202      508   6798\n",
      "M.P     7226   6149      611   9611\n",
      "U.P     7617   6157      457   6457\n",
      "        Toys  Books\n",
      "Andhra  7916   6189\n",
      "Odisha  8508   8202\n",
      "M.P     7226   6149\n",
      "U.P     7617   6157\n"
     ]
    }
   ],
   "source": [
    "import pandas as pd \n",
    "s = pd.DataFrame([ [7916,6189,610,8810],[8508,8202,508,6798],[7226,6149,611,9611],\n",
    "                  [7617,6157,457,6457]], index = [0,1,2,3], columns = [0,1,2,3])\n",
    "# print(s) \n",
    "a = pd.DataFrame([ [7916,6189,610,8810],[8508,8202,508,6798],[7226,6149,611,9611],\n",
    "                  [7617,6157,457,6457]],index = ['Andhra','Odisha','M.P','U.P'] ,\n",
    "                 columns = ['Toys','Books','Uniform','Shoes']\n",
    "                )\n",
    "print(a) \n",
    "print(a.loc[:, 'Toys':'Books'])"
   ]
  },
  {
   "cell_type": "markdown",
   "id": "8828cfbf-8db5-4b8b-ab54-eee78fe50515",
   "metadata": {},
   "source": [
    "To Access range of columns from a range of rows"
   ]
  },
  {
   "cell_type": "code",
   "execution_count": 11,
   "id": "b5123651-fdc3-4d87-a1d8-b76fe3763c39",
   "metadata": {},
   "outputs": [
    {
     "name": "stdout",
     "output_type": "stream",
     "text": [
      "        Toys  Books  Uniform  Shoes\n",
      "Andhra  7916   6189      610   8810\n",
      "Odisha  8508   8202      508   6798\n",
      "M.P     7226   6149      611   9611\n",
      "U.P     7617   6157      457   6457\n",
      "     Toys  Books  Uniform\n",
      "M.P  7226   6149      611\n",
      "U.P  7617   6157      457\n"
     ]
    }
   ],
   "source": [
    "import pandas as pd \n",
    "s = pd.DataFrame([ [7916,6189,610,8810],[8508,8202,508,6798],[7226,6149,611,9611],\n",
    "                  [7617,6157,457,6457]], index = [0,1,2,3], columns = [0,1,2,3])\n",
    "# print(s) \n",
    "a = pd.DataFrame([ [7916,6189,610,8810],[8508,8202,508,6798],[7226,6149,611,9611],\n",
    "                  [7617,6157,457,6457]],index = ['Andhra','Odisha','M.P','U.P'] ,\n",
    "                 columns = ['Toys','Books','Uniform','Shoes']\n",
    "                )\n",
    "print(a) \n",
    "print(a.loc['M.P':'U.P', 'Toys': 'Uniform'])"
   ]
  },
  {
   "cell_type": "markdown",
   "id": "5d345b6e-dce8-4734-b616-20d9ae0b9df2",
   "metadata": {},
   "source": [
    "Example 32: Given a DataFrame namely aid that stores the aid by NGO for different states. Write a program to display the aid for states 'Andhra' and 'Odisha' for books and uniform only."
   ]
  },
  {
   "cell_type": "code",
   "execution_count": 14,
   "id": "71c37971-e322-42c8-a478-785beaa61ac7",
   "metadata": {},
   "outputs": [
    {
     "name": "stdout",
     "output_type": "stream",
     "text": [
      "        Toys  Books  Uniform  Shoes\n",
      "Andhra  7916   6189      610   8810\n",
      "Odisha  8508   8202      508   6798\n",
      "M.P     7226   6149      611   9611\n",
      "U.P     7617   6157      457   6457\n",
      "        Books  Uniform\n",
      "Andhra   6189      610\n",
      "Odisha   8202      508\n",
      "        Toys  Shoes\n",
      "Andhra  7916   8810\n",
      "U.P     7617   6457\n"
     ]
    }
   ],
   "source": [
    "import pandas as pd \n",
    "s = pd.DataFrame([ [7916,6189,610,8810],[8508,8202,508,6798],[7226,6149,611,9611],\n",
    "                  [7617,6157,457,6457]], index = [0,1,2,3], columns = [0,1,2,3])\n",
    "a = pd.DataFrame([ [7916,6189,610,8810],[8508,8202,508,6798],[7226,6149,611,9611],\n",
    "                  [7617,6157,457,6457]],index = ['Andhra','Odisha','M.P','U.P'] ,\n",
    "                 columns = ['Toys','Books','Uniform','Shoes']\n",
    "                )\n",
    "print(a) \n",
    "print(a.loc['Andhra':'Odisha', 'Books':'Uniform'])\n",
    "\n",
    "#Extra performance\n",
    "\n",
    "print(a.loc[['Andhra','U.P'],['Toys','Shoes']])"
   ]
  },
  {
   "cell_type": "markdown",
   "id": "5261d755-293b-4b20-a9b3-d5e10558bd87",
   "metadata": {
    "jp-MarkdownHeadingCollapsed": true
   },
   "source": [
    "### Selecting Rows/Columns from a DataFrame"
   ]
  },
  {
   "cell_type": "code",
   "execution_count": 2,
   "id": "16f884b2-8450-4205-8465-2079c46ada4b",
   "metadata": {},
   "outputs": [
    {
     "name": "stdout",
     "output_type": "stream",
     "text": [
      "        Toys  Books  Uniform  Shoes\n",
      "Andhra  7916   6189      610   8810\n",
      "Odisha  8508   8202      508   6798\n",
      "M.P     7226   6149      611   9611\n",
      "U.P     7617   6157      457   6457\n",
      "        Books  Uniform\n",
      "Andhra   6189      610\n",
      "Odisha   8202      508\n"
     ]
    }
   ],
   "source": [
    "#Syntax: <DFobject>.iloc[<start row index>:<end row index>,<start col index>:<end column index>\n",
    "import pandas as pd \n",
    "s = pd.DataFrame([ [7916,6189,610,8810],[8508,8202,508,6798],[7226,6149,611,9611],\n",
    "                  [7617,6157,457,6457]], index = [0,1,2,3], columns = [0,1,2,3])\n",
    "a = pd.DataFrame([ [7916,6189,610,8810],[8508,8202,508,6798],[7226,6149,611,9611],\n",
    "                  [7617,6157,457,6457]],index = ['Andhra','Odisha','M.P','U.P'] ,\n",
    "                 columns = ['Toys','Books','Uniform','Shoes']\n",
    "                )\n",
    "print(a) \n",
    "print(a.iloc[0:2,1:3]) "
   ]
  },
  {
   "cell_type": "code",
   "execution_count": 1,
   "id": "38dbd6d0-58a8-4f08-a599-6ce4e4246365",
   "metadata": {},
   "outputs": [
    {
     "name": "stdout",
     "output_type": "stream",
     "text": [
      "        Toys  Books  Uniform  Shoes\n",
      "Andhra  7916   6189      610   8810\n",
      "Odisha  8508   8202      508   6798\n",
      "M.P     7226   6149      611   9611\n",
      "U.P     7617   6157      457   6457\n",
      "        Books\n",
      "Andhra   6189\n",
      "Odisha   8202\n"
     ]
    }
   ],
   "source": [
    "import pandas as pd \n",
    "s = pd.DataFrame([ [7916,6189,610,8810],[8508,8202,508,6798],[7226,6149,611,9611],\n",
    "                  [7617,6157,457,6457]], index = [0,1,2,3], columns = [0,1,2,3])\n",
    "# print(s) \n",
    "a = pd.DataFrame([ [7916,6189,610,8810],[8508,8202,508,6798],[7226,6149,611,9611],\n",
    "                  [7617,6157,457,6457]],index = ['Andhra','Odisha','M.P','U.P'] ,\n",
    "                 columns = ['Toys','Books','Uniform','Shoes']\n",
    "                )\n",
    "print(a) \n",
    "print(a.iloc[0:2,1:2]) "
   ]
  },
  {
   "cell_type": "markdown",
   "id": "21520bde-0393-4c22-b7b5-adde79d16004",
   "metadata": {},
   "source": [
    "Selecting/Accessing Individual Value"
   ]
  },
  {
   "cell_type": "code",
   "execution_count": 1,
   "id": "5d67493c-924b-432e-8c4b-0ff508f2ee14",
   "metadata": {},
   "outputs": [
    {
     "name": "stdout",
     "output_type": "stream",
     "text": [
      "        Toys  Books  Uniform  Shoes\n",
      "Andhra  7916   6189      610   8810\n",
      "Odisha  8508   8202      508   6798\n",
      "M.P     7226   6149      611   9611\n",
      "U.P     7617   6157      457   6457\n",
      "457\n"
     ]
    }
   ],
   "source": [
    "#Syntax:<DFobject>.<column>[<row name or row numaric index>] \n",
    "import pandas as pd \n",
    "s = pd.DataFrame([ [7916,6189,610,8810],[8508,8202,508,6798],[7226,6149,611,9611],\n",
    "                  [7617,6157,457,6457]], index = [0,1,2,3], columns = [0,1,2,3])\n",
    "# print(s) \n",
    "a = pd.DataFrame([ [7916,6189,610,8810],[8508,8202,508,6798],[7226,6149,611,9611],\n",
    "                  [7617,6157,457,6457]],index = ['Andhra','Odisha','M.P','U.P'] ,\n",
    "                 columns = ['Toys','Books','Uniform','Shoes']\n",
    "                )\n",
    "print(a) \n",
    "print(a.Uniform['U.P'])"
   ]
  },
  {
   "cell_type": "code",
   "execution_count": 7,
   "id": "a1a9ec11-9bf6-4354-bbe9-925c8fe29ddd",
   "metadata": {},
   "outputs": [
    {
     "name": "stdout",
     "output_type": "stream",
     "text": [
      "        Toys  Books  Uniform  Shoes\n",
      "Andhra  7916   6189      610   8810\n",
      "Odisha  8508   8202      508   6798\n",
      "M.P     7226   6149      611   9611\n",
      "U.P     7617   6157      457   6457\n",
      "8810\n",
      "6149\n"
     ]
    }
   ],
   "source": [
    "# You can use at or iat attributes with DF object \n",
    "#Syntax:<Dfobject>.at[<row label>, col label>] \n",
    "\n",
    "#Syntax:<DFobject>.iat[<row inde no.>, col index no.>,]\n",
    "\n",
    "import pandas as pd \n",
    "s = pd.DataFrame([ [7916,6189,610,8810],[8508,8202,508,6798],[7226,6149,611,9611],\n",
    "                  [7617,6157,457,6457]], index = [0,1,2,3], columns = [0,1,2,3])\n",
    "a = pd.DataFrame([ [7916,6189,610,8810],[8508,8202,508,6798],[7226,6149,611,9611],\n",
    "                  [7617,6157,457,6457]],index = ['Andhra','Odisha','M.P','U.P'] ,\n",
    "                 columns = ['Toys','Books','Uniform','Shoes']\n",
    "                )\n",
    "print(a) \n",
    "print(a.at['Andhra','Shoes'])\n",
    "\n",
    "print(a.iat[2,1])"
   ]
  },
  {
   "cell_type": "markdown",
   "id": "2b8b4624-f247-424c-b01e-f19ca95e63f7",
   "metadata": {},
   "source": [
    "Selecting DataFrame Rows/Columns based on Boolean Conditions"
   ]
  },
  {
   "cell_type": "code",
   "execution_count": 20,
   "id": "c81b0a82-240f-48e1-9ca9-663e151bcdae",
   "metadata": {},
   "outputs": [
    {
     "name": "stdout",
     "output_type": "stream",
     "text": [
      "        Toys  Books  Uniform  Shoes\n",
      "Andhra  7916   6189      610   8810\n",
      "Odisha  8508   8202      508   6798\n",
      "M.P     7226   6149      611   9611\n",
      "U.P     7617   6157      457   6457\n",
      "Andhra    False\n",
      "Odisha     True\n",
      "M.P       False\n",
      "U.P       False\n",
      "Name: Toys, dtype: bool\n",
      "Toys        True\n",
      "Books      False\n",
      "Uniform    False\n",
      "Shoes       True\n",
      "Name: Andhra, dtype: bool\n"
     ]
    }
   ],
   "source": [
    "import pandas as pd \n",
    "s = pd.DataFrame([ [7916,6189,610,8810],[8508,8202,508,6798],[7226,6149,611,9611],\n",
    "                  [7617,6157,457,6457]], index = [0,1,2,3], columns = [0,1,2,3])\n",
    "a = pd.DataFrame([ [7916,6189,610,8810],[8508,8202,508,6798],[7226,6149,611,9611],\n",
    "                  [7617,6157,457,6457]],index = ['Andhra','Odisha','M.P','U.P'] ,\n",
    "                 columns = ['Toys','Books','Uniform','Shoes']\n",
    "                )\n",
    "print(a) \n",
    "print(a['Toys']>8000)\n",
    "print(a.loc['Andhra']>7000)"
   ]
  },
  {
   "cell_type": "markdown",
   "id": "6dc33818-746b-4a71-96db-ab0fc93c3954",
   "metadata": {},
   "source": [
    "Example 35 : From the series Ser1 of areas that stores in km2, find out the areas that are ,more than 50000km2."
   ]
  },
  {
   "cell_type": "code",
   "execution_count": 23,
   "id": "ff67d005-3f7e-4aa1-b451-5730315ba9f1",
   "metadata": {},
   "outputs": [
    {
     "name": "stdout",
     "output_type": "stream",
     "text": [
      "0    34567\n",
      "1    34543\n",
      "2    54334\n",
      "3    23345\n",
      "4    45678\n",
      "5    90876\n",
      "6    56790\n",
      "dtype: int64\n",
      "2    54334\n",
      "5    90876\n",
      "6    56790\n",
      "dtype: int64\n"
     ]
    }
   ],
   "source": [
    "import pandas as pd \n",
    "s=pd.Series([34567,34543,54334,23345,45678,90876,56790]) \n",
    "print(s)\n",
    "print(s[s>50000])"
   ]
  },
  {
   "cell_type": "markdown",
   "id": "a30dbf21-f64e-49d1-8185-01e7b254eebe",
   "metadata": {},
   "source": [
    "Example 35: Given a Series object s5. Write a program to store the squares of the Series values in object s6. Display s6's values which are>15"
   ]
  },
  {
   "cell_type": "code",
   "execution_count": 24,
   "id": "2bfabd87-73df-4f60-889e-94da12afef62",
   "metadata": {},
   "outputs": [
    {
     "name": "stdout",
     "output_type": "stream",
     "text": [
      "Series object s5\n",
      "Values in s6>15\n",
      "1    25\n",
      "2    36\n",
      "3    49\n",
      "4    64\n",
      "5    81\n",
      "6    16\n",
      "dtype: int64\n"
     ]
    }
   ],
   "source": [
    "import pandas as pd \n",
    "s5 = pd.Series([3,5,6,7,8,9,4,2]) \n",
    "print(\"Series object s5\") \n",
    "s6 = s5**2 \n",
    "print(\"Values in s6>15\") \n",
    "print(s6[s6>15])"
   ]
  },
  {
   "cell_type": "markdown",
   "id": "cbabfc42-25ab-4e7e-926d-d0b60f7d650f",
   "metadata": {},
   "source": [
    "### Adding/Modifying a column"
   ]
  },
  {
   "cell_type": "code",
   "execution_count": 3,
   "id": "38e3d381-d50d-4e9f-8bfb-41951e0f2991",
   "metadata": {},
   "outputs": [
    {
     "name": "stdout",
     "output_type": "stream",
     "text": [
      "  students  marks     Sports\n",
      "0  Ruchika  79.50    Cricket\n",
      "1     Neha  83.75  Badminton\n",
      "2     Mark  74.00   Football\n",
      "3   Bianca  88.50  Athletics\n",
      "4   Jamaal  89.00    kabaddi\n",
      "  students  marks     Sports Grade\n",
      "0  Ruchika  79.50    Cricket     A\n",
      "1     Neha  83.75  Badminton     B\n",
      "2     Mark  74.00   Football     C\n",
      "3   Bianca  88.50  Athletics     D\n",
      "4   Jamaal  89.00    kabaddi     E\n"
     ]
    },
    {
     "data": {
      "text/html": [
       "<div>\n",
       "<style scoped>\n",
       "    .dataframe tbody tr th:only-of-type {\n",
       "        vertical-align: middle;\n",
       "    }\n",
       "\n",
       "    .dataframe tbody tr th {\n",
       "        vertical-align: top;\n",
       "    }\n",
       "\n",
       "    .dataframe thead th {\n",
       "        text-align: right;\n",
       "    }\n",
       "</style>\n",
       "<table border=\"1\" class=\"dataframe\">\n",
       "  <thead>\n",
       "    <tr style=\"text-align: right;\">\n",
       "      <th></th>\n",
       "      <th>students</th>\n",
       "      <th>marks</th>\n",
       "      <th>Sports</th>\n",
       "      <th>Grade</th>\n",
       "    </tr>\n",
       "  </thead>\n",
       "  <tbody>\n",
       "    <tr>\n",
       "      <th>0</th>\n",
       "      <td>Ruchika</td>\n",
       "      <td>79.50</td>\n",
       "      <td>Cricket</td>\n",
       "      <td>A</td>\n",
       "    </tr>\n",
       "    <tr>\n",
       "      <th>1</th>\n",
       "      <td>Neha</td>\n",
       "      <td>83.75</td>\n",
       "      <td>Badminton</td>\n",
       "      <td>B</td>\n",
       "    </tr>\n",
       "    <tr>\n",
       "      <th>2</th>\n",
       "      <td>Mark</td>\n",
       "      <td>74.00</td>\n",
       "      <td>Football</td>\n",
       "      <td>C</td>\n",
       "    </tr>\n",
       "    <tr>\n",
       "      <th>3</th>\n",
       "      <td>Bianca</td>\n",
       "      <td>88.50</td>\n",
       "      <td>Athletics</td>\n",
       "      <td>D</td>\n",
       "    </tr>\n",
       "    <tr>\n",
       "      <th>4</th>\n",
       "      <td>Jamaal</td>\n",
       "      <td>89.00</td>\n",
       "      <td>kabaddi</td>\n",
       "      <td>E</td>\n",
       "    </tr>\n",
       "  </tbody>\n",
       "</table>\n",
       "</div>"
      ],
      "text/plain": [
       "  students  marks     Sports Grade\n",
       "0  Ruchika  79.50    Cricket     A\n",
       "1     Neha  83.75  Badminton     B\n",
       "2     Mark  74.00   Football     C\n",
       "3   Bianca  88.50  Athletics     D\n",
       "4   Jamaal  89.00    kabaddi     E"
      ]
     },
     "execution_count": 3,
     "metadata": {},
     "output_type": "execute_result"
    },
    {
     "data": {
      "image/png": "[encoded data removed]",
      "text/plain": [
       "<Figure size 640x480 with 1 Axes>"
      ]
     },
     "metadata": {},
     "output_type": "display_data"
    }
   ],
   "source": [
    "#***********Adding/Modifying a Column******\n",
    "#Syntax:<DF>.<column name> = <new value>  Or  <DF>.[<column>] = <new  value>\n",
    "\n",
    "import pandas as pd \n",
    "import pandas as pd \n",
    "import pandas as pd\n",
    "import matplotlib.pyplot as pl\n",
    "dict = {'students': ['Ruchika','Neha','Mark','Bianca','Jamaal'],\n",
    "        'marks': [79.5,83.75,74,88.5,89], 'Sports': ['Cricket','Badminton',\n",
    "                                                     'Football','Athletics','kabaddi']} \n",
    "df1 = pd.DataFrame(dict)\n",
    "print(df1) \n",
    "df1['Grade'] = ['A','B','C','D','E'] #dfnew['capital city'] = ['Rome','Madrid','Athens','Paris','Lisbon']\n",
    "\n",
    "print(df1)\n",
    "df1.plot(kind = 'bar', color = 'c') \n",
    "\n",
    "df1"
   ]
  },
  {
   "cell_type": "markdown",
   "id": "03596256-554b-4b42-80bd-e51c2f878739",
   "metadata": {},
   "source": [
    "Adding/Modifying a Row"
   ]
  },
  {
   "cell_type": "code",
   "execution_count": 21,
   "id": "2a9f1903-486f-41b4-a336-97c25e1a5d0f",
   "metadata": {},
   "outputs": [
    {
     "name": "stdout",
     "output_type": "stream",
     "text": [
      "  students  marks     Sports\n",
      "A  Ruchika  79.50    Cricket\n",
      "B     Neha  83.75  Badminton\n",
      "C     Mark  74.00   Football\n",
      "D   Bianca  88.50  Athletics\n",
      "E   Jamaal  89.00    kabaddi\n",
      "  students  marks     Sports\n",
      "A  Ruchika  79.50    Cricket\n",
      "B     Neha  83.75  Badminton\n",
      "C     Mark  74.00   Football\n",
      "D   Bianca  88.50  Athletics\n",
      "E   Jamaal  89.00    kabaddi\n",
      "5    Sweta  90.00       Fifa\n",
      "  students  marks     Sports\n",
      "A  Ruchika  79.50    Cricket\n",
      "B     Neha  83.75  Badminton\n",
      "C     Mark  74.00   Football\n",
      "D   Bianca  88.50  Athletics\n",
      "E   Jamaal  89.00    kabaddi\n",
      "5    Sweta  90.00       Fifa\n",
      "6   Veehan  90.00       Fifa\n"
     ]
    }
   ],
   "source": [
    "# To change or add a row\n",
    "#Syntax:<DF>.at[<row name>,: ] = <new value> \n",
    "#Syntax:<DF>.loc[<row name>,: ] = <new value>\n",
    "import pandas as pd \n",
    "import pandas as pd \n",
    "import pandas as pd\n",
    "dict = {'students': ['Ruchika','Neha','Mark','Bianca','Jamaal'],\n",
    "        'marks': [79.5,83.75,74,88.5,89], 'Sports': ['Cricket','Badminton',\n",
    "                                                     'Football','Athletics','kabaddi']}\n",
    "index =  [\"A\",\"B\",\"C\",\"D\",\"E\"] \n",
    "df1 = pd.DataFrame(dict,index) \n",
    "print(df1)\n",
    "df1.loc[5,:] = [\"Sweta\",90.0,\"Fifa\"]\n",
    "print(df1) \n",
    "df1.loc[len(df1)] = [\"Veehan\",90.0,\"Fifa\"] \n",
    "print(df1)"
   ]
  },
  {
   "cell_type": "code",
   "execution_count": 10,
   "id": "e2008b02-0524-47c3-97e9-25c8d6060b00",
   "metadata": {},
   "outputs": [
    {
     "name": "stdout",
     "output_type": "stream",
     "text": [
      "      Name  Age\n",
      "0    Alice   25\n",
      "1      Bob   30\n",
      "2  Charlie   35\n"
     ]
    }
   ],
   "source": [
    "import pandas as pd\n",
    "data = {\"Name\": [\"Alice\", \"Bob\"], \"Age\": [25, 30]}\n",
    "df = pd.DataFrame(data)\n",
    "\n",
    "# Add a new row using loc[]\n",
    "df.loc[len(df)] = [\"Charlie\", 35]\n",
    "print(df)"
   ]
  },
  {
   "cell_type": "markdown",
   "id": "bc25f71e-dc55-4788-b396-f1b59ada7fdc",
   "metadata": {},
   "source": [
    "Example 36: Consider the following dataframe saleDf:. Write a program to add a column namely Orders having values 6000,6700,6200 and 6000 respectively for the zones A,B,C and D. The program should also add a new zone ZoneE. Add some dummy values in this row."
   ]
  },
  {
   "cell_type": "code",
   "execution_count": 47,
   "id": "6371069f-c986-4a2e-b805-25bb9102f1c6",
   "metadata": {},
   "outputs": [
    {
     "name": "stdout",
     "output_type": "stream",
     "text": [
      "       Target  Sales\n",
      "zoneA   56000  58000\n",
      "zoneB   70000  68000\n",
      "zoneC   75000  78000\n",
      "zoneD   60000  61000\n",
      "       Target  Sales  Orders\n",
      "zoneA   56000  58000    6000\n",
      "zoneB   70000  68000    6700\n",
      "zoneC   75000  78000    6200\n",
      "zoneD   60000  61000    6000\n",
      "        Target    Sales   Orders\n",
      "zoneA  56000.0  58000.0   6000.0\n",
      "zoneB  70000.0  68000.0   6700.0\n",
      "zoneC  75000.0  78000.0   6200.0\n",
      "zoneD  60000.0  61000.0   6000.0\n",
      "zoneE  50000.0  56000.0  58000.0\n"
     ]
    }
   ],
   "source": [
    "import pandas as pd \n",
    "zoneA = {'Target':56000,'Sales':58000} \n",
    "zoneB = {'Target':70000,'Sales':68000} \n",
    "zoneC = {'Target':75000,'Sales':78000} \n",
    "zoneD = {'Target':60000,'Sales':61000} \n",
    "sales = [zoneA,zoneB,zoneC,zoneD] \n",
    "salesdf = pd.DataFrame(sales, index = ['zoneA','zoneB','zoneC','zoneD'])\n",
    "print(salesdf) \n",
    "salesdf['Orders'] = [6000,6700,6200,6000] \n",
    "print(salesdf)\n",
    "salesdf.loc['zoneE',:] = [50000,56000,58000] \n",
    "print(salesdf) "
   ]
  },
  {
   "cell_type": "markdown",
   "id": "cf1c082e-8311-4037-8278-4e0db39d065f",
   "metadata": {},
   "source": [
    "Adding Rows from a DataFrame"
   ]
  },
  {
   "cell_type": "code",
   "execution_count": 55,
   "id": "830bb8d3-028f-496b-9139-29786e9eb140",
   "metadata": {},
   "outputs": [
    {
     "name": "stdout",
     "output_type": "stream",
     "text": [
      "   Col  Col2\n",
      "0   15    14\n",
      "1   13    15\n",
      "2   11    16\n",
      "   Col  Col2\n",
      "0   20    24\n",
      "1   21    25\n",
      "2   23    26\n"
     ]
    }
   ],
   "source": [
    "# By Using Append method <DF>.append() \n",
    "import pandas as pd \n",
    "s = pd.DataFrame({'Col':[15,13,11], 'Col2':[14,15,16]})\n",
    "print(s) \n",
    "v = pd.DataFrame({'Col':[20,21,23], 'Col2':[24,25,26]})\n",
    "print(v) \n",
    "# k = s.append(v, ignore_index = True) \n",
    "# print(k)\n",
    "# To do "
   ]
  },
  {
   "cell_type": "markdown",
   "id": "eb91302b-5bed-4e04-9b32-3ee210a3b4ac",
   "metadata": {},
   "source": [
    "Modifying a Single Cell"
   ]
  },
  {
   "cell_type": "code",
   "execution_count": 58,
   "id": "2fda63dc-12fa-46bf-9f6e-0225985e2e4c",
   "metadata": {},
   "outputs": [
    {
     "name": "stdout",
     "output_type": "stream",
     "text": [
      "       Target  Sales\n",
      "zoneA   56000  58000\n",
      "zoneB   70000  68000\n",
      "zoneC   75000  78000\n",
      "zoneD   60000  61000\n",
      "       Target  Sales\n",
      "zoneA   56000  58000\n",
      "zoneB   70000  68000\n",
      "zoneC   75000  78000\n",
      "zoneD   56000  61000\n"
     ]
    },
    {
     "name": "stderr",
     "output_type": "stream",
     "text": [
      "/tmp/ipykernel_162/1244436850.py:10: FutureWarning: ChainedAssignmentError: behaviour will change in pandas 3.0!\n",
      "You are setting values through chained assignment. Currently this works in certain cases, but when using Copy-on-Write (which will become the default behaviour in pandas 3.0) this will never work to update the original DataFrame or Series, because the intermediate object on which we are setting values will behave as a copy.\n",
      "A typical example is when you are setting values in a column of a DataFrame, like:\n",
      "\n",
      "df[\"col\"][row_indexer] = value\n",
      "\n",
      "Use `df.loc[row_indexer, \"col\"] = values` instead, to perform the assignment in a single step and ensure this keeps updating the original `df`.\n",
      "\n",
      "See the caveats in the documentation: https://pandas.pydata.org/pandas-docs/stable/user_guide/indexing.html#returning-a-view-versus-a-copy\n",
      "\n",
      "  a.Target['zoneD'] = 56000\n"
     ]
    }
   ],
   "source": [
    "#Syntax: <DF>.<col.name>[<row name/label>] = <new/modified values> \n",
    "import pandas as pd \n",
    "zoneA = {'Target':56000,'Sales':58000} \n",
    "zoneB = {'Target':70000,'Sales':68000} \n",
    "zoneC = {'Target':75000,'Sales':78000} \n",
    "zoneD = {'Target':60000,'Sales':61000} \n",
    "sales = [zoneA,zoneB,zoneC,zoneD] \n",
    "a = pd.DataFrame(sales, index = ['zoneA','zoneB','zoneC','zoneD'])\n",
    "print(a) \n",
    "a.Target['zoneD'] = 56000 \n",
    "print(a)"
   ]
  },
  {
   "cell_type": "markdown",
   "id": "50592550-5763-4b60-b879-27f3acf7e23a",
   "metadata": {},
   "source": [
    "Creating a New DataFrame from a DataFrame Shallow vs. Real copy"
   ]
  },
  {
   "cell_type": "code",
   "execution_count": 70,
   "id": "6bcc5f07-b947-4edb-a263-e0c431f907a7",
   "metadata": {},
   "outputs": [
    {
     "name": "stdout",
     "output_type": "stream",
     "text": [
      "     0    1    2\n",
      "0  101  113  124\n",
      "1  130  140  200\n",
      "2  115  216  217\n",
      "     0    1    2\n",
      "0  101  113  124\n",
      "1  130  140  200\n",
      "2  115  216  217\n",
      "False\n",
      "     0    1    2\n",
      "0  101  113  124\n",
      "1  130  140  200\n",
      "2  115  216  217\n"
     ]
    }
   ],
   "source": [
    "import pandas as pd \n",
    "import numpy as np \n",
    "arr2 = np.array([ [101,113,124],[130,140,200],[115,216,217]]) \n",
    "dtf3 = pd.DataFrame(arr2) \n",
    "print(dtf3)\n",
    "df1 = pd.DataFrame(dtf3) \n",
    "print(df1)\n",
    "# To do "
   ]
  },
  {
   "cell_type": "markdown",
   "id": "f426ff97-56a6-42a8-8be4-f0c635927eb4",
   "metadata": {
    "jp-MarkdownHeadingCollapsed": true
   },
   "source": [
    "### Deleting/Renaming Columns/Rows"
   ]
  },
  {
   "cell_type": "markdown",
   "id": "1b1437d3-8161-4a09-8cc5-adbc36c4cc04",
   "metadata": {},
   "source": [
    "Deleting Rows/Columns in a DataFrame"
   ]
  },
  {
   "cell_type": "code",
   "execution_count": 31,
   "id": "7ea2274e-e02b-4299-9730-66e9e05187c4",
   "metadata": {},
   "outputs": [
    {
     "name": "stdout",
     "output_type": "stream",
     "text": [
      "       Target  Sales\n",
      "zoneA   56000  58000\n",
      "zoneB   70000  68000\n",
      "zoneC   75000  78000\n",
      "zoneD   60000  61000\n",
      "       Target\n",
      "zoneA   56000\n",
      "zoneB   70000\n",
      "zoneC   75000\n",
      "zoneD   60000\n"
     ]
    }
   ],
   "source": [
    "import pandas as pd \n",
    "zoneA = {'Target':56000,'Sales':58000} \n",
    "zoneB = {'Target':70000,'Sales':68000} \n",
    "zoneC = {'Target':75000,'Sales':78000} \n",
    "zoneD = {'Target':60000,'Sales':61000} \n",
    "sales = [zoneA,zoneB,zoneC,zoneD] \n",
    "v = pd.DataFrame(sales, index = ['zoneA','zoneB','zoneC','zoneD'])\n",
    "print(v) \n",
    "del v['Sales'] \n",
    "print(v)"
   ]
  },
  {
   "cell_type": "markdown",
   "id": "6c906b3a-2a05-4a35-acc1-6181959fdf19",
   "metadata": {},
   "source": [
    "Example 37: From the dtf5 used above, create another DataFrame and it must not contain the column \"Population\" and the the row Bangalore."
   ]
  },
  {
   "cell_type": "code",
   "execution_count": 80,
   "id": "eb058f83-ff05-422a-93c9-31cac597f69c",
   "metadata": {},
   "outputs": [
    {
     "name": "stdout",
     "output_type": "stream",
     "text": [
      "        Target    Sales   Orders\n",
      "zoneA  56000.0  58000.0   6000.0\n",
      "zoneB  70000.0  68000.0   6700.0\n",
      "zoneC  75000.0  78000.0   6200.0\n",
      "zoneD  60000.0  61000.0   6000.0\n",
      "zoneE  50000.0  56000.0  58000.0\n"
     ]
    }
   ],
   "source": [
    "import pandas as pd \n",
    "zoneA = {'Target':56000,'Sales':58000} \n",
    "zoneB = {'Target':70000,'Sales':68000} \n",
    "zoneC = {'Target':75000,'Sales':78000} \n",
    "zoneD = {'Target':60000,'Sales':61000} \n",
    "sales = [zoneA,zoneB,zoneC,zoneD] \n",
    "salesdf = pd.DataFrame(sales, index = ['zoneA','zoneB','zoneC','zoneD'])\n",
    "# print(salesdf) \n",
    "salesdf['Orders'] = [6000,6700,6200,6000] \n",
    "# print(salesdf)\n",
    "salesdf.loc['zoneE',:] = [50000,56000,58000] \n",
    "print(salesdf) "
   ]
  },
  {
   "cell_type": "code",
   "execution_count": 29,
   "id": "b2bbb986-fe54-431d-ba51-630befce21f1",
   "metadata": {},
   "outputs": [
    {
     "name": "stdout",
     "output_type": "stream",
     "text": [
      "       Target  Sales\n",
      "zoneA   56000  58000\n",
      "zoneB   70000  68000\n",
      "zoneC   75000  78000\n",
      "zoneD   60000  61000\n",
      "        Target    Sales   Orders\n",
      "zoneA  56000.0  58000.0   6000.0\n",
      "zoneB  70000.0  68000.0   6700.0\n",
      "zoneC  75000.0  78000.0   6200.0\n",
      "zoneD  60000.0  61000.0   6000.0\n",
      "zoneE  50000.0  56000.0  58000.0\n",
      "         Sales  Orders\n",
      "zoneA  58000.0  6000.0\n",
      "zoneB  68000.0  6700.0\n",
      "zoneC  78000.0  6200.0\n",
      "zoneD  61000.0  6000.0\n"
     ]
    }
   ],
   "source": [
    "import pandas as pd \n",
    "zoneA = {'Target':56000,'Sales':58000} \n",
    "zoneB = {'Target':70000,'Sales':68000} \n",
    "zoneC = {'Target':75000,'Sales':78000} \n",
    "zoneD = {'Target':60000,'Sales':61000} \n",
    "sales = [zoneA,zoneB,zoneC,zoneD] \n",
    "w = pd.DataFrame(sales, index = ['zoneA','zoneB','zoneC','zoneD']) \n",
    "print(w)\n",
    "w['Orders'] = [6000,6700,6200,6000] \n",
    "w.loc['zoneE',:] = [50000,56000,58000] \n",
    "print(w) \n",
    "dtf6 = pd.DataFrame(w) \n",
    "del dtf6['Target'] \n",
    "dtf6 = dtf6.drop(['zoneE']) \n",
    "print(dtf6)"
   ]
  },
  {
   "cell_type": "markdown",
   "id": "ae0dd6ea-1a94-4df2-b410-1b26f0506240",
   "metadata": {},
   "source": [
    "Renaming Rows/Columns"
   ]
  },
  {
   "cell_type": "code",
   "execution_count": 86,
   "id": "98b84689-b138-4001-b84e-5215a134cbb0",
   "metadata": {},
   "outputs": [
    {
     "name": "stdout",
     "output_type": "stream",
     "text": [
      "        Target    Sales   Orders\n",
      "zoneA  56000.0  58000.0   6000.0\n",
      "zoneB  70000.0  68000.0   6700.0\n",
      "zoneC  75000.0  78000.0   6200.0\n",
      "zoneD  60000.0  61000.0   6000.0\n",
      "zoneE  50000.0  56000.0  58000.0\n",
      "    Target    Sales   Orders\n",
      "A  56000.0  58000.0   6000.0\n",
      "B  70000.0  68000.0   6700.0\n",
      "C  75000.0  78000.0   6200.0\n",
      "D  60000.0  61000.0   6000.0\n",
      "E  50000.0  56000.0  58000.0\n"
     ]
    }
   ],
   "source": [
    "# Syntax: <DF>.rename(index = {<name dictionary>}, columns = {<name dictionary>},\n",
    "#                                  inplace = False\n",
    "import pandas as pd \n",
    "zoneA = {'Target':56000,'Sales':58000} \n",
    "zoneB = {'Target':70000,'Sales':68000} \n",
    "zoneC = {'Target':75000,'Sales':78000} \n",
    "zoneD = {'Target':60000,'Sales':61000} \n",
    "sales = [zoneA,zoneB,zoneC,zoneD] \n",
    "w = pd.DataFrame(sales, index = ['zoneA','zoneB','zoneC','zoneD'])\n",
    "w['Orders'] = [6000,6700,6200,6000] \n",
    "w.loc['zoneE',:] = [50000,56000,58000] \n",
    "print(w) \n",
    "d = w.rename(index = {'zoneA':'A','zoneB':'B','zoneC':'C','zoneD':'D','zoneE':'E'})\n",
    "print(d) "
   ]
  },
  {
   "cell_type": "code",
   "execution_count": 88,
   "id": "25f298a5-6047-49d2-89c4-2159f9502d0c",
   "metadata": {},
   "outputs": [
    {
     "name": "stdout",
     "output_type": "stream",
     "text": [
      "        Target    Sales   Orders\n",
      "zoneA  56000.0  58000.0   6000.0\n",
      "zoneB  70000.0  68000.0   6700.0\n",
      "zoneC  75000.0  78000.0   6200.0\n",
      "zoneD  60000.0  61000.0   6000.0\n",
      "zoneE  50000.0  56000.0  58000.0\n",
      "             T    Sales   Orders\n",
      "zoneA  56000.0  58000.0   6000.0\n",
      "zoneB  70000.0  68000.0   6700.0\n",
      "zoneC  75000.0  78000.0   6200.0\n",
      "zoneD  60000.0  61000.0   6000.0\n",
      "zoneE  50000.0  56000.0  58000.0\n"
     ]
    }
   ],
   "source": [
    "import pandas as pd \n",
    "zoneA = {'Target':56000,'Sales':58000} \n",
    "zoneB = {'Target':70000,'Sales':68000} \n",
    "zoneC = {'Target':75000,'Sales':78000} \n",
    "zoneD = {'Target':60000,'Sales':61000} \n",
    "sales = [zoneA,zoneB,zoneC,zoneD] \n",
    "w = pd.DataFrame(sales, index = ['zoneA','zoneB','zoneC','zoneD'])\n",
    "w['Orders'] = [6000,6700,6200,6000] \n",
    "w.loc['zoneE',:] = [50000,56000,58000] \n",
    "print(w) \n",
    "d = w.rename(columns = {'Target':'T'})\n",
    "print(d)"
   ]
  },
  {
   "cell_type": "markdown",
   "id": "fdfc097f-a176-432d-a152-160cf616894c",
   "metadata": {},
   "source": [
    "Example 38: Consider the saleDf shown below. Write a program to rename indexes of 'zoneC' and 'zoneD' as 'Central' and 'Dakshin' respectively and the column names 'Target and 'Sales' as 'Taegeted' and 'Achieved' respectively. "
   ]
  },
  {
   "cell_type": "code",
   "execution_count": 91,
   "id": "10e4b8bf-d4a6-485f-ae14-1d782c1734e6",
   "metadata": {},
   "outputs": [
    {
     "name": "stdout",
     "output_type": "stream",
     "text": [
      "       Target  Sales\n",
      "zoneA   56000  58000\n",
      "zoneB   70000  68000\n",
      "zoneC   75000  78000\n",
      "zoneD   60000  61000\n",
      "         Targeted  Achieved\n",
      "zoneA       56000     58000\n",
      "zoneB       70000     68000\n",
      "Central     75000     78000\n",
      "Dakshin     60000     61000\n"
     ]
    }
   ],
   "source": [
    "import pandas as pd \n",
    "zoneA = {'Target':56000,'Sales':58000} \n",
    "zoneB = {'Target':70000,'Sales':68000} \n",
    "zoneC = {'Target':75000,'Sales':78000} \n",
    "zoneD = {'Target':60000,'Sales':61000} \n",
    "sales = [zoneA,zoneB,zoneC,zoneD] \n",
    "v = pd.DataFrame(sales, index = ['zoneA','zoneB','zoneC','zoneD'])\n",
    "print(v) \n",
    "print(v.rename(index = {'zoneC':'Central','zoneD':'Dakshin'}, \n",
    "               columns = {'Target':'Targeted','Sales':'Achieved'}))\n"
   ]
  },
  {
   "cell_type": "markdown",
   "id": "12c1b190-ead9-4df8-a281-62f9277eb656",
   "metadata": {},
   "source": [
    "Example 39: Will the previous program reflect the renamed indexes and columns names in the dataframe v ? Make changes in the previous program so that dataframe v has the changed indexes and columns."
   ]
  },
  {
   "cell_type": "code",
   "execution_count": 94,
   "id": "60f4623d-5ce3-4bc9-8b1b-59ea6c8922b7",
   "metadata": {},
   "outputs": [
    {
     "name": "stdout",
     "output_type": "stream",
     "text": [
      "None\n",
      "         Targeted  Achieved\n",
      "zoneA       56000     58000\n",
      "zoneB       70000     68000\n",
      "Central     75000     78000\n",
      "Dakshin     60000     61000\n"
     ]
    }
   ],
   "source": [
    "import pandas as pd \n",
    "zoneA = {'Target':56000,'Sales':58000} \n",
    "zoneB = {'Target':70000,'Sales':68000} \n",
    "zoneC = {'Target':75000,'Sales':78000} \n",
    "zoneD = {'Target':60000,'Sales':61000} \n",
    "sales = [zoneA,zoneB,zoneC,zoneD] \n",
    "v = pd.DataFrame(sales, index = ['zoneA','zoneB','zoneC','zoneD'])\n",
    "# print(v) \n",
    "print(v.rename(index = {'zoneC':'Central','zoneD':'Dakshin'}, \n",
    "               columns = {'Target':'Targeted','Sales':'Achieved'}, inplace = True))\n",
    "print(v)"
   ]
  },
  {
   "cell_type": "markdown",
   "id": "e5e6b5b5-97c0-42f4-a495-10b8235deca4",
   "metadata": {},
   "source": [
    "More on DataFrame Indexing-BOOLEAN INDEXING"
   ]
  },
  {
   "cell_type": "code",
   "execution_count": 96,
   "id": "0af4565f-bbcb-46d2-bcd9-bd3ce2345792",
   "metadata": {},
   "outputs": [
    {
     "name": "stdout",
     "output_type": "stream",
     "text": [
      "            Days  No. of classes\n",
      "True      Monday               6\n",
      "False    Tuesday               0\n",
      "True   Wednesday               3\n",
      "False   Thursday               0\n",
      "True      Friday               8\n"
     ]
    }
   ],
   "source": [
    "# Creating DataFrame with boolean indexs \n",
    "import pandas as pd \n",
    "Days = ['Monday','Tuesday','Wednesday','Thursday','Friday'] \n",
    "Classes = [6,0,3,0,8] \n",
    "dc = {'Days':Days, 'No. of classes':Classes} \n",
    "classdf = pd.DataFrame(dc, index = [True,False,True,False,True]) \n",
    "print(classdf) "
   ]
  },
  {
   "cell_type": "code",
   "execution_count": 97,
   "id": "774c3fd8-1bc2-4698-8dc2-38b4d09d3b6c",
   "metadata": {},
   "outputs": [
    {
     "name": "stdout",
     "output_type": "stream",
     "text": [
      "        Days  No. of classes\n",
      "1     Monday               6\n",
      "0    Tuesday               0\n",
      "1  Wednesday               3\n",
      "0   Thursday               0\n",
      "1     Friday               8\n"
     ]
    }
   ],
   "source": [
    "import pandas as pd \n",
    "Days = ['Monday','Tuesday','Wednesday','Thursday','Friday'] \n",
    "Classes = [6,0,3,0,8] \n",
    "dc = {'Days':Days, 'No. of classes':Classes} \n",
    "classdf = pd.DataFrame(dc, index = [1,0,1,0,1]) \n",
    "print(classdf) "
   ]
  },
  {
   "cell_type": "markdown",
   "id": "c104678f-5cbe-4233-a7d2-3a3ca97a73b1",
   "metadata": {},
   "source": [
    "Accesing Rows from DataFrame with Boolean Indexes"
   ]
  },
  {
   "cell_type": "code",
   "execution_count": 103,
   "id": "e2330c3c-23cd-45f1-a844-d14a141089f0",
   "metadata": {},
   "outputs": [
    {
     "name": "stdout",
     "output_type": "stream",
     "text": [
      "            Days  No. of classes\n",
      "True      Monday               6\n",
      "False    Tuesday               0\n",
      "True   Wednesday               3\n",
      "False   Thursday               0\n",
      "True      Friday               8\n",
      "           Days  No. of classes\n",
      "True     Monday               6\n",
      "True  Wednesday               3\n",
      "True     Friday               8\n",
      "           Days  No. of classes\n",
      "False   Tuesday               0\n",
      "False  Thursday               0\n"
     ]
    }
   ],
   "source": [
    "import pandas as pd \n",
    "Days = ['Monday','Tuesday','Wednesday','Thursday','Friday'] \n",
    "Classes = [6,0,3,0,8] \n",
    "dc = {'Days':Days, 'No. of classes':Classes} \n",
    "classdf = pd.DataFrame(dc, index = [True,False,True,False,True]) \n",
    "print(classdf) \n",
    "print(classdf.loc[True]) \n",
    "print(classdf.loc[False]) \n"
   ]
  },
  {
   "cell_type": "code",
   "execution_count": 104,
   "id": "1c467031-b31f-43ad-9ba3-bf6c6815dd0f",
   "metadata": {},
   "outputs": [
    {
     "name": "stdout",
     "output_type": "stream",
     "text": [
      "        Days  No. of classes\n",
      "1     Monday               6\n",
      "0    Tuesday               0\n",
      "1  Wednesday               3\n",
      "0   Thursday               0\n",
      "1     Friday               8\n",
      "       Days  No. of classes\n",
      "0   Tuesday               0\n",
      "0  Thursday               0\n"
     ]
    }
   ],
   "source": [
    "import pandas as pd \n",
    "Days = ['Monday','Tuesday','Wednesday','Thursday','Friday'] \n",
    "Classes = [6,0,3,0,8] \n",
    "dc = {'Days':Days, 'No. of classes':Classes} \n",
    "classdf = pd.DataFrame(dc, index = [1,0,1,0,1]) \n",
    "print(classdf) \n",
    "print(classdf.loc[0])"
   ]
  },
  {
   "cell_type": "code",
   "execution_count": 108,
   "id": "fa41ea0b-16af-4942-9a1b-33f4254083c9",
   "metadata": {},
   "outputs": [
    {
     "name": "stdout",
     "output_type": "stream",
     "text": [
      "        Days  No. of classes\n",
      "1     Monday               6\n",
      "0    Tuesday               0\n",
      "1  Wednesday               3\n",
      "0   Thursday               0\n",
      "1     Friday               8\n",
      "        Days  No. of classes\n",
      "1     Monday               6\n",
      "1  Wednesday               3\n",
      "1     Friday               8\n"
     ]
    }
   ],
   "source": [
    "import pandas as pd \n",
    "Days = ['Monday','Tuesday','Wednesday','Thursday','Friday'] \n",
    "Classes = [6,0,3,0,8] \n",
    "dc = {'Days':Days, 'No. of classes':Classes} \n",
    "classdf = pd.DataFrame(dc, index = [1,0,1,0,1]) \n",
    "print(classdf) \n",
    "print(classdf.loc[classdf['No. of classes']>0])"
   ]
  },
  {
   "cell_type": "code",
   "execution_count": null,
   "id": "b826d9f8-49ee-4e02-8b73-e4cb722d3a71",
   "metadata": {},
   "outputs": [],
   "source": []
  }
 ],
 "metadata": {
  "kernelspec": {
   "display_name": "Python 3 (ipykernel)",
   "language": "python",
   "name": "python3"
  },
  "language_info": {
   "codemirror_mode": {
    "name": "ipython",
    "version": 3
   },
   "file_extension": ".py",
   "mimetype": "text/x-python",
   "name": "python",
   "nbconvert_exporter": "python",
   "pygments_lexer": "ipython3",
   "version": "3.11.6"
  }
 },
 "nbformat": 4,
 "nbformat_minor": 5
}
