{
 "cells": [
  {
   "cell_type": "markdown",
   "id": "0adacf84-01f2-4384-8abb-ae98676970a2",
   "metadata": {},
   "source": [
    "# Python Pandas I"
   ]
  },
  {
   "cell_type": "markdown",
   "id": "500f0241-9c55-492d-a83d-f932da779bf5",
   "metadata": {},
   "source": [
    "## Series DataStructure"
   ]
  },
  {
   "cell_type": "markdown",
   "id": "9019e850-7843-4bd6-b05f-6cad022f78cf",
   "metadata": {
    "jp-MarkdownHeadingCollapsed": true
   },
   "source": [
    "### Creating series Object"
   ]
  },
  {
   "cell_type": "code",
   "execution_count": 116,
   "id": "d6e47fd3-f1ec-42bd-aec1-19335e89d7f4",
   "metadata": {},
   "outputs": [],
   "source": [
    "import pandas as sweta"
   ]
  },
  {
   "cell_type": "code",
   "execution_count": 117,
   "id": "5a886401-e2fd-44da-9c23-b269380c99da",
   "metadata": {},
   "outputs": [
    {
     "name": "stdout",
     "output_type": "stream",
     "text": [
      "0    0\n",
      "1    1\n",
      "2    2\n",
      "3    3\n",
      "4    4\n",
      "dtype: int64\n"
     ]
    }
   ],
   "source": [
    "obj1=sweta.Series(range(5))\n",
    "print(obj1)"
   ]
  },
  {
   "cell_type": "code",
   "execution_count": 118,
   "id": "70320c85-41f2-4593-95e7-2faf09ca8d85",
   "metadata": {},
   "outputs": [
    {
     "name": "stdout",
     "output_type": "stream",
     "text": [
      "0    3.4\n",
      "1    5.0\n",
      "2    6.5\n",
      "3    8.0\n",
      "dtype: float64\n"
     ]
    }
   ],
   "source": [
    "obj1=sweta.Series([3.4, 5.0, 6.5, 8.])\n",
    "print(obj1)"
   ]
  },
  {
   "cell_type": "markdown",
   "id": "34f47fc0-0333-49fb-87d5-5d18e3c48714",
   "metadata": {},
   "source": [
    "Example 1 : Write code to create a Series Object using the python sequence [4, 6, 8, 10]. Assume that Pandas\n",
    "is imported as alias name pd."
   ]
  },
  {
   "cell_type": "code",
   "execution_count": 119,
   "id": "7a2fa160-da4d-4a64-b953-aa6044809ff8",
   "metadata": {},
   "outputs": [
    {
     "name": "stdout",
     "output_type": "stream",
     "text": [
      "Series Object 1 :\n",
      "0     4\n",
      "1     6\n",
      "2     8\n",
      "3    10\n",
      "dtype: int64\n"
     ]
    }
   ],
   "source": [
    "import pandas as pd\n",
    "s1 = pd.Series([4, 6, 8, 10])\n",
    "# print(\"Series object 1 :\", s1 Not to be used\n",
    "print(\"Series Object 1 :\")\n",
    "print(s1)"
   ]
  },
  {
   "cell_type": "markdown",
   "id": "e42d32a9-a971-4db5-bf91-0bcd2b9a1d72",
   "metadata": {},
   "source": [
    "Example 2 : Write a code to create a Series object using the python sequence (11, 21, 31, 41).Assume that pandas is imported as alias name pd."
   ]
  },
  {
   "cell_type": "code",
   "execution_count": 120,
   "id": "5443a0d7-e7ca-44e2-95aa-17d65e202a5c",
   "metadata": {},
   "outputs": [
    {
     "name": "stdout",
     "output_type": "stream",
     "text": [
      "0    11\n",
      "1    21\n",
      "2    31\n",
      "3    41\n",
      "dtype: int64\n"
     ]
    }
   ],
   "source": [
    "import pandas as pd\n",
    "s2 = pd.Series((11,21,31,41))\n",
    "print(s2)"
   ]
  },
  {
   "cell_type": "markdown",
   "id": "151232ba-70e3-44e8-8388-3ce3fd6af8ab",
   "metadata": {},
   "source": [
    "Example 3: Write a code to create a Series object using individual charactors 'o', 'h' and 'o'. Assume that pandas is imported as alias name pd"
   ]
  },
  {
   "cell_type": "code",
   "execution_count": 121,
   "id": "be57cd00-cd24-4cd4-b463-ad2677513b38",
   "metadata": {},
   "outputs": [
    {
     "name": "stdout",
     "output_type": "stream",
     "text": [
      "0    o\n",
      "1    h\n",
      "2    o\n",
      "dtype: object\n"
     ]
    }
   ],
   "source": [
    "import pandas as pd\n",
    "s3 = pd.Series(('o', 'h', 'o'))\n",
    "print(s3)"
   ]
  },
  {
   "cell_type": "markdown",
   "id": "f299dd52-6a6c-4e19-8141-2e005b3479b3",
   "metadata": {},
   "source": [
    "Example 4: Write a code to create a Series object using a string: \"So funny\". Assume that pandas is imported as alias name pd"
   ]
  },
  {
   "cell_type": "code",
   "execution_count": 122,
   "id": "7a73d9b1-c638-4325-a0c7-e2231256599d",
   "metadata": {},
   "outputs": [
    {
     "name": "stdout",
     "output_type": "stream",
     "text": [
      "0    So funny\n",
      "dtype: object\n"
     ]
    }
   ],
   "source": [
    "s4 = pd.Series((\"So funny\"))\n",
    "print(s4)"
   ]
  },
  {
   "cell_type": "markdown",
   "id": "34890a6f-e970-4517-83a8-e94feb34c16f",
   "metadata": {},
   "source": [
    "Example 5: Write a code to create a Series object using three different words: \"I am laughing\".Assume that pandas is imported as alias name pd"
   ]
  },
  {
   "cell_type": "code",
   "execution_count": 123,
   "id": "b3ff16cd-3f70-447d-853e-4014a013a5f8",
   "metadata": {},
   "outputs": [
    {
     "name": "stdout",
     "output_type": "stream",
     "text": [
      "0           i\n",
      "1          am\n",
      "2    laughing\n",
      "dtype: object\n"
     ]
    }
   ],
   "source": [
    "s5 = pd.Series((\"i\", \"am\", \"laughing\"))\n",
    "print(s5)"
   ]
  },
  {
   "cell_type": "markdown",
   "id": "c03b2cfd-cbf7-4a45-8e55-6b42f443869a",
   "metadata": {
    "jp-MarkdownHeadingCollapsed": true
   },
   "source": [
    "### Specify data as an ndarray"
   ]
  },
  {
   "cell_type": "code",
   "execution_count": 124,
   "id": "5860fb8c-d4c4-46c4-8ced-bf24837d16d8",
   "metadata": {},
   "outputs": [
    {
     "name": "stdout",
     "output_type": "stream",
     "text": [
      "[ 3.   6.5 10. ]\n",
      "0     3.0\n",
      "1     6.5\n",
      "2    10.0\n",
      "dtype: float64\n"
     ]
    }
   ],
   "source": [
    "import pandas as pd\n",
    "import numpy as np\n",
    "s1 = np.arange(3, 13,3.5)\n",
    "print(s1)\n",
    "s2 = pd.Series(s1)\n",
    "print(s2)"
   ]
  },
  {
   "cell_type": "markdown",
   "id": "4f038644-3399-488c-b1b6-64cd4f7a748c",
   "metadata": {},
   "source": [
    "Example 6: Write a program to create a series object using an ndarray that has 5 elements in the range 24 to 64."
   ]
  },
  {
   "cell_type": "code",
   "execution_count": 125,
   "id": "8fbfaf67-beb0-48c3-9f86-0db2cd9051e0",
   "metadata": {},
   "outputs": [
    {
     "name": "stdout",
     "output_type": "stream",
     "text": [
      "[24 32 40 48 56]\n",
      "0    24\n",
      "1    32\n",
      "2    40\n",
      "3    48\n",
      "4    56\n",
      "dtype: int64\n"
     ]
    }
   ],
   "source": [
    "s1 = np.arange(24,64,8)\n",
    "print(s1)\n",
    "s2 = pd.Series(s1)\n",
    "print(s2)"
   ]
  },
  {
   "cell_type": "markdown",
   "id": "681d9d87-299d-47c4-84f3-428fe5f66e66",
   "metadata": {},
   "source": [
    "Example 6 II :  Write a program to create a series object using an ndarray that has 5 elements in the range 24 to 64.d\r\n",
    "d\r\n"
   ]
  },
  {
   "cell_type": "code",
   "execution_count": 126,
   "id": "a6376f82-1595-4477-95ae-42a8b1728f7e",
   "metadata": {},
   "outputs": [
    {
     "name": "stdout",
     "output_type": "stream",
     "text": [
      "0    24.0\n",
      "1    34.0\n",
      "2    44.0\n",
      "3    54.0\n",
      "4    64.0\n",
      "dtype: float64\n"
     ]
    }
   ],
   "source": [
    "s5 = pd.Series(np.linspace(24,64,5))\n",
    "print(s5)"
   ]
  },
  {
   "cell_type": "markdown",
   "id": "31129f6a-fe0e-4004-b6ff-cf9943f0009d",
   "metadata": {},
   "source": [
    "Example 7: Write a program to create a series object using an ndarray that is created by tiling a list [3,5],twice."
   ]
  },
  {
   "cell_type": "code",
   "execution_count": 127,
   "id": "3d33c97f-c23e-43ca-8056-767497c5ccdb",
   "metadata": {},
   "outputs": [
    {
     "name": "stdout",
     "output_type": "stream",
     "text": [
      "0    3\n",
      "1    5\n",
      "2    3\n",
      "3    5\n",
      "dtype: int64\n"
     ]
    }
   ],
   "source": [
    "s3 = pd.Series(np.tile([3,5], 2))\n",
    "print(s3)"
   ]
  },
  {
   "cell_type": "code",
   "execution_count": 128,
   "id": "eb727e03-c0dc-4c74-a503-8a8c0f8dbf1b",
   "metadata": {},
   "outputs": [
    {
     "name": "stdout",
     "output_type": "stream",
     "text": [
      "Jan    31\n",
      "Feb    28\n",
      "Mar    31\n",
      "dtype: int64\n"
     ]
    }
   ],
   "source": [
    "s4 = pd.Series({'Jan':31, 'Feb':28,'Mar':31})\n",
    "print(s4)"
   ]
  },
  {
   "cell_type": "markdown",
   "id": "47b0aa78-bc7d-4ba3-a27d-ba2a1a912309",
   "metadata": {},
   "source": [
    "Example 8: Write a program to create a series object using a dictionary that stores the number of students in each section of class 12 in\n",
    "your school."
   ]
  },
  {
   "cell_type": "code",
   "execution_count": 129,
   "id": "8216ead8-19b9-4097-8714-bb36cea0f8b9",
   "metadata": {},
   "outputs": [
    {
     "name": "stdout",
     "output_type": "stream",
     "text": [
      "A    30\n",
      "B    32\n",
      "C    28\n",
      "D    29\n",
      "dtype: int64\n"
     ]
    }
   ],
   "source": [
    "sudt = {'A':30, 'B':32, 'C':28, 'D':29}\n",
    "s = pd.Series(sudt)\n",
    "print(s)\n"
   ]
  },
  {
   "cell_type": "markdown",
   "id": "49653862-2746-4437-b93d-d0d81ee57c38",
   "metadata": {},
   "source": [
    "Specify data as a scalar value"
   ]
  },
  {
   "cell_type": "code",
   "execution_count": 130,
   "id": "4e5350d0-a671-4365-95bf-fe1ed913c0a8",
   "metadata": {},
   "outputs": [
    {
     "name": "stdout",
     "output_type": "stream",
     "text": [
      "0    10\n",
      "dtype: int64\n",
      "1    15\n",
      "3    15\n",
      "5    15\n",
      "dtype: int64\n",
      "Indore    Yet to start\n",
      "Delhi     Yet to start\n",
      "Simla     Yet to start\n",
      "dtype: object\n"
     ]
    }
   ],
   "source": [
    "medalsWon = pd.Series(10, index = range(0,1))\n",
    "medal2 = pd.Series(15, index = range(1,6,2))\n",
    "ser2 = pd.Series('Yet to start', index = ['Indore', 'Delhi', 'Simla'])\n",
    "print(medalsWon)\n",
    "print(medal2)\n",
    "print(ser2)\n"
   ]
  },
  {
   "cell_type": "markdown",
   "id": "dcb05302-60d1-49d2-975f-a1829d29557b",
   "metadata": {},
   "source": [
    "Example 9: Write a program to creata a series object that stores the initial budget allocated(50000/- each) for the four quarters of the year: Qtr1, Qtr2, Qtr3, Qtr4."
   ]
  },
  {
   "cell_type": "code",
   "execution_count": 131,
   "id": "6b826f3e-a534-4cf9-9b78-b588c891adea",
   "metadata": {},
   "outputs": [
    {
     "name": "stdout",
     "output_type": "stream",
     "text": [
      "Qtr1    50000\n",
      "Qtr2    50000\n",
      "Qtr3    50000\n",
      "Qtr4    50000\n",
      "dtype: int64\n"
     ]
    }
   ],
   "source": [
    "s1 = pd.Series(50000, index = ['Qtr1','Qtr2','Qtr3','Qtr4'])\n",
    "print(s1)"
   ]
  },
  {
   "cell_type": "markdown",
   "id": "474ad199-c3c7-45ae-a332-312b2f81f5d7",
   "metadata": {},
   "source": [
    "Example 10: Total no. of meadals won is 200 in the Inter University games held every alternate year. Write code to create a series object that stores these medals for games to be held in the decade 2020-\n",
    "2029."
   ]
  },
  {
   "cell_type": "code",
   "execution_count": 132,
   "id": "5932b236-881d-4905-900a-98766dd5279c",
   "metadata": {},
   "outputs": [
    {
     "name": "stdout",
     "output_type": "stream",
     "text": [
      "2020    200\n",
      "2022    200\n",
      "2024    200\n",
      "2026    200\n",
      "2028    200\n",
      "dtype: int64\n"
     ]
    }
   ],
   "source": [
    "s1 = pd.Series(200, index = range(2020,2029,2))\n",
    "print(s1)"
   ]
  },
  {
   "cell_type": "markdown",
   "id": "c9317a35-777d-4035-9f7a-dc500bf28e82",
   "metadata": {
    "jp-MarkdownHeadingCollapsed": true
   },
   "source": [
    "### Creating Series Objects - Additional Functionality"
   ]
  },
  {
   "cell_type": "code",
   "execution_count": 8,
   "id": "edd4d4d9-7e14-4f76-bb62-74711dd06d04",
   "metadata": {
    "scrolled": true
   },
   "outputs": [
    {
     "name": "stdout",
     "output_type": "stream",
     "text": [
      "0    6.50\n",
      "1     NaN\n",
      "2    2.34\n",
      "dtype: float64\n"
     ]
    }
   ],
   "source": [
    "obj1 = pd.Series([6.5,np.NaN, 2.34])\n",
    "print(obj1)\n"
   ]
  },
  {
   "cell_type": "code",
   "execution_count": 134,
   "id": "792f19fa-527f-432d-af43-5bff251c8acc",
   "metadata": {},
   "outputs": [
    {
     "name": "stdout",
     "output_type": "stream",
     "text": [
      "Jan    31.0\n",
      "Feb    28.0\n",
      "Mar    31.0\n",
      "Apr    30.0\n",
      "dtype: float64\n",
      "A    32\n",
      "B    34\n",
      "C    35\n",
      "dtype: int64\n",
      "Jan    31\n",
      "Feb    28\n",
      "Mar    31\n",
      "Apr    30\n",
      "dtype: int64\n",
      "a     1\n",
      "b     4\n",
      "c     7\n",
      "d    10\n",
      "e    13\n",
      "dtype: int64\n"
     ]
    }
   ],
   "source": [
    "import pandas as pd\n",
    "arr = [31,28,31,30]\n",
    "mon = ['Jan','Feb','Mar','Apr']\n",
    "obj5 = pd.Series(data = arr, index = mon, dtype = np.float64)\n",
    "print(obj5)\n",
    "obj2 = pd.Series(data = [32,34,35], index = ['A','B','C'])\n",
    "print(obj2)\n",
    "obj3 = pd.Series(arr, index = mon)\n",
    "s3 = pd.Series(range(1,15,3), index = [x for x in 'abcde'])\n",
    "print(obj3)\n",
    "print(s3)"
   ]
  },
  {
   "cell_type": "markdown",
   "id": "45d1dd01-babc-4273-b168-241fe462edca",
   "metadata": {},
   "source": [
    "Example 11: A python list namely section stores the section names ('A','B','C','D') of class 12 in your schoool. Another contri stores the contribution made by these students to a charity fund endorsed by the school. Write code to create a series object that stores as the values and the section names as the indexes"
   ]
  },
  {
   "cell_type": "code",
   "execution_count": 135,
   "id": "ed40114e-513e-4b07-8d46-932340e3adec",
   "metadata": {},
   "outputs": [
    {
     "name": "stdout",
     "output_type": "stream",
     "text": [
      "A    6700\n",
      "B    5600\n",
      "C    5000\n",
      "D    5200\n",
      "dtype: int64\n"
     ]
    }
   ],
   "source": [
    "section = ['A','B','C','D']\n",
    "contri = [6700,5600,5000,5200]\n",
    "s11 = pd.Series(data = contri, index = section)\n",
    "print(s11)"
   ]
  },
  {
   "cell_type": "code",
   "execution_count": 136,
   "id": "951beedd-c198-405c-9f59-1edf0451190d",
   "metadata": {},
   "outputs": [
    {
     "name": "stdout",
     "output_type": "stream",
     "text": [
      "[ 9 10 11 12]\n",
      "9     18\n",
      "10    20\n",
      "11    22\n",
      "12    24\n",
      "dtype: int64\n",
      "9      81\n",
      "10    100\n",
      "11    121\n",
      "12    144\n",
      "dtype: int64\n"
     ]
    }
   ],
   "source": [
    "a = np.arange(9,13)\n",
    "print(a)\n",
    "s2 = pd.Series(index = a, data = a*2 )\n",
    "print(s2)\n",
    "s3 = pd.Series(index = a, data = a**2 )\n",
    "print(s3)"
   ]
  },
  {
   "cell_type": "code",
   "execution_count": 137,
   "id": "05a172ee-c3dc-405b-87a8-2ddcb46ac2bd",
   "metadata": {},
   "outputs": [
    {
     "name": "stdout",
     "output_type": "stream",
     "text": [
      "0     9\n",
      "1    10\n",
      "2    11\n",
      "3    12\n",
      "4     9\n",
      "5    10\n",
      "6    11\n",
      "7    12\n",
      "dtype: int64\n"
     ]
    }
   ],
   "source": [
    "lst = [9,10,11,12]\n",
    "obj8 = pd.Series(data = (2 * lst))\n",
    "print(obj8)"
   ]
  },
  {
   "cell_type": "markdown",
   "id": "a3173433-5121-4651-bd5e-c7144020d992",
   "metadata": {},
   "source": [
    "Example 12: Write a program to creaye a series object that stores the contribution amount as the values and the section names as the indexes with datatype as float32."
   ]
  },
  {
   "cell_type": "code",
   "execution_count": 9,
   "id": "ecf80ba2-cb8e-4acc-9e63-0c707e3b15f9",
   "metadata": {},
   "outputs": [
    {
     "name": "stdout",
     "output_type": "stream",
     "text": [
      "A    13400.0\n",
      "B    11200.0\n",
      "C    10000.0\n",
      "D    10400.0\n",
      "E        NaN\n",
      "dtype: float32\n"
     ]
    }
   ],
   "source": [
    "import pandas as pd\n",
    "import numpy as np\n",
    "section = ['A','B','C','D','E']\n",
    "contri = np.array([6700,5600,5000,5200,np.NaN])\n",
    "s12 = pd.Series(data = contri*2, index = section, dtype = np.float32)\n",
    "print(s12)\n"
   ]
  },
  {
   "cell_type": "code",
   "execution_count": 139,
   "id": "72bae88f-46a7-4789-bca9-f0d93cdd3fd1",
   "metadata": {},
   "outputs": [
    {
     "name": "stdout",
     "output_type": "stream",
     "text": [
      "[ 2.75 12.5  22.25 32.   41.75]\n",
      "a     2.75\n",
      "b    12.50\n",
      "a    22.25\n",
      "a    32.00\n",
      "b    41.75\n",
      "dtype: float64\n"
     ]
    }
   ],
   "source": [
    "val = np.arange(2.75,50,9.75)\n",
    "print(val)\n",
    "array = ([2.75,12.5,22.25,32.  ,41.75])\n",
    "ob3 = pd.Series(val, index = ['a','b','a','a','b'])\n",
    "print(ob3)"
   ]
  },
  {
   "cell_type": "markdown",
   "id": "ddcf9474-61ce-4d1d-976d-1560305e84e5",
   "metadata": {},
   "source": [
    "Appendix-I"
   ]
  },
  {
   "cell_type": "code",
   "execution_count": 140,
   "id": "39193183-a9d6-4bcb-aa48-4f5f322e6cc2",
   "metadata": {},
   "outputs": [
    {
     "name": "stdout",
     "output_type": "stream",
     "text": [
      "0    11\n",
      "1    12\n",
      "2    13\n",
      "dtype: int64\n"
     ]
    }
   ],
   "source": [
    "s1 = pd.Series([11,12,13])\n",
    "print(s1)"
   ]
  },
  {
   "cell_type": "code",
   "execution_count": 141,
   "id": "66d898c7-0eaa-448d-b4fc-4569a0927ec2",
   "metadata": {},
   "outputs": [
    {
     "name": "stdout",
     "output_type": "stream",
     "text": [
      "0    11.1\n",
      "1    12.2\n",
      "2    13.3\n",
      "dtype: float64\n"
     ]
    }
   ],
   "source": [
    "a2 = pd.Series([11.1,12.2,13.3])\n",
    "print(a2)"
   ]
  },
  {
   "cell_type": "code",
   "execution_count": 142,
   "id": "63cf8751-a5a1-45e1-8f10-a5e4ca688e4a",
   "metadata": {},
   "outputs": [
    {
     "name": "stdout",
     "output_type": "stream",
     "text": [
      "0    11.0\n",
      "1    12.2\n",
      "2    13.3\n",
      "dtype: float64\n"
     ]
    }
   ],
   "source": [
    "a3 = pd.Series([11,12.2,13.3])\n",
    "print(a3)"
   ]
  },
  {
   "cell_type": "code",
   "execution_count": 143,
   "id": "a30e6aa0-a367-4711-a64f-6e26ee2a51c7",
   "metadata": {},
   "outputs": [
    {
     "name": "stdout",
     "output_type": "stream",
     "text": [
      "0      11\n",
      "1    12.2\n",
      "2    13.3\n",
      "3     Hii\n",
      "dtype: object\n"
     ]
    }
   ],
   "source": [
    "a4 = pd.Series([11,12.2,13.3, \"Hii\"])\n",
    "print(a4)"
   ]
  },
  {
   "cell_type": "code",
   "execution_count": 144,
   "id": "ca6cd3a1-ae22-46d8-a41d-08920c8d8412",
   "metadata": {},
   "outputs": [
    {
     "name": "stdout",
     "output_type": "stream",
     "text": [
      "Jan    31.0\n",
      "Feb    28.0\n",
      "Mar    31.0\n",
      "Apr    30.0\n",
      "dtype: float64\n",
      "Index(['Jan', 'Feb', 'Mar', 'Apr'], dtype='object')\n",
      "[31. 28. 31. 30.]\n"
     ]
    }
   ],
   "source": [
    "obj5 = pd.Series(data = arr, index = mon, dtype = np.float64)\n",
    "print(obj5)\n",
    "print(obj5.index)\n",
    "print(obj5.values)"
   ]
  },
  {
   "cell_type": "code",
   "execution_count": 145,
   "id": "df0cc4a1-a51d-4a18-9f07-3ce56bb1a658",
   "metadata": {},
   "outputs": [
    {
     "name": "stdout",
     "output_type": "stream",
     "text": [
      "0    3.5\n",
      "1    5.0\n",
      "2    6.5\n",
      "3    8.0\n",
      "dtype: float64\n",
      "0    6.50\n",
      "1     NaN\n",
      "2    2.34\n",
      "dtype: float64\n"
     ]
    }
   ],
   "source": [
    "obj2 = pd.Series([3.5,5.,6.5,8.])\n",
    "print(obj2)\n",
    "obj3 = pd.Series([6.5,np.NaN,2.34])\n",
    "print(obj3)"
   ]
  },
  {
   "cell_type": "markdown",
   "id": "9ebcca34-4a9b-4104-a188-f81f60e8d7be",
   "metadata": {},
   "source": [
    "Setting the index name."
   ]
  },
  {
   "cell_type": "code",
   "execution_count": 146,
   "id": "f615d1cd-decd-4d0c-8ed4-0ebac40d4e0d",
   "metadata": {},
   "outputs": [
    {
     "name": "stdout",
     "output_type": "stream",
     "text": [
      "a    1\n",
      "b    2\n",
      "c    3\n",
      "dtype: int64\n",
      "NewId\n",
      "a    1\n",
      "b    2\n",
      "c    3\n",
      "dtype: int64\n"
     ]
    }
   ],
   "source": [
    "ser1 = pd.Series([1,2,3], index = ['a','b','c'])\n",
    "print(ser1)\n",
    "ser1.index.name = \"NewId\"\n",
    "print(ser1)"
   ]
  },
  {
   "cell_type": "markdown",
   "id": "2e59a5aa-b348-4cc3-8e27-8cc9f951ea04",
   "metadata": {},
   "source": [
    "Setting Series Name"
   ]
  },
  {
   "cell_type": "code",
   "execution_count": 147,
   "id": "c6593a2c-a9a9-4539-9008-18c035fc2093",
   "metadata": {},
   "outputs": [
    {
     "name": "stdout",
     "output_type": "stream",
     "text": [
      "NewId\n",
      "a    1\n",
      "b    2\n",
      "c    3\n",
      "dtype: int64\n",
      "NewId\n",
      "a    1\n",
      "b    2\n",
      "c    3\n",
      "Name: Mys, dtype: int64\n",
      "Mys\n"
     ]
    }
   ],
   "source": [
    "print(ser1)\n",
    "ser1.name = \"Mys\"\n",
    "print(ser1)\n",
    "print(ser1.name)"
   ]
  },
  {
   "cell_type": "markdown",
   "id": "e1a1c855-3416-4e0c-ad87-408b1aeadc2f",
   "metadata": {},
   "source": [
    "Retrieving Data Type (dtype) and Size of Type(itemsize) and Size"
   ]
  },
  {
   "cell_type": "code",
   "execution_count": 148,
   "id": "54e6059a-1868-4896-a896-e751c005ce2e",
   "metadata": {},
   "outputs": [
    {
     "name": "stdout",
     "output_type": "stream",
     "text": [
      "float64\n",
      "4\n",
      "<class 'pandas.core.series.Series'>\n",
      "(4,) (3,)\n"
     ]
    }
   ],
   "source": [
    "print(obj2.dtype)\n",
    "print(obj2.size)\n",
    "print(type(obj2))\n",
    "\n",
    "print(obj2.shape, obj3.shape)\n"
   ]
  },
  {
   "cell_type": "markdown",
   "id": "60497d16-d180-4f7f-bacc-b6cab8c162ae",
   "metadata": {},
   "source": [
    "Retrieving Dimension (number of axis: ndim attribute)\n",
    "Size (size attribute) and Number of Bytes (nbytes attribute)"
   ]
  },
  {
   "cell_type": "code",
   "execution_count": 149,
   "id": "eeb36244-87e7-494c-b1d2-62d61b392c33",
   "metadata": {},
   "outputs": [
    {
     "name": "stdout",
     "output_type": "stream",
     "text": [
      "1\n"
     ]
    }
   ],
   "source": [
    "print(obj2.ndim)"
   ]
  },
  {
   "cell_type": "code",
   "execution_count": 150,
   "id": "c1dd8c2e-2658-418c-b68d-370d0c36dd0d",
   "metadata": {},
   "outputs": [
    {
     "name": "stdout",
     "output_type": "stream",
     "text": [
      "4 3\n"
     ]
    }
   ],
   "source": [
    "print(obj2.size, obj3.size)"
   ]
  },
  {
   "cell_type": "code",
   "execution_count": 151,
   "id": "efe9572b-a7d7-4324-8bf0-1f70f461fbf3",
   "metadata": {},
   "outputs": [
    {
     "name": "stdout",
     "output_type": "stream",
     "text": [
      "32 24\n"
     ]
    }
   ],
   "source": [
    "print(obj2.nbytes, obj3.nbytes)"
   ]
  },
  {
   "cell_type": "markdown",
   "id": "813b2175-c10f-4661-83a6-9b17a02203aa",
   "metadata": {},
   "source": [
    "Checking Emptyness (empty attributes) and presence of NaNs (hasnans attribute)."
   ]
  },
  {
   "cell_type": "code",
   "execution_count": 152,
   "id": "e7ba4001-15c0-433f-9179-0bb0124a9ede",
   "metadata": {},
   "outputs": [
    {
     "name": "stdout",
     "output_type": "stream",
     "text": [
      "True\n"
     ]
    }
   ],
   "source": [
    "obj1 = pd.Series()\n",
    "print(obj1.empty)"
   ]
  },
  {
   "cell_type": "code",
   "execution_count": 153,
   "id": "4c5d0a2f-095b-4c1b-9087-fe9cedf70dc7",
   "metadata": {},
   "outputs": [
    {
     "name": "stdout",
     "output_type": "stream",
     "text": [
      "False\n"
     ]
    }
   ],
   "source": [
    "print(obj2.hasnans) # has NaN's"
   ]
  },
  {
   "cell_type": "code",
   "execution_count": 154,
   "id": "1bfdc5de-bd58-49b9-8467-e38dda30717a",
   "metadata": {},
   "outputs": [
    {
     "name": "stdout",
     "output_type": "stream",
     "text": [
      "4\n"
     ]
    }
   ],
   "source": [
    "print(obj2.count())"
   ]
  },
  {
   "cell_type": "code",
   "execution_count": 155,
   "id": "a06cf762-eb36-4f56-b92d-6ab11a9eee4a",
   "metadata": {},
   "outputs": [
    {
     "name": "stdout",
     "output_type": "stream",
     "text": [
      "2\n"
     ]
    }
   ],
   "source": [
    "print(obj3.count())"
   ]
  },
  {
   "cell_type": "code",
   "execution_count": 156,
   "id": "1499550b-7665-4c83-a9e0-b861374dd44d",
   "metadata": {},
   "outputs": [
    {
     "name": "stdout",
     "output_type": "stream",
     "text": [
      "3\n"
     ]
    }
   ],
   "source": [
    "print(len(obj3))"
   ]
  },
  {
   "cell_type": "markdown",
   "id": "4dc7f6de-a57b-4ce4-8c4f-0502df93ed07",
   "metadata": {},
   "source": [
    "Example 13: Consider the two series objects s11 and s12 that you created in example 11 and 12 respectively. Print the attribute od both these objects in a report  form as shown\n",
    "below."
   ]
  },
  {
   "cell_type": "code",
   "execution_count": 1,
   "id": "2560309a-412d-410b-8090-f815383459d1",
   "metadata": {},
   "outputs": [
    {
     "name": "stdout",
     "output_type": "stream",
     "text": [
      "A    6700\n",
      "B    5600\n",
      "C    5000\n",
      "D    5200\n",
      "dtype: int64\n",
      "A    13400.0\n",
      "B    11200.0\n",
      "C    10000.0\n",
      "D    10400.0\n",
      "E        NaN\n",
      "dtype: float32\n",
      "Data type (.dtype)      :\t int64 \t\t float32\n",
      "Shape (.shape)          :\t (4,) \t\t (5,)\n",
      "No. of bytes (.nbytes)  :\t 32 \t\t 20\n",
      "No.of dimension (.ndim) :\t 1 \t\t 1\n",
      "Item size (.itemsize)   :\t 4 \t\t 5\n",
      "Has NaNs (.hasnans)     :\t False \t\t True\n",
      "Empty? (.empty)         :\t False \t\t False\n"
     ]
    }
   ],
   "source": [
    "import pandas as pd\n",
    "import numpy as np\n",
    "section = ['A','B','C','D']\n",
    "contri = [6700,5600,5000,5200]\n",
    "s14 = pd.Series(data = contri, index = section)\n",
    "print(s14)\n",
    "section = ['A','B','C','D','E']\n",
    "contri = np.array([6700,5600,5000,5200,np.NaN])\n",
    "s15 = pd.Series(data = contri*2, index = section, dtype = np.float32)\n",
    "print(s15)\n",
    "print(\"Data type (.dtype)      :\\t\", s14.dtype, '\\t\\t', s15.dtype)\n",
    "print(\"Shape (.shape)          :\\t\", s14.shape, '\\t\\t', s15.shape)\n",
    "print(\"No. of bytes (.nbytes)  :\\t\", s14.nbytes, '\\t\\t', s15.nbytes)\n",
    "print(\"No.of dimension (.ndim) :\\t\", s14.ndim, '\\t\\t', s15.ndim)\n",
    "print(\"Item size (.itemsize)   :\\t\", s14.size, '\\t\\t', s15.size) # There is no property known as itemsize hence using size.\n",
    "print(\"Has NaNs (.hasnans)     :\\t\", s14.hasnans, '\\t\\t', s15.hasnans)\n",
    "print(\"Empty? (.empty)         :\\t\", s14.empty, '\\t\\t', s15.empty)\n",
    "\n"
   ]
  },
  {
   "cell_type": "markdown",
   "id": "a1dc3b03-dd94-4a47-aa4a-9d88685128b7",
   "metadata": {
    "jp-MarkdownHeadingCollapsed": true
   },
   "source": [
    "#### Conda Upgrade :: Ignore\n",
    "\n"
   ]
  },
  {
   "cell_type": "markdown",
   "id": "c56c4dc5-a81f-40dc-91f5-107251a4d568",
   "metadata": {},
   "source": [
    "pip install -U %%markdown\n"
   ]
  },
  {
   "cell_type": "markdown",
   "id": "c5db9afc-3015-4f5e-a215-1c6346ee3c60",
   "metadata": {},
   "source": [
    "pip install -U jedi-language-server\n"
   ]
  },
  {
   "cell_type": "markdown",
   "id": "87061b54-d31a-4461-bedf-65421c556136",
   "metadata": {
    "scrolled": true
   },
   "source": [
    "conda install -c conda-forge jedi-language-server\n"
   ]
  },
  {
   "cell_type": "markdown",
   "id": "e2e01849-af00-4d7b-8c9b-c6c52a9b29d3",
   "metadata": {},
   "source": [
    "conda update -n base -c conda-forge conda\n"
   ]
  },
  {
   "cell_type": "markdown",
   "id": "fae7490f-f9ef-43f0-b96b-00d8f1f794c5",
   "metadata": {},
   "source": [
    "### Accessing a Series object and its elements.\n"
   ]
  },
  {
   "cell_type": "markdown",
   "id": "724a379b-9187-4d35-8ea1-c0f16b598283",
   "metadata": {},
   "source": [
    "import pandas as pd\n",
    "dhirendra = pd.DataFrame()"
   ]
  },
  {
   "cell_type": "code",
   "execution_count": 1,
   "id": "354ffcdd-e976-42ae-a7ff-30d12ed402d2",
   "metadata": {},
   "outputs": [
    {
     "name": "stdout",
     "output_type": "stream",
     "text": [
      "Feb    28\n",
      "Jan    31\n",
      "Mar    31\n",
      "dtype: int64\n",
      "28\n"
     ]
    }
   ],
   "source": [
    "import pandas as pd\n",
    "s1 = [28,31,31]\n",
    "s2 = ['Feb','Jan','Mar']\n",
    "obj5 = pd.Series(data = s1, index = s2)\n",
    "print(obj5)\n",
    "print(obj5['Feb'])\n"
   ]
  },
  {
   "cell_type": "code",
   "execution_count": 2,
   "id": "98a81c37-3671-43b6-98af-749b90a55f01",
   "metadata": {},
   "outputs": [
    {
     "name": "stdout",
     "output_type": "stream",
     "text": [
      "0    11\n",
      "1    14\n",
      "2    17\n",
      "3    20\n",
      "4    23\n",
      "dtype: int64\n",
      "20\n"
     ]
    }
   ],
   "source": [
    "s1 = [11,14,17,20,23]\n",
    "s2 = [0,1,2,3,4]\n",
    "obj6 = pd.Series(data = s1, index = s2)\n",
    "print(obj6)\n",
    "print(obj6[3])\n"
   ]
  },
  {
   "cell_type": "code",
   "execution_count": 3,
   "id": "e99756eb-a59a-4014-895b-d7d161a26042",
   "metadata": {
    "scrolled": true
   },
   "outputs": [
    {
     "name": "stdout",
     "output_type": "stream",
     "text": [
      "9     18\n",
      "10    20\n",
      "11    22\n",
      "12    24\n",
      "dtype: int64\n",
      "18\n"
     ]
    }
   ],
   "source": [
    "s1 = [18,20,22,24]\n",
    "s2 = [9,10,11,12]\n",
    "obj7 = pd.Series(data = s1, index = s2)\n",
    "print(obj7)\n",
    "print(obj7[9])\n"
   ]
  },
  {
   "cell_type": "code",
   "execution_count": 10,
   "id": "0917aa5f-b889-45ad-984e-0736b3bb0a6a",
   "metadata": {},
   "outputs": [
    {
     "name": "stdout",
     "output_type": "stream",
     "text": [
      "9      81\n",
      "10    100\n",
      "11    121\n",
      "12    144\n",
      "dtype: int64\n",
      "121\n"
     ]
    }
   ],
   "source": [
    "s1 = [81,100,121,144]\n",
    "s2 = [9,10,11,12]\n",
    "obj8 = pd.Series(data = s1, index = s2)\n",
    "print(obj8)\n",
    "print(obj8[11])"
   ]
  },
  {
   "cell_type": "code",
   "execution_count": 31,
   "id": "f4de2dac-d764-4d51-bba5-3056992ef493",
   "metadata": {},
   "outputs": [
    {
     "name": "stdout",
     "output_type": "stream",
     "text": [
      "a     2.75\n",
      "b    12.50\n",
      "a    22.25\n",
      "a    32.00\n",
      "b    41.75\n",
      "dtype: float64\n",
      "b    12.50\n",
      "b    41.75\n",
      "dtype: float64\n"
     ]
    }
   ],
   "source": [
    "import pandas as pd\n",
    "s = [2.75,12.50,22.25,32.00,41.75]\n",
    "r = ['a','b','a','a','b']\n",
    "obj3 = pd.Series(data = s, index = r)\n",
    "print(obj3)\n",
    "print(obj3['b'])"
   ]
  },
  {
   "cell_type": "code",
   "execution_count": 32,
   "id": "ea8ee68b-cf3d-4574-b130-f93cae6f1ef1",
   "metadata": {},
   "outputs": [
    {
     "name": "stdout",
     "output_type": "stream",
     "text": [
      "a     2.75\n",
      "b    12.50\n",
      "a    22.25\n",
      "a    32.00\n",
      "b    41.75\n",
      "dtype: float64\n"
     ]
    }
   ],
   "source": [
    "print(obj3)"
   ]
  },
  {
   "cell_type": "code",
   "execution_count": 9,
   "id": "2d1d19a2-5452-4475-881c-d5614d3efe25",
   "metadata": {},
   "outputs": [
    {
     "name": "stdout",
     "output_type": "stream",
     "text": [
      "0     1.50\n",
      "1    12.75\n",
      "2    24.00\n",
      "3    35.25\n",
      "4    46.50\n",
      "dtype: float64\n",
      "0     1.85\n",
      "1    12.75\n",
      "2    24.00\n",
      "3    35.25\n",
      "4    46.50\n",
      "dtype: float64\n",
      "0     1.85\n",
      "1    12.75\n",
      "2   -15.75\n",
      "3   -15.75\n",
      "4    46.50\n",
      "dtype: float64\n"
     ]
    }
   ],
   "source": [
    "import pandas as pd\n",
    "s =[1.50,12.75,24.00,35.25,46.50]\n",
    "v = [0,1,2,3,4]\n",
    "obj1 = pd.Series(data = s, index = v)\n",
    "print(obj1)\n",
    "obj1[0] = 1.85\n",
    "print(obj1)\n",
    "obj1[2:4] = -15.75\n",
    "print(obj1)"
   ]
  },
  {
   "cell_type": "code",
   "execution_count": 12,
   "id": "bb9df55d-5fe6-4c1e-903c-854b902143b5",
   "metadata": {
    "scrolled": true
   },
   "outputs": [
    {
     "name": "stdout",
     "output_type": "stream",
     "text": [
      "a     1.50\n",
      "b    12.75\n",
      "c    24.00\n",
      "d    35.25\n",
      "e    46.50\n",
      "dtype: float64\n",
      "a      1.5\n",
      "b    380.0\n",
      "c     24.0\n",
      "d    380.0\n",
      "e     46.5\n",
      "dtype: float64\n"
     ]
    }
   ],
   "source": [
    "a = [1.50,12.75,24.00,35.25,46.50]\n",
    "b = ['a','b','c','d','e']\n",
    "obj2 = pd.Series(data = a, index = b)\n",
    "print(obj2)\n",
    "\n",
    "obj2[1:5:2] = 380\n",
    "print(obj2)"
   ]
  },
  {
   "cell_type": "markdown",
   "id": "1ee9f960-e87d-4637-b32a-eb9dbff72019",
   "metadata": {},
   "source": [
    "Renaming Indexes"
   ]
  },
  {
   "cell_type": "code",
   "execution_count": 16,
   "id": "f218aad8-20c5-41f5-92fe-11b31dbd9ef8",
   "metadata": {},
   "outputs": [
    {
     "name": "stdout",
     "output_type": "stream",
     "text": [
      "a     1.50\n",
      "b    12.75\n",
      "c    24.00\n",
      "d    35.25\n",
      "e    46.50\n",
      "dtype: float64\n",
      "v     1.50\n",
      "w    12.75\n",
      "x    24.00\n",
      "y    35.25\n",
      "z    46.50\n",
      "dtype: float64\n"
     ]
    }
   ],
   "source": [
    "import pandas as pd\n",
    "a = [1.50,12.75,24.00,35.25,46.50]\n",
    "b = ['a','b','c','d','e']\n",
    "obj2 = pd.Series(data = a, index = b)\n",
    "print(obj2)\n",
    "\n",
    "#### Syntax: <Object>.index = <new index array>\n",
    "obj2.index = ['v','w','x','y','z']\n",
    "print(obj2)"
   ]
  },
  {
   "cell_type": "markdown",
   "id": "a3bfd04d-8fa3-4eee-a7f5-860efe929be7",
   "metadata": {},
   "source": [
    "Example 15: Write code to modify the amount of section A as 7600and for sections c and D as 7000. Print the changed object."
   ]
  },
  {
   "cell_type": "code",
   "execution_count": 19,
   "id": "f6433849-53cf-4d76-8d10-521db51839fb",
   "metadata": {},
   "outputs": [
    {
     "name": "stdout",
     "output_type": "stream",
     "text": [
      "A    7600\n",
      "B    5600\n",
      "C    5000\n",
      "D    5200\n",
      "dtype: int64\n",
      "Series object after modifying amounts:\n",
      "A    7600\n",
      "B    5600\n",
      "C    7000\n",
      "D    7000\n",
      "dtype: int64\n"
     ]
    },
    {
     "name": "stderr",
     "output_type": "stream",
     "text": [
      "/tmp/ipykernel_23896/2109743348.py:8: FutureWarning: Series.__setitem__ treating keys as positions is deprecated. In a future version, integer keys will always be treated as labels (consistent with DataFrame behavior). To set a value by position, use `ser.iloc[pos] = value`\n",
      "  s13[0] = 7600\n"
     ]
    }
   ],
   "source": [
    "import pandas as pd\n",
    "s = [7600,5600,5000,5200]\n",
    "a = ['A','B','C','D']\n",
    "s13 = pd.Series(data = s, index = a)\n",
    "print(s13)\n",
    "\n",
    "### after modifying \n",
    "s13[0] = 7600\n",
    "s13[2: ] = 7000\n",
    "print(\"Series object after modifying amounts:\")\n",
    "print(s13)\n",
    "\n",
    "### use `ser.iloc[pos] = value for future****\n"
   ]
  },
  {
   "cell_type": "markdown",
   "id": "ee4ce11b-0d0d-45cc-ab50-edcaf965dae4",
   "metadata": {},
   "source": [
    "The head() and tail() Functions"
   ]
  },
  {
   "cell_type": "code",
   "execution_count": 27,
   "id": "b75f010c-012c-43c8-8399-f7293078d24d",
   "metadata": {
    "scrolled": true
   },
   "outputs": [
    {
     "name": "stdout",
     "output_type": "stream",
     "text": [
      "0      2.75\n",
      "1      7.60\n",
      "2     12.45\n",
      "3     17.30\n",
      "4     22.15\n",
      "5     27.00\n",
      "6     31.85\n",
      "7     36.70\n",
      "8     41.55\n",
      "9     46.40\n",
      "10    51.25\n",
      "dtype: float64\n",
      "0     2.75\n",
      "1     7.60\n",
      "2    12.45\n",
      "3    17.30\n",
      "4    22.15\n",
      "dtype: float64\n",
      "6     31.85\n",
      "7     36.70\n",
      "8     41.55\n",
      "9     46.40\n",
      "10    51.25\n",
      "dtype: float64\n",
      "4     22.15\n",
      "5     27.00\n",
      "6     31.85\n",
      "7     36.70\n",
      "8     41.55\n",
      "9     46.40\n",
      "10    51.25\n",
      "dtype: float64\n",
      "0     2.75\n",
      "1     7.60\n",
      "2    12.45\n",
      "3    17.30\n",
      "4    22.15\n",
      "5    27.00\n",
      "6    31.85\n",
      "dtype: float64\n"
     ]
    }
   ],
   "source": [
    "### Syntax: <pandas object>.head([n])\n",
    "### Syntax: <pandas object>.tail([n])\n",
    "import pandas as pd\n",
    "a = [2.75,7.60,12.45,17.30,22.15,27.00,31.85,36.70,41.55,46.40,51.25]\n",
    "b = [0,1,2,3,4,5,6,7,8,9,10]\n",
    "c = pd.Series(data = a, index = b)\n",
    "print(c)\n",
    "print(c.head())\n",
    "print(c.tail())\n",
    "print(c.tail(7))\n",
    "print(c.head(7))"
   ]
  },
  {
   "cell_type": "markdown",
   "id": "d6d910c2-cfca-4a76-ba5d-c1ae9b069116",
   "metadata": {},
   "source": [
    "Example 16: A Series Object trdata consist of around 2500 rows of data. Write a program to print the following details."
   ]
  },
  {
   "cell_type": "code",
   "execution_count": null,
   "id": "67b9e8bf-f21b-4901-83f2-104f465ddd95",
   "metadata": {},
   "outputs": [],
   "source": [
    "## (i) First 100 rows of data    (ii) Last 5 rows of data\n",
    "import pandas as pd \n",
    "# data should be here\n",
    "print(trdata.head(100)) \n",
    "print(trdata.tail())"
   ]
  },
  {
   "cell_type": "markdown",
   "id": "27a8dadd-5bbb-4647-81e6-79ee5ce9ebd8",
   "metadata": {},
   "source": [
    "Vector Operations on Series objects"
   ]
  },
  {
   "cell_type": "code",
   "execution_count": 29,
   "id": "dd70e3c2-2649-4e97-a0f6-ae73a2144e87",
   "metadata": {},
   "outputs": [
    {
     "name": "stdout",
     "output_type": "stream",
     "text": [
      "a     1.50\n",
      "b    12.75\n",
      "c    24.00\n",
      "d    35.25\n",
      "e    46.50\n",
      "dtype: float64\n",
      "a     3.50\n",
      "b    14.75\n",
      "c    26.00\n",
      "d    37.25\n",
      "e    48.50\n",
      "dtype: float64\n"
     ]
    }
   ],
   "source": [
    "import pandas as pd\n",
    "s = [1.50,12.75,24.00,35.25,46.50] \n",
    "v = ['a','b','c','d','e']\n",
    "u = pd.Series(data = s, index = v) \n",
    "print(u)\n",
    "print(u+2)"
   ]
  },
  {
   "cell_type": "code",
   "execution_count": 30,
   "id": "c1e87660-bba9-4814-94ef-2acf7e5beb4d",
   "metadata": {},
   "outputs": [
    {
     "name": "stdout",
     "output_type": "stream",
     "text": [
      "a     1.50\n",
      "b    12.75\n",
      "c    24.00\n",
      "d    35.25\n",
      "e    46.50\n",
      "dtype: float64\n",
      "a      4.50\n",
      "b     38.25\n",
      "c     72.00\n",
      "d    105.75\n",
      "e    139.50\n",
      "dtype: float64\n"
     ]
    }
   ],
   "source": [
    "import pandas as pd\n",
    "s = [1.50,12.75,24.00,35.25,46.50] \n",
    "v = ['a','b','c','d','e']\n",
    "u = pd.Series(data = s, index = v) \n",
    "print(u)\n",
    "print(u*3)"
   ]
  },
  {
   "cell_type": "code",
   "execution_count": 2,
   "id": "ff90b18c-a795-4cd3-b0a7-0878315af63b",
   "metadata": {},
   "outputs": [
    {
     "name": "stdout",
     "output_type": "stream",
     "text": [
      "a     1.50\n",
      "b    12.75\n",
      "c    24.00\n",
      "d    35.25\n",
      "e    46.50\n",
      "dtype: float64\n",
      "a    False\n",
      "b    False\n",
      "c     True\n",
      "d     True\n",
      "e     True\n",
      "dtype: bool\n"
     ]
    }
   ],
   "source": [
    "import pandas as pd\n",
    "s = [1.50,12.75,24.00,35.25,46.50] \n",
    "v = ['a','b','c','d','e']\n",
    "u = pd.Series(data = s, index = v) \n",
    "print(u)\n",
    "print(u>15)"
   ]
  },
  {
   "cell_type": "code",
   "execution_count": 3,
   "id": "cd593d15-d57c-4bc8-9733-d54cca0f7814",
   "metadata": {
    "scrolled": true
   },
   "outputs": [
    {
     "name": "stdout",
     "output_type": "stream",
     "text": [
      "a     1.50\n",
      "b    12.75\n",
      "c    24.00\n",
      "d    35.25\n",
      "e    46.50\n",
      "dtype: float64\n",
      "a       2.2500\n",
      "b     162.5625\n",
      "c     576.0000\n",
      "d    1242.5625\n",
      "e    2162.2500\n",
      "dtype: float64\n"
     ]
    }
   ],
   "source": [
    "import pandas as pd\n",
    "a = [1.50,12.75,24.00,35.25,46.50]\n",
    "b = ['a','b','c','d','e']\n",
    "obj2 = pd.Series(data = a, index = b)\n",
    "print(obj2)\n",
    "print(u**2)"
   ]
  },
  {
   "cell_type": "markdown",
   "id": "0af58272-04e5-4632-8b18-053a3f92838b",
   "metadata": {},
   "source": [
    "Arithmetic on Series objects"
   ]
  },
  {
   "cell_type": "code",
   "execution_count": 34,
   "id": "8c905c69-b9c9-4efa-b705-e45594995094",
   "metadata": {},
   "outputs": [
    {
     "name": "stdout",
     "output_type": "stream",
     "text": [
      "a     1.50\n",
      "b    12.75\n",
      "c    24.00\n",
      "d    35.25\n",
      "e    46.50\n",
      "dtype: float64\n",
      "a     2.75\n",
      "b    12.50\n",
      "a    22.25\n",
      "a    32.00\n",
      "b    41.75\n",
      "dtype: float64\n",
      "a     4.25\n",
      "a    23.75\n",
      "a    33.50\n",
      "b    25.25\n",
      "b    54.50\n",
      "c      NaN\n",
      "d      NaN\n",
      "e      NaN\n",
      "dtype: float64\n"
     ]
    }
   ],
   "source": [
    "import pandas as pd\n",
    "a = [1.50,12.75,24.00,35.25,46.50]\n",
    "b = ['a','b','c','d','e']\n",
    "obj2 = pd.Series(data = a, index = b)\n",
    "print(obj2)\n",
    "\n",
    "import pandas as pd\n",
    "s = [2.75,12.50,22.25,32.00,41.75]\n",
    "r = ['a','b','a','a','b']\n",
    "obj3 = pd.Series(data = s, index = r)\n",
    "print(obj3)\n",
    "\n",
    "print(obj2+obj3)"
   ]
  },
  {
   "cell_type": "code",
   "execution_count": 35,
   "id": "3eb696dc-17bd-42ab-a152-8fdf6fff86f4",
   "metadata": {},
   "outputs": [
    {
     "name": "stdout",
     "output_type": "stream",
     "text": [
      "a     1.50\n",
      "b    12.75\n",
      "c    24.00\n",
      "d    35.25\n",
      "e    46.50\n",
      "dtype: float64\n",
      "a     2.75\n",
      "b    12.50\n",
      "a    22.25\n",
      "a    32.00\n",
      "b    41.75\n",
      "dtype: float64\n",
      "a      4.1250\n",
      "a     33.3750\n",
      "a     48.0000\n",
      "b    159.3750\n",
      "b    532.3125\n",
      "c         NaN\n",
      "d         NaN\n",
      "e         NaN\n",
      "dtype: float64\n"
     ]
    }
   ],
   "source": [
    "import pandas as pd\n",
    "a = [1.50,12.75,24.00,35.25,46.50]\n",
    "b = ['a','b','c','d','e']\n",
    "obj2 = pd.Series(data = a, index = b)\n",
    "print(obj2)\n",
    "\n",
    "import pandas as pd\n",
    "s = [2.75,12.50,22.25,32.00,41.75]\n",
    "r = ['a','b','a','a','b']\n",
    "obj3 = pd.Series(data = s, index = r)\n",
    "print(obj3)\n",
    "print(obj2*obj3)"
   ]
  },
  {
   "cell_type": "code",
   "execution_count": 36,
   "id": "0f1be191-f9c8-4a32-a048-fe7d2a2ecf20",
   "metadata": {},
   "outputs": [
    {
     "name": "stdout",
     "output_type": "stream",
     "text": [
      "a     1.50\n",
      "b    12.75\n",
      "c    24.00\n",
      "d    35.25\n",
      "e    46.50\n",
      "dtype: float64\n",
      "a     2.75\n",
      "b    12.50\n",
      "a    22.25\n",
      "a    32.00\n",
      "b    41.75\n",
      "dtype: float64\n",
      "a    0.545455\n",
      "a    0.067416\n",
      "a    0.046875\n",
      "b    1.020000\n",
      "b    0.305389\n",
      "c         NaN\n",
      "d         NaN\n",
      "e         NaN\n",
      "dtype: float64\n"
     ]
    }
   ],
   "source": [
    "import pandas as pd\n",
    "a = [1.50,12.75,24.00,35.25,46.50]\n",
    "b = ['a','b','c','d','e']\n",
    "obj2 = pd.Series(data = a, index = b)\n",
    "print(obj2)\n",
    "\n",
    "import pandas as pd\n",
    "s = [2.75,12.50,22.25,32.00,41.75]\n",
    "r = ['a','b','a','a','b']\n",
    "obj3 = pd.Series(data = s, index = r)\n",
    "print(obj3)\n",
    "print(obj2/obj3)"
   ]
  },
  {
   "cell_type": "code",
   "execution_count": 38,
   "id": "852ee743-f55c-48cb-b100-b925656eccea",
   "metadata": {},
   "outputs": [
    {
     "name": "stdout",
     "output_type": "stream",
     "text": [
      "a     1.50\n",
      "b    12.75\n",
      "c    24.00\n",
      "d    35.25\n",
      "e    46.50\n",
      "dtype: float64\n",
      "a     2.75\n",
      "b    12.50\n",
      "a    22.25\n",
      "a    32.00\n",
      "b    41.75\n",
      "dtype: float64\n",
      "a    -1.25\n",
      "a   -20.75\n",
      "a   -30.50\n",
      "b     0.25\n",
      "b   -29.00\n",
      "c      NaN\n",
      "d      NaN\n",
      "e      NaN\n",
      "dtype: float64\n",
      "1     2.75\n",
      "2    12.50\n",
      "3    22.25\n",
      "4    32.00\n",
      "5    41.75\n",
      "dtype: float64\n"
     ]
    }
   ],
   "source": [
    "import pandas as pd\n",
    "a = [1.50,12.75,24.00,35.25,46.50]\n",
    "b = ['a','b','c','d','e']\n",
    "obj2 = pd.Series(data = a, index = b)\n",
    "print(obj2)\n",
    "\n",
    "import pandas as pd\n",
    "s = [2.75,12.50,22.25,32.00,41.75]\n",
    "r = ['a','b','a','a','b']\n",
    "obj3 = pd.Series(data = s, index = r)\n",
    "print(obj3)\n",
    "print(obj2-obj3)\n",
    "obj3.index = [1,2,3,4,5] \n",
    "print(obj3)"
   ]
  },
  {
   "cell_type": "code",
   "execution_count": 5,
   "id": "a2aa97e0-a1d7-45f9-b455-bb26048eee4c",
   "metadata": {},
   "outputs": [
    {
     "name": "stdout",
     "output_type": "stream",
     "text": [
      "a     1.50\n",
      "b    12.75\n",
      "c    24.00\n",
      "d    35.25\n",
      "e    46.50\n",
      "dtype: float64\n",
      "1     2.75\n",
      "2    12.50\n",
      "3    22.25\n",
      "4    32.00\n",
      "5    41.75\n",
      "dtype: float64\n"
     ]
    }
   ],
   "source": [
    "import pandas as pd\n",
    "a = [1.50,12.75,24.00,35.25,46.50]\n",
    "b = ['a','b','c','d','e']\n",
    "obj2 = pd.Series(data = a, index = b)\n",
    "print(obj2)\n",
    "\n",
    "import pandas as pd\n",
    "s = [2.75,12.50,22.25,32.00,41.75]\n",
    "r = [1,2,3,4,5]\n",
    "obj3 = pd.Series(data = s, index = r)\n",
    "print(obj3)"
   ]
  },
  {
   "cell_type": "code",
   "execution_count": 6,
   "id": "0d138241-8526-485e-9a11-99f6b6af89a8",
   "metadata": {},
   "outputs": [
    {
     "data": {
      "text/plain": [
       "a   NaN\n",
       "b   NaN\n",
       "c   NaN\n",
       "d   NaN\n",
       "e   NaN\n",
       "1   NaN\n",
       "2   NaN\n",
       "3   NaN\n",
       "4   NaN\n",
       "5   NaN\n",
       "dtype: float64"
      ]
     },
     "execution_count": 6,
     "metadata": {},
     "output_type": "execute_result"
    }
   ],
   "source": [
    "obj2+obj3"
   ]
  },
  {
   "cell_type": "markdown",
   "id": "a3aed433-13b7-49c7-bfd5-65dbc830ac00",
   "metadata": {},
   "source": [
    "Example 17: Number of students in classes 11 and 12 in three streams(Science,Commerce,Humanities) are stored in two series object c11 and c12. Write code to find total no. of students in classes 11 and 12, stream wise."
   ]
  },
  {
   "cell_type": "code",
   "execution_count": 7,
   "id": "cfc7d721-f5b5-4270-9491-40663953b736",
   "metadata": {},
   "outputs": [
    {
     "name": "stdout",
     "output_type": "stream",
     "text": [
      "Science       65\n",
      "Commerce      76\n",
      "Humanities    63\n",
      "dtype: int64\n"
     ]
    }
   ],
   "source": [
    "import pandas as pd \n",
    "s = pd.Series(data = [30,36,25], index = ['Science','Commerce','Humanities'])\n",
    "u = pd.Series(data = [35,40,38], index = ['Science','Commerce','Humanities'])\n",
    "print(s+u)"
   ]
  },
  {
   "cell_type": "markdown",
   "id": "858acc01-9133-43e0-aaa4-bd3cebc6b64a",
   "metadata": {},
   "source": [
    "Example 18 : Object1 Population stores the details of population in four metro cities of india and object2 AvgIncome stores the total average income reported in previous year in each of these metros. Calculate income per capita for each of these metro cities."
   ]
  },
  {
   "cell_type": "code",
   "execution_count": 8,
   "id": "f058b611-d013-432d-95cf-f85ad3ab4ed2",
   "metadata": {},
   "outputs": [
    {
     "name": "stdout",
     "output_type": "stream",
     "text": [
      "Population in four metro cities\n",
      "Delhi      10927986\n",
      "Mumbai     12691836\n",
      "kolkata     4131392\n",
      "Chennai     4328063\n",
      "dtype: int64\n",
      "Avg. Income in four metro cities\n",
      "Delhi       112323424\n",
      "Mumbai      345626625\n",
      "kolkata      43624636\n",
      "Chennai    5566574636\n",
      "dtype: int64\n",
      "per Capita Income in four metro cities\n",
      "Delhi        10.278511\n",
      "Mumbai       27.232201\n",
      "kolkata      10.559307\n",
      "Chennai    1286.158412\n",
      "dtype: float64\n"
     ]
    }
   ],
   "source": [
    "import pandas as pd \n",
    "population = pd.Series([10927986,12691836,4131392,4328063],\n",
    "index = ['Delhi','Mumbai','kolkata','Chennai']) \n",
    "AvgIncome = pd.Series([112323424,345626625,43624636,5566574636],\n",
    "index = ['Delhi','Mumbai','kolkata','Chennai']) \n",
    "perCapita = AvgIncome/population\n",
    "print(\"Population in four metro cities\") \n",
    "print(population) \n",
    "print(\"Avg. Income in four metro cities\")\n",
    "print(AvgIncome) \n",
    "print(\"per Capita Income in four metro cities\") \n",
    "print(perCapita)"
   ]
  },
  {
   "cell_type": "markdown",
   "id": "ff1163fd-9d3b-4dc9-a82c-55a26ddc1879",
   "metadata": {},
   "source": [
    "Example 19 : What will be the output of the following program."
   ]
  },
  {
   "cell_type": "code",
   "execution_count": 9,
   "id": "a5979fe4-67d1-4006-8fd7-ccc22009c5fd",
   "metadata": {},
   "outputs": [
    {
     "name": "stdout",
     "output_type": "stream",
     "text": [
      "0    31\n",
      "1    41\n",
      "2    51\n",
      "dtype: int64\n",
      "0    False\n",
      "1     True\n",
      "2     True\n",
      "dtype: bool\n",
      "1    41\n",
      "2    51\n",
      "dtype: int64\n"
     ]
    }
   ],
   "source": [
    "import pandas as pd \n",
    "info = pd.Series(data = [31,41,51]) \n",
    "print(info) \n",
    "print(info>40) \n",
    "print(info[info>40])"
   ]
  },
  {
   "cell_type": "markdown",
   "id": "c27d5e4f-a2af-425a-a73c-6b7086874edb",
   "metadata": {},
   "source": [
    "Example 20: Series object s11 stores the charity contribution made by each section. Write a program to display which sections made a contribution more than 5500."
   ]
  },
  {
   "cell_type": "code",
   "execution_count": 10,
   "id": "6f01e473-4ee1-4ca7-af26-23d4565599e3",
   "metadata": {},
   "outputs": [
    {
     "name": "stdout",
     "output_type": "stream",
     "text": [
      "A    7600\n",
      "B    5600\n",
      "C    5000\n",
      "D    5200\n",
      "dtype: int64\n",
      "Contribution > 5500 by\n",
      "A    7600\n",
      "B    5600\n",
      "dtype: int64\n"
     ]
    }
   ],
   "source": [
    "import pandas as pd\n",
    "s = [7600,5600,5000,5200]\n",
    "a = ['A','B','C','D']\n",
    "s13 = pd.Series(data = s, index = a)\n",
    "print(s13)\n",
    "print(\"Contribution > 5500 by\") \n",
    "print(s13[s13>5500])"
   ]
  },
  {
   "cell_type": "markdown",
   "id": "110764fd-e741-4edf-a0da-ffed1c5f3bba",
   "metadata": {},
   "source": [
    "Sorting Series Values"
   ]
  },
  {
   "cell_type": "code",
   "execution_count": 11,
   "id": "287e6a69-883e-4bf9-90c7-3bcbc5505b60",
   "metadata": {},
   "outputs": [
    {
     "name": "stdout",
     "output_type": "stream",
     "text": [
      "A    7600\n",
      "B    5600\n",
      "C    5000\n",
      "D    5200\n",
      "dtype: int64\n",
      "C    5000\n",
      "D    5200\n",
      "B    5600\n",
      "A    7600\n",
      "dtype: int64\n",
      "A    7600\n",
      "B    5600\n",
      "D    5200\n",
      "C    5000\n",
      "dtype: int64\n"
     ]
    }
   ],
   "source": [
    "import pandas as pd\n",
    "s = [7600,5600,5000,5200]\n",
    "a = ['A','B','C','D']\n",
    "s13 = pd.Series(data = s, index = a)\n",
    "print(s13)\n",
    "print(s13.sort_values()) \n",
    "print(s13.sort_values(ascending = False))"
   ]
  },
  {
   "cell_type": "code",
   "execution_count": 12,
   "id": "e4d5810b-7515-4c59-a8a1-23ac46b08506",
   "metadata": {},
   "outputs": [
    {
     "name": "stdout",
     "output_type": "stream",
     "text": [
      "A    7600\n",
      "B    5600\n",
      "C    5000\n",
      "D    5200\n",
      "dtype: int64\n",
      "D    5200\n",
      "C    5000\n",
      "B    5600\n",
      "A    7600\n",
      "dtype: int64\n",
      "C    5000\n",
      "D    5200\n",
      "B    5600\n",
      "A    7600\n",
      "dtype: int64\n"
     ]
    }
   ],
   "source": [
    "#Sorting on the basis of indexes \n",
    "import pandas as pd\n",
    "s = [7600,5600,5000,5200]\n",
    "a = ['A','B','C','D']\n",
    "s13 = pd.Series(data = s, index = a)\n",
    "print(s13)\n",
    "print(s13.sort_index(ascending = False)) \n",
    "print(s13.sort_values())"
   ]
  },
  {
   "cell_type": "markdown",
   "id": "b0988e42-95d4-40be-9ded-ded2903a720c",
   "metadata": {
    "jp-MarkdownHeadingCollapsed": true
   },
   "source": [
    "### Series Objects vs. 1D Data Structures and 1D Numpy Arrays"
   ]
  },
  {
   "cell_type": "code",
   "execution_count": null,
   "id": "7c500747-0262-47f1-b734-c2a4dd4852ce",
   "metadata": {},
   "outputs": [],
   "source": [
    "# How is a series object is similar or different from other 1D data structure such as lists,\n",
    "# dictionaries or 1D NumPy Arrays"
   ]
  },
  {
   "cell_type": "markdown",
   "id": "c648c8f7-33b5-4a0d-b61c-957f73c3127a",
   "metadata": {},
   "source": [
    "#### Series Object vs. Lists"
   ]
  },
  {
   "cell_type": "code",
   "execution_count": 50,
   "id": "2a4cf415-261f-45a0-8131-74c7fe72cbcb",
   "metadata": {},
   "outputs": [
    {
     "name": "stdout",
     "output_type": "stream",
     "text": [
      "a     1.50\n",
      "b    12.75\n",
      "c    24.00\n",
      "d    35.25\n",
      "e    46.50\n",
      "dtype: float64\n",
      "e    46.50\n",
      "d    35.25\n",
      "c    24.00\n",
      "b    12.75\n",
      "a     1.50\n",
      "dtype: float64\n"
     ]
    }
   ],
   "source": [
    "import pandas as pd \n",
    "s = [1.50,12.75,24.00,35.25,46.50] \n",
    "u = ['a','b','c','d','e'] \n",
    "obj1 = pd.Series(data = s , index = u) \n",
    "print(obj1) \n",
    "obj1 = obj2.reindex(['e','d','c','b','a']) \n",
    "print(obj1)"
   ]
  },
  {
   "cell_type": "code",
   "execution_count": 53,
   "id": "80b40918-36e1-47cb-bb39-2e41b07f636c",
   "metadata": {},
   "outputs": [
    {
     "name": "stdout",
     "output_type": "stream",
     "text": [
      "a    2\n",
      "e    5\n",
      "i    6\n",
      "o    3\n",
      "u    8\n",
      "dtype: int64\n",
      "A    2\n",
      "B    5\n",
      "C    6\n",
      "D    3\n",
      "E    8\n",
      "dtype: int64\n"
     ]
    }
   ],
   "source": [
    "vowels = pd.Series([2,5,6,3,8], index = ['a','e','i','o','u'])  \n",
    "print(vovels) \n",
    "newid = ['A','B','C','D','E'] \n",
    "vowels.index = newid\n",
    "print(vowels)"
   ]
  },
  {
   "cell_type": "markdown",
   "id": "4a25f90c-6dc7-40e2-a83e-f02a6377eab9",
   "metadata": {},
   "source": [
    "#### Dropping Entries from Axis"
   ]
  },
  {
   "cell_type": "code",
   "execution_count": 57,
   "id": "026fc3c6-0ae5-45a8-8e21-b0833bcbd513",
   "metadata": {},
   "outputs": [
    {
     "name": "stdout",
     "output_type": "stream",
     "text": [
      "e    46.50\n",
      "d    35.25\n",
      "b    12.75\n",
      "a     1.50\n",
      "dtype: float64\n",
      "d    35.25\n",
      "b    12.75\n",
      "a     1.50\n",
      "dtype: float64\n"
     ]
    }
   ],
   "source": [
    "print(obj1)\n",
    "obj1 = obj1.drop('e')\n",
    "print(obj1)"
   ]
  },
  {
   "cell_type": "markdown",
   "id": "a9b3aaca-a0aa-491d-b553-3331f54853ef",
   "metadata": {},
   "source": [
    " "
   ]
  },
  {
   "cell_type": "code",
   "execution_count": 13,
   "id": "8651199e-5bde-4b2c-9dea-b6462a7b2ec9",
   "metadata": {},
   "outputs": [
    {
     "ename": "ModuleNotFoundError",
     "evalue": "No module named 'matplotlib'",
     "output_type": "error",
     "traceback": [
      "\u001b[0;31m---------------------------------------------------------------------------\u001b[0m",
      "\u001b[0;31mModuleNotFoundError\u001b[0m                       Traceback (most recent call last)",
      "Cell \u001b[0;32mIn[13], line 1\u001b[0m\n\u001b[0;32m----> 1\u001b[0m \u001b[38;5;28;01mimport\u001b[39;00m \u001b[38;5;21;01mmatplotlib\u001b[39;00m\u001b[38;5;21;01m.\u001b[39;00m\u001b[38;5;21;01mpyplot\u001b[39;00m \u001b[38;5;28;01mas\u001b[39;00m \u001b[38;5;21;01mpl\u001b[39;00m\n\u001b[1;32m      2\u001b[0m \u001b[38;5;28;01mimport\u001b[39;00m \u001b[38;5;21;01mnumpy\u001b[39;00m \u001b[38;5;28;01mas\u001b[39;00m \u001b[38;5;21;01mnp\u001b[39;00m\n\u001b[1;32m      3\u001b[0m a1 \u001b[38;5;241m=\u001b[39m np\u001b[38;5;241m.\u001b[39msin(\u001b[38;5;241m0\u001b[39m,\u001b[38;5;241m1\u001b[39m) \n",
      "\u001b[0;31mModuleNotFoundError\u001b[0m: No module named 'matplotlib'"
     ]
    }
   ],
   "source": [
    "import matplotlib.pyplot as pl\n",
    "import numpy as np\n",
    "a1 = np.sin(0,1) \n",
    "a2 = np.cos(0,1) \n",
    "a3 = np.tan(0,1) \n",
    "pl.plot(a1,a2,a3)\n",
    "pl.show() "
   ]
  },
  {
   "cell_type": "code",
   "execution_count": null,
   "id": "d1d06ea9-024c-4a0a-9474-461d54d0cda1",
   "metadata": {},
   "outputs": [],
   "source": []
  }
 ],
 "metadata": {
  "kernelspec": {
   "display_name": "Python 3 (ipykernel)",
   "language": "python",
   "name": "python3"
  },
  "language_info": {
   "codemirror_mode": {
    "name": "ipython",
    "version": 3
   },
   "file_extension": ".py",
   "mimetype": "text/x-python",
   "name": "python",
   "nbconvert_exporter": "python",
   "pygments_lexer": "ipython3",
   "version": "3.11.6"
  }
 },
 "nbformat": 4,
 "nbformat_minor": 5
}
