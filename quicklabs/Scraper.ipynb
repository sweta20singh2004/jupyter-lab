{
 "cells": [
  {
   "cell_type": "markdown",
   "id": "b0199304-08a1-485a-88bd-fbdce9360d11",
   "metadata": {},
   "source": [
    "# SCRAPER"
   ]
  },
  {
   "cell_type": "code",
   "execution_count": null,
   "id": "4f58de19-4333-4a81-8e78-12a4efdecfea",
   "metadata": {},
   "outputs": [
    {
     "name": "stdout",
     "output_type": "stream",
     "text": [
      "Coupon usage limit has been reached found in the HTML content of https://whitesquarein.com/googlecloudarcade/product/champions-milestone-package/?get=arttqmwusr7s\n",
      "CODE FOUND ttqmwusr7s\n"
     ]
    }
   ],
   "source": [
    "import requests\n",
    "from bs4 import BeautifulSoup\n",
    "import smtplib\n",
    "from email.mime.text import MIMEText\n",
    "from email.mime.multipart import MIMEMultipart\n",
    "import random\n",
    "import string\n",
    "import time\n",
    "# Parameters: length of each code and number of codes to generate\n",
    "code_length = 10\n",
    "number_of_codes = 1\n",
    "def generate_codes(length, count):\n",
    "    # Character set: lowercase letters and digits\n",
    "    charset = string.ascii_lowercase + string.digits\n",
    "    # Generate unique codes\n",
    "    codes = set()\n",
    "    code = ''.join(random.choice(charset) for _ in range(length))\n",
    "    return code\n",
    "    \n",
    "def send_email(subject, body, to_email):\n",
    "    # Email configuration\n",
    "    smtp_server = \"smtp.falcon.hanisntsolo.com\"\n",
    "    smtp_port = 587\n",
    "    sender_email = \"hanisntsolo@hanisntsolo.com\"  # Replace with your email\n",
    "    sender_password = \"changeme\"      # Replace with your email password\n",
    "\n",
    "    try:\n",
    "        # Create the email\n",
    "        msg = MIMEMultipart()\n",
    "        msg[\"From\"] = sender_email\n",
    "        msg[\"To\"] = to_email\n",
    "        msg[\"Subject\"] = subject\n",
    "\n",
    "        # Attach the email body\n",
    "        msg.attach(MIMEText(body, \"plain\"))\n",
    "\n",
    "        # Send the email\n",
    "        with smtplib.SMTP(smtp_server, smtp_port) as server:\n",
    "            server.starttls()\n",
    "            server.login(sender_email, sender_password)\n",
    "            server.sendmail(sender_email, to_email, msg.as_string())\n",
    "\n",
    "        print(f\"Email sent to {to_email}.\")\n",
    "    except Exception as e:\n",
    "        print(f\"Failed to send email: {e}\")\n",
    "\n",
    "def check_text_in_url(url, text_to_find, coupon, recipient_email):\n",
    "    try:\n",
    "        # Send a GET request to the URL\n",
    "        response = requests.get(url, timeout=10)\n",
    "        response.raise_for_status()  # Raise an error for HTTP status codes 4xx/5xx\n",
    "\n",
    "        # Parse the HTML content using BeautifulSoup\n",
    "        soup = BeautifulSoup(response.text, 'html.parser')\n",
    "\n",
    "        # Check if the text is present in the HTML\n",
    "        if not text_to_find in soup.get_text():\n",
    "            print(f\"{text_to_find} found in the HTML content of {url}\")\n",
    "            # Send an email notification\n",
    "            subject = \"Code can be used!\"\n",
    "            body = f\"{text_to_find} was not found in the HTML content of {url}\"\n",
    "            another_text = \"Coupon \\\"\" + coupon + \"\\\" does not exist!\"\n",
    "            if not another_text in soup.get_text():\n",
    "                print(\"CODE FOUND\", coupon)\n",
    "                send_email(subject, body, recipient_email)\n",
    "        else:\n",
    "            print(f\"{text_to_find} FOUND in the HTML content of {url}.\")\n",
    "    \n",
    "    except requests.exceptions.RequestException as e:\n",
    "        print(f\"An error occurred while fetching the URL: {e}\")\n",
    "\n",
    "if __name__ == \"__main__\":\n",
    "    # Example usage\n",
    "    text_to_search = \"Coupon usage limit has been reached\"\n",
    "    recipient_email = \"ds.pratap1997@gmail.com\"  # Replace with the recipient's email\n",
    "    while True:\n",
    "        print(\"checking\")\n",
    "        coupon = generate_codes(code_length, number_of_codes)\n",
    "        url_to_check = \"https://whitesquarein.com/googlecloudarcade/product/champions-milestone-package/?get=ar\" + coupon \n",
    "        check_text_in_url(url_to_check, text_to_search, coupon, recipient_email)\n",
    "        time.sleep(5)\n"
   ]
  },
  {
   "cell_type": "code",
   "execution_count": null,
   "id": "f2508c7c-a583-42b9-bb15-701337feb44d",
   "metadata": {},
   "outputs": [],
   "source": []
  },
  {
   "cell_type": "code",
   "execution_count": null,
   "id": "dd1ddccb-d616-48c2-b288-0ebe0661d9bd",
   "metadata": {},
   "outputs": [],
   "source": []
  }
 ],
 "metadata": {
  "kernelspec": {
   "display_name": "Python 3 (ipykernel)",
   "language": "python",
   "name": "python3"
  },
  "language_info": {
   "codemirror_mode": {
    "name": "ipython",
    "version": 3
   },
   "file_extension": ".py",
   "mimetype": "text/x-python",
   "name": "python",
   "nbconvert_exporter": "python",
   "pygments_lexer": "ipython3",
   "version": "3.11.6"
  }
 },
 "nbformat": 4,
 "nbformat_minor": 5
}
