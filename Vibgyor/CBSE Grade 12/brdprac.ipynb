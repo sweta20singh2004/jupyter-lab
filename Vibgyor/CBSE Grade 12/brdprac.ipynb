{
 "cells": [
  {
   "cell_type": "markdown",
   "id": "9ab394b4-690e-4864-bb17-b6946ab45e16",
   "metadata": {},
   "source": []
  },
  {
   "cell_type": "code",
   "execution_count": 2,
   "id": "a3f1711c-de03-4715-8086-8329a709e160",
   "metadata": {},
   "outputs": [
    {
     "name": "stdout",
     "output_type": "stream",
     "text": [
      "Collecting pandas\n",
      "  Downloading pandas-2.2.3-cp311-cp311-manylinux_2_17_x86_64.manylinux2014_x86_64.whl.metadata (89 kB)\n",
      "\u001b[2K     \u001b[90m━━━━━━━━━━━━━━━━━━━━━━━━━━━━━━━━━━━━━━━\u001b[0m \u001b[32m89.9/89.9 kB\u001b[0m \u001b[31m798.8 kB/s\u001b[0m eta \u001b[36m0:00:00\u001b[0m \u001b[36m0:00:01\u001b[0m\n",
      "\u001b[?25hCollecting numpy>=1.23.2 (from pandas)\n",
      "  Downloading numpy-2.2.4-cp311-cp311-manylinux_2_17_x86_64.manylinux2014_x86_64.whl.metadata (62 kB)\n",
      "\u001b[2K     \u001b[90m━━━━━━━━━━━━━━━━━━━━━━━━━━━━━━━━━━━━━━━\u001b[0m \u001b[32m62.0/62.0 kB\u001b[0m \u001b[31m459.3 kB/s\u001b[0m eta \u001b[36m0:00:00\u001b[0m00:01\u001b[0m\n",
      "\u001b[?25hRequirement already satisfied: python-dateutil>=2.8.2 in /opt/conda/lib/python3.11/site-packages (from pandas) (2.8.2)\n",
      "Requirement already satisfied: pytz>=2020.1 in /opt/conda/lib/python3.11/site-packages (from pandas) (2023.3.post1)\n",
      "Collecting tzdata>=2022.7 (from pandas)\n",
      "  Downloading tzdata-2025.1-py2.py3-none-any.whl.metadata (1.4 kB)\n",
      "Requirement already satisfied: six>=1.5 in /opt/conda/lib/python3.11/site-packages (from python-dateutil>=2.8.2->pandas) (1.16.0)\n",
      "Downloading pandas-2.2.3-cp311-cp311-manylinux_2_17_x86_64.manylinux2014_x86_64.whl (13.1 MB)\n",
      "\u001b[2K   \u001b[90m━━━━━━━━━━━━━━━━━━━━━━━━━━━━━━━━━━━━━━━━\u001b[0m \u001b[32m13.1/13.1 MB\u001b[0m \u001b[31m3.5 MB/s\u001b[0m eta \u001b[36m0:00:00\u001b[0m00:01\u001b[0m00:01\u001b[0m\n",
      "\u001b[?25hDownloading numpy-2.2.4-cp311-cp311-manylinux_2_17_x86_64.manylinux2014_x86_64.whl (16.4 MB)\n",
      "\u001b[2K   \u001b[90m━━━━━━━━━━━━━━━━━━━━━━━━━━━━━━━━━━━━━━━━\u001b[0m \u001b[32m16.4/16.4 MB\u001b[0m \u001b[31m3.4 MB/s\u001b[0m eta \u001b[36m0:00:00\u001b[0m00:01\u001b[0m00:01\u001b[0m\n",
      "\u001b[?25hDownloading tzdata-2025.1-py2.py3-none-any.whl (346 kB)\n",
      "\u001b[2K   \u001b[90m━━━━━━━━━━━━━━━━━━━━━━━━━━━━━━━━━━━━━━━━\u001b[0m \u001b[32m346.8/346.8 kB\u001b[0m \u001b[31m1.5 MB/s\u001b[0m eta \u001b[36m0:00:00\u001b[0ma \u001b[36m0:00:01\u001b[0m\n",
      "\u001b[?25hInstalling collected packages: tzdata, numpy, pandas\n",
      "Successfully installed numpy-2.2.4 pandas-2.2.3 tzdata-2025.1\n",
      "Note: you may need to restart the kernel to use updated packages.\n"
     ]
    }
   ],
   "source": [
    "pip install pandas"
   ]
  },
  {
   "cell_type": "markdown",
   "id": "7305491e-f95e-4194-ad36-b98e151ca39a",
   "metadata": {},
   "source": [
    "####"
   ]
  },
  {
   "cell_type": "code",
   "execution_count": 15,
   "id": "3e734659-76e8-4762-910d-02e3fb22fdf8",
   "metadata": {},
   "outputs": [
    {
     "name": "stdout",
     "output_type": "stream",
     "text": [
      "    Name  Age Grade\n",
      "0  Sweta   19     A\n",
      "1   Nada   18     A\n",
      "2    Sus   18     B\n",
      "3    Ayu   14     C\n",
      "4    San   17     B\n",
      "@@@@@@@@@@\n",
      "[RangeIndex(start=0, stop=5, step=1), Index(['Name', 'Age', 'Grade'], dtype='object')]\n",
      "@@@@@@@@@@\n",
      "0    Sweta\n",
      "1     Nada\n",
      "2      Sus\n",
      "3      Ayu\n",
      "4      San\n",
      "Name: Name, dtype: object\n",
      "@@@@@@@@@@\n",
      "RangeIndex(start=0, stop=5, step=1)\n",
      "@@@@@@@@@@\n",
      "[['Sweta' 19 'A']\n",
      " ['Nada' 18 'A']\n",
      " ['Sus' 18 'B']\n",
      " ['Ayu' 14 'C']\n",
      " ['San' 17 'B']]\n",
      "@@@@@@@@@@\n",
      "(5, 3)\n",
      "@@@@@@@@@@\n",
      "2\n",
      "@@@@@@@@@@\n"
     ]
    }
   ],
   "source": [
    "import pandas as pd \n",
    "a = {'Name':['Sweta','Nada','Sus','Ayu','San'], 'Age':[19,18,18,14,17], 'Grade':['A','A','B','C','B']} \n",
    "b = pd.DataFrame(a) \n",
    "print(b) \n",
    "print('@@@@@@@@@@') \n",
    "print(b.axes) \n",
    "print('@@@@@@@@@@') \n",
    "print(b.Name)\n",
    "print('@@@@@@@@@@') \n",
    "print(b.index) \n",
    "print('@@@@@@@@@@') \n",
    "print(b.values) \n",
    "print('@@@@@@@@@@') \n",
    "print(b.shape)  \n",
    "print('@@@@@@@@@@') \n",
    "print(b.ndim) \n",
    "print('@@@@@@@@@@') \n"
   ]
  },
  {
   "cell_type": "code",
   "execution_count": 24,
   "id": "52ad047c-f1ca-4437-b2d2-bd73f2936d6d",
   "metadata": {},
   "outputs": [
    {
     "name": "stdout",
     "output_type": "stream",
     "text": [
      "Yearly sale item- item1    1840\n",
      "item2     840\n",
      "item3    1059\n",
      "item4     900\n",
      "item5    1025\n",
      "dtype: int64\n",
      "Maximum sale of item made>item1\n",
      "[1840, 840, 1059, 900, 1025]\n",
      "Maximum sales of individual items\n",
      "[item1    160\n",
      "item2     75\n",
      "item3     89\n",
      "item4     75\n",
      "item5     85\n",
      "dtype: int64, item1    150\n",
      "item2     95\n",
      "item3     80\n",
      "item4     75\n",
      "item5     90\n",
      "dtype: int64, item1    180\n",
      "item2     85\n",
      "item3     89\n",
      "item4     75\n",
      "item5     85\n",
      "dtype: int64, item1    170\n",
      "item2     45\n",
      "item3     89\n",
      "item4     75\n",
      "item5     85\n",
      "dtype: int64, item1    120\n",
      "item2     75\n",
      "item3     89\n",
      "item4     75\n",
      "item5     85\n",
      "dtype: int64, item1    110\n",
      "item2     55\n",
      "item3     89\n",
      "item4     75\n",
      "item5     85\n",
      "dtype: int64, item1    150\n",
      "item2     35\n",
      "item3     89\n",
      "item4     75\n",
      "item5     85\n",
      "dtype: int64, item1    160\n",
      "item2     75\n",
      "item3     89\n",
      "item4     75\n",
      "item5     85\n",
      "dtype: int64, item1    190\n",
      "item2     75\n",
      "item3     89\n",
      "item4     75\n",
      "item5     85\n",
      "dtype: int64, item1    150\n",
      "item2     75\n",
      "item3     89\n",
      "item4     75\n",
      "item5     85\n",
      "dtype: int64, item1    150\n",
      "item2     75\n",
      "item3     89\n",
      "item4     75\n",
      "item5     85\n",
      "dtype: int64, item1    150\n",
      "item2     75\n",
      "item3     89\n",
      "item4     75\n",
      "item5     85\n",
      "dtype: int64]\n"
     ]
    }
   ],
   "source": [
    "indx = ['item1','item2','item3','item4','item5'] \n",
    "s1 = pd.Series([160,75,89,75,85], index = indx) \n",
    "s2 = pd.Series([150,95,80,75,90], index = indx) \n",
    "s3 = pd.Series([180,85,89,75,85], index = indx) \n",
    "s4 = pd.Series([170,45,89,75,85], index = indx) \n",
    "s5 = pd.Series([120,75,89,75,85], index = indx) \n",
    "s6 = pd.Series([110,55,89,75,85], index = indx) \n",
    "s7 = pd.Series([150,35,89,75,85], index = indx) \n",
    "s8 = pd.Series([160,75,89,75,85], index = indx) \n",
    "s9 = pd.Series([190,75,89,75,85], index = indx) \n",
    "s10 = pd.Series([150,75,89,75,85], index = indx) \n",
    "s11= pd.Series([150,75,89,75,85], index = indx) \n",
    "s12 = pd.Series([150,75,89,75,85], index = indx) \n",
    "yrsal = s1+s2+s3+s4+s5+s6+s7+s8+s9+s10+s11+s12\n",
    "print('Yearly sale item-',yrsal) \n",
    "print('Maximum sale of item made', end='>') \n",
    "itemlist = list(yrsal) \n",
    "print(indx[itemlist.index(max(itemlist))]) \n",
    "print(itemlist) \n",
    "list = [s1,s2,s3,s4,s5,s6,s7,s8,s9,s10,s11,s12] \n",
    "lst = (list) \n",
    "print('Maximum sales of individual items') \n",
    "print(lst) \n",
    "dic = {1:s1,2:s2;3:s3,4:s4, 5:s5, 6\n"
   ]
  },
  {
   "cell_type": "code",
   "execution_count": null,
   "id": "4b19a40c-eb26-44ea-98b4-697b22ec2dd3",
   "metadata": {},
   "outputs": [],
   "source": []
  }
 ],
 "metadata": {
  "kernelspec": {
   "display_name": "Python 3 (ipykernel)",
   "language": "python",
   "name": "python3"
  },
  "language_info": {
   "codemirror_mode": {
    "name": "ipython",
    "version": 3
   },
   "file_extension": ".py",
   "mimetype": "text/x-python",
   "name": "python",
   "nbconvert_exporter": "python",
   "pygments_lexer": "ipython3",
   "version": "3.11.6"
  }
 },
 "nbformat": 4,
 "nbformat_minor": 5
}
