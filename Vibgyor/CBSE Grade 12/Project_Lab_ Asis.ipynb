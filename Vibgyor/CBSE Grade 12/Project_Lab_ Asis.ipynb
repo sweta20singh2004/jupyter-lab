{
 "cells": [
  {
   "cell_type": "code",
   "execution_count": 1,
   "id": "41fd5214-2e92-4e9b-955b-7241a2a8b8d8",
   "metadata": {
    "scrolled": true
   },
   "outputs": [
    {
     "name": "stdout",
     "output_type": "stream",
     "text": [
      "Collecting pandas\n",
      "  Downloading pandas-2.2.3-cp311-cp311-manylinux_2_17_x86_64.manylinux2014_x86_64.whl.metadata (89 kB)\n",
      "\u001b[2K     \u001b[90m━━━━━━━━━━━━━━━━━━━━━━━━━━━━━━━━━━━━━━━\u001b[0m \u001b[32m89.9/89.9 kB\u001b[0m \u001b[31m470.0 kB/s\u001b[0m eta \u001b[36m0:00:00\u001b[0m \u001b[36m0:00:01\u001b[0m\n",
      "\u001b[?25hCollecting numpy>=1.23.2 (from pandas)\n",
      "  Downloading numpy-2.2.1-cp311-cp311-manylinux_2_17_x86_64.manylinux2014_x86_64.whl.metadata (62 kB)\n",
      "\u001b[2K     \u001b[90m━━━━━━━━━━━━━━━━━━━━━━━━━━━━━━━━━━━━━━━\u001b[0m \u001b[32m62.0/62.0 kB\u001b[0m \u001b[31m445.6 kB/s\u001b[0m eta \u001b[36m0:00:00\u001b[0m00:01\u001b[0m\n",
      "\u001b[?25hRequirement already satisfied: python-dateutil>=2.8.2 in /opt/conda/lib/python3.11/site-packages (from pandas) (2.8.2)\n",
      "Requirement already satisfied: pytz>=2020.1 in /opt/conda/lib/python3.11/site-packages (from pandas) (2023.3.post1)\n",
      "Collecting tzdata>=2022.7 (from pandas)\n",
      "  Downloading tzdata-2024.2-py2.py3-none-any.whl.metadata (1.4 kB)\n",
      "Requirement already satisfied: six>=1.5 in /opt/conda/lib/python3.11/site-packages (from python-dateutil>=2.8.2->pandas) (1.16.0)\n",
      "Downloading pandas-2.2.3-cp311-cp311-manylinux_2_17_x86_64.manylinux2014_x86_64.whl (13.1 MB)\n",
      "\u001b[2K   \u001b[90m━━━━━━━━━━━━━━━━━━━━━━━━━━━━━━━━━━━━━━━━\u001b[0m \u001b[32m13.1/13.1 MB\u001b[0m \u001b[31m3.1 MB/s\u001b[0m eta \u001b[36m0:00:00\u001b[0m00:01\u001b[0m00:01\u001b[0m\n",
      "\u001b[?25hDownloading numpy-2.2.1-cp311-cp311-manylinux_2_17_x86_64.manylinux2014_x86_64.whl (16.4 MB)\n",
      "\u001b[2K   \u001b[90m━━━━━━━━━━━━━━━━━━━━━━━━━━━━━━━━━━━━━━━━\u001b[0m \u001b[32m16.4/16.4 MB\u001b[0m \u001b[31m3.6 MB/s\u001b[0m eta \u001b[36m0:00:00\u001b[0m00:01\u001b[0m00:01\u001b[0m\n",
      "\u001b[?25hDownloading tzdata-2024.2-py2.py3-none-any.whl (346 kB)\n",
      "\u001b[2K   \u001b[90m━━━━━━━━━━━━━━━━━━━━━━━━━━━━━━━━━━━━━━━━\u001b[0m \u001b[32m346.6/346.6 kB\u001b[0m \u001b[31m1.5 MB/s\u001b[0m eta \u001b[36m0:00:00\u001b[0ma \u001b[36m0:00:01\u001b[0m\n",
      "\u001b[?25hInstalling collected packages: tzdata, numpy, pandas\n",
      "Successfully installed numpy-2.2.1 pandas-2.2.3 tzdata-2024.2\n",
      "Note: you may need to restart the kernel to use updated packages.\n"
     ]
    }
   ],
   "source": [
    "pip install pandas"
   ]
  },
  {
   "cell_type": "markdown",
   "id": "8e1c3f57-f212-4da7-9c7d-e5419907c01f",
   "metadata": {},
   "source": [
    "#1. Write a program to generate a Series of the first 10 natural numbers."
   ]
  },
  {
   "cell_type": "markdown",
   "id": "677b0f97-b11b-409c-b2eb-8a26be7ac00f",
   "metadata": {
    "jp-MarkdownHeadingCollapsed": true
   },
   "source": [
    "## Practical questions"
   ]
  },
  {
   "cell_type": "code",
   "execution_count": null,
   "id": "ba57ea6a-b5bf-4f73-9b97-c37a45aca5f5",
   "metadata": {
    "jp-MarkdownHeadingCollapsed": true
   },
   "outputs": [],
   "source": [
    "# #Q1 Write a program to generate a Series of the first 10 natural numbers.\n",
    "# 16/4/24\n",
    "\n",
    "\n",
    "# #Q2 Write a program to generate a Series of float numbers from 21.0 to 30.0 with an increment \n",
    "# of 1.5 each.\n",
    "# 25/4/24\n",
    "\n",
    "\n",
    "# #Q3 Write a program to generate a Series using a dictionary to represent month number and \n",
    "# month names.\n",
    "# 13/6/24\n",
    "\n",
    "\n",
    "#Q4 Write a program to generate a Series of marks of 10 students. Give grace marks up to 5 to\n",
    "# those having marks less than 33 and print the new list of the marks.\n",
    "# 20/6/24\n",
    "\n",
    "\n",
    "# Q5 Create a DataFrame named as ‘students’ using a list of names of 5 students.\n",
    "# 20/6/24\n",
    "\n",
    "\n",
    "# Q6 Write a program to create a DataFrame ‘players’ using a list of names and scores of the \n",
    "# previous three matches, using nested list.\n",
    "# 27/6/24\n",
    "\n",
    "\n",
    "# Q7 Write a Python program to create a Series object, ‘country’ using a list that stores the \n",
    "# capital of each country.\n",
    "# Note. Assume four countries to be used as index of the Series object are India, UK, \n",
    "# Denmark and Thailand having their capitals as New Delhi, London, Copenhagen and \n",
    "# Bangkok respectively.\n",
    "# 27/6/24\n",
    "\n",
    "\n",
    "# Q8 Write a program to create a DataFrame ‘countries’ using a dictionary which stored country \n",
    "# name, capitals and populations of the country.\n",
    "# 27/6/24\n",
    "\n",
    "\n",
    "# Q9 Create a DataFrame in Python from the given list: \n",
    "# [[‘Divya’,’HR’,95000],[‘Mamta’,’Marketing’,97000],[‘Payal’,’IT’,980000], \n",
    "# [‘Deepak’,’Sales’,79000]] \n",
    "# Also give appropriate column headings as shown below: \n",
    "# Name Department Salary\n",
    "# 0 Divya HR 95000\n",
    "# 1 Mamta Marketing 97000\n",
    "# 2 Payal IT 180000\n",
    "# 3 Dipak Sales 79000\n",
    "# 2/7/24\n",
    "\n",
    "\n",
    "\n",
    "# Q10 Consider the DataFrame ‘df’ given below. Create the same with the help of Dictionary and \n",
    "# perform following task:\n",
    "# Name Year Total_Score Result\n",
    "# 0 Anand 2020 410 Pass\n",
    "# 1 Manish 2020 350 Pass\n",
    "# 2 Rohit 2021 150 Fail\n",
    "# 3 Suresh 2021 380 Pass\n",
    "# 4 Mahesh 2020 400 Pass\n",
    "# i. Display Result of student whose name is “Anand”\n",
    "# ii. Display details of students whose Result is ‘Pass’\n",
    "# iii. Display Year of Result only for all students. \n",
    "# 2/7/24\n",
    "\n",
    "\n",
    "# Q11 Consider the given DataFrame ‘Genre’: \n",
    "# Type Code\n",
    "# 0 Fiction F\n",
    "# 1 Non-Fiction NF\n",
    "# 2 Drama D\n",
    "# 3 Poetry P\n",
    "# Write suitable Python statements for the following: \n",
    "# i. Add a column called Num_Copies with the following data: [300,290,450,760]. \n",
    "# ii. Add a new genre of type ‘Folk Tale’ having code as “FT” and 600 number of copies. \n",
    "# iii. Rename the column ‘Code’ to ‘Book_Code’.\n",
    "# iv. Delete the 1st and 3rd row."
   ]
  },
  {
   "cell_type": "code",
   "execution_count": null,
   "id": "5b508cd3-7dbe-422e-8c43-22fa19dfe224",
   "metadata": {},
   "outputs": [],
   "source": [
    "# Q12 Kavyanjali, a chemical analyst, needs to arrange data of few elements in the form of two \n",
    "# Series containing symbols and their atomic numbers respectively. Thereafter, the data of \n",
    "# these two Series has to be arranged and displayed in the form of Data Frame as shown \n",
    "# below :\n",
    "# Symbol Atomic number\n",
    "# Hydrogen H 1\n",
    "# Helium He 2\n",
    "# Lithium Li 3\n",
    "# Beryllium Be 4\n",
    "# Help her in writing suitable Python code to complete the task.\n",
    "# 12/7/24\n",
    "\n",
    "\n",
    "# Q13 Write a program to create a DataFrame from a CSV file. Display the shape (Number of rows \n",
    "# and columns) of the CSV file.\n",
    "# 12/7/24\n",
    "\n",
    "\n",
    "# Q14 Write a program to create a DataFrame which contains RollNumber, Name, Height and \n",
    "# Weight of 5 students. Create a CSV file using this DataFrame.\n",
    "# 12/7/24\n",
    "\n",
    "\n",
    "# Q15 Display the common attributes of a DataFrame object by using the DataFrame created in \n",
    "# Q12.\n",
    "# 15/7/24\n",
    "\n",
    "\n",
    "# Q16 Write a program to plot a bar chart from the medals won by four countries. Make sure \n",
    "# that bars are separately visible with title and legend.\n",
    "# 15/7/24\n",
    "\n",
    "\n",
    "# Q17 Marks is a list that stores marks of student in 10 unit tests. Write a program to plot the \n",
    "# student’s performance in these 10 unit tests.\n",
    "# 19/7/24\n",
    "\n",
    "\n",
    "# Q18 The heights of 10 students of eighth grade are given below: \n",
    "# Height_cms=[145,141,142,142,143,144,141,140,143,144] \n",
    "# Write suitable Python code to generate a histogram based on the given data, along with \n",
    "# an appropriate chart title and both axis labels. \n",
    "# Give suitable python statement to save this chart.\n",
    "# 19/7/24\n",
    "\n",
    "\n",
    "# Q19 A survey gathers height and weight of 60 participants and recorded the participants’ ages \n",
    "# as: \n",
    "# Ages = [1,1,2,3,5,7,8,9,10,10,11,13,13,15,16,17,18,19,20,21,21,23,24,24,24,25,25, 25,25,\n",
    "# 26,26,26,27,27,27,27,27,29,30,30,30,30,31,33,34,34,34,35,36,36,37,37,37,38,38,39,40,\n",
    "# 40, 41, 41]. \n",
    "# Write a program to plot a histogram from above data with 20 bins.\n",
    "# 19/7/24\n",
    "\n",
    "\n",
    "# Q20 Given the school result data, analyses the performance of the students in Accountancy \n",
    "# and Business studies using bar graph.\n",
    "# label = [‘Anil’, ‘Vikas’, ‘Dharma’, ‘Mahen’, ‘Manish’, ‘Rajesh’]\n",
    "# Accountancy = [94,85,45,25,50,54]\n",
    "# BusinessStudy =[98,76,34,65,55,88]"
   ]
  },
  {
   "cell_type": "markdown",
   "id": "790148f5-ea62-45b9-b39a-7c41ade6b7fd",
   "metadata": {
    "jp-MarkdownHeadingCollapsed": true
   },
   "source": [
    "# Solutions"
   ]
  },
  {
   "cell_type": "code",
   "execution_count": 1,
   "id": "f0624760-c85e-41a7-8e21-254fe1130f74",
   "metadata": {},
   "outputs": [
    {
     "name": "stdout",
     "output_type": "stream",
     "text": [
      "0     1\n",
      "1     2\n",
      "2     3\n",
      "3     4\n",
      "4     5\n",
      "5     6\n",
      "6     7\n",
      "7     8\n",
      "8     9\n",
      "9    10\n",
      "dtype: int64\n"
     ]
    }
   ],
   "source": [
    "import pandas as pd\n",
    "list1 = list(range(1,11))\n",
    "ser1 = pd.Series(list1)\n",
    "print(ser1)\n"
   ]
  },
  {
   "cell_type": "code",
   "execution_count": 2,
   "id": "6af28fce-772a-4bea-bf85-8e54457d465c",
   "metadata": {},
   "outputs": [
    {
     "name": "stdout",
     "output_type": "stream",
     "text": [
      "0    21.0\n",
      "1    22.5\n",
      "2    24.0\n",
      "3    25.5\n",
      "4    27.0\n",
      "5    28.5\n",
      "dtype: float64\n"
     ]
    }
   ],
   "source": [
    "import numpy as np \n",
    "b = list(np.arange(21,30,1.5)) \n",
    "s1 = pd.Series(b) \n",
    "print(s1) \n"
   ]
  },
  {
   "cell_type": "code",
   "execution_count": 13,
   "id": "cff047a2-a6b1-44f0-b134-19142203958e",
   "metadata": {},
   "outputs": [
    {
     "name": "stdout",
     "output_type": "stream",
     "text": [
      "1       January\n",
      "2      February\n",
      "3         March\n",
      "4         April\n",
      "5           May\n",
      "6          June\n",
      "7          July\n",
      "8        August\n",
      "9     September\n",
      "10      October\n",
      "11     November\n",
      "12     December\n",
      "dtype: object\n"
     ]
    }
   ],
   "source": [
    "b ={1:'January',2:'February',3:'March',4:'April',5:'May',6:'June',7:'July',8:'August',9:'September',10:'October',11:'November',12:'December'} \n",
    "s2 = pd.Series(b) \n",
    "print(s2)"
   ]
  },
  {
   "cell_type": "code",
   "execution_count": 12,
   "id": "eb9ac826-f30b-4964-8652-693f90798ce1",
   "metadata": {},
   "outputs": [
    {
     "name": "stdout",
     "output_type": "stream",
     "text": [
      "1     45\n",
      "2     60\n",
      "3     56\n",
      "4     69\n",
      "5     70\n",
      "6     29\n",
      "7     65\n",
      "8     85\n",
      "9     25\n",
      "10    10\n",
      "dtype: int64\n",
      "1     45\n",
      "2     60\n",
      "3     56\n",
      "4     69\n",
      "5     70\n",
      "6     33\n",
      "7     65\n",
      "8     85\n",
      "9     30\n",
      "10    15\n",
      "dtype: int64\n"
     ]
    }
   ],
   "source": [
    "b ={1:45,2:60,3:56,4:69,5:70,6:29,7:65,8:85,9:25,10:10} \n",
    "ser2 = pd.Series(b) \n",
    "print(ser2) \n",
    "for i in range(1,len(ser2) +1): \n",
    "    if ser2[i] < 33:\n",
    "                ser2[i] = ser2[i]+min(5,33-ser2[i]) \n",
    "print(ser2) "
   ]
  },
  {
   "cell_type": "code",
   "execution_count": 15,
   "id": "0fe7697b-7c7c-4621-ab6e-2610a16bd16b",
   "metadata": {},
   "outputs": [
    {
     "name": "stdout",
     "output_type": "stream",
     "text": [
      "  Student Name\n",
      "0        Akash\n",
      "1     Arshveer\n",
      "2       Veehan\n",
      "3      Dushant\n",
      "4        Shlok\n"
     ]
    }
   ],
   "source": [
    "a = ['Akash','Arshveer','Veehan','Dushant','Shlok'] \n",
    "b = pd.DataFrame(a, columns = ['Student Name']) \n",
    "print(b) "
   ]
  },
  {
   "cell_type": "code",
   "execution_count": 21,
   "id": "d420cb5f-b7de-4041-b7ee-947b7b891564",
   "metadata": {},
   "outputs": [
    {
     "name": "stdout",
     "output_type": "stream",
     "text": [
      "    Players  M1  M2  M3\n",
      "0    Veehan  23  30  28\n",
      "1     Akash  27  23  24\n",
      "2  Arshveer  29  23  26\n"
     ]
    }
   ],
   "source": [
    "a4 = [['Veehan',23,30,28],['Akash',27,23,24],['Arshveer',29,23,26]] \n",
    "s = pd.DataFrame(a4, columns=['Players','M1','M2','M3']) \n",
    "print(s)  "
   ]
  },
  {
   "cell_type": "code",
   "execution_count": 24,
   "id": "e239f8e1-8e1f-4636-9850-98540cdcbddb",
   "metadata": {},
   "outputs": [
    {
     "name": "stdout",
     "output_type": "stream",
     "text": [
      "India        New Delhi\n",
      "UK              London\n",
      "Denmark     Copenhagen\n",
      "Thailand       Bangkok\n",
      "dtype: object\n"
     ]
    }
   ],
   "source": [
    "conr = ['India', 'UK',' Denmark', 'Thailand'] \n",
    "caps = ['New Delhi', 'London', 'Copenhagen','Bangkok' ] \n",
    "ser3 = pd.Series(caps, index = ['India', 'UK', 'Denmark', 'Thailand']) \n",
    "print(ser3) "
   ]
  },
  {
   "cell_type": "markdown",
   "id": "6fa9778f-f53b-4ede-9177-7a912e2660e4",
   "metadata": {},
   "source": [
    "# Further"
   ]
  },
  {
   "cell_type": "code",
   "execution_count": 3,
   "id": "bf0dc015-469f-4a05-ae9c-f73ddc9175ee",
   "metadata": {},
   "outputs": [
    {
     "name": "stdout",
     "output_type": "stream",
     "text": [
      "    Country     Capital   Population\n",
      "0     India   New Delhi  12345343325\n",
      "1       U.S      London   3424235242\n",
      "2   Denmark  Copenhagen    345225524\n",
      "3  Thailand     Bangkok    552344414\n"
     ]
    }
   ],
   "source": [
    "import pandas as pd\n",
    "v = {'Country':['India','U.S','Denmark','Thailand'],'Capital':['New Delhi', 'London', 'Copenhagen','Bangkok' ], 'Population':[12345343325,3424235242,345225524,552344414]}  \n",
    "countries = pd.DataFrame(v) \n",
    "print(countries) "
   ]
  },
  {
   "cell_type": "code",
   "execution_count": 4,
   "id": "b3ea3273-cced-46b3-9850-385eab35977b",
   "metadata": {},
   "outputs": [
    {
     "name": "stdout",
     "output_type": "stream",
     "text": [
      "0     1\n",
      "1     2\n",
      "2     3\n",
      "3     4\n",
      "4     5\n",
      "5     6\n",
      "6     7\n",
      "7     8\n",
      "8     9\n",
      "9    10\n",
      "dtype: int64\n"
     ]
    }
   ],
   "source": [
    "import pandas as pd\n",
    "natural_numbers = pd.Series(range(1, 11))\n",
    "print(natural_numbers)"
   ]
  },
  {
   "cell_type": "code",
   "execution_count": 5,
   "id": "aca6e514-b21c-494d-a4be-c6c5daa6edaf",
   "metadata": {},
   "outputs": [
    {
     "name": "stdout",
     "output_type": "stream",
     "text": [
      "0    21.0\n",
      "1    22.5\n",
      "2    24.0\n",
      "3    25.5\n",
      "4    27.0\n",
      "5    28.5\n",
      "6    30.0\n",
      "dtype: float64\n"
     ]
    }
   ],
   "source": [
    "import pandas as pd\n",
    "floats = pd.Series([21.0 + 1.5 * i for i in range(7)])\n",
    "print(floats)\n"
   ]
  },
  {
   "cell_type": "code",
   "execution_count": 6,
   "id": "ffcf0f2d-f118-4e4b-a7cc-4b24a81b7776",
   "metadata": {},
   "outputs": [
    {
     "name": "stdout",
     "output_type": "stream",
     "text": [
      "1       January\n",
      "2      February\n",
      "3         March\n",
      "4         April\n",
      "5           May\n",
      "6          June\n",
      "7          July\n",
      "8        August\n",
      "9     September\n",
      "10      October\n",
      "11     November\n",
      "12     December\n",
      "dtype: object\n"
     ]
    }
   ],
   "source": [
    "import pandas as pd\n",
    "months = {1: 'January', 2: 'February', 3: 'March', 4: 'April', 5: 'May', 6: 'June', 7: 'July', 8: 'August', 9: 'September', 10: 'October', 11: 'November', 12: 'December'}\n",
    "month_series = pd.Series(months)\n",
    "print(month_series)"
   ]
  },
  {
   "cell_type": "code",
   "execution_count": 7,
   "id": "44614c6f-5812-4b84-8673-7f1561c7a6ee",
   "metadata": {},
   "outputs": [
    {
     "name": "stdout",
     "output_type": "stream",
     "text": [
      "0    45\n",
      "1    37\n",
      "2    33\n",
      "3    39\n",
      "4    55\n",
      "5    27\n",
      "6    36\n",
      "7    44\n",
      "8    33\n",
      "9    35\n",
      "dtype: int64\n"
     ]
    }
   ],
   "source": [
    "import pandas as pd\n",
    "marks = pd.Series([45, 32, 28, 39, 55, 22, 31, 44, 28, 35])\n",
    "marks = marks.apply(lambda x: x + 5 if x < 33 else x)\n",
    "print(marks)"
   ]
  },
  {
   "cell_type": "code",
   "execution_count": 9,
   "id": "a1710447-7fed-4a8f-a939-04ee326bc7aa",
   "metadata": {},
   "outputs": [
    {
     "name": "stdout",
     "output_type": "stream",
     "text": [
      "      Name\n",
      "0     Arsh\n",
      "1  Utkarsh\n",
      "2   Bianca\n",
      "3    Vivek\n",
      "4     Anvi\n"
     ]
    }
   ],
   "source": [
    "import pandas as pd\n",
    "students = pd.DataFrame(['Arsh', 'Utkarsh', 'Bianca', 'Vivek', 'Anvi'], columns=['Name'])\n",
    "print(students)\n"
   ]
  },
  {
   "cell_type": "code",
   "execution_count": 12,
   "id": "38163616-fccf-482f-8f4e-dbd12261a0ba",
   "metadata": {},
   "outputs": [
    {
     "name": "stdout",
     "output_type": "stream",
     "text": [
      "    Name  Match1  Match2  Match3\n",
      "P1  Veer      25      22      27\n",
      "P2   Dev      24      25      23\n",
      "P3   Raj      28      26      27\n"
     ]
    }
   ],
   "source": [
    "import pandas as pd\n",
    "data = [['Veer', 25, 22, 27], ['Dev', 24, 25, 23], ['Raj', 28, 26, 27]]\n",
    "players = pd.DataFrame(data, columns=['Name', 'Match1', 'Match2', 'Match3'], index = ['P1','P2','P3'])\n",
    "print(players)"
   ]
  },
  {
   "cell_type": "code",
   "execution_count": 13,
   "id": "ff7e788b-036e-4993-8879-79f2e4b27049",
   "metadata": {},
   "outputs": [
    {
     "name": "stdout",
     "output_type": "stream",
     "text": [
      "India        New Delhi\n",
      "UK              London\n",
      "Denmark     Copenhagen\n",
      "Thailand       Bangkok\n",
      "dtype: object\n"
     ]
    }
   ],
   "source": [
    "import pandas as pd\n",
    "countries = ['India', 'UK', 'Denmark', 'Thailand']\n",
    "capitals = ['New Delhi', 'London', 'Copenhagen', 'Bangkok']\n",
    "country_series = pd.Series(capitals, index=countries)\n",
    "print(country_series)"
   ]
  },
  {
   "cell_type": "code",
   "execution_count": 14,
   "id": "f6646a32-70d3-4d62-8008-f7a3c1a7de10",
   "metadata": {},
   "outputs": [
    {
     "name": "stdout",
     "output_type": "stream",
     "text": [
      "      Country    Capital    Population\n",
      "0       India  New Delhi  121212121123\n",
      "1  Bangladesh      Dhaka   12999999999\n",
      "2   Sri Lanka    Colombo      90000000\n"
     ]
    }
   ],
   "source": [
    "import pandas as pd\n",
    "data = {\n",
    "    'Country': ['India', 'Bangladesh', 'Sri Lanka'],\n",
    "    'Capital': ['New Delhi', 'Dhaka', 'Colombo'],\n",
    "    'Population': [121212121123, 12999999999,90000000]\n",
    "}\n",
    "countries = pd.DataFrame(data)\n",
    "print(countries)"
   ]
  },
  {
   "cell_type": "code",
   "execution_count": 15,
   "id": "e845528a-376c-4011-91f5-1d4c4ba6aabb",
   "metadata": {},
   "outputs": [
    {
     "name": "stdout",
     "output_type": "stream",
     "text": [
      "     Name Department  Salary\n",
      "0   Divya         HR   95000\n",
      "1   Mamta  Marketing   97000\n",
      "2   Payal         IT  980000\n",
      "3  Deepak      Sales   79000\n"
     ]
    }
   ],
   "source": [
    "import pandas as pd\n",
    "data = [['Divya', 'HR', 95000], ['Mamta', 'Marketing', 97000], ['Payal', 'IT', 980000], ['Deepak', 'Sales', 79000]]\n",
    "df = pd.DataFrame(data, columns=['Name', 'Department', 'Salary'])\n",
    "print(df)"
   ]
  },
  {
   "cell_type": "code",
   "execution_count": 16,
   "id": "54e4610a-19e3-40c4-992d-85374c3e5614",
   "metadata": {},
   "outputs": [
    {
     "name": "stdout",
     "output_type": "stream",
     "text": [
      "0    Pass\n",
      "Name: Result, dtype: object\n",
      "     Name  Year  Total_Score Result\n",
      "0   Anand  2020          410   Pass\n",
      "1  Manish  2020          350   Pass\n",
      "3  Suresh  2021          380   Pass\n",
      "4  Mahesh  2020          400   Pass\n",
      "0    2020\n",
      "1    2020\n",
      "2    2021\n",
      "3    2021\n",
      "4    2020\n",
      "Name: Year, dtype: int64\n"
     ]
    }
   ],
   "source": [
    "import pandas as pd\n",
    "data = {\n",
    "    'Name': ['Anand', 'Manish', 'Rohit', 'Suresh', 'Mahesh'],\n",
    "    'Year': [2020, 2020, 2021, 2021, 2020],\n",
    "    'Total_Score': [410, 350, 150, 380, 400],\n",
    "    'Result': ['Pass', 'Pass', 'Fail', 'Pass', 'Pass']\n",
    "}\n",
    "df = pd.DataFrame(data)\n",
    "\n",
    "# Display Result of student whose name is “Anand”\n",
    "print(df[df['Name'] == 'Anand']['Result'])\n",
    "\n",
    "# Display details of students whose Result is ‘Pass’\n",
    "print(df[df['Result'] == 'Pass'])\n",
    "\n",
    "# Display Year of Result only for all students.\n",
    "print(df['Year'])"
   ]
  },
  {
   "cell_type": "code",
   "execution_count": 17,
   "id": "fe6e449f-21b2-48fd-8174-a63e35059260",
   "metadata": {},
   "outputs": [
    {
     "name": "stdout",
     "output_type": "stream",
     "text": [
      "          Type Book_Code  Num_Copies\n",
      "1  Non-Fiction        NF         290\n",
      "3       Poetry         P         760\n",
      "4    Folk Tale        FT         600\n"
     ]
    }
   ],
   "source": [
    "import pandas as pd\n",
    "data = {\n",
    "    'Type': ['Fiction', 'Non-Fiction', 'Drama', 'Poetry'],\n",
    "    'Code': ['F', 'NF', 'D', 'P']\n",
    "}\n",
    "genre = pd.DataFrame(data)\n",
    "\n",
    "# Add a column called Num_Copies\n",
    "genre['Num_Copies'] = [300, 290, 450, 760]\n",
    "\n",
    "# Add a new genre of type 'Folk Tale'\n",
    "genre.loc[len(genre)] = ['Folk Tale', 'FT', 600]\n",
    "\n",
    "# Rename the column 'Code' to 'Book_Code'\n",
    "genre.rename(columns={'Code': 'Book_Code'}, inplace=True)\n",
    "\n",
    "# Delete the 1st and 3rd row\n",
    "genre.drop([0, 2], axis=0, inplace=True)\n",
    "\n",
    "print(genre)"
   ]
  },
  {
   "cell_type": "code",
   "execution_count": 18,
   "id": "ca3df429-b398-45d1-901c-4e94c72a8a4d",
   "metadata": {},
   "outputs": [
    {
     "name": "stdout",
     "output_type": "stream",
     "text": [
      "  Symbol  Atomic number\n",
      "0      H              1\n",
      "1     He              2\n",
      "2     Li              3\n",
      "3     Be              4\n"
     ]
    }
   ],
   "source": [
    "import pandas as pd\n",
    "symbols = ['H', 'He', 'Li', 'Be']\n",
    "atomic_numbers = [1, 2, 3, 4]\n",
    "elements_df = pd.DataFrame({'Symbol': symbols, 'Atomic number': atomic_numbers})\n",
    "print(elements_df)\n"
   ]
  },
  {
   "cell_type": "code",
   "execution_count": 20,
   "id": "33bde7fb-3dcf-4934-886a-174ea8c1b622",
   "metadata": {},
   "outputs": [],
   "source": [
    "# import pandas as pd\n",
    "# df = pd.read_csv('file.csv')  # Replace with your file path\n",
    "# print(df.shape)\n"
   ]
  },
  {
   "cell_type": "code",
   "execution_count": 25,
   "id": "157f7145-63d2-4d3c-ad42-5200e5c49737",
   "metadata": {},
   "outputs": [],
   "source": [
    "import pandas as pd\n",
    "data = {\n",
    "    'RollNumber': [1, 2, 3, 4, 5],\n",
    "    'Name': ['Vinay', 'Sweta', 'Nidhi', 'Raj', 'Priya'],\n",
    "    'Height': [100, 121, 120, 115, 118],\n",
    "    'Weight': [58, 50, 50, 55, 58]\n",
    "}\n",
    "df = pd.DataFrame(data)\n",
    "df.to_csv('students.csv', index=False)"
   ]
  },
  {
   "cell_type": "code",
   "execution_count": null,
   "id": "cdf192d3-f90a-4014-8d21-64a3d6567371",
   "metadata": {},
   "outputs": [],
   "source": [
    "print(dir(df))  # Lists all attributes and methods of the DataFrame\n"
   ]
  },
  {
   "cell_type": "code",
   "execution_count": 27,
   "id": "c51c72f0-5031-4446-9f70-d7917b33dfe9",
   "metadata": {},
   "outputs": [
    {
     "data": {
      "image/png": "[encoded data removed]",
      "text/plain": [
       "<Figure size 640x480 with 1 Axes>"
      ]
     },
     "metadata": {},
     "output_type": "display_data"
    }
   ],
   "source": [
    "import matplotlib.pyplot as plt\n",
    "countries = ['USA', 'China', 'India', 'Russia']\n",
    "medals = [100, 85, 70, 60]\n",
    "plt.bar(countries, medals, color = 'c')\n",
    "plt.title('Medals Won by Countries')\n",
    "plt.xlabel('Countries')\n",
    "plt.ylabel('Number of Medals')\n",
    "plt.legend(['Medals'])\n",
    "plt.show()"
   ]
  },
  {
   "cell_type": "code",
   "execution_count": 29,
   "id": "ca32acc5-e977-4101-a98c-32ca32641ec5",
   "metadata": {},
   "outputs": [
    {
     "data": {
      "image/png": "[encoded data removed]",
      "text/plain": [
       "<Figure size 640x480 with 1 Axes>"
      ]
     },
     "metadata": {},
     "output_type": "display_data"
    }
   ],
   "source": [
    "import matplotlib.pyplot as plt\n",
    "marks = [12, 10, 10,15, 17, 25, 12, 22, 35, 40]\n",
    "plt.plot(range(1, 11), marks)\n",
    "plt.title('Student Performance in 10 Unit Tests')\n",
    "plt.xlabel('Unit Test')\n",
    "plt.ylabel('Marks')\n",
    "plt.show()"
   ]
  },
  {
   "cell_type": "code",
   "execution_count": 31,
   "id": "f8bca407-a381-4cef-98c9-e5796e2c6d56",
   "metadata": {},
   "outputs": [
    {
     "data": {
      "image/png": "[encoded data removed]",
      "text/plain": [
       "<Figure size 640x480 with 1 Axes>"
      ]
     },
     "metadata": {},
     "output_type": "display_data"
    }
   ],
   "source": [
    "import matplotlib.pyplot as plt\n",
    "heights = [145, 141, 142, 142, 143, 144, 141, 140, 143, 144]\n",
    "plt.hist(heights)\n",
    "plt.title('Height Distribution of 8th Grade Students')\n",
    "plt.xlabel('Height (cms)')\n",
    "plt.ylabel('Frequency')\n",
    "plt.show()"
   ]
  },
  {
   "cell_type": "code",
   "execution_count": 33,
   "id": "8e060d28-71a9-4826-b544-d65687294c3b",
   "metadata": {},
   "outputs": [
    {
     "data": {
      "image/png": "[encoded data removed]",
      "text/plain": [
       "<Figure size 640x480 with 1 Axes>"
      ]
     },
     "metadata": {},
     "output_type": "display_data"
    }
   ],
   "source": [
    "import matplotlib.pyplot as pl\n",
    "ages = [1, 1, 2, 3, 5, 7, 8, 9, 10, 10, 11, 13, 13, 15, 16, 17, 18, 19, 20, 21, 21, 23, 24, 24, 24, 25, 25, 25, 25, 26, 26, 26, 27, 27, 27, 27, 27, 29, 30, 30, 30, 30, 31, 33, 34, 34, 35,36,36,37,37,37,38,38,39,40,40,41,41]\n",
    "pl.hist(ages)\n",
    "pl.title('Ages chart')\n",
    "pl.xlabel('Ages')\n",
    "pl.ylabel('Number of people')\n",
    "pl.show()\n"
   ]
  },
  {
   "cell_type": "code",
   "execution_count": 34,
   "id": "41903d47-f8cd-4557-9ec3-1584caf8b1b2",
   "metadata": {},
   "outputs": [
    {
     "data": {
      "image/png": "[encoded data removed]",
      "text/plain": [
       "<Figure size 1000x600 with 1 Axes>"
      ]
     },
     "metadata": {},
     "output_type": "display_data"
    }
   ],
   "source": [
    "import matplotlib.pyplot as plt\n",
    "import numpy as np\n",
    "\n",
    "# Data\n",
    "students = ['Anil', 'Vikas', 'Dharma', 'Mahen', 'Manish', 'Rajesh']\n",
    "accountancy_scores = [94, 85, 45, 25, 50, 54]\n",
    "business_study_scores = [98, 76, 34, 65, 55, 88]\n",
    "\n",
    "# Position of the bars on the x-axis\n",
    "x = np.arange(len(students))\n",
    "\n",
    "# Width of the bars\n",
    "width = 0.35\n",
    "\n",
    "# Plotting\n",
    "fig, ax = plt.subplots(figsize=(10, 6))\n",
    "\n",
    "# Create the bars\n",
    "bars1 = ax.bar(x - width/2, accountancy_scores, width, label='Accountancy', color='skyblue')\n",
    "bars2 = ax.bar(x + width/2, business_study_scores, width, label='Business Studies', color='lightgreen')\n",
    "\n",
    "# Adding labels, title, and custom x-axis tick labels\n",
    "ax.set_xlabel('Students')\n",
    "ax.set_ylabel('Scores')\n",
    "ax.set_title('Performance of Students in Accountancy and Business Studies')\n",
    "ax.set_xticks(x)\n",
    "ax.set_xticklabels(students)\n",
    "ax.legend()\n",
    "\n",
    "# Display the plot\n",
    "plt.tight_layout()\n",
    "plt.show()"
   ]
  },
  {
   "cell_type": "code",
   "execution_count": null,
   "id": "733fb7ae-47d9-4802-906a-2c9ae806bcd4",
   "metadata": {},
   "outputs": [],
   "source": []
  }
 ],
 "metadata": {
  "kernelspec": {
   "display_name": "Python 3 (ipykernel)",
   "language": "python",
   "name": "python3"
  },
  "language_info": {
   "codemirror_mode": {
    "name": "ipython",
    "version": 3
   },
   "file_extension": ".py",
   "mimetype": "text/x-python",
   "name": "python",
   "nbconvert_exporter": "python",
   "pygments_lexer": "ipython3",
   "version": "3.11.6"
  }
 },
 "nbformat": 4,
 "nbformat_minor": 5
}
