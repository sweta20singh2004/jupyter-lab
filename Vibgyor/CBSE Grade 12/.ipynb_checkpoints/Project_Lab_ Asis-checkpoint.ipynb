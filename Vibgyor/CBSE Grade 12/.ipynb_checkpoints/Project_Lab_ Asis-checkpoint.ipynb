{
 "cells": [
  {
   "cell_type": "markdown",
   "id": "8e1c3f57-f212-4da7-9c7d-e5419907c01f",
   "metadata": {},
   "source": [
    "1. Write a program to generate a Series of the first 10 natural numbers."
   ]
  },
  {
   "cell_type": "code",
   "execution_count": 2,
   "id": "5a5e198b-3029-4377-b828-32d24946897e",
   "metadata": {},
   "outputs": [
    {
     "ename": "ModuleNotFoundError",
     "evalue": "No module named 'pandas'",
     "output_type": "error",
     "traceback": [
      "\u001b[0;31m---------------------------------------------------------------------------\u001b[0m",
      "\u001b[0;31mModuleNotFoundError\u001b[0m                       Traceback (most recent call last)",
      "Cell \u001b[0;32mIn[2], line 1\u001b[0m\n\u001b[0;32m----> 1\u001b[0m \u001b[38;5;28;01mimport\u001b[39;00m \u001b[38;5;21;01mpandas\u001b[39;00m \u001b[38;5;28;01mas\u001b[39;00m \u001b[38;5;21;01mpd\u001b[39;00m   \n\u001b[1;32m      2\u001b[0m list1 \u001b[38;5;241m=\u001b[39m \u001b[38;5;28mlist\u001b[39m(\u001b[38;5;28mrange\u001b[39m(\u001b[38;5;241m1\u001b[39m,\u001b[38;5;241m11\u001b[39m)) \n\u001b[1;32m      3\u001b[0m ser1 \u001b[38;5;241m=\u001b[39m pd\u001b[38;5;241m.\u001b[39mSeries(list1) \n",
      "\u001b[0;31mModuleNotFoundError\u001b[0m: No module named 'pandas'"
     ]
    }
   ],
   "source": [
    "import pandas as pd   \n",
    "list1 = list(range(1,11)) \n",
    "ser1 = pd.Series(list1) \n",
    "print(ser1)"
   ]
  },
  {
   "cell_type": "markdown",
   "id": "699ad7bd-7067-4b85-a857-4f319f7adfec",
   "metadata": {},
   "source": [
    "2. Write a program to generate a Series of float numbers from 21.0 to 30 with an increment of 1.5 each."
   ]
  },
  {
   "cell_type": "code",
   "execution_count": 4,
   "id": "b91700d3-4065-4389-99b6-44d3512e9d83",
   "metadata": {},
   "outputs": [
    {
     "name": "stdout",
     "output_type": "stream",
     "text": [
      "0     21.0\n",
      "1     21.5\n",
      "2     22.0\n",
      "3     22.5\n",
      "4     23.0\n",
      "5     23.5\n",
      "6     24.0\n",
      "7     24.5\n",
      "8     25.0\n",
      "9     25.5\n",
      "10    26.0\n",
      "11    26.5\n",
      "12    27.0\n",
      "13    27.5\n",
      "14    28.0\n",
      "15    28.5\n",
      "16    29.0\n",
      "17    29.5\n",
      "18    30.0\n",
      "19    30.5\n",
      "dtype: float64\n"
     ]
    }
   ],
   "source": [
    "import numpy as np\n",
    "list1 = list(np.arange(21,31,0.5))\n",
    "ser1 = pd.Series(list1) \n",
    "print(ser1)"
   ]
  },
  {
   "cell_type": "markdown",
   "id": "8beafa02-ae63-42bb-9381-fbe97074fa88",
   "metadata": {},
   "source": [
    "#. "
   ]
  },
  {
   "cell_type": "code",
   "execution_count": null,
   "id": "fb451b8f-703f-49a6-a722-f8d1aab2174f",
   "metadata": {},
   "outputs": [],
   "source": [
    "dict_mon(1;'January', 2:'February',3:'March',4:'April',5:'May',6:'')"
   ]
  },
  {
   "cell_type": "code",
   "execution_count": 1,
   "id": "4e44270a-ea38-4dc0-8143-cbee63eab441",
   "metadata": {},
   "outputs": [
    {
     "ename": "ModuleNotFoundError",
     "evalue": "No module named 'pandas'",
     "output_type": "error",
     "traceback": [
      "\u001b[0;31m---------------------------------------------------------------------------\u001b[0m",
      "\u001b[0;31mModuleNotFoundError\u001b[0m                       Traceback (most recent call last)",
      "Cell \u001b[0;32mIn[1], line 1\u001b[0m\n\u001b[0;32m----> 1\u001b[0m \u001b[38;5;28;01mimport\u001b[39;00m \u001b[38;5;21;01mpandas\u001b[39;00m \u001b[38;5;28;01mas\u001b[39;00m \u001b[38;5;21;01mpd\u001b[39;00m \n\u001b[1;32m      2\u001b[0m a \u001b[38;5;241m=\u001b[39m [[\u001b[38;5;124m'\u001b[39m\u001b[38;5;124mDivya\u001b[39m\u001b[38;5;124m'\u001b[39m,\u001b[38;5;124m'\u001b[39m\u001b[38;5;124mHR\u001b[39m\u001b[38;5;124m'\u001b[39m,\u001b[38;5;241m95000\u001b[39m],[\u001b[38;5;124m'\u001b[39m\u001b[38;5;124mMamta\u001b[39m\u001b[38;5;124m'\u001b[39m,\u001b[38;5;124m'\u001b[39m\u001b[38;5;124mMarketing\u001b[39m\u001b[38;5;124m'\u001b[39m,\u001b[38;5;241m97000\u001b[39m],[\u001b[38;5;124m'\u001b[39m\u001b[38;5;124mPayal\u001b[39m\u001b[38;5;124m'\u001b[39m,\u001b[38;5;124m'\u001b[39m\u001b[38;5;124mIT\u001b[39m\u001b[38;5;124m'\u001b[39m,\u001b[38;5;241m97000\u001b[39m],[\u001b[38;5;124m'\u001b[39m\u001b[38;5;124mDeepak\u001b[39m\u001b[38;5;124m'\u001b[39m,\u001b[38;5;124m'\u001b[39m\u001b[38;5;124mSales\u001b[39m\u001b[38;5;124m'\u001b[39m,\u001b[38;5;241m79000\u001b[39m]] \n\u001b[1;32m      3\u001b[0m c \u001b[38;5;241m=\u001b[39m pd\u001b[38;5;241m.\u001b[39mDataFrame(a, columns \u001b[38;5;241m=\u001b[39m [\u001b[38;5;124m'\u001b[39m\u001b[38;5;124mName\u001b[39m\u001b[38;5;124m'\u001b[39m,\u001b[38;5;124m'\u001b[39m\u001b[38;5;124mDepartment\u001b[39m\u001b[38;5;124m'\u001b[39m,\u001b[38;5;124m'\u001b[39m\u001b[38;5;124mSalary\u001b[39m\u001b[38;5;124m'\u001b[39m], index \u001b[38;5;241m=\u001b[39m [\u001b[38;5;124m'\u001b[39m\u001b[38;5;124mE1\u001b[39m\u001b[38;5;124m'\u001b[39m,\u001b[38;5;124m'\u001b[39m\u001b[38;5;124mE2\u001b[39m\u001b[38;5;124m'\u001b[39m,\u001b[38;5;124m'\u001b[39m\u001b[38;5;124mE3\u001b[39m\u001b[38;5;124m'\u001b[39m,\u001b[38;5;124m'\u001b[39m\u001b[38;5;124mE4\u001b[39m\u001b[38;5;124m'\u001b[39m]) \n",
      "\u001b[0;31mModuleNotFoundError\u001b[0m: No module named 'pandas'"
     ]
    }
   ],
   "source": [
    "import pandas as pd \n",
    "a = [['Divya','HR',95000],['Mamta','Marketing',97000],['Payal','IT',97000],['Deepak','Sales',79000]] \n",
    "c = pd.DataFrame(a, columns = ['Name','Department','Salary'], index = ['E1','E2','E3','E4']) \n",
    "print(c) "
   ]
  },
  {
   "cell_type": "code",
   "execution_count": null,
   "id": "77cabd47-a5c6-4c99-abba-a0bb66ba903d",
   "metadata": {},
   "outputs": [],
   "source": []
  }
 ],
 "metadata": {
  "kernelspec": {
   "display_name": "Python 3 (ipykernel)",
   "language": "python",
   "name": "python3"
  },
  "language_info": {
   "codemirror_mode": {
    "name": "ipython",
    "version": 3
   },
   "file_extension": ".py",
   "mimetype": "text/x-python",
   "name": "python",
   "nbconvert_exporter": "python",
   "pygments_lexer": "ipython3",
   "version": "3.11.6"
  }
 },
 "nbformat": 4,
 "nbformat_minor": 5
}
