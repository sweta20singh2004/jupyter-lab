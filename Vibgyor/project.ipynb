{
 "cells": [
  {
   "cell_type": "code",
   "execution_count": null,
   "id": "7478fa2e-f74d-401a-ae9b-ce6f83f8d7f4",
   "metadata": {},
   "outputs": [
    {
     "name": "stdout",
     "output_type": "stream",
     "text": [
      "**************************************************\n",
      "\t\tKanha Sweet Shop\n",
      "**************************************************\n",
      "@@@@@@@@@@@@@@@@\n",
      "Index(['Name', 'Cost', 'Qty', 'Main Ingredient'], dtype='object')\n",
      "Press 1 - Add a New Sweet\n",
      "Press 2 - Show all\n",
      "Press 3 - Search\n",
      "Press 4 - Delete\n",
      "Press 5 - Update\n",
      "Press 6 - Create Bill\n",
      "Press 7 - Show Chart of Sweets\n",
      "Press 8 - Show Chart of Bills\n",
      "Press 9 - To Quit\n"
     ]
    },
    {
     "name": "stdin",
     "output_type": "stream",
     "text": [
      "Enter your choice :  2\n"
     ]
    },
    {
     "name": "stdout",
     "output_type": "stream",
     "text": [
      "\n",
      " **************************************************\n",
      "          Name  Cost    Qty Main Ingredient\n",
      "0        Barfi   300   48.0            Milk\n",
      "1     Rasmalai   500   75.0            Milk\n",
      "2     Rasgulle   200  200.0           Khoya\n",
      "3   Kaju Katli  1000  294.0            Milk\n",
      "4     Motichur   200   95.0           Besan\n",
      "5    Son Papdi   100  500.0           Besan\n",
      "6  Gulab Jamun   200  600.0           Sugar\n",
      "**************************************************\n",
      "Press 1 - Add a New Sweet\n",
      "Press 2 - Show all\n",
      "Press 3 - Search\n",
      "Press 4 - Delete\n",
      "Press 5 - Update\n",
      "Press 6 - Create Bill\n",
      "Press 7 - Show Chart of Sweets\n",
      "Press 8 - Show Chart of Bills\n",
      "Press 9 - To Quit\n"
     ]
    },
    {
     "name": "stdin",
     "output_type": "stream",
     "text": [
      "Enter your choice :  1\n",
      "Enter the sweet code  7\n",
      "Enter the name of the sweet  Modak\n",
      "Enter cost per kg  250\n",
      "Enter quantity in kgs  120\n",
      "Enter the main ingredient  Khoya\n"
     ]
    },
    {
     "name": "stdout",
     "output_type": "stream",
     "text": [
      "\n",
      "Added Successfully \n",
      "\n",
      "Press 1 - Add a New Sweet\n",
      "Press 2 - Show all\n",
      "Press 3 - Search\n",
      "Press 4 - Delete\n",
      "Press 5 - Update\n",
      "Press 6 - Create Bill\n",
      "Press 7 - Show Chart of Sweets\n",
      "Press 8 - Show Chart of Bills\n",
      "Press 9 - To Quit\n"
     ]
    },
    {
     "name": "stdin",
     "output_type": "stream",
     "text": [
      "Enter your choice :  2\n"
     ]
    },
    {
     "name": "stdout",
     "output_type": "stream",
     "text": [
      "\n",
      " **************************************************\n",
      "          Name  Cost    Qty Main Ingredient\n",
      "0        Barfi   300   48.0            Milk\n",
      "1     Rasmalai   500   75.0            Milk\n",
      "2     Rasgulle   200  200.0           Khoya\n",
      "3   Kaju Katli  1000  294.0            Milk\n",
      "4     Motichur   200   95.0           Besan\n",
      "5    Son Papdi   100  500.0           Besan\n",
      "6  Gulab Jamun   200  600.0           Sugar\n",
      "7        Modak   250  120.0           Khoya\n",
      "**************************************************\n",
      "Press 1 - Add a New Sweet\n",
      "Press 2 - Show all\n",
      "Press 3 - Search\n",
      "Press 4 - Delete\n",
      "Press 5 - Update\n",
      "Press 6 - Create Bill\n",
      "Press 7 - Show Chart of Sweets\n",
      "Press 8 - Show Chart of Bills\n",
      "Press 9 - To Quit\n"
     ]
    },
    {
     "name": "stdin",
     "output_type": "stream",
     "text": [
      "Enter your choice :  6\n"
     ]
    },
    {
     "name": "stdout",
     "output_type": "stream",
     "text": [
      "Available Sweets \n",
      "\n",
      " **************************************************\n",
      "          Name  Cost    Qty Main Ingredient\n",
      "0        Barfi   300   48.0            Milk\n",
      "1     Rasmalai   500   75.0            Milk\n",
      "2     Rasgulle   200  200.0           Khoya\n",
      "3   Kaju Katli  1000  294.0            Milk\n",
      "4     Motichur   200   95.0           Besan\n",
      "5    Son Papdi   100  500.0           Besan\n",
      "6  Gulab Jamun   200  600.0           Sugar\n",
      "7        Modak   250  120.0           Khoya\n",
      "**************************************************\n"
     ]
    },
    {
     "name": "stdin",
     "output_type": "stream",
     "text": [
      "Enter the code of the sweet to be purchased :  7\n",
      "Enter the quantity to be purchased (in kg):  2\n"
     ]
    },
    {
     "name": "stdout",
     "output_type": "stream",
     "text": [
      "Your Due Amount is  500\n"
     ]
    },
    {
     "name": "stdin",
     "output_type": "stream",
     "text": [
      "Enter Customer name :  Modak Mishra\n",
      "Enter Billing Date (YYYY-MM-DD):  2024-12-19\n"
     ]
    },
    {
     "name": "stdout",
     "output_type": "stream",
     "text": [
      "Bill generated with Bill ID 1734583084.566348\n",
      "Bill generated successfully for Modak Mishra on 2024-12-19.\n",
      "Sweet: Modak, Quantity: 2 kg, Amount: 500\n",
      "Press 1 - Add a New Sweet\n",
      "Press 2 - Show all\n",
      "Press 3 - Search\n",
      "Press 4 - Delete\n",
      "Press 5 - Update\n",
      "Press 6 - Create Bill\n",
      "Press 7 - Show Chart of Sweets\n",
      "Press 8 - Show Chart of Bills\n",
      "Press 9 - To Quit\n"
     ]
    }
   ],
   "source": [
    "import pandas as pd\n",
    "import matplotlib.pyplot as plt\n",
    "import random\n",
    "import os\n",
    "from datetime import datetime\n",
    "\n",
    "\n",
    "def addSweet(df):\n",
    "    code = int(input(\"Enter the sweet code \"))\n",
    "    name = input(\"Enter the name of the sweet \")\n",
    "    cost = int(input(\"Enter cost per kg \"))\n",
    "    qty = float(input(\"Enter quantity in kgs \"))\n",
    "    ig = input(\"Enter the main ingredient \")\n",
    "    df.loc[code] = [name, cost, qty, ig]\n",
    "    df.to_csv(\"sweets.csv\", index=False)\n",
    "    print(\"\\nAdded Successfully \\n\")\n",
    "\n",
    "\n",
    "# Ensure the CSV files exist\n",
    "if not os.path.exists(\"sweets.csv\"):\n",
    "    # Creating a sample sweets.csv if it doesn't exist\n",
    "    df = pd.DataFrame(columns=[\"Name\", \"Cost\", \"Qty\", \"Main Ingredient\"])\n",
    "    df.to_csv(\"sweets.csv\", index=False)\n",
    "\n",
    "else:\n",
    "    df = pd.read_csv(\"sweets.csv\")\n",
    "\n",
    "if not os.path.exists(\"customer.csv\"):\n",
    "    # Creating a sample customer.csv if it doesn't exist\n",
    "    bf = pd.DataFrame(columns=[\"bill_id\", \"name\", \"date\", \"order_amt\", \"sweet_name\"])\n",
    "    bf.to_csv(\"customer.csv\", index=False)\n",
    "\n",
    "else:\n",
    "    bf = pd.read_csv(\"customer.csv\")\n",
    "\n",
    "\n",
    "print(\"*\" * 50)\n",
    "print(\"\\t\\tKanha Sweet Shop\")\n",
    "print(\"*\" * 50)\n",
    "print(\"@@@@@@@@@@@@@@@@\")\n",
    "print(df.columns)\n",
    "\n",
    "while True:\n",
    "    print(\"Press 1 - Add a New Sweet\")\n",
    "    print(\"Press 2 - Show all\")\n",
    "    print(\"Press 3 - Search\")\n",
    "    print(\"Press 4 - Delete\")\n",
    "    print(\"Press 5 - Update\")\n",
    "    print(\"Press 6 - Create Bill\")\n",
    "    print(\"Press 7 - Show Chart of Sweets\")\n",
    "    print(\"Press 8 - Show Chart of Bills\")\n",
    "    print(\"Press 9 - To Quit\")\n",
    "    n = int(input(\"Enter your choice : \"))\n",
    "\n",
    "    if n == 1:\n",
    "        addSweet(df)\n",
    "    elif n == 2:\n",
    "        print(\"\\n\", \"*\" * 50)\n",
    "        print(df)\n",
    "        print(\"*\" * 50)\n",
    "    elif n == 3:\n",
    "        code = int(input(\"Enter the sweet code to be searched : \"))\n",
    "        if code in df.index:\n",
    "            print(df.loc[code])\n",
    "            print(\"\\n\")\n",
    "        else:\n",
    "            print(\"No sweet found with this code \")\n",
    "    elif n == 4:\n",
    "        code = int(input(\"Enter the sweet code to be deleted : \"))\n",
    "        if code in df.index:\n",
    "            df.drop(code, inplace=True)\n",
    "            print(\"\\nDeleted\\n\")\n",
    "        else:\n",
    "            print(\"No sweet found with this code \")\n",
    "    elif n == 5:\n",
    "        code = int(input(\"Enter the sweet code to be updated : \"))\n",
    "        if code in df.index:\n",
    "            name = input(\"Enter the updated name of the sweet \")\n",
    "            cost = int(input(\"Enter updated cost per kg \"))\n",
    "            qty = float(input(\"Enter quantity in kgs \"))\n",
    "            ig = input(\"Enter the main ingredient \")\n",
    "            df.loc[code] = [name, cost, qty, ig]\n",
    "            print(\"\\nUpdated\\n\")\n",
    "        else:\n",
    "            print(\"No sweet found with this code \")\n",
    "    elif n == 6:\n",
    "        print(\"Available Sweets \")\n",
    "        print(\"\\n\", \"*\" * 50)\n",
    "        print(df)\n",
    "        print(\"*\" * 50)\n",
    "        code = int(input(\"Enter the code of the sweet to be purchased : \"))\n",
    "        if code in df.index:\n",
    "            qty = int(input(\"Enter the quantity to be purchased (in kg): \"))\n",
    "            if qty <= df.loc[code, \"Qty\"]:  # Ensure enough quantity is available\n",
    "                amt = qty * df.loc[code, \"Cost\"]\n",
    "                print(\"Your Due Amount is \", amt)\n",
    "                name = input(\"Enter Customer name : \")\n",
    "                bdate = input(\"Enter Billing Date (YYYY-MM-DD): \")\n",
    "                # Add new sweets data back to inventory\n",
    "                df.loc[code, \"Qty\"] -= qty\n",
    "                # Add bill data to customer.csv\n",
    "                new_bill_id = datetime.now().timestamp()\n",
    "                bf.loc[new_bill_id] = {\n",
    "                    'bill_id': new_bill_id,\n",
    "                    'name': name,\n",
    "                    'date': bdate,\n",
    "                    'order_amt': amt,\n",
    "                    'sweet_name': df.loc[code, \"Name\"]\n",
    "                }\n",
    "                bf.to_csv(\"customer.csv\", index_label=\"bill_id\")\n",
    "                print(f\"Bill generated with Bill ID {new_bill_id}\")\n",
    "    \n",
    "                # Save updated customer DataFrame to CSV\n",
    "                bf.to_csv(\"customer.csv\", index=False)\n",
    "    \n",
    "                print(f\"Bill generated successfully for {name} on {bdate}.\")\n",
    "                print(f\"Sweet: {df.loc[code, 'Name']}, Quantity: {qty} kg, Amount: {amt}\")\n",
    "            else:\n",
    "                print(\"Insufficient quantity available!\")\n",
    "        else:\n",
    "            print(\"No sweet found with this code \")\n",
    "    elif n == 7:\n",
    "        plt.bar(df[\"Name\"], df[\"Cost\"], color=\"navy\")\n",
    "        plt.title(\"Rate List of Sweets\")\n",
    "        plt.xticks(rotation=90)\n",
    "        plt.show()\n",
    "        plt.savefig('RateListOfSweets')\n",
    "    elif n == 8:\n",
    "        plt.title(\"Sold Sweets\")\n",
    "        plt.bar(bf[\"name\"], bf[\"order_amt\"], color=\"orange\")\n",
    "        plt.xticks(rotation=90) \n",
    "        plt.savefig('Sweets Sold')\n",
    "        plt.show()\n",
    "    elif n == 9:\n",
    "        df.to_csv(\"sweets.csv\", index=False)\n",
    "        print(\"Thanks for Visiting\")\n",
    "        print(\"Data Updated !!!\")\n",
    "        break"
   ]
  },
  {
   "cell_type": "code",
   "execution_count": null,
   "id": "327722d7-a3bf-4e69-bc28-743c811e8e60",
   "metadata": {},
   "outputs": [],
   "source": [
    "\n"
   ]
  }
 ],
 "metadata": {
  "kernelspec": {
   "display_name": "Python 3 (ipykernel)",
   "language": "python",
   "name": "python3"
  },
  "language_info": {
   "codemirror_mode": {
    "name": "ipython",
    "version": 3
   },
   "file_extension": ".py",
   "mimetype": "text/x-python",
   "name": "python",
   "nbconvert_exporter": "python",
   "pygments_lexer": "ipython3",
   "version": "3.11.6"
  }
 },
 "nbformat": 4,
 "nbformat_minor": 5
}
