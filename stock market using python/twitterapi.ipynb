{
 "cells": [
  {
   "cell_type": "code",
   "execution_count": 1,
   "id": "34bb7b8a-f258-4705-9f91-351925353b5e",
   "metadata": {},
   "outputs": [
    {
     "name": "stdout",
     "output_type": "stream",
     "text": [
      "Collecting ntscraper\n",
      "  Downloading ntscraper-0.3.13-py3-none-any.whl.metadata (6.7 kB)\n",
      "Requirement already satisfied: requests in /opt/conda/lib/python3.11/site-packages (from ntscraper) (2.32.3)\n",
      "Requirement already satisfied: beautifulsoup4 in /opt/conda/lib/python3.11/site-packages (from ntscraper) (4.12.3)\n",
      "Requirement already satisfied: lxml in /opt/conda/lib/python3.11/site-packages (from ntscraper) (5.2.2)\n",
      "Requirement already satisfied: soupsieve>1.2 in /opt/conda/lib/python3.11/site-packages (from beautifulsoup4->ntscraper) (2.5)\n",
      "Requirement already satisfied: charset-normalizer<4,>=2 in /opt/conda/lib/python3.11/site-packages (from requests->ntscraper) (3.3.2)\n",
      "Requirement already satisfied: idna<4,>=2.5 in /opt/conda/lib/python3.11/site-packages (from requests->ntscraper) (3.7)\n",
      "Requirement already satisfied: urllib3<3,>=1.21.1 in /opt/conda/lib/python3.11/site-packages (from requests->ntscraper) (2.2.1)\n",
      "Requirement already satisfied: certifi>=2017.4.17 in /opt/conda/lib/python3.11/site-packages (from requests->ntscraper) (2024.2.2)\n",
      "Downloading ntscraper-0.3.13-py3-none-any.whl (11 kB)\n",
      "Installing collected packages: ntscraper\n",
      "Successfully installed ntscraper-0.3.13\n",
      "Note: you may need to restart the kernel to use updated packages.\n"
     ]
    }
   ],
   "source": [
    "pip install ntscraper\n"
   ]
  },
  {
   "cell_type": "code",
   "execution_count": 14,
   "id": "94fed42c-34b6-43c9-ae1c-32c0ced4dd52",
   "metadata": {},
   "outputs": [
    {
     "name": "stderr",
     "output_type": "stream",
     "text": [
      "Testing instances: 100%|██████████| 77/77 [01:13<00:00,  1.04it/s]\n"
     ]
    }
   ],
   "source": [
    "from ntscraper import Nitter\n",
    "# scraper = Nitter(log_level = 1,skip_instance_check= False)\n"
   ]
  },
  {
   "cell_type": "code",
   "execution_count": 15,
   "id": "66fc4156-1829-4594-97f8-b00ba5807419",
   "metadata": {},
   "outputs": [
    {
     "name": "stderr",
     "output_type": "stream",
     "text": [
      "Testing instances: 100%|██████████| 77/77 [01:09<00:00,  1.11it/s]\n"
     ]
    }
   ],
   "source": [
    "scraper = Nitter(log_level = 1,skip_instance_check= False)\n"
   ]
  },
  {
   "cell_type": "code",
   "execution_count": 16,
   "id": "f92e3a5e-9c35-48eb-8f7c-146c1ff8f3a0",
   "metadata": {},
   "outputs": [
    {
     "name": "stdout",
     "output_type": "stream",
     "text": [
      "22-Jun-24 07:04:02 - No instance specified, using random instance https://nitter.privacydev.net\n",
      "22-Jun-24 07:04:08 - Current stats for elonmusk: 10 tweets, 0 threads...\n"
     ]
    }
   ],
   "source": [
    "tweets = scraper.get_tweets(\"elonmusk\",mode=\"user\",number=10)\n"
   ]
  },
  {
   "cell_type": "code",
   "execution_count": 17,
   "id": "bb89e619-d0cf-4d95-a877-f720ad0fe9cf",
   "metadata": {},
   "outputs": [],
   "source": [
    "from pprint import pprint\n"
   ]
  },
  {
   "cell_type": "code",
   "execution_count": 22,
   "id": "747482d6-e19e-4ef5-9177-cdd3d4079f84",
   "metadata": {},
   "outputs": [
    {
     "name": "stdout",
     "output_type": "stream",
     "text": [
      "{'threads': [],\n",
      " 'tweets': [{'date': 'Jun 19, 2024 · 2:54 PM UTC',\n",
      "             'external-link': '',\n",
      "             'gifs': [],\n",
      "             'is-pinned': True,\n",
      "             'is-retweet': False,\n",
      "             'link': 'https://twitter.com/elonmusk/status/1803441170686628124#m',\n",
      "             'pictures': [],\n",
      "             'quoted-post': {},\n",
      "             'replying-to': [],\n",
      "             'stats': {'comments': 8763,\n",
      "                       'likes': 121030,\n",
      "                       'quotes': 1525,\n",
      "                       'retweets': 16112},\n",
      "             'text': '',\n",
      "             'user': {'avatar': 'https://pbs.twimg.com/profile_images/1780044485541699584/p78MCn3B_bigger.jpg',\n",
      "                      'name': 'Elon Musk',\n",
      "                      'profile_id': '1780044485541699584',\n",
      "                      'username': '@elonmusk'},\n",
      "             'videos': ['https://video.twimg.com/amplify_video/1803440100854079490/vid/avc1/1290x720/wM2MRMd1AkmX-fOY.mp4?tag=16']},\n",
      "            {'date': 'Jun 21, 2024 · 7:18 PM UTC',\n",
      "             'external-link': '',\n",
      "             'gifs': [],\n",
      "             'is-pinned': False,\n",
      "             'is-retweet': True,\n",
      "             'link': 'https://twitter.com/Starlink/status/1804232517794566359#m',\n",
      "             'pictures': [],\n",
      "             'quoted-post': {},\n",
      "             'replying-to': [],\n",
      "             'stats': {'comments': 372,\n",
      "                       'likes': 3219,\n",
      "                       'quotes': 42,\n",
      "                       'retweets': 501},\n",
      "             'text': '¡Starlink Mini ya está disponible en Colombia, Panamá, '\n",
      "                     'El Salvador y Guatemala!  Haz tu pedido en línea en '\n",
      "                     'menos de 2 minutos → starlink.com',\n",
      "             'user': {'avatar': 'https://pbs.twimg.com/profile_images/1720501511271383040/FXz_jiJu_bigger.jpg',\n",
      "                      'name': 'Starlink',\n",
      "                      'profile_id': '1720501511271383040',\n",
      "                      'username': '@Starlink'},\n",
      "             'videos': []},\n",
      "            {'date': 'Jun 21, 2024 · 6:17 PM UTC',\n",
      "             'external-link': '',\n",
      "             'gifs': [],\n",
      "             'is-pinned': False,\n",
      "             'is-retweet': False,\n",
      "             'link': 'https://twitter.com/elonmusk/status/1804217213429350818#m',\n",
      "             'pictures': [],\n",
      "             'quoted-post': {'date': 'Jun 21, 2024 · 6:01 PM UTC',\n",
      "                             'gifs': [],\n",
      "                             'link': 'https://twitter.com/chadgibbs88/status/1804213130983281049#m',\n",
      "                             'pictures': [],\n",
      "                             'text': '@michaelnicollsx - I just set up a fresh '\n",
      "                                     'mini. About two minutes from box to '\n",
      "                                     '180Mbps',\n",
      "                             'user': {'avatar': 'https://pbs.twimg.com/profile_images/1382154659020763138/93ebzelh_mini.jpg',\n",
      "                                      'name': 'Chad Gibbs',\n",
      "                                      'profile_id': '1382154659020763138',\n",
      "                                      'username': '@chadgibbs88'},\n",
      "                             'videos': ['https://video.twimg.com/amplify_video/1804212968919568388/vid/avc1/1920x1080/Pv6hRJ_gjRqwNaQI.mp4?tag=16']},\n",
      "             'replying-to': [],\n",
      "             'stats': {'comments': 2349,\n",
      "                       'likes': 35547,\n",
      "                       'quotes': 112,\n",
      "                       'retweets': 3877},\n",
      "             'text': 'Cool',\n",
      "             'user': {'avatar': 'https://pbs.twimg.com/profile_images/1780044485541699584/p78MCn3B_bigger.jpg',\n",
      "                      'name': 'Elon Musk',\n",
      "                      'profile_id': '1780044485541699584',\n",
      "                      'username': '@elonmusk'},\n",
      "             'videos': []},\n",
      "            {'date': 'Jun 21, 2024 · 5:28 PM UTC',\n",
      "             'external-link': '',\n",
      "             'gifs': [],\n",
      "             'is-pinned': False,\n",
      "             'is-retweet': False,\n",
      "             'link': 'https://twitter.com/elonmusk/status/1804204747601424648#m',\n",
      "             'pictures': [],\n",
      "             'quoted-post': {'date': 'Jun 21, 2024 · 5:22 PM UTC',\n",
      "                             'gifs': [],\n",
      "                             'link': 'https://twitter.com/stclairashley/status/1804203284883759279#m',\n",
      "                             'pictures': [],\n",
      "                             'text': 'While slavery was common to all '\n",
      "                                     'civilizations, only one civilization '\n",
      "                                     'developed a moral revulsion against it: '\n",
      "                                     'Western Civilization  “Rather than be '\n",
      "                                     'ashamed as Westerners, we should stand '\n",
      "                                     'proud for having led the world out of a '\n",
      "                                     'mentality where slavery was the norm.”  '\n",
      "                                     '🔥🔥🔥',\n",
      "                             'user': {'avatar': 'https://pbs.twimg.com/profile_images/1778455751003922432/zX3HbW7h_mini.jpg',\n",
      "                                      'name': 'Ashley St. Clair',\n",
      "                                      'profile_id': '1778455751003922432',\n",
      "                                      'username': '@stclairashley'},\n",
      "                             'videos': ['https://video.twimg.com/amplify_video/1804202226388254720/vid/avc1/1920x1080/F3PjbQGbkklMW-8K.mp4?tag=16']},\n",
      "             'replying-to': [],\n",
      "             'stats': {'comments': 5601,\n",
      "                       'likes': 99973,\n",
      "                       'quotes': 820,\n",
      "                       'retweets': 20559},\n",
      "             'text': 'Interesting',\n",
      "             'user': {'avatar': 'https://pbs.twimg.com/profile_images/1780044485541699584/p78MCn3B_bigger.jpg',\n",
      "                      'name': 'Elon Musk',\n",
      "                      'profile_id': '1780044485541699584',\n",
      "                      'username': '@elonmusk'},\n",
      "             'videos': []},\n",
      "            {'date': 'Jun 21, 2024 · 4:22 PM UTC',\n",
      "             'external-link': '',\n",
      "             'gifs': [],\n",
      "             'is-pinned': False,\n",
      "             'is-retweet': False,\n",
      "             'link': 'https://twitter.com/elonmusk/status/1804188196546449660#m',\n",
      "             'pictures': ['https://pbs.twimg.com/media/GQnDmLTbYAE51RG.jpg'],\n",
      "             'quoted-post': {},\n",
      "             'replying-to': [],\n",
      "             'stats': {'comments': 12925,\n",
      "                       'likes': 741355,\n",
      "                       'quotes': 3398,\n",
      "                       'retweets': 64333},\n",
      "             'text': '',\n",
      "             'user': {'avatar': 'https://pbs.twimg.com/profile_images/1780044485541699584/p78MCn3B_bigger.jpg',\n",
      "                      'name': 'Elon Musk',\n",
      "                      'profile_id': '1780044485541699584',\n",
      "                      'username': '@elonmusk'},\n",
      "             'videos': []},\n",
      "            {'date': 'Jun 21, 2024 · 2:56 PM UTC',\n",
      "             'external-link': '',\n",
      "             'gifs': [],\n",
      "             'is-pinned': False,\n",
      "             'is-retweet': True,\n",
      "             'link': 'https://twitter.com/tesla_na/status/1804166538578071849#m',\n",
      "             'pictures': ['https://pbs.twimg.com/media/GQmv5KQXcAAHtuO.jpg'],\n",
      "             'quoted-post': {},\n",
      "             'replying-to': [],\n",
      "             'stats': {'comments': 434,\n",
      "                       'likes': 8214,\n",
      "                       'quotes': 34,\n",
      "                       'retweets': 3126},\n",
      "             'text': 'New Tesla Center in Lake Elmo, MN 🇺🇸 → '\n",
      "                     'https://www.tesla.com/findus?v=2&search=Lake%20Elmo,%20MN%2055042,%20USA&bounds=44.99889153698986,-92.83360630791017,44.818716168557515,-92.98123509208986&zoom=12&filters=store,service,supercharger,destination%20charger,bodyshop,party,self%20serve%20demo%20drive,nacs,delivery%20centers&location=teslasaintpaulteslacenter',\n",
      "             'user': {'avatar': 'https://pbs.twimg.com/profile_images/1681000114607857665/FLyxuLUB_bigger.jpg',\n",
      "                      'name': 'Tesla North America',\n",
      "                      'profile_id': '1681000114607857665',\n",
      "                      'username': '@tesla_na'},\n",
      "             'videos': []},\n",
      "            {'date': 'Jun 21, 2024 · 2:40 PM UTC',\n",
      "             'external-link': '',\n",
      "             'gifs': [],\n",
      "             'is-pinned': False,\n",
      "             'is-retweet': False,\n",
      "             'link': 'https://twitter.com/elonmusk/status/1804162414012961193#m',\n",
      "             'pictures': [],\n",
      "             'quoted-post': {'date': 'Jun 21, 2024 · 3:02 AM UTC',\n",
      "                             'gifs': [],\n",
      "                             'link': 'https://twitter.com/Rothmus/status/1803986937981636902#m',\n",
      "                             'pictures': ['https://pbs.twimg.com/media/GQkMj0cXAAAWVjp.jpg'],\n",
      "                             'text': '',\n",
      "                             'user': {'avatar': 'https://pbs.twimg.com/profile_images/1427434033290661891/hLTTZ5lt_mini.jpg',\n",
      "                                      'name': 'Rothmus 🏴',\n",
      "                                      'profile_id': '1427434033290661891',\n",
      "                                      'username': '@Rothmus'},\n",
      "                             'videos': []},\n",
      "             'replying-to': [],\n",
      "             'stats': {'comments': 3306,\n",
      "                       'likes': 212904,\n",
      "                       'quotes': 344,\n",
      "                       'retweets': 19008},\n",
      "             'text': '🎯🤣',\n",
      "             'user': {'avatar': 'https://pbs.twimg.com/profile_images/1780044485541699584/p78MCn3B_bigger.jpg',\n",
      "                      'name': 'Elon Musk',\n",
      "                      'profile_id': '1780044485541699584',\n",
      "                      'username': '@elonmusk'},\n",
      "             'videos': []},\n",
      "            {'date': 'Jun 20, 2024 · 11:18 PM UTC',\n",
      "             'external-link': '',\n",
      "             'gifs': [],\n",
      "             'is-pinned': False,\n",
      "             'is-retweet': False,\n",
      "             'link': 'https://twitter.com/elonmusk/status/1803930544830582799#m',\n",
      "             'pictures': [],\n",
      "             'quoted-post': {'date': 'Jun 20, 2024 · 8:58 PM UTC',\n",
      "                             'gifs': [],\n",
      "                             'link': 'https://twitter.com/theallinpod/status/1803895237540012084#m',\n",
      "                             'pictures': [],\n",
      "                             'text': 'E184: in conversation with '\n",
      "                                     '@realDonaldTrump, live on @X   (0:00) '\n",
      "                                     'bestie intros: big house talk!  (1:37) '\n",
      "                                     'economy: regulation, taxes, tariffs, '\n",
      "                                     'taming inflation, de-dollarization  '\n",
      "                                     '(12:02) federal debt: growth, spend '\n",
      "                                     'control, where to cut, role of energy, '\n",
      "                                     'nuclear  (20:22) foreign policy: '\n",
      "                                     'ukraine/russia  (25:05) foreign policy: '\n",
      "                                     'israel/palestine  (28:13) abortion: '\n",
      "                                     'stance on a national ban  (31:09) '\n",
      "                                     'foreign policy: china  (32:33) covid: '\n",
      "                                     'origins, fauci relationship, deep state, '\n",
      "                                     'bad deals  (39:39) border: wall, '\n",
      "                                     'immigration, h-1bs, recruiting global '\n",
      "                                     'talent  (46:07) jfk files: full release, '\n",
      "                                     'importance of transparency  (48:06) '\n",
      "                                     'debate prediction  (50:15) '\n",
      "                                     'post-interview debrief',\n",
      "                             'user': {'avatar': 'https://pbs.twimg.com/profile_images/1789812359084519424/hg3j0g2E_mini.jpg',\n",
      "                                      'name': 'The All-In Podcast',\n",
      "                                      'profile_id': '1789812359084519424',\n",
      "                                      'username': '@theallinpod'},\n",
      "                             'videos': ['https://video.twimg.com/amplify_video/1803886535546208256/vid/avc1/1280x720/TWsLiWpHreAqAJ1I.mp4?tag=14']},\n",
      "             'replying-to': [],\n",
      "             'stats': {'comments': 4966,\n",
      "                       'likes': 96395,\n",
      "                       'quotes': 653,\n",
      "                       'retweets': 21061},\n",
      "             'text': 'All-In interviews @realDonaldTrump!',\n",
      "             'user': {'avatar': 'https://pbs.twimg.com/profile_images/1780044485541699584/p78MCn3B_bigger.jpg',\n",
      "                      'name': 'Elon Musk',\n",
      "                      'profile_id': '1780044485541699584',\n",
      "                      'username': '@elonmusk'},\n",
      "             'videos': []},\n",
      "            {'date': 'Jun 20, 2024 · 9:45 PM UTC',\n",
      "             'external-link': '',\n",
      "             'gifs': [],\n",
      "             'is-pinned': False,\n",
      "             'is-retweet': True,\n",
      "             'link': 'https://twitter.com/SpaceX/status/1803907094287917126#m',\n",
      "             'pictures': [],\n",
      "             'quoted-post': {},\n",
      "             'replying-to': [],\n",
      "             'stats': {'comments': 682,\n",
      "                       'likes': 16854,\n",
      "                       'quotes': 123,\n",
      "                       'retweets': 2279},\n",
      "             'text': 'Falcon 9’s first stage lands on Just Read the '\n",
      "                     'Instructions, completing our 250th droneship landing',\n",
      "             'user': {'avatar': 'https://pbs.twimg.com/profile_images/1697749409851985920/HbrI04tM_bigger.jpg',\n",
      "                      'name': 'SpaceX',\n",
      "                      'profile_id': '1697749409851985920',\n",
      "                      'username': '@SpaceX'},\n",
      "             'videos': ['https://video.twimg.com/amplify_video/1803907010095910913/vid/avc1/1920x1080/YLrDNN8lA8-cCBwR.mp4?tag=16']},\n",
      "            {'date': 'Jun 20, 2024 · 5:56 PM UTC',\n",
      "             'external-link': '',\n",
      "             'gifs': [],\n",
      "             'is-pinned': False,\n",
      "             'is-retweet': False,\n",
      "             'link': 'https://twitter.com/elonmusk/status/1803849373018644880#m',\n",
      "             'pictures': [],\n",
      "             'quoted-post': {},\n",
      "             'replying-to': [],\n",
      "             'stats': {'comments': 1370,\n",
      "                       'likes': 17442,\n",
      "                       'quotes': 289,\n",
      "                       'retweets': 1761},\n",
      "             'text': 'Sizing for ~130MW of power & cooling this year, but will '\n",
      "                     'increase to >500MW over next 18 months or so.   Aiming '\n",
      "                     'for about half Tesla AI hardware, half Nvidia/other.  '\n",
      "                     'Play to win or don’t play at all.',\n",
      "             'user': {'avatar': 'https://pbs.twimg.com/profile_images/1780044485541699584/p78MCn3B_bigger.jpg',\n",
      "                      'name': 'Elon Musk',\n",
      "                      'profile_id': '1780044485541699584',\n",
      "                      'username': '@elonmusk'},\n",
      "             'videos': []}]}\n"
     ]
    }
   ],
   "source": [
    "pprint(tweets)\n"
   ]
  },
  {
   "cell_type": "code",
   "execution_count": 8,
   "id": "d45fd4bb-8443-418a-af5b-f9f303ea5708",
   "metadata": {},
   "outputs": [
    {
     "data": {
      "text/plain": [
       "dict_keys(['tweets', 'threads'])"
      ]
     },
     "execution_count": 8,
     "metadata": {},
     "output_type": "execute_result"
    }
   ],
   "source": [
    "tweets.keys()\n"
   ]
  },
  {
   "cell_type": "code",
   "execution_count": 9,
   "id": "e38f4096-76fa-4da8-9a85-75021486b58d",
   "metadata": {},
   "outputs": [
    {
     "data": {
      "text/plain": [
       "{'link': 'https://twitter.com/elonmusk/status/1802765778191597688#m',\n",
       " 'text': 'Tesla Megapacks massively increase electric power generation efficiency, as they can buffer power at night for use in the day, dramatically reducing the need to build new powerplants.   It also allows for the least efficient power plants to be shut down!',\n",
       " 'user': {'name': 'Elon Musk',\n",
       "  'username': '@elonmusk',\n",
       "  'profile_id': '1780044485541699584',\n",
       "  'avatar': 'https://pbs.twimg.com/profile_images/1780044485541699584/p78MCn3B_bigger.jpg'},\n",
       " 'date': 'Jun 17, 2024 · 6:10 PM UTC',\n",
       " 'is-retweet': False,\n",
       " 'is-pinned': True,\n",
       " 'external-link': '',\n",
       " 'replying-to': [],\n",
       " 'quoted-post': {'link': 'https://twitter.com/Tesla_Megapack/status/1802738958679285856#m',\n",
       "  'text': \"43 MWh of Tesla Megapacks are now operating at @keneskoho's site in Sendai, Miyagi in northeast Japan – the first utility-scale Megapack site to provide frequency control to the Japanese balancing market\",\n",
       "  'user': {'name': 'Tesla Megapack',\n",
       "   'username': '@Tesla_Megapack',\n",
       "   'profile_id': '1618601860687974402',\n",
       "   'avatar': 'https://pbs.twimg.com/profile_images/1618601860687974402/LRksyZ7i_mini.jpg'},\n",
       "  'date': 'Jun 17, 2024 · 4:23 PM UTC',\n",
       "  'pictures': ['https://pbs.twimg.com/media/GQScyoQWoAAO4Ja.jpg',\n",
       "   'https://pbs.twimg.com/media/GQSc2VpWoAQR-Uk.jpg',\n",
       "   'https://pbs.twimg.com/media/GQSc4AvWoAEbe7n.jpg',\n",
       "   'https://pbs.twimg.com/media/GQSc7PiWoAY-IY7.jpg'],\n",
       "  'videos': [],\n",
       "  'gifs': []},\n",
       " 'stats': {'comments': 4171, 'retweets': 11385, 'quotes': 497, 'likes': 90813},\n",
       " 'pictures': [],\n",
       " 'videos': [],\n",
       " 'gifs': []}"
      ]
     },
     "execution_count": 9,
     "metadata": {},
     "output_type": "execute_result"
    }
   ],
   "source": [
    "tweets['tweets'][0]\n"
   ]
  },
  {
   "cell_type": "code",
   "execution_count": 12,
   "id": "5749122b-0e9d-4db1-90d9-8752e3196262",
   "metadata": {},
   "outputs": [
    {
     "name": "stderr",
     "output_type": "stream",
     "text": [
      "Testing instances: 100%|██████████| 77/77 [01:17<00:00,  1.01s/it]"
     ]
    },
    {
     "name": "stdout",
     "output_type": "stream",
     "text": [
      "22-Jun-24 06:57:36 - No instance specified, using random instance https://nitter.privacydev.net\n"
     ]
    },
    {
     "name": "stderr",
     "output_type": "stream",
     "text": [
      "\n"
     ]
    },
    {
     "name": "stdout",
     "output_type": "stream",
     "text": [
      "22-Jun-24 06:57:41 - No instance specified, using random instance https://nitter.privacydev.net\n"
     ]
    }
   ],
   "source": [
    "from ntscraper import Nitter\n",
    "scraper = Nitter(log_level = 1,skip_instance_check= False)\n",
    "elon_info = scraper.get_profile_info(username=\"elonmusk\")\n",
    "dhirendra_info = scraper.get_profile_info(username=\"_dhirendra\")\n"
   ]
  },
  {
   "cell_type": "code",
   "execution_count": 13,
   "id": "554cd21e-7698-48a1-b968-eb2484dc6364",
   "metadata": {
    "scrolled": true
   },
   "outputs": [
    {
     "name": "stdout",
     "output_type": "stream",
     "text": [
      "{'bio': '',\n",
      " 'id': '44196397',\n",
      " 'image': 'https://pbs.twimg.com/profile_images/1780044485541699584/p78MCn3B_400x400.jpg',\n",
      " 'joined': '8:12 PM - 2 Jun 2009',\n",
      " 'location': '',\n",
      " 'name': 'Elon Musk',\n",
      " 'stats': {'followers': 187881911,\n",
      "           'following': 639,\n",
      "           'likes': 56602,\n",
      "           'media': 0,\n",
      "           'tweets': 46014},\n",
      " 'username': '@elonmusk',\n",
      " 'website': ''}\n",
      "{'bio': 'I do teaching, trying to perfect the art of making tea/friends. \\n'\n",
      "        'I do cycling want to travel to those places which are left '\n",
      "        'unexplored.',\n",
      " 'id': '315597735',\n",
      " 'image': 'https://pbs.twimg.com/profile_images/1555358382236004352/aB2Io0Qq_400x400.jpg',\n",
      " 'joined': '4:12 AM - 12 Jun 2011',\n",
      " 'location': 'Lucknow, Uttar Pradesh',\n",
      " 'name': 'Dhirendra Pratap Singh',\n",
      " 'stats': {'followers': 41,\n",
      "           'following': 274,\n",
      "           'likes': 1330,\n",
      "           'media': 0,\n",
      "           'tweets': 751},\n",
      " 'username': '@_dhirendra',\n",
      " 'website': ''}\n"
     ]
    }
   ],
   "source": [
    "from pprint import pprint\n",
    "pprint(elon_info)\n",
    "pprint(dhirendra_info)"
   ]
  },
  {
   "cell_type": "code",
   "execution_count": 12,
   "id": "ba60c00e-1a7a-42ec-b1d0-0ce98ed3029b",
   "metadata": {},
   "outputs": [],
   "source": [
    "data = {\n",
    "    'link':[],\n",
    "    'text':[],\n",
    "    'user':[],\n",
    "    'likes':[],\n",
    "    'quotes':[],\n",
    "    'retweets':[],\n",
    "    'comments':[]\n",
    "}\n",
    "\n",
    "for tweet in tweets['tweets']:\n",
    "    data['link'].append(tweet['link'])\n",
    "    data['text'].append(tweet['text'])\n",
    "    data['user'].append(tweet['user']['name'])\n",
    "    data['likes'].append(tweet['stats']['likes'])\n",
    "    data['quotes'].append(tweet['stats']['quotes'])    \n",
    "    data['retweets'].append(tweet['stats']['retweets'])    \n",
    "    data['comments'].append(tweet['stats']['comments'])    "
   ]
  },
  {
   "cell_type": "code",
   "execution_count": 13,
   "id": "34ba7081-456d-48a6-bd2d-229a4ae71284",
   "metadata": {},
   "outputs": [
    {
     "data": {
      "text/plain": [
       "{'link': ['https://twitter.com/elonmusk/status/1802765778191597688#m',\n",
       "  'https://twitter.com/MarioNawfal/status/1803081910492529003#m',\n",
       "  'https://twitter.com/elonmusk/status/1803077464463114479#m',\n",
       "  'https://twitter.com/elonmusk/status/1803076707538071575#m',\n",
       "  'https://twitter.com/cb_doge/status/1803075028176793795#m',\n",
       "  'https://twitter.com/teslaenergy/status/1802954264211341774#m',\n",
       "  'https://twitter.com/teslaenergy/status/1802952037337800827#m',\n",
       "  'https://twitter.com/elonmusk/status/1802787641340952861#m',\n",
       "  'https://twitter.com/Tesla/status/1802755597286216035#m',\n",
       "  'https://twitter.com/elonmusk/status/1802764654273315232#m'],\n",
       " 'text': ['Tesla Megapacks massively increase electric power generation efficiency, as they can buffer power at night for use in the day, dramatically reducing the need to build new powerplants.   It also allows for the least efficient power plants to be shut down!',\n",
       "  '🚨🇺🇸MORGAN FREEMAN TO ELON: WHY MARS? (AUG 2014)  Morgan:   \"What about Mars makes it even plausible?\"  @elonmusk :   \"Mars is similar in a lot of ways to Earth.   One could call it a fixer-upper of a planet.   It is possible to establish life as we know it on Mars.  If you were…',\n",
       "  'Article about Tesla Powerwall 3',\n",
       "  'The federal government is spending America into oblivion',\n",
       "  'Publish your articles directly on this platform for greater reach. Your 𝕏 articles are also indexed by search engines.  via @nima_owji',\n",
       "  'Powerwall 3 is now available in Germany 🇩🇪 ts.la/Powerwall3Germany',\n",
       "  'Powerwall 3 is now available in the United Kingdom 🇬🇧ts.la/Powerwall3UK',\n",
       "  'Working on the Tesla Master Plan 4. It will be epic.',\n",
       "  'FSD Supervised makes parking easy',\n",
       "  'The new Model 3 Long Range is an amazing car'],\n",
       " 'user': ['Elon Musk',\n",
       "  'Mario Nawfal',\n",
       "  'Elon Musk',\n",
       "  'Elon Musk',\n",
       "  'DogeDesigner',\n",
       "  'Tesla Energy',\n",
       "  'Tesla Energy',\n",
       "  'Elon Musk',\n",
       "  'Tesla',\n",
       "  'Elon Musk'],\n",
       " 'likes': [90813, 4286, 7560, 33130, 1504, 5753, 4600, 190863, 9761, 98416],\n",
       " 'quotes': [497, 59, 48, 388, 14, 58, 40, 5441, 57, 456],\n",
       " 'retweets': [11385, 620, 1073, 5540, 241, 751, 573, 13704, 1314, 8704],\n",
       " 'comments': [4171, 485, 1042, 3226, 216, 467, 330, 12567, 606, 5989]}"
      ]
     },
     "execution_count": 13,
     "metadata": {},
     "output_type": "execute_result"
    }
   ],
   "source": [
    "data"
   ]
  },
  {
   "cell_type": "code",
   "execution_count": 14,
   "id": "4c76c126-2024-427a-8c03-daba7cb8c3aa",
   "metadata": {},
   "outputs": [
    {
     "data": {
      "text/html": [
       "<div>\n",
       "<style scoped>\n",
       "    .dataframe tbody tr th:only-of-type {\n",
       "        vertical-align: middle;\n",
       "    }\n",
       "\n",
       "    .dataframe tbody tr th {\n",
       "        vertical-align: top;\n",
       "    }\n",
       "\n",
       "    .dataframe thead th {\n",
       "        text-align: right;\n",
       "    }\n",
       "</style>\n",
       "<table border=\"1\" class=\"dataframe\">\n",
       "  <thead>\n",
       "    <tr style=\"text-align: right;\">\n",
       "      <th></th>\n",
       "      <th>link</th>\n",
       "      <th>text</th>\n",
       "      <th>user</th>\n",
       "      <th>likes</th>\n",
       "      <th>quotes</th>\n",
       "      <th>retweets</th>\n",
       "      <th>comments</th>\n",
       "    </tr>\n",
       "  </thead>\n",
       "  <tbody>\n",
       "    <tr>\n",
       "      <th>0</th>\n",
       "      <td>https://twitter.com/elonmusk/status/1802765778...</td>\n",
       "      <td>Tesla Megapacks massively increase electric po...</td>\n",
       "      <td>Elon Musk</td>\n",
       "      <td>90813</td>\n",
       "      <td>497</td>\n",
       "      <td>11385</td>\n",
       "      <td>4171</td>\n",
       "    </tr>\n",
       "    <tr>\n",
       "      <th>1</th>\n",
       "      <td>https://twitter.com/MarioNawfal/status/1803081...</td>\n",
       "      <td>🚨🇺🇸MORGAN FREEMAN TO ELON: WHY MARS? (AUG 2014...</td>\n",
       "      <td>Mario Nawfal</td>\n",
       "      <td>4286</td>\n",
       "      <td>59</td>\n",
       "      <td>620</td>\n",
       "      <td>485</td>\n",
       "    </tr>\n",
       "    <tr>\n",
       "      <th>2</th>\n",
       "      <td>https://twitter.com/elonmusk/status/1803077464...</td>\n",
       "      <td>Article about Tesla Powerwall 3</td>\n",
       "      <td>Elon Musk</td>\n",
       "      <td>7560</td>\n",
       "      <td>48</td>\n",
       "      <td>1073</td>\n",
       "      <td>1042</td>\n",
       "    </tr>\n",
       "    <tr>\n",
       "      <th>3</th>\n",
       "      <td>https://twitter.com/elonmusk/status/1803076707...</td>\n",
       "      <td>The federal government is spending America int...</td>\n",
       "      <td>Elon Musk</td>\n",
       "      <td>33130</td>\n",
       "      <td>388</td>\n",
       "      <td>5540</td>\n",
       "      <td>3226</td>\n",
       "    </tr>\n",
       "    <tr>\n",
       "      <th>4</th>\n",
       "      <td>https://twitter.com/cb_doge/status/18030750281...</td>\n",
       "      <td>Publish your articles directly on this platfor...</td>\n",
       "      <td>DogeDesigner</td>\n",
       "      <td>1504</td>\n",
       "      <td>14</td>\n",
       "      <td>241</td>\n",
       "      <td>216</td>\n",
       "    </tr>\n",
       "  </tbody>\n",
       "</table>\n",
       "</div>"
      ],
      "text/plain": [
       "                                                link  \\\n",
       "0  https://twitter.com/elonmusk/status/1802765778...   \n",
       "1  https://twitter.com/MarioNawfal/status/1803081...   \n",
       "2  https://twitter.com/elonmusk/status/1803077464...   \n",
       "3  https://twitter.com/elonmusk/status/1803076707...   \n",
       "4  https://twitter.com/cb_doge/status/18030750281...   \n",
       "\n",
       "                                                text          user  likes  \\\n",
       "0  Tesla Megapacks massively increase electric po...     Elon Musk  90813   \n",
       "1  🚨🇺🇸MORGAN FREEMAN TO ELON: WHY MARS? (AUG 2014...  Mario Nawfal   4286   \n",
       "2                    Article about Tesla Powerwall 3     Elon Musk   7560   \n",
       "3  The federal government is spending America int...     Elon Musk  33130   \n",
       "4  Publish your articles directly on this platfor...  DogeDesigner   1504   \n",
       "\n",
       "   quotes  retweets  comments  \n",
       "0     497     11385      4171  \n",
       "1      59       620       485  \n",
       "2      48      1073      1042  \n",
       "3     388      5540      3226  \n",
       "4      14       241       216  "
      ]
     },
     "execution_count": 14,
     "metadata": {},
     "output_type": "execute_result"
    }
   ],
   "source": [
    "import pandas as pd\n",
    "df = pd.DataFrame(data)\n",
    "df.head()"
   ]
  },
  {
   "cell_type": "code",
   "execution_count": 15,
   "id": "d38f980a-8118-41d0-98f0-53501b32a79e",
   "metadata": {},
   "outputs": [],
   "source": [
    "df.to_csv(\"Elon_data.csv\")\n"
   ]
  },
  {
   "cell_type": "code",
   "execution_count": 49,
   "id": "9b5bd865-2ce2-481f-9e7c-64839a290188",
   "metadata": {},
   "outputs": [
    {
     "name": "stderr",
     "output_type": "stream",
     "text": [
      "Testing instances: 100%|██████████| 77/77 [00:58<00:00,  1.31it/s]\n"
     ]
    }
   ],
   "source": [
    "import pandas as pd\n",
    "scraper = Nitter()\n",
    "def create_tweets_dataset(username,no_of_tweets):\n",
    "    tweets = scraper.get_tweets(username,mode=\"user\",number=no_of_tweets)\n",
    "    data = {\n",
    "        'link':[],\n",
    "        'text':[],\n",
    "        'date':[],\n",
    "        'user':[],\n",
    "        'likes':[],\n",
    "        'quotes':[],\n",
    "        'retweets':[],\n",
    "        'comments':[]\n",
    "    }\n",
    "\n",
    "    for tweet in tweets['tweets']:\n",
    "        data['link'].append(tweet['link'])\n",
    "        data['text'].append(tweet['text'])\n",
    "        data['date'].append(tweet['date'])\n",
    "        data['user'].append(tweet['user']['name'])\n",
    "        data['likes'].append(tweet['stats']['likes'])\n",
    "        data['quotes'].append(tweet['stats']['quotes'])    \n",
    "        data['retweets'].append(tweet['stats']['retweets'])    \n",
    "        data['comments'].append(tweet['stats']['comments'])    \n",
    "    df = pd.DataFrame(data)\n",
    "    df.to_csv(username+\"_tweets_data.csv\")"
   ]
  },
  {
   "cell_type": "code",
   "execution_count": 52,
   "id": "f9676be2-3c9a-4fa8-96d4-58084668da4d",
   "metadata": {},
   "outputs": [
    {
     "ename": "TypeError",
     "evalue": "create_tweets_dataset() takes 2 positional arguments but 3 were given",
     "output_type": "error",
     "traceback": [
      "\u001b[0;31m---------------------------------------------------------------------------\u001b[0m",
      "\u001b[0;31mTypeError\u001b[0m                                 Traceback (most recent call last)",
      "Cell \u001b[0;32mIn[52], line 1\u001b[0m\n\u001b[0;32m----> 1\u001b[0m \u001b[43mcreate_tweets_dataset\u001b[49m\u001b[43m(\u001b[49m\u001b[38;5;124;43m\"\u001b[39;49m\u001b[38;5;124;43mmyogiadityanath\u001b[39;49m\u001b[38;5;124;43m\"\u001b[39;49m\u001b[43m,\u001b[49m\u001b[38;5;124;43m\"\u001b[39;49m\u001b[38;5;124;43muser\u001b[39;49m\u001b[38;5;124;43m\"\u001b[39;49m\u001b[43m,\u001b[49m\u001b[38;5;241;43m100\u001b[39;49m\u001b[43m)\u001b[49m\n",
      "\u001b[0;31mTypeError\u001b[0m: create_tweets_dataset() takes 2 positional arguments but 3 were given"
     ]
    }
   ],
   "source": [
    "create_tweets_dataset(\"myogiadityanath\",\"user\",100)\n"
   ]
  },
  {
   "cell_type": "code",
   "execution_count": 39,
   "id": "49122803-5073-4169-9cdf-4a2764482ff6",
   "metadata": {},
   "outputs": [
    {
     "name": "stdout",
     "output_type": "stream",
     "text": [
      "18-Jun-24 16:35:40 - No instance specified, using random instance https://nitter.soopy.moe\n",
      "18-Jun-24 16:35:41 - Empty page on https://nitter.soopy.moe\n"
     ]
    }
   ],
   "source": [
    "tweets = scraper.get_tweets(\"tata\",mode=\"hashtag\",number=10)\n"
   ]
  },
  {
   "cell_type": "code",
   "execution_count": 37,
   "id": "06c8f53a-94ba-4ed8-b872-05f7ef4b042f",
   "metadata": {},
   "outputs": [],
   "source": [
    "from ntscraper import Nitter\n"
   ]
  },
  {
   "cell_type": "code",
   "execution_count": 38,
   "id": "6dc67649-6ab0-43a8-bd76-03fd3a608896",
   "metadata": {},
   "outputs": [
    {
     "name": "stderr",
     "output_type": "stream",
     "text": [
      "Testing instances: 100%|██████████| 77/77 [01:17<00:00,  1.00s/it]\n"
     ]
    }
   ],
   "source": [
    "scraper = Nitter(log_level = 1,skip_instance_check= False)\n"
   ]
  },
  {
   "cell_type": "code",
   "execution_count": 55,
   "id": "64242f4b-7d28-478e-b019-787f9f76aa9e",
   "metadata": {},
   "outputs": [
    {
     "name": "stdout",
     "output_type": "stream",
     "text": [
      "18-Jun-24 16:45:20 - No instance specified, using random instance https://nitter.tiekoetter.com\n",
      "18-Jun-24 16:45:20 - Empty page on https://nitter.tiekoetter.com\n"
     ]
    }
   ],
   "source": [
    "tweets = scraper.get_tweets(\"ModiSarkar3\",mode=\"hashtag\",number=100)\n"
   ]
  },
  {
   "cell_type": "code",
   "execution_count": 53,
   "id": "e424c0df-cfa7-4a47-9537-7dbe59afcdb4",
   "metadata": {},
   "outputs": [
    {
     "name": "stdout",
     "output_type": "stream",
     "text": [
      "18-Jun-24 16:44:37 - No instance specified, using random instance https://nitter.lunar.icu\n",
      "18-Jun-24 16:44:43 - Current stats for MrBeast: 17 tweets, 0 threads...\n",
      "18-Jun-24 16:44:47 - Current stats for MrBeast: 32 tweets, 0 threads...\n",
      "18-Jun-24 16:44:52 - Current stats for MrBeast: 48 tweets, 0 threads...\n",
      "18-Jun-24 16:44:56 - Current stats for MrBeast: 65 tweets, 0 threads...\n",
      "18-Jun-24 16:45:00 - Current stats for MrBeast: 78 tweets, 0 threads...\n",
      "18-Jun-24 16:45:04 - Current stats for MrBeast: 89 tweets, 0 threads...\n",
      "18-Jun-24 16:45:08 - Current stats for MrBeast: 100 tweets, 0 threads...\n"
     ]
    }
   ],
   "source": [
    "create_tweets_dataset(\"MrBeast\",100)\n"
   ]
  }
 ],
 "metadata": {
  "kernelspec": {
   "display_name": "Python 3 (ipykernel)",
   "language": "python",
   "name": "python3"
  },
  "language_info": {
   "codemirror_mode": {
    "name": "ipython",
    "version": 3
   },
   "file_extension": ".py",
   "mimetype": "text/x-python",
   "name": "python",
   "nbconvert_exporter": "python",
   "pygments_lexer": "ipython3",
   "version": "3.11.6"
  }
 },
 "nbformat": 4,
 "nbformat_minor": 5
}
