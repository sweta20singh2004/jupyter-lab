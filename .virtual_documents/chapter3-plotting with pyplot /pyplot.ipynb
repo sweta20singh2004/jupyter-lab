





conda install matplotlib





import matplotlib.pyplot as pl 
a = [1,2,3,4] 
b = [2,4,6,8] 
c = [1,4,9,16] 
pl.plot(a,b) 
pl.xlabel('Some values') 
pl.ylabel('Doubled values') 
pl.plot(a,b) 
pl.plot(a,c) 
pl.plot(b,c) 





import matplotlib.pyplot as pl 
week = [1,2,3,4] 
Prices = [40,80,100,50] 
pl.plot(week, Prices) 
pl.xlabel('Week') 
pl.ylabel('Prices') 
pl.show





import matplotlib.pyplot as pl 
week = [1,2,3,4,5,6,7,8,9,10] 
Marks = [12,10,10,15,17,25,12,22,35,40] 
pl.plot(week, Marks) 
pl.xlabel('Week') 
pl.ylabel('Unit Test marks') 
pl.show





import matplotlib.pyplot as pl 
import numpy as np 
ar2 = [1,7,21,35,35,21,7,1] 
s2 = np.sin(ar2) 
c2 = np.cos(ar2) 
t2 = np.tan(ar2) 
pl.plot(ar2,s2,'c') 
pl.plot(ar2, c2, 'r') 
pl.plot(ar2, t2, 'k', linestyle = 'dashed')  
pl.xlabel('Array values') 
pl.ylabel('Sine, Cosine and Tangent values') 
pl.show 






import matplotlib.pyplot as pl 
import numpy as np 
fib = [0,1,1,2,3,5,8,13,21,34] 
sq = np.sqrt(fib) 
fib = [0,1,1,2,3,5,8,13,21,34] 
sq = np.sqrt(fib) 
pl.figure(figsize=(5,7)) 
pl.plot(range(1,11), fib, 'co', markersize = 5, linestyle = 'solid', markeredgecolor = 'r') 
pl.plot(range(1,11), sq, 'k+', markersize = 7, linestyle = 'solid', markeredgecolor = 'r') 
pl.show() 





import matplotlib.pyplot as pl     
import numpy as np   
nfib = [-0,-1,-1,-2,-3,-5,-8,-13,-21,-34,0,1,1,2,3,5,8,13,21,34] 
pl.plot(range(-10,10), nfib, 'mo', markersize = 5, markeredgecolor = 'k', linestyle = 'solid') 
pl.grid(True) 
pl.show() 







a1 = [1,2,3,4] 
b2 = [2,4,6,8] 
c3 = [1,4,9,16] 
pl.plot(a1, c3,'o', markersize = 8) 
a = [1,2,3,4] 
b = [2,4,6,8] 
c = [1,4,9,16] 
pl.plot(a, c,'<', markersize = 8) 






import matplotlib.pyplot as pl   
import numpy as np    
A = np.arange(1,20,1.25)    
B = np.log(A) 
pl.plot(A,B, 'ro') 
pl.xlabel('Random Values')   
pl.ylabel('Logarithm Values')    
pl.show()  





import matplotlib.pyplot as pl   
import numpy as np    
A = np.arange(1,20,1.25)    
B = np.log(A) 
C = np.log10(A) 
pl.plot(A,B, 'ro') 
pl.plot(A,C, 'b^') 
pl.xlabel('Random Values')   
pl.ylabel('Logarithm Values')    
pl.show()  





import matplotlib.pyplot as pl   
import numpy as np   
X = np.random.randint(1,100, size = (100,))  
Y = np.random.randint(1,100, size = (100,))  
pl.scatter(X,Y, color = 'r') 
pl.xlabel('X values')  
pl.ylabel('Y values') 
pl.show()  





import matplotlib.pyplot as pl   
import numpy as np   
X1 = np.random.randint(1,100, size = (250,))  
Y1 = np.random.randint(1,100, size = (250,))  
size = range(1,60,5) 
colr = ['r','b','c','m','g','k'] 
pl.scatter(X1,Y1, s = size, c = colr) 
pl.xlabel('X values')  
pl.ylabel('Y values') 
pl.show()  
