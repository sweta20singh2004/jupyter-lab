{
 "cells": [
  {
   "cell_type": "markdown",
   "id": "5481c1e6-7c50-4bc9-9abc-be5ace150121",
   "metadata": {
    "jp-MarkdownHeadingCollapsed": true
   },
   "source": [
    "## Iterating Over a DataFrame"
   ]
  },
  {
   "cell_type": "markdown",
   "id": "bce2111b-345e-4efd-9d1a-aaa93930b344",
   "metadata": {},
   "source": [
    "Example 1 : Using iterrows() to extract data from DataFrame two wise"
   ]
  },
  {
   "cell_type": "code",
   "execution_count": 1,
   "id": "ef00321a-a8c8-4ca2-ad36-95a8b3dfdd9c",
   "metadata": {},
   "outputs": [
    {
     "name": "stdout",
     "output_type": "stream",
     "text": [
      "        yr1    yr2    yr3\n",
      "Qtr1  34500  44900  34500\n",
      "Qtr2  56000  51000  34500\n",
      "Qtr3  47000  57000  34500\n",
      "Qtr4  49000  59000  34500\n",
      "Row index: Qtr1\n",
      "Containing\n",
      "yr1    34500\n",
      "yr2    44900\n",
      "yr3    34500\n",
      "Name: Qtr1, dtype: int64\n",
      "Row index: Qtr2\n",
      "Containing\n",
      "yr1    56000\n",
      "yr2    51000\n",
      "yr3    34500\n",
      "Name: Qtr2, dtype: int64\n",
      "Row index: Qtr3\n",
      "Containing\n",
      "yr1    47000\n",
      "yr2    57000\n",
      "yr3    34500\n",
      "Name: Qtr3, dtype: int64\n",
      "Row index: Qtr4\n",
      "Containing\n",
      "yr1    49000\n",
      "yr2    59000\n",
      "yr3    34500\n",
      "Name: Qtr4, dtype: int64\n"
     ]
    }
   ],
   "source": [
    "import pandas as pd \n",
    "diSales = {'yr1':{'Qtr1': 34500, 'Qtr2': 56000,'Qtr3': 47000,'Qtr4': 49000},\n",
    "           'yr2':{'Qtr1': 44900,'Qtr2':51000,'Qtr3': 57000,'Qtr4': 59000},\n",
    "           'yr3':{'Qtr1': 34500,'Qtr2': 34500,'Qtr3': 34500,'Qtr4': 34500}}\n",
    "df1 = pd.DataFrame(diSales) \n",
    "print(df1)\n",
    "for (row,rowSeries) in df1.iterrows():\n",
    "    print(\"Row index:\",row) \n",
    "    print(\"Containing\") \n",
    "    print(rowSeries) \n"
   ]
  },
  {
   "cell_type": "markdown",
   "id": "1e2893ea-b096-425d-b564-382597aaeb7c",
   "metadata": {},
   "source": [
    "Example 2 : Using iterrows() to extract row-wise Series object"
   ]
  },
  {
   "cell_type": "code",
   "execution_count": 3,
   "id": "3f5864c6-5c6f-42ac-a302-86ec3b7af65d",
   "metadata": {},
   "outputs": [
    {
     "name": "stdout",
     "output_type": "stream",
     "text": [
      "        yr1    yr2    yr3\n",
      "Qtr1  34500  44900  34500\n",
      "Qtr2  56000  51000  34500\n",
      "Qtr3  47000  57000  34500\n",
      "Qtr4  49000  59000  34500\n",
      "Row index: Qtr1\n",
      "Containing:\n",
      "At: 0 position: 34500\n",
      "At: 1 position: 44900\n",
      "At: 2 position: 34500\n",
      "Row index: Qtr2\n",
      "Containing:\n",
      "At: 0 position: 56000\n",
      "At: 1 position: 51000\n",
      "At: 2 position: 34500\n",
      "Row index: Qtr3\n",
      "Containing:\n",
      "At: 0 position: 47000\n",
      "At: 1 position: 57000\n",
      "At: 2 position: 34500\n",
      "Row index: Qtr4\n",
      "Containing:\n",
      "At: 0 position: 49000\n",
      "At: 1 position: 59000\n",
      "At: 2 position: 34500\n"
     ]
    }
   ],
   "source": [
    "import pandas as pd \n",
    "diSales = {'yr1':{'Qtr1': 34500, 'Qtr2': 56000,'Qtr3': 47000,'Qtr4': 49000},\n",
    "           'yr2':{'Qtr1': 44900,'Qtr2':51000,'Qtr3': 57000,'Qtr4': 59000},\n",
    "           'yr3':{'Qtr1': 34500,'Qtr2': 34500,'Qtr3': 34500,'Qtr4': 34500}}\n",
    "df1 = pd.DataFrame(diSales) \n",
    "print(df1) \n",
    "for(row,rowSeries) in df1.iterrows():\n",
    "    print(\"Row index:\",row) \n",
    "    print(\"Containing:\") \n",
    "    i = 0 \n",
    "    for val in rowSeries:\n",
    "        print(\"At:\",i, \"position:\",val) \n",
    "        i = i+1 "
   ]
  },
  {
   "cell_type": "markdown",
   "id": "f060ac79-ceef-475a-b762-251f22003d75",
   "metadata": {},
   "source": [
    "Example 3 : Using iteritems() to extract dtat from dataframe column wise."
   ]
  },
  {
   "cell_type": "code",
   "execution_count": 7,
   "id": "e3c37fbe-f159-4570-a933-8732a1d4a85b",
   "metadata": {},
   "outputs": [
    {
     "name": "stdout",
     "output_type": "stream",
     "text": [
      "        yr1    yr2    yr3\n",
      "Qtr1  34500  44900  34500\n",
      "Qtr2  56000  51000  34500\n",
      "Qtr3  47000  57000  34500\n",
      "Qtr4  49000  59000  34500\n",
      "Column index: yr1\n",
      "Containing\n",
      "Qtr1    34500\n",
      "Qtr2    56000\n",
      "Qtr3    47000\n",
      "Qtr4    49000\n",
      "Name: yr1, dtype: int64\n",
      "Column index: yr2\n",
      "Containing\n",
      "Qtr1    44900\n",
      "Qtr2    51000\n",
      "Qtr3    57000\n",
      "Qtr4    59000\n",
      "Name: yr2, dtype: int64\n",
      "Column index: yr3\n",
      "Containing\n",
      "Qtr1    34500\n",
      "Qtr2    34500\n",
      "Qtr3    34500\n",
      "Qtr4    34500\n",
      "Name: yr3, dtype: int64\n"
     ]
    }
   ],
   "source": [
    "import pandas as pd \n",
    "diSales = {'yr1':{'Qtr1': 34500, 'Qtr2': 56000,'Qtr3': 47000,'Qtr4': 49000},\n",
    "           'yr2':{'Qtr1': 44900,'Qtr2':51000,'Qtr3': 57000,'Qtr4': 59000},\n",
    "           'yr3':{'Qtr1': 34500,'Qtr2': 34500,'Qtr3': 34500,'Qtr4': 34500}}\n",
    "df1 = pd.DataFrame(diSales) \n",
    "print(df1) \n",
    "for(col,colSeries) in df1.items():\n",
    "    print(\"Column index:\", col)\n",
    "    print(\"Containing\") \n",
    "    print(colSeries) \n"
   ]
  },
  {
   "cell_type": "markdown",
   "id": "656236ed-5cfc-43d5-a981-b07725bd5579",
   "metadata": {},
   "source": [
    "Example 4 : Write a program to print the dataframe df one row at a time."
   ]
  },
  {
   "cell_type": "code",
   "execution_count": 7,
   "id": "80dee05c-1c16-4f05-8f8f-e95803a982ed",
   "metadata": {},
   "outputs": [
    {
     "name": "stdout",
     "output_type": "stream",
     "text": [
      "Name     Ram\n",
      "Marks     70\n",
      "Name: Rno1, dtype: object\n",
      "_________________\n",
      "Name     Pam\n",
      "Marks     95\n",
      "Name: Rno2, dtype: object\n",
      "_________________\n",
      "Name     Sam\n",
      "Marks     80\n",
      "Name: Rno3, dtype: object\n",
      "_________________\n"
     ]
    }
   ],
   "source": [
    "import pandas as pd \n",
    "dict = {'Name':[\"Ram\",\"Pam\",\"Sam\"],'Marks':[70,95,80]} \n",
    "df = pd.DataFrame(dict, index = ['Rno1','Rno2','Rno3']) \n",
    "for i, j in df.iterrows():\n",
    "    print(j) \n",
    "    print(\"_________________\") "
   ]
  },
  {
   "cell_type": "markdown",
   "id": "7dde4068-e297-45f8-98f2-8881b1a03c4b",
   "metadata": {},
   "source": [
    "Example 5 : Write a program to print the DtaFrame df, one column at a time."
   ]
  },
  {
   "cell_type": "code",
   "execution_count": 5,
   "id": "444f370c-3f3a-420f-af68-063a8653a8d7",
   "metadata": {},
   "outputs": [
    {
     "name": "stdout",
     "output_type": "stream",
     "text": [
      "Rno1    Ram\n",
      "Rno2    Pam\n",
      "Rno3    Sam\n",
      "Name: Name, dtype: object\n",
      "__________\n",
      "Rno1    70\n",
      "Rno2    95\n",
      "Rno3    80\n",
      "Name: Marks, dtype: int64\n",
      "__________\n"
     ]
    }
   ],
   "source": [
    "import pandas as pd \n",
    "dict = {'Name':[\"Ram\",\"Pam\",\"Sam\"],'Marks':[70,95,80]} \n",
    "df = pd.DataFrame(dict, index = ['Rno1','Rno2','Rno3']) \n",
    "for i, j in df.items():\n",
    "    print(j) \n",
    "    print(\"__________\") "
   ]
  },
  {
   "cell_type": "markdown",
   "id": "ca52f94e-471f-4506-a844-d0e57162f8d6",
   "metadata": {},
   "source": [
    "Example 6: Write a program to print only the values from marks column, for each row."
   ]
  },
  {
   "cell_type": "code",
   "execution_count": 6,
   "id": "18257829-1542-467e-aa8d-fddd262955ed",
   "metadata": {},
   "outputs": [
    {
     "name": "stdout",
     "output_type": "stream",
     "text": [
      "70\n",
      "______\n",
      "95\n",
      "______\n",
      "80\n",
      "______\n"
     ]
    }
   ],
   "source": [
    "import pandas as pd \n",
    "dict = {'Name':[\"Ram\",\"Pam\",\"Sam\"],'Marks':[70,95,80]} \n",
    "df = pd.DataFrame(dict, index = ['Rno1','Rno2','Rno3']) \n",
    "for r, row in df.iterrows():\n",
    "    print(row['Marks']) \n",
    "    print(\"______\") \n"
   ]
  },
  {
   "cell_type": "markdown",
   "id": "33c98b40-96fd-431d-96c5-f83ef5366e24",
   "metadata": {
    "jp-MarkdownHeadingCollapsed": true
   },
   "source": [
    "## Binary Operations in a DataFrame"
   ]
  },
  {
   "cell_type": "code",
   "execution_count": 31,
   "id": "5203c02b-9eb5-412b-bb38-8ec326e3c5bf",
   "metadata": {},
   "outputs": [
    {
     "name": "stdout",
     "output_type": "stream",
     "text": [
      "   A  B  C\n",
      "0  1  4  7\n",
      "1  2  5  8\n",
      "2  3  6  9\n"
     ]
    }
   ],
   "source": [
    "s = {'A':[1,2,3], 'B':[4,5,6],'C':[7,8,9]}\n",
    "df1 = pd.DataFrame(s)\n",
    "print(df1) \n"
   ]
  },
  {
   "cell_type": "code",
   "execution_count": 32,
   "id": "885a88c3-5443-47ac-a560-2b113b230175",
   "metadata": {},
   "outputs": [
    {
     "name": "stdout",
     "output_type": "stream",
     "text": [
      "    A   B    C\n",
      "0  10  20   30\n",
      "1  40  50   60\n",
      "2  70  80  100\n"
     ]
    }
   ],
   "source": [
    "import numpy as np \n",
    "df2 = pd.DataFrame(np.array([[10,20,30],[40,50,60],[70,80,100]]),\n",
    "                 columns=['A','B','C'])\n",
    "print(df2) "
   ]
  },
  {
   "cell_type": "code",
   "execution_count": 33,
   "id": "99c172a4-1236-4a55-ad61-b9d2a078c9a9",
   "metadata": {},
   "outputs": [
    {
     "name": "stdout",
     "output_type": "stream",
     "text": [
      "     A    B    Z\n",
      "0  100  200  300\n",
      "1  400  500  600\n"
     ]
    }
   ],
   "source": [
    "df3 = pd.DataFrame(np.array([[100,200,300],[400,500,600]]),\n",
    "                 columns=['A','B','Z'])\n",
    "print(df3) "
   ]
  },
  {
   "cell_type": "code",
   "execution_count": 34,
   "id": "12ddaf45-0398-4ae0-b9eb-231494a07929",
   "metadata": {},
   "outputs": [
    {
     "name": "stdout",
     "output_type": "stream",
     "text": [
      "      A     B\n",
      "0  1000  2000\n",
      "1  4000  5000\n",
      "2  7000  8000\n"
     ]
    }
   ],
   "source": [
    "df4 = pd.DataFrame(np.array([[ 1000,2000],[4000,5000],[7000,8000]]),\n",
    "                 columns=['A','B'])\n",
    "print(df4) "
   ]
  },
  {
   "cell_type": "markdown",
   "id": "cb268115-faa1-47fc-8c99-9f80870135ff",
   "metadata": {
    "jp-MarkdownHeadingCollapsed": true
   },
   "source": [
    "### Binary Addition"
   ]
  },
  {
   "cell_type": "markdown",
   "id": "b46c2057-e8ff-4f98-97ef-05fa1d0b5acb",
   "metadata": {},
   "source": [
    "print(df1+df2) "
   ]
  },
  {
   "cell_type": "code",
   "execution_count": 36,
   "id": "6b526807-aa11-43d1-9e56-021973b26b39",
   "metadata": {},
   "outputs": [
    {
     "name": "stdout",
     "output_type": "stream",
     "text": [
      "    A   B    C\n",
      "0  11  24   37\n",
      "1  42  55   68\n",
      "2  73  86  109\n"
     ]
    }
   ],
   "source": [
    "print(df1.add(df2))"
   ]
  },
  {
   "cell_type": "code",
   "execution_count": 37,
   "id": "858c6b33-87d5-4a40-a556-7e519cf69b1f",
   "metadata": {},
   "outputs": [
    {
     "name": "stdout",
     "output_type": "stream",
     "text": [
      "    A   B    C\n",
      "0  11  24   37\n",
      "1  42  55   68\n",
      "2  73  86  109\n"
     ]
    }
   ],
   "source": [
    "print(df1.radd(df2))"
   ]
  },
  {
   "cell_type": "markdown",
   "id": "437e3381-d886-417b-bc8f-519cc9bae9f1",
   "metadata": {
    "jp-MarkdownHeadingCollapsed": true
   },
   "source": [
    "### Binary Subtraction"
   ]
  },
  {
   "cell_type": "code",
   "execution_count": 42,
   "id": "0d4c377a-24ab-4d30-85f1-7ef1d1798822",
   "metadata": {},
   "outputs": [
    {
     "name": "stdout",
     "output_type": "stream",
     "text": [
      "    A   B   C\n",
      "0  -9 -16 -23\n",
      "1 -38 -45 -52\n",
      "2 -67 -74 -91\n"
     ]
    }
   ],
   "source": [
    "print(df1-df2)"
   ]
  },
  {
   "cell_type": "code",
   "execution_count": 43,
   "id": "f5d4ad9e-b1b2-42a4-be8c-25debaa8704f",
   "metadata": {},
   "outputs": [
    {
     "name": "stdout",
     "output_type": "stream",
     "text": [
      "    A   B   C\n",
      "0  -9 -16 -23\n",
      "1 -38 -45 -52\n",
      "2 -67 -74 -91\n"
     ]
    }
   ],
   "source": [
    "print(df1.sub(df2))"
   ]
  },
  {
   "cell_type": "code",
   "execution_count": 44,
   "id": "804db03d-63cd-471c-baad-b607e3c4c961",
   "metadata": {},
   "outputs": [
    {
     "name": "stdout",
     "output_type": "stream",
     "text": [
      "    A   B   C\n",
      "0   9  16  23\n",
      "1  38  45  52\n",
      "2  67  74  91\n"
     ]
    }
   ],
   "source": [
    "print(df1.rsub(df2))"
   ]
  },
  {
   "cell_type": "markdown",
   "id": "93d66c12-bd32-4ef2-82a5-d8040812a1c3",
   "metadata": {
    "jp-MarkdownHeadingCollapsed": true
   },
   "source": [
    "### Binary Multiplication"
   ]
  },
  {
   "cell_type": "code",
   "execution_count": 45,
   "id": "90f4063c-8d5d-4b76-87c3-aa081d49728d",
   "metadata": {},
   "outputs": [
    {
     "name": "stdout",
     "output_type": "stream",
     "text": [
      "       A       B   C   Z\n",
      "0  100.0   800.0 NaN NaN\n",
      "1  800.0  2500.0 NaN NaN\n",
      "2    NaN     NaN NaN NaN\n"
     ]
    }
   ],
   "source": [
    "print(df1*df3)"
   ]
  },
  {
   "cell_type": "code",
   "execution_count": 47,
   "id": "b7f860d1-b56e-4dd5-bd94-48d304e06e5b",
   "metadata": {},
   "outputs": [
    {
     "name": "stdout",
     "output_type": "stream",
     "text": [
      "       A      B   C\n",
      "0   1000   8000 NaN\n",
      "1   8000  25000 NaN\n",
      "2  21000  48000 NaN\n"
     ]
    }
   ],
   "source": [
    "print(df1.mul(df4))"
   ]
  },
  {
   "cell_type": "code",
   "execution_count": 48,
   "id": "899b136c-bf7f-4b85-8a4e-3fcffb6ef3b5",
   "metadata": {},
   "outputs": [
    {
     "name": "stdout",
     "output_type": "stream",
     "text": [
      "         A        B   C   Z\n",
      "0   1000.0   4000.0 NaN NaN\n",
      "1  16000.0  25000.0 NaN NaN\n",
      "2      NaN      NaN NaN NaN\n"
     ]
    }
   ],
   "source": [
    "print(df3.rmul(df2))"
   ]
  },
  {
   "cell_type": "markdown",
   "id": "ea3bffc1-dda6-4cac-abd7-424b4ba91d6a",
   "metadata": {
    "jp-MarkdownHeadingCollapsed": true
   },
   "source": [
    "### Binary Division"
   ]
  },
  {
   "cell_type": "code",
   "execution_count": 49,
   "id": "741f41eb-d478-4ba0-969d-6a70fcb891be",
   "metadata": {},
   "outputs": [
    {
     "name": "stdout",
     "output_type": "stream",
     "text": [
      "          A      B         C\n",
      "0  0.100000  0.200  0.233333\n",
      "1  0.050000  0.100  0.133333\n",
      "2  0.042857  0.075  0.090000\n"
     ]
    }
   ],
   "source": [
    "print(df1/df2)"
   ]
  },
  {
   "cell_type": "code",
   "execution_count": 50,
   "id": "58b51fe2-1103-43bd-8c55-5a59b7899948",
   "metadata": {},
   "outputs": [
    {
     "name": "stdout",
     "output_type": "stream",
     "text": [
      "       A      B   C\n",
      "0  100.0  100.0 NaN\n",
      "1  100.0  100.0 NaN\n",
      "2  100.0  100.0 NaN\n"
     ]
    }
   ],
   "source": [
    "print(df4.div(df2))"
   ]
  },
  {
   "cell_type": "code",
   "execution_count": 51,
   "id": "37090a3b-2409-4630-b97b-9b3ea10f91ab",
   "metadata": {},
   "outputs": [
    {
     "name": "stdout",
     "output_type": "stream",
     "text": [
      "          A      B         C\n",
      "0  0.100000  0.200  0.233333\n",
      "1  0.050000  0.100  0.133333\n",
      "2  0.042857  0.075  0.090000\n"
     ]
    }
   ],
   "source": [
    "print(df2.rdiv(df1))"
   ]
  },
  {
   "cell_type": "code",
   "execution_count": 63,
   "id": "c01fb679-8884-44de-b8fc-c590c8ce87af",
   "metadata": {},
   "outputs": [
    {
     "name": "stdout",
     "output_type": "stream",
     "text": [
      "    p1   p2\n",
      "0  700  490\n",
      "1  975  460\n",
      "2  970  570\n",
      "3  900  590\n"
     ]
    }
   ],
   "source": [
    "a = {'p1':[700,975,970,900],'p2':[490,460,570,590]} \n",
    "team1 = pd.DataFrame(a) \n",
    "print(team1) "
   ]
  },
  {
   "cell_type": "code",
   "execution_count": 64,
   "id": "e2a7670c-d1d5-494e-98db-ad5265129dbf",
   "metadata": {},
   "outputs": [
    {
     "name": "stdout",
     "output_type": "stream",
     "text": [
      "     p1    p2\n",
      "0  1100  1400\n",
      "1  1275  1260\n",
      "2  1270  1500\n",
      "3  1400  1190\n"
     ]
    }
   ],
   "source": [
    "a = {'p1':[1100,1275,1270,1400],'p2':[1400,1260,1500,1190]} \n",
    "team2 = pd.DataFrame(a) \n",
    "print(team2) "
   ]
  },
  {
   "cell_type": "markdown",
   "id": "0e7127eb-b3a5-4ec7-9663-3f0899c19668",
   "metadata": {},
   "source": [
    "Example 7: Write a program to calculate total prices earned by both the teams in each round."
   ]
  },
  {
   "cell_type": "code",
   "execution_count": 58,
   "id": "6c3dfea1-1f5a-4ffc-90ee-605b2c28e0ff",
   "metadata": {},
   "outputs": [
    {
     "name": "stdout",
     "output_type": "stream",
     "text": [
      "Team 1's performence\n",
      "    p1   p2\n",
      "0  700  400\n",
      "1  975  460\n",
      "2  970  570\n",
      "3  900  590\n",
      "Team 2's performence\n",
      "     p1    p2\n",
      "0  1100  1400\n",
      "1  1275  1200\n",
      "2  1270  1500\n",
      "3  1400  1190\n",
      "Points earned by the both teams:\n",
      "     p1    p2\n",
      "0  1800  1800\n",
      "1  2250  1660\n",
      "2  2240  2070\n",
      "3  2300  1780\n"
     ]
    }
   ],
   "source": [
    "print(\"Team 1's performence\") \n",
    "print(team1) \n",
    "print(\"Team 2's performence\") \n",
    "print(team2) \n",
    "print(\"Points earned by the both teams:\")  \n",
    "print(team1.radd(team2)) "
   ]
  },
  {
   "cell_type": "markdown",
   "id": "63e11d09-b8ee-421a-a437-958e6af9caaa",
   "metadata": {},
   "source": [
    "Example 8 : Consider the points earned by two teams, display how much point difference Team2 has with Team1."
   ]
  },
  {
   "cell_type": "code",
   "execution_count": 66,
   "id": "629b91fc-2a93-47d1-a8a2-824361811938",
   "metadata": {},
   "outputs": [
    {
     "name": "stdout",
     "output_type": "stream",
     "text": [
      "    p1   p2\n",
      "0  700  490\n",
      "1  975  460\n",
      "2  970  570\n",
      "3  900  590\n",
      "     p1    p2\n",
      "0  1100  1400\n",
      "1  1275  1260\n",
      "2  1270  1500\n",
      "3  1400  1190\n",
      "Team2's point difference:\n",
      "    p1   p2\n",
      "0  400  910\n",
      "1  300  800\n",
      "2  300  930\n",
      "3  500  600\n"
     ]
    }
   ],
   "source": [
    "a = {'p1':[700,975,970,900],'p2':[490,460,570,590]} \n",
    "team1 = pd.DataFrame(a) \n",
    "print(team1) \n",
    "a = {'p1':[1100,1275,1270,1400],'p2':[1400,1260,1500,1190]} \n",
    "team2 = pd.DataFrame(a) \n",
    "print(team2) \n",
    "print(\"Team2's point difference:\") \n",
    "print(team1.rsub(team2)) "
   ]
  },
  {
   "cell_type": "markdown",
   "id": "a4d7bdd3-e219-438c-ae3e-58bf3fe129d6",
   "metadata": {},
   "source": [
    "Example 9 : Given two dataframes storing points of a 2-player team in four rounds\n",
    ", write a program to calculate average points obtained by each player in each round."
   ]
  },
  {
   "cell_type": "code",
   "execution_count": 68,
   "id": "ef5d6346-5f9c-44d6-a523-607ddf3a531c",
   "metadata": {},
   "outputs": [
    {
     "name": "stdout",
     "output_type": "stream",
     "text": [
      "Team 1's performence\n",
      "    p1   p2\n",
      "0  700  490\n",
      "1  975  460\n",
      "2  970  570\n",
      "3  900  590\n",
      "Team 2's performence\n",
      "     p1    p2\n",
      "0  1100  1400\n",
      "1  1275  1260\n",
      "2  1270  1500\n",
      "3  1400  1190\n",
      "Average point scored by the each player:\n",
      "       p1      p2\n",
      "0   900.0   945.0\n",
      "1  1125.0   860.0\n",
      "2  1120.0  1035.0\n",
      "3  1150.0   890.0\n"
     ]
    }
   ],
   "source": [
    "print(\"Team 1's performence\") \n",
    "print(team1) \n",
    "print(\"Team 2's performence\") \n",
    "print(team2) \n",
    "print(\"Average point scored by the each player:\") \n",
    "av = (team1+team2)/2 \n",
    "print(av) "
   ]
  },
  {
   "cell_type": "code",
   "execution_count": 69,
   "id": "a4b592f0-407f-4f29-9cff-ad2e7a5322cf",
   "metadata": {},
   "outputs": [
    {
     "name": "stdout",
     "output_type": "stream",
     "text": [
      "              Rice    Wheat  Pulses    Fruits\n",
      "Andhra P.   7453.4      NaN   931.0    7830.0\n",
      "Gujarat     1930.0   2737.0   818.0   11950.0\n",
      "Kerala      2404.8      NaN     1.7     113.1\n",
      "Punjab     11586.2  16440.5    33.0    7152.0\n",
      "Tripura      814.6      0.5    23.2      44.1\n",
      "Uttar p.   13754.0  30056.0  2184.4  140169.2\n"
     ]
    }
   ],
   "source": [
    "iprod = {'Rice':{'Andhra P.':7453.4, 'Gujarat':1930.0, 'Kerala':2404.8,'Punjab':\n",
    "                 11586.2, 'Tripura': 814.6, 'Uttar p.':13754.0},\n",
    "          'Wheat':{'Andhra P.':np.NaN, 'Gujarat':2737.0, 'Kerala':np.NaN,'Punjab':\n",
    "                 16440.5, 'Tripura': 0.5, 'Uttar p.':30056.0},\n",
    "         'Pulses':{'Andhra P.':931.0, 'Gujarat':818.0, 'Kerala':1.7,'Punjab':\n",
    "                 33.0, 'Tripura':23.2, 'Uttar p.':2184.4},\n",
    "         'Fruits':{'Andhra P.':7830.0, 'Gujarat':11950.0, 'Kerala':113.1,'Punjab':\n",
    "                 7152.0, 'Tripura':44.1, 'Uttar p.':140169.2}} \n",
    "g = pd.DataFrame(iprod) \n",
    "print(g) "
   ]
  },
  {
   "cell_type": "markdown",
   "id": "816f236e-8819-49c7-8fbf-d44e776e0e47",
   "metadata": {
    "jp-MarkdownHeadingCollapsed": true
   },
   "source": [
    "## Functions min() and max()"
   ]
  },
  {
   "cell_type": "code",
   "execution_count": 72,
   "id": "2fbfc32c-dc76-4488-8251-70c678f944aa",
   "metadata": {},
   "outputs": [
    {
     "name": "stdout",
     "output_type": "stream",
     "text": [
      "Rice      814.6\n",
      "Wheat       0.5\n",
      "Pulses      1.7\n",
      "Fruits     44.1\n",
      "dtype: float64\n",
      "Rice       13754.0\n",
      "Wheat      30056.0\n",
      "Pulses      2184.4\n",
      "Fruits    140169.2\n",
      "dtype: float64\n"
     ]
    }
   ],
   "source": [
    "# Syntax: \n",
    "#<df>.min(axis = None, skipna = None, numeric_only = None) \n",
    "#<df>.max(axis = None, skipna = None, numeric_only = None) \n",
    "print(g.min())                   \n",
    "print(g.max())"
   ]
  },
  {
   "cell_type": "code",
   "execution_count": 73,
   "id": "37663a65-d167-4f7e-a0af-a7d364460557",
   "metadata": {},
   "outputs": [
    {
     "name": "stdout",
     "output_type": "stream",
     "text": [
      "Andhra P.     931.0\n",
      "Gujarat       818.0\n",
      "Kerala          1.7\n",
      "Punjab         33.0\n",
      "Tripura         0.5\n",
      "Uttar p.     2184.4\n",
      "dtype: float64\n"
     ]
    }
   ],
   "source": [
    "print(g.min(axis = 1))"
   ]
  },
  {
   "cell_type": "code",
   "execution_count": 74,
   "id": "c336c26c-789a-48e0-b868-12e4a778dac6",
   "metadata": {},
   "outputs": [
    {
     "name": "stdout",
     "output_type": "stream",
     "text": [
      "Andhra P.      7830.0\n",
      "Gujarat       11950.0\n",
      "Kerala         2404.8\n",
      "Punjab        16440.5\n",
      "Tripura         814.6\n",
      "Uttar p.     140169.2\n",
      "dtype: float64\n"
     ]
    }
   ],
   "source": [
    "print(g.max(axis = 1))"
   ]
  },
  {
   "cell_type": "code",
   "execution_count": 76,
   "id": "66360cae-571c-4196-9e80-a0f86b2fcbfd",
   "metadata": {},
   "outputs": [
    {
     "name": "stdout",
     "output_type": "stream",
     "text": [
      "Rice      814.6\n",
      "Wheat       0.5\n",
      "Pulses      1.7\n",
      "Fruits     44.1\n",
      "dtype: float64\n"
     ]
    }
   ],
   "source": [
    "print(g.min(skipna = True, numeric_only = True) )"
   ]
  },
  {
   "cell_type": "code",
   "execution_count": 77,
   "id": "a737e246-cb20-4c4d-8448-db20a0af17d5",
   "metadata": {},
   "outputs": [
    {
     "name": "stdout",
     "output_type": "stream",
     "text": [
      "Rice       13754.0\n",
      "Wheat      30056.0\n",
      "Pulses      2184.4\n",
      "Fruits    140169.2\n",
      "dtype: float64\n"
     ]
    }
   ],
   "source": [
    "print(g.max(skipna = True, numeric_only = True) )"
   ]
  },
  {
   "cell_type": "code",
   "execution_count": 86,
   "id": "cbc188c5-7560-4a96-8978-63b0f51b8d51",
   "metadata": {},
   "outputs": [
    {
     "name": "stdout",
     "output_type": "stream",
     "text": [
      "       A      B   C     D\n",
      "Acct  99   94.0  92  97.0\n",
      "Eco   90   94.0  92  97.0\n",
      "Eng   95   89.0  91  89.0\n",
      "IP    94    NaN  99  95.0\n",
      "Math  97  100.0  99   NaN\n"
     ]
    }
   ],
   "source": [
    "import pandas as pd  \n",
    "import numpy as np \n",
    "a = [99,94.0,92,97.0] \n",
    "b = [90,94.0,92,97.0] \n",
    "c = [95,89.0,91,89.0] \n",
    "d = [94,'NaN',99,95.0] \n",
    "e = [97,100.0,99,'NaN'] \n",
    "f = [a,b,c,d,e] \n",
    "s = pd.DataFrame(f, index = ['Acct','Eco','Eng','IP','Math'],\n",
    "                columns=['A','B','C','D']) \n",
    "print(s)  "
   ]
  },
  {
   "cell_type": "markdown",
   "id": "0e4fc1ed-29e4-4134-89eb-6e6faa80f19d",
   "metadata": {},
   "source": [
    "Example 10: Consider the dataframe dfmks given above. Write a program to print the maximum marks scored in each subject across all sections."
   ]
  },
  {
   "cell_type": "code",
   "execution_count": 90,
   "id": "ef09ba18-cd96-41a7-80f2-399a0785a630",
   "metadata": {},
   "outputs": [
    {
     "name": "stdout",
     "output_type": "stream",
     "text": [
      "       A      B   C     D\n",
      "Acct  99   94.0  92  97.0\n",
      "Eco   90   94.0  92  97.0\n",
      "Eng   95   89.0  91  89.0\n",
      "IP    94    NaN  99  95.0\n",
      "Math  97  100.0  99   NaN\n",
      "Maximum marks scored in each subject:\n",
      "Acct     99.0\n",
      "Eco      97.0\n",
      "Eng      95.0\n",
      "IP       99.0\n",
      "Math    100.0\n",
      "dtype: float64\n"
     ]
    }
   ],
   "source": [
    "import pandas as pd  \n",
    "import numpy as np \n",
    "a = [99,94.0,92,97.0] \n",
    "b = [90,94.0,92,97.0] \n",
    "c = [95,89.0,91,89.0] \n",
    "d = [94,None,99,95.0] \n",
    "e = [97,100.0,99,None] \n",
    "f = [a,b,c,d,e] \n",
    "s = pd.DataFrame(f, index = ['Acct','Eco','Eng','IP','Math'],\n",
    "                columns=['A','B','C','D']) \n",
    "print(s)  \n",
    "print(\"Maximum marks scored in each subject:\") \n",
    "print(s.max(axis = 1)) \n"
   ]
  },
  {
   "cell_type": "markdown",
   "id": "d51ce41b-9b8a-48ec-b59c-9c27658f38ea",
   "metadata": {},
   "source": [
    "Example 11: Consider the DataFrame(dfmks) given above program so that it considers only non-Nan values for calculation purpose."
   ]
  },
  {
   "cell_type": "code",
   "execution_count": 94,
   "id": "3c7847e5-7a8c-4891-b19c-b51e8fd2360c",
   "metadata": {},
   "outputs": [
    {
     "name": "stdout",
     "output_type": "stream",
     "text": [
      "Maximum marks scored in each subject:\n",
      "Acct     99.0\n",
      "Eco      97.0\n",
      "Eng      95.0\n",
      "IP       99.0\n",
      "Math    100.0\n",
      "dtype: float64\n"
     ]
    }
   ],
   "source": [
    "a = [99,94.0,92,97.0] \n",
    "b = [90,94.0,92,97.0] \n",
    "c = [95,89.0,91,89.0] \n",
    "d = [94,None,99,95.0] \n",
    "e = [97,100.0,99,None] \n",
    "f = [a,b,c,d,e] \n",
    "s = pd.DataFrame(f, index = ['Acct','Eco','Eng','IP','Math'],\n",
    "                columns=['A','B','C','D']) \n",
    "#print(s)  \n",
    "print(\"Maximum marks scored in each subject:\") \n",
    "print(s.max(axis = 1, skipna = True)) \n"
   ]
  },
  {
   "cell_type": "markdown",
   "id": "2d2dde9c-09b7-4222-8a7a-3cb5186d6f51",
   "metadata": {},
   "source": [
    "Example 12: Consider the marks 'DataFrame'(dfmks) given above. Write a program to print the maximum marks scored in a sections, across all subjects."
   ]
  },
  {
   "cell_type": "code",
   "execution_count": 93,
   "id": "bc0b086b-39ca-447a-b71d-80952eb4988e",
   "metadata": {},
   "outputs": [
    {
     "name": "stdout",
     "output_type": "stream",
     "text": [
      "Maximum marks scored in each subject:\n",
      "A     99.0\n",
      "B    100.0\n",
      "C     99.0\n",
      "D     97.0\n",
      "dtype: float64\n"
     ]
    }
   ],
   "source": [
    "a = [99,94.0,92,97.0] \n",
    "b = [90,94.0,92,97.0] \n",
    "c = [95,89.0,91,89.0] \n",
    "d = [94,None,99,95.0] \n",
    "e = [97,100.0,99,None] \n",
    "f = [a,b,c,d,e] \n",
    "s = pd.DataFrame(f, index = ['Acct','Eco','Eng','IP','Math'],\n",
    "                columns=['A','B','C','D']) \n",
    "#print(s)  \n",
    "print(\"Maximum marks scored in each subject:\") \n",
    "print(s.max()) \n"
   ]
  },
  {
   "cell_type": "markdown",
   "id": "ac20348b-5ada-4f3e-aae2-1e1c2be6bff9",
   "metadata": {
    "jp-MarkdownHeadingCollapsed": true
   },
   "source": [
    "## Functions mode(), mean(), median()"
   ]
  },
  {
   "cell_type": "code",
   "execution_count": 99,
   "id": "576bcde5-7329-4a74-a263-5a7a7c0634b1",
   "metadata": {},
   "outputs": [
    {
     "name": "stdout",
     "output_type": "stream",
     "text": [
      "       A      B   C     D\n",
      "Acct  99   94.0  92  97.0\n",
      "Eco   90   94.0  92  97.0\n",
      "Eng   95   89.0  91  89.0\n",
      "IP    94   87.0  99  95.0\n",
      "Math  97  100.0  99  99.0\n",
      "Maximum marks scored in each subject:\n",
      "Acct     99.0\n",
      "Eco      97.0\n",
      "Eng      95.0\n",
      "IP       99.0\n",
      "Math    100.0\n",
      "dtype: float64\n",
      "       A      B   C     D\n",
      "Acct  99   94.0  92  97.0\n",
      "Eco   90   94.0  92  97.0\n",
      "Eng   95   89.0  91  89.0\n",
      "IP    94   87.0  99  95.0\n",
      "Math  97  100.0  99  99.0\n"
     ]
    }
   ],
   "source": [
    "# *****Mode*****\n",
    "#Syntax: <df>.mode(axis = 0, numeric_only = False) \n",
    "a = [99,94.0,92,97.0] \n",
    "b = [90,94.0,92,97.0] \n",
    "c = [95,89.0,91,89.0] \n",
    "d = [94,87,99,95.0] \n",
    "e = [97,100.0,99,99] \n",
    "f = [a,b,c,d,e] \n",
    "s = pd.DataFrame(f, index = ['Acct','Eco','Eng','IP','Math'],\n",
    "                columns=['A','B','C','D']) \n",
    "print(s)  \n",
    "print(\"Maximum marks scored in each subject:\") \n",
    "print(s.max(axis = 1)) \n",
    "print(s) \n"
   ]
  },
  {
   "cell_type": "markdown",
   "id": "92a1bf9c-a03e-4dc8-af93-e23ed378ab0d",
   "metadata": {},
   "source": [
    "Example 13: Consider the dataframe mks1 given above. Write a program to calculate mode(maximum repeated value) for each section."
   ]
  },
  {
   "cell_type": "markdown",
   "id": "5662fefa-b55b-4593-809f-164baa32fe86",
   "metadata": {},
   "source": [
    "import numpy as np \n",
    "print(\"Mode value for each section:\") \n",
    "print(s.mode()) "
   ]
  },
  {
   "cell_type": "markdown",
   "id": "08223a9f-0440-40d7-a297-7be3c2cddc7c",
   "metadata": {},
   "source": [
    "Example 14: Consider the dataframe mks1 given above. Write a program to calculate mode (maximum repeated value) for each subject."
   ]
  },
  {
   "cell_type": "code",
   "execution_count": 116,
   "id": "e05623e6-1271-48a6-80e5-be552f107081",
   "metadata": {},
   "outputs": [
    {
     "name": "stdout",
     "output_type": "stream",
     "text": [
      "       A    B   C   D\n",
      "Acct  99   94  92  97\n",
      "Eco   90   94  92  97\n",
      "Eng   95   89  91  89\n",
      "IP    94   87  99  95\n",
      "Math  97  100  99  99\n",
      "Mode value for each subject:\n",
      "         0     1     2     3\n",
      "Acct  92.0  94.0  97.0  99.0\n",
      "Eco   90.0  92.0  94.0  97.0\n",
      "Eng   89.0   NaN   NaN   NaN\n",
      "IP    87.0  94.0  95.0  99.0\n",
      "Math  99.0   NaN   NaN   NaN\n",
      "    A     B     C     D\n",
      "0  90  94.0  92.0  97.0\n",
      "1  94   NaN  99.0   NaN\n",
      "2  95   NaN   NaN   NaN\n",
      "3  97   NaN   NaN   NaN\n",
      "4  99   NaN   NaN   NaN\n"
     ]
    }
   ],
   "source": [
    "a = [99,94,92,97] \n",
    "b = [90,94,92,97] \n",
    "c = [95,89,91,89] \n",
    "d = [94,87,99,95] \n",
    "e = [97,100,99,99] \n",
    "f = [a,b,c,d,e] \n",
    "k = pd.DataFrame(f, index = ['Acct','Eco','Eng','IP','Math'],\n",
    "                columns=['A','B','C','D']) \n",
    "print(k)  \n",
    "print(\"Mode value for each subject:\") \n",
    "print(k.mode(axis = 1 )) \n",
    "print(k.mode()) \n",
    "\n",
    "\n",
    "# in column A no no. has repeated that's why it has printed all the no. \n",
    "#in increasing order \n",
    "# In col. B 94 has repeated 2 times that's why it has printed only 94 \n",
    "# in col. C 99 and 92 has repeated 2 times that's why it has printed both increasing \n",
    "# Similarly in next one \n"
   ]
  },
  {
   "cell_type": "markdown",
   "id": "e84ea2a9-95e0-4c3a-938e-627501e43aa9",
   "metadata": {},
   "source": [
    "Example 15: Consider the dataframe mks1 given above.\n",
    "Write a program to calculate median value for each section."
   ]
  },
  {
   "cell_type": "code",
   "execution_count": 109,
   "id": "35fcf25a-55db-4615-9e1d-67f67410348a",
   "metadata": {},
   "outputs": [
    {
     "name": "stdout",
     "output_type": "stream",
     "text": [
      "       A    B   C   D\n",
      "Acct  99   94  92  97\n",
      "Eco   90   94  92  97\n",
      "Eng   95   89  91  89\n",
      "IP    94   87  99  95\n",
      "Math  97  100  99  99\n",
      "Median value for each section:\n",
      "A    95.0\n",
      "B    94.0\n",
      "C    92.0\n",
      "D    97.0\n",
      "dtype: float64\n"
     ]
    }
   ],
   "source": [
    "a = [99,94,92,97] \n",
    "b = [90,94,92,97] \n",
    "c = [95,89,91,89] \n",
    "d = [94,87,99,95] \n",
    "e = [97,100,99,99] \n",
    "f = [a,b,c,d,e] \n",
    "k = pd.DataFrame(f, index = ['Acct','Eco','Eng','IP','Math'],\n",
    "                columns=['A','B','C','D']) \n",
    "print(k)  \n",
    "print(\"Median value for each section:\") \n",
    "print(k.median()) "
   ]
  },
  {
   "cell_type": "markdown",
   "id": "687bd95f-0f2f-4726-bfaa-d6afbc82b848",
   "metadata": {},
   "source": [
    "Example 16: Consider the dataframe mks1 given above. Write a program to calculate median value for each subject. "
   ]
  },
  {
   "cell_type": "code",
   "execution_count": 118,
   "id": "481dcc57-701f-41a8-86cd-6d63939c6b76",
   "metadata": {},
   "outputs": [
    {
     "name": "stdout",
     "output_type": "stream",
     "text": [
      "       A    B   C   D\n",
      "Acct  99   94  92  97\n",
      "Eco   90   94  92  97\n",
      "Eng   95   89  91  89\n",
      "IP    94   87  99  95\n",
      "Math  97  100  99  99\n",
      "Median value for each subject:\n",
      "Acct    95.5\n",
      "Eco     93.0\n",
      "Eng     90.0\n",
      "IP      94.5\n",
      "Math    99.0\n",
      "dtype: float64\n"
     ]
    }
   ],
   "source": [
    "a = [99,94,92,97] \n",
    "b = [90,94,92,97] \n",
    "c = [95,89,91,89] \n",
    "d = [94,87,99,95] \n",
    "e = [97,100,99,99] \n",
    "f = [a,b,c,d,e] \n",
    "k = pd.DataFrame(f, index = ['Acct','Eco','Eng','IP','Math'],\n",
    "                columns=['A','B','C','D']) \n",
    "print(k)  \n",
    "print(\"Median value for each subject:\") \n",
    "print(k.median(axis = 1 ))"
   ]
  },
  {
   "cell_type": "markdown",
   "id": "c378a0a1-e4db-4d3a-8b6b-b05f4e0ce953",
   "metadata": {},
   "source": [
    "Example 17: Consider the dataframe mks1 given above. Write a program to calculate average value(mean) for each section."
   ]
  },
  {
   "cell_type": "code",
   "execution_count": 119,
   "id": "74250532-eaa2-4ef5-81ad-7dee937a804a",
   "metadata": {},
   "outputs": [
    {
     "name": "stdout",
     "output_type": "stream",
     "text": [
      "       A    B   C   D\n",
      "Acct  99   94  92  97\n",
      "Eco   90   94  92  97\n",
      "Eng   95   89  91  89\n",
      "IP    94   87  99  95\n",
      "Math  97  100  99  99\n",
      "MEan value for each section:\n",
      "A    95.0\n",
      "B    92.8\n",
      "C    94.6\n",
      "D    95.4\n",
      "dtype: float64\n"
     ]
    }
   ],
   "source": [
    "a = [99,94,92,97] \n",
    "b = [90,94,92,97] \n",
    "c = [95,89,91,89] \n",
    "d = [94,87,99,95] \n",
    "e = [97,100,99,99] \n",
    "f = [a,b,c,d,e] \n",
    "k = pd.DataFrame(f, index = ['Acct','Eco','Eng','IP','Math'],\n",
    "                columns=['A','B','C','D']) \n",
    "print(k) \n",
    "print(\"Mean value for each section:\") \n",
    "print(k.mean()) \n"
   ]
  },
  {
   "cell_type": "markdown",
   "id": "cc35bbc5-00f3-4e6b-b377-813fc94cf61e",
   "metadata": {},
   "source": [
    "Example 18: Consider the dataframe mks1 given above. Write a program to calculate average value(mean) for each subject."
   ]
  },
  {
   "cell_type": "code",
   "execution_count": 120,
   "id": "06eccc56-483a-48cb-b54f-dfeffb400222",
   "metadata": {},
   "outputs": [
    {
     "name": "stdout",
     "output_type": "stream",
     "text": [
      "       A    B   C   D\n",
      "Acct  99   94  92  97\n",
      "Eco   90   94  92  97\n",
      "Eng   95   89  91  89\n",
      "IP    94   87  99  95\n",
      "Math  97  100  99  99\n",
      "Mean value for each subject:\n",
      "Acct    95.50\n",
      "Eco     93.25\n",
      "Eng     91.00\n",
      "IP      93.75\n",
      "Math    98.75\n",
      "dtype: float64\n"
     ]
    }
   ],
   "source": [
    "a = [99,94,92,97] \n",
    "b = [90,94,92,97] \n",
    "c = [95,89,91,89] \n",
    "d = [94,87,99,95] \n",
    "e = [97,100,99,99] \n",
    "f = [a,b,c,d,e] \n",
    "k = pd.DataFrame(f, index = ['Acct','Eco','Eng','IP','Math'],\n",
    "                columns=['A','B','C','D']) \n",
    "print(k)  \n",
    "print(\"Mean value for each subject:\") \n",
    "print(k.mean(axis = 1)) \n"
   ]
  },
  {
   "cell_type": "markdown",
   "id": "1ba10104-ca90-4bed-a06a-ae6d82e8421f",
   "metadata": {
    "jp-MarkdownHeadingCollapsed": true
   },
   "source": [
    "## Functions count() and sum()"
   ]
  },
  {
   "cell_type": "markdown",
   "id": "19cec89a-a5a2-4dea-9a9e-292ceb0a74c2",
   "metadata": {},
   "source": [
    "Example 19: Consider the dataframe dfmks. Calculate how many exams were conducted, for each section."
   ]
  },
  {
   "cell_type": "code",
   "execution_count": 124,
   "id": "b85a151d-f464-46d3-a5d8-e9c8d0152e25",
   "metadata": {},
   "outputs": [
    {
     "name": "stdout",
     "output_type": "stream",
     "text": [
      "       A      B   C     D\n",
      "Acct  99   94.0  92  97.0\n",
      "Eco   90   94.0  92  97.0\n",
      "Eng   95   89.0  91  89.0\n",
      "IP    94    NaN  99  95.0\n",
      "Math  97  100.0  99   NaN\n",
      "No. of exams conducted by each section:\n",
      "A    5\n",
      "B    4\n",
      "C    5\n",
      "D    4\n",
      "dtype: int64\n"
     ]
    }
   ],
   "source": [
    "# Syntax: <df>.count(axis = 0, numeric_only = False) \n",
    "a = [99,94.0,92,97.0] \n",
    "b = [90,94.0,92,97.0] \n",
    "c = [95,89.0,91,89.0] \n",
    "d = [94,None,99,95.0] \n",
    "e = [97,100.0,99,None] \n",
    "f = [a,b,c,d,e] \n",
    "s = pd.DataFrame(f, index = ['Acct','Eco','Eng','IP','Math'],\n",
    "                columns=['A','B','C','D']) \n",
    "print(s)  \n",
    "print(\"No. of exams conducted by each section:\") \n",
    "print(s.count()) "
   ]
  },
  {
   "cell_type": "markdown",
   "id": "9c9e4800-8383-45b5-9937-135634321a0c",
   "metadata": {},
   "source": [
    "Example 20: Consider the dataframe dfmks. Assuming that in  each section, only 1 student scored maximum marks in each subject, write a program to calculate the topper's total marks, in each section."
   ]
  },
  {
   "cell_type": "code",
   "execution_count": 125,
   "id": "a05ad49c-ac8d-4624-a6d2-24061622b412",
   "metadata": {},
   "outputs": [
    {
     "name": "stdout",
     "output_type": "stream",
     "text": [
      "       A      B   C     D\n",
      "Acct  99   94.0  92  97.0\n",
      "Eco   90   94.0  92  97.0\n",
      "Eng   95   89.0  91  89.0\n",
      "IP    94    NaN  99  95.0\n",
      "Math  97  100.0  99   NaN\n",
      "Topper's total marks in each section:\n",
      "A    475.0\n",
      "B    377.0\n",
      "C    473.0\n",
      "D    378.0\n",
      "dtype: float64\n"
     ]
    }
   ],
   "source": [
    "a = [99,94.0,92,97.0] \n",
    "b = [90,94.0,92,97.0] \n",
    "c = [95,89.0,91,89.0] \n",
    "d = [94,None,99,95.0] \n",
    "e = [97,100.0,99,None] \n",
    "f = [a,b,c,d,e] \n",
    "s = pd.DataFrame(f, index = ['Acct','Eco','Eng','IP','Math'],\n",
    "                columns=['A','B','C','D']) \n",
    "print(s) \n",
    "print(\"Topper's total marks in each section:\") \n",
    "print(s.sum())"
   ]
  },
  {
   "cell_type": "code",
   "execution_count": 126,
   "id": "8209ab86-81bd-4ff0-80c9-2452bf851c07",
   "metadata": {},
   "outputs": [
    {
     "name": "stdout",
     "output_type": "stream",
     "text": [
      "       A      B   C     D\n",
      "Acct  99   94.0  92  97.0\n",
      "Eco   90   94.0  92  97.0\n",
      "Eng   95   89.0  91  89.0\n",
      "IP    94    NaN  99  95.0\n",
      "Math  97  100.0  99   NaN\n",
      "               A       B          C          D\n",
      "count   5.000000    4.00   5.000000   4.000000\n",
      "mean   95.000000   94.25  94.600000  94.500000\n",
      "std     3.391165    4.50   4.037326   3.785939\n",
      "min    90.000000   89.00  91.000000  89.000000\n",
      "25%    94.000000   92.75  92.000000  93.500000\n",
      "50%    95.000000   94.00  92.000000  96.000000\n",
      "75%    97.000000   95.50  99.000000  97.000000\n",
      "max    99.000000  100.00  99.000000  97.000000\n"
     ]
    }
   ],
   "source": [
    "a = [99,94.0,92,97.0] \n",
    "b = [90,94.0,92,97.0] \n",
    "c = [95,89.0,91,89.0] \n",
    "d = [94,None,99,95.0] \n",
    "e = [97,100.0,99,None] \n",
    "f = [a,b,c,d,e] \n",
    "s = pd.DataFrame(f, index = ['Acct','Eco','Eng','IP','Math'],\n",
    "                columns=['A','B','C','D']) \n",
    "print(s)  \n",
    "print(s.describe()) "
   ]
  },
  {
   "cell_type": "markdown",
   "id": "120679aa-b8b4-4e40-beca-5e771ac49c15",
   "metadata": {
    "jp-MarkdownHeadingCollapsed": true
   },
   "source": [
    "## Functions quantile(), std() and var()"
   ]
  },
  {
   "cell_type": "markdown",
   "id": "fd0d1666-dda3-4ee4-84ea-867637b8a3ed",
   "metadata": {
    "jp-MarkdownHeadingCollapsed": true
   },
   "source": [
    "### quantile"
   ]
  },
  {
   "cell_type": "code",
   "execution_count": 128,
   "id": "3c259431-6f34-4e93-988d-c7fc8c786090",
   "metadata": {},
   "outputs": [
    {
     "name": "stdout",
     "output_type": "stream",
     "text": [
      "              Rice    Wheat  Pulses    Fruits\n",
      "Andhra P.   7453.4      NaN   931.0    7830.0\n",
      "Gujarat     1930.0   2737.0   818.0   11950.0\n",
      "Kerala      2404.8      NaN     1.7     113.1\n",
      "Punjab     11586.2  16440.5    33.0    7152.0\n",
      "Tripura      814.6      0.5    23.2      44.1\n",
      "Uttar p.   13754.0  30056.0  2184.4  140169.2\n",
      "         Rice      Wheat   Pulses      Fruits\n",
      "0.25   2048.7   2052.875    25.65    1872.825\n",
      "0.50   4929.1   9588.750   425.50    7491.000\n",
      "0.75  10553.0  19844.375   902.75   10920.000\n",
      "1.00  13754.0  30056.000  2184.40  140169.200\n"
     ]
    }
   ],
   "source": [
    "iprod = {'Rice':{'Andhra P.':7453.4, 'Gujarat':1930.0, 'Kerala':2404.8,'Punjab':\n",
    "                 11586.2, 'Tripura': 814.6, 'Uttar p.':13754.0},\n",
    "          'Wheat':{'Andhra P.':np.NaN, 'Gujarat':2737.0, 'Kerala':np.NaN,'Punjab':\n",
    "                 16440.5, 'Tripura': 0.5, 'Uttar p.':30056.0},\n",
    "         'Pulses':{'Andhra P.':931.0, 'Gujarat':818.0, 'Kerala':1.7,'Punjab':\n",
    "                 33.0, 'Tripura':23.2, 'Uttar p.':2184.4},\n",
    "         'Fruits':{'Andhra P.':7830.0, 'Gujarat':11950.0, 'Kerala':113.1,'Punjab':\n",
    "                 7152.0, 'Tripura':44.1, 'Uttar p.':140169.2}} \n",
    "g = pd.DataFrame(iprod) \n",
    "print(g) \n",
    "print(g.quantile([0.25,0.5,0.75,1.0])) \n",
    "       "
   ]
  },
  {
   "cell_type": "code",
   "execution_count": 129,
   "id": "480f95fc-23fc-4ce4-acab-620b26bec085",
   "metadata": {},
   "outputs": [
    {
     "name": "stdout",
     "output_type": "stream",
     "text": [
      "              Rice    Wheat  Pulses    Fruits\n",
      "Andhra P.   7453.4      NaN   931.0    7830.0\n",
      "Gujarat     1930.0   2737.0   818.0   11950.0\n",
      "Kerala      2404.8      NaN     1.7     113.1\n",
      "Punjab     11586.2  16440.5    33.0    7152.0\n",
      "Tripura      814.6      0.5    23.2      44.1\n",
      "Uttar p.   13754.0  30056.0  2184.4  140169.2\n",
      "      Andhra P.   Gujarat   Kerala     Punjab  Tripura  Uttar p.\n",
      "0.25     4192.2   1652.00    57.40   5372.250   17.525   10861.6\n",
      "0.50     7453.4   2333.50   113.10   9369.100   33.650   21905.0\n",
      "0.75     7641.7   5040.25  1258.95  12799.775  236.725   57584.3\n",
      "1.00     7830.0  11950.00  2404.80  16440.500  814.600  140169.2\n"
     ]
    }
   ],
   "source": [
    "iprod = {'Rice':{'Andhra P.':7453.4, 'Gujarat':1930.0, 'Kerala':2404.8,'Punjab':\n",
    "                 11586.2, 'Tripura': 814.6, 'Uttar p.':13754.0},\n",
    "          'Wheat':{'Andhra P.':np.NaN, 'Gujarat':2737.0, 'Kerala':np.NaN,'Punjab':\n",
    "                 16440.5, 'Tripura': 0.5, 'Uttar p.':30056.0},\n",
    "         'Pulses':{'Andhra P.':931.0, 'Gujarat':818.0, 'Kerala':1.7,'Punjab':\n",
    "                 33.0, 'Tripura':23.2, 'Uttar p.':2184.4},\n",
    "         'Fruits':{'Andhra P.':7830.0, 'Gujarat':11950.0, 'Kerala':113.1,'Punjab':\n",
    "                 7152.0, 'Tripura':44.1, 'Uttar p.':140169.2}} \n",
    "g = pd.DataFrame(iprod) \n",
    "print(g)\n",
    "print(g.quantile([0.25,0.5,0.75,1.0], axis = 1)) "
   ]
  },
  {
   "cell_type": "markdown",
   "id": "6135be4b-449a-46eb-8ed3-0b251159303e",
   "metadata": {},
   "source": [
    "Example 21: Given a dataframe mks2 storing marks of 10 students in a class, in five subject, as shown below. Write a program to measure the subject wise performence of the students, so that the teacher gets to know the following details (for each sunject): "
   ]
  },
  {
   "cell_type": "code",
   "execution_count": 133,
   "id": "4344cbcb-df41-4fe3-a75d-34c2a491dcf3",
   "metadata": {},
   "outputs": [
    {
     "name": "stdout",
     "output_type": "stream",
     "text": [
      "       0    1   2   3   4   5   6   7   8   9\n",
      "Acct  99   94  81  70  88  90  41  61  42  68\n",
      "Eco   94   94  72  67  82  81  36  54  42  67\n",
      "Eng   95   89  71  69  82  79  51  60  45  66\n",
      "IP    94   87  79  65  89  81  42  63  43  64\n",
      "Math  97  100  65  69  86  84  40  55  40  60\n",
      "Performance of students, subject wise\n",
      "       Acct    Eco    Eng     IP    Math\n",
      "0.25  62.75  57.25  61.50  63.25   56.25\n",
      "0.50  75.50  69.50  70.00  72.00   67.00\n",
      "0.75  89.50  81.75  81.25  85.50   85.50\n",
      "1.00  99.00  94.00  95.00  94.00  100.00\n"
     ]
    }
   ],
   "source": [
    "import pandas as pd \n",
    "import numpy as np \n",
    "a = [99,94,81,70,88,90,41,61,42,68] \n",
    "b = [94,94,72,67,82,81,36,54,42,67] \n",
    "c = [95,89,71,69,82,79,51,60,45,66] \n",
    "d = [94,87,79,65,89,81,42,63,43,64] \n",
    "e = [97,100,65,69,86,84,40,55,40,60] \n",
    "df = [a,b,c,d,e] \n",
    "df1 = pd.DataFrame(df, index = ['Acct','Eco','Eng','IP','Math']) \n",
    "print(df1) \n",
    "print(\"Performance of students, subject wise\") \n",
    "print(df1.quantile([0.25,0.5,0.75,1.0], axis = 1)) \n"
   ]
  },
  {
   "cell_type": "markdown",
   "id": "8765c161-a85a-408a-885f-7aefe7f100d8",
   "metadata": {
    "jp-MarkdownHeadingCollapsed": true
   },
   "source": [
    "### The std() Function"
   ]
  },
  {
   "cell_type": "code",
   "execution_count": 135,
   "id": "537b2868-f3cd-4109-be14-785eeb9dc33c",
   "metadata": {},
   "outputs": [
    {
     "name": "stdout",
     "output_type": "stream",
     "text": [
      "              Rice    Wheat  Pulses    Fruits\n",
      "Andhra P.   7453.4      NaN   931.0    7830.0\n",
      "Gujarat     1930.0   2737.0   818.0   11950.0\n",
      "Kerala      2404.8      NaN     1.7     113.1\n",
      "Punjab     11586.2  16440.5    33.0    7152.0\n",
      "Tripura      814.6      0.5    23.2      44.1\n",
      "Uttar p.   13754.0  30056.0  2184.4  140169.2\n",
      "Rice       5462.454504\n",
      "Wheat     13846.150566\n",
      "Pulses      854.872997\n",
      "Fruits    55208.911975\n",
      "dtype: float64\n"
     ]
    }
   ],
   "source": [
    "iprod = {'Rice':{'Andhra P.':7453.4, 'Gujarat':1930.0, 'Kerala':2404.8,'Punjab':\n",
    "                 11586.2, 'Tripura': 814.6, 'Uttar p.':13754.0},\n",
    "          'Wheat':{'Andhra P.':np.NaN, 'Gujarat':2737.0, 'Kerala':np.NaN,'Punjab':\n",
    "                 16440.5, 'Tripura': 0.5, 'Uttar p.':30056.0},\n",
    "         'Pulses':{'Andhra P.':931.0, 'Gujarat':818.0, 'Kerala':1.7,'Punjab':\n",
    "                 33.0, 'Tripura':23.2, 'Uttar p.':2184.4},\n",
    "         'Fruits':{'Andhra P.':7830.0, 'Gujarat':11950.0, 'Kerala':113.1,'Punjab':\n",
    "                 7152.0, 'Tripura':44.1, 'Uttar p.':140169.2}} \n",
    "g = pd.DataFrame(iprod) \n",
    "print(g) \n",
    "print(g.std())"
   ]
  },
  {
   "cell_type": "markdown",
   "id": "439a0152-e8d1-4a31-bdf5-2151d2d22a71",
   "metadata": {},
   "source": [
    "Example 22: Consider the mks2 DataFrame used in example 25 above. Write a program to calculate the standard deaviation for each subject."
   ]
  },
  {
   "cell_type": "code",
   "execution_count": 136,
   "id": "dfa5d963-5f4b-41ba-a430-283505861d13",
   "metadata": {},
   "outputs": [
    {
     "name": "stdout",
     "output_type": "stream",
     "text": [
      "       0    1   2   3   4   5   6   7   8   9\n",
      "Acct  99   94  81  70  88  90  41  61  42  68\n",
      "Eco   94   94  72  67  82  81  36  54  42  67\n",
      "Eng   95   89  71  69  82  79  51  60  45  66\n",
      "IP    94   87  79  65  89  81  42  63  43  64\n",
      "Math  97  100  65  69  86  84  40  55  40  60\n",
      "Standard deviation, subject wise\n",
      "Acct    20.699973\n",
      "Eco     20.063510\n",
      "Eng     16.021167\n",
      "IP      18.397162\n",
      "Math    21.680508\n",
      "dtype: float64\n"
     ]
    }
   ],
   "source": [
    "import pandas as pd \n",
    "import numpy as np \n",
    "a = [99,94,81,70,88,90,41,61,42,68] \n",
    "b = [94,94,72,67,82,81,36,54,42,67] \n",
    "c = [95,89,71,69,82,79,51,60,45,66] \n",
    "d = [94,87,79,65,89,81,42,63,43,64] \n",
    "e = [97,100,65,69,86,84,40,55,40,60] \n",
    "df = [a,b,c,d,e] \n",
    "df1 = pd.DataFrame(df, index = ['Acct','Eco','Eng','IP','Math']) \n",
    "print(df1) \n",
    "print(\"Standard deviation, subject wise\") \n",
    "print(df1.std(axis = 1)) \n"
   ]
  },
  {
   "cell_type": "markdown",
   "id": "c82989a0-df8c-40ef-b950-09f19b1a4988",
   "metadata": {
    "jp-MarkdownHeadingCollapsed": true
   },
   "source": [
    "### The var() Function"
   ]
  },
  {
   "cell_type": "code",
   "execution_count": 137,
   "id": "1b700be8-9a15-40a6-ab6e-1b89fdb14b22",
   "metadata": {},
   "outputs": [
    {
     "name": "stdout",
     "output_type": "stream",
     "text": [
      "       0    1   2   3   4   5   6   7   8   9\n",
      "Acct  99   94  81  70  88  90  41  61  42  68\n",
      "Eco   94   94  72  67  82  81  36  54  42  67\n",
      "Eng   95   89  71  69  82  79  51  60  45  66\n",
      "IP    94   87  79  65  89  81  42  63  43  64\n",
      "Math  97  100  65  69  86  84  40  55  40  60\n",
      "Variance, subject wise\n",
      "Acct    428.488889\n",
      "Eco     402.544444\n",
      "Eng     256.677778\n",
      "IP      338.455556\n",
      "Math    470.044444\n",
      "dtype: float64\n"
     ]
    }
   ],
   "source": [
    "import pandas as pd \n",
    "import numpy as np \n",
    "a = [99,94,81,70,88,90,41,61,42,68] \n",
    "b = [94,94,72,67,82,81,36,54,42,67] \n",
    "c = [95,89,71,69,82,79,51,60,45,66] \n",
    "d = [94,87,79,65,89,81,42,63,43,64] \n",
    "e = [97,100,65,69,86,84,40,55,40,60] \n",
    "df = [a,b,c,d,e] \n",
    "df1 = pd.DataFrame(df, index = ['Acct','Eco','Eng','IP','Math']) \n",
    "print(df1) \n",
    "print(\"Variance, subject wise\") \n",
    "print(df1.var(axis = 1)) \n"
   ]
  },
  {
   "cell_type": "code",
   "execution_count": 139,
   "id": "1f35970e-d197-4a53-b0b1-eb44b897cc38",
   "metadata": {},
   "outputs": [
    {
     "name": "stdout",
     "output_type": "stream",
     "text": [
      "              Rice    Wheat  Pulses    Fruits\n",
      "Andhra P.   7453.4      NaN   931.0    7830.0\n",
      "Gujarat     1930.0   2737.0   818.0   11950.0\n",
      "Kerala      2404.8      NaN     1.7     113.1\n",
      "Punjab     11586.2  16440.5    33.0    7152.0\n",
      "Tripura      814.6      0.5    23.2      44.1\n",
      "Uttar p.   13754.0  30056.0  2184.4  140169.2\n",
      "Variance of each product:\n",
      "Andhra P.    1.504662e+07\n",
      "Gujarat      2.623096e+07\n",
      "Kerala       1.839865e+06\n",
      "Punjab       4.857210e+07\n",
      "Tripura      1.571330e+05\n",
      "Uttar p.     4.026830e+09\n",
      "dtype: float64\n"
     ]
    }
   ],
   "source": [
    "iprod = {'Rice':{'Andhra P.':7453.4, 'Gujarat':1930.0, 'Kerala':2404.8,'Punjab':\n",
    "                 11586.2, 'Tripura': 814.6, 'Uttar p.':13754.0},\n",
    "          'Wheat':{'Andhra P.':np.NaN, 'Gujarat':2737.0, 'Kerala':np.NaN,'Punjab':\n",
    "                 16440.5, 'Tripura': 0.5, 'Uttar p.':30056.0},\n",
    "         'Pulses':{'Andhra P.':931.0, 'Gujarat':818.0, 'Kerala':1.7,'Punjab':\n",
    "                 33.0, 'Tripura':23.2, 'Uttar p.':2184.4},\n",
    "         'Fruits':{'Andhra P.':7830.0, 'Gujarat':11950.0, 'Kerala':113.1,'Punjab':\n",
    "                 7152.0, 'Tripura':44.1, 'Uttar p.':140169.2}} \n",
    "g = pd.DataFrame(iprod) \n",
    "print(g) \n",
    "print(\"Variance of each product:\")\n",
    "print(g.var(axis = 1))"
   ]
  },
  {
   "cell_type": "markdown",
   "id": "fc702eb0-deda-4202-b632-003aa35b57a3",
   "metadata": {
    "jp-MarkdownHeadingCollapsed": true
   },
   "source": [
    "### The describe() Function"
   ]
  },
  {
   "cell_type": "code",
   "execution_count": 140,
   "id": "0a90c31f-2c02-4146-abd6-7c6b9c9c15a5",
   "metadata": {},
   "outputs": [
    {
     "name": "stdout",
     "output_type": "stream",
     "text": [
      "              Rice    Wheat  Pulses    Fruits\n",
      "Andhra P.   7453.4      NaN   931.0    7830.0\n",
      "Gujarat     1930.0   2737.0   818.0   11950.0\n",
      "Kerala      2404.8      NaN     1.7     113.1\n",
      "Punjab     11586.2  16440.5    33.0    7152.0\n",
      "Tripura      814.6      0.5    23.2      44.1\n",
      "Uttar p.   13754.0  30056.0  2184.4  140169.2\n",
      "               Rice         Wheat       Pulses         Fruits\n",
      "count      6.000000      4.000000     6.000000       6.000000\n",
      "mean    6323.833333  12308.500000   665.216667   27876.400000\n",
      "std     5462.454504  13846.150566   854.872997   55208.911975\n",
      "min      814.600000      0.500000     1.700000      44.100000\n",
      "25%     2048.700000   2052.875000    25.650000    1872.825000\n",
      "50%     4929.100000   9588.750000   425.500000    7491.000000\n",
      "75%    10553.000000  19844.375000   902.750000   10920.000000\n",
      "max    13754.000000  30056.000000  2184.400000  140169.200000\n"
     ]
    }
   ],
   "source": [
    "iprod = {'Rice':{'Andhra P.':7453.4, 'Gujarat':1930.0, 'Kerala':2404.8,'Punjab':\n",
    "                 11586.2, 'Tripura': 814.6, 'Uttar p.':13754.0},\n",
    "          'Wheat':{'Andhra P.':np.NaN, 'Gujarat':2737.0, 'Kerala':np.NaN,'Punjab':\n",
    "                 16440.5, 'Tripura': 0.5, 'Uttar p.':30056.0},\n",
    "         'Pulses':{'Andhra P.':931.0, 'Gujarat':818.0, 'Kerala':1.7,'Punjab':\n",
    "                 33.0, 'Tripura':23.2, 'Uttar p.':2184.4},\n",
    "         'Fruits':{'Andhra P.':7830.0, 'Gujarat':11950.0, 'Kerala':113.1,'Punjab':\n",
    "                 7152.0, 'Tripura':44.1, 'Uttar p.':140169.2}} \n",
    "g = pd.DataFrame(iprod) \n",
    "print(g) \n",
    "print(g.describe()) "
   ]
  },
  {
   "cell_type": "markdown",
   "id": "69ca3aec-5319-4f16-8d69-5f835fc06684",
   "metadata": {
    "jp-MarkdownHeadingCollapsed": true
   },
   "source": [
    "### Function describe() for String type columns."
   ]
  },
  {
   "cell_type": "code",
   "execution_count": 2,
   "id": "829e69c9-c213-42b3-8704-4c414fb1d7f3",
   "metadata": {},
   "outputs": [
    {
     "name": "stdout",
     "output_type": "stream",
     "text": [
      "        0\n",
      "0    This\n",
      "1      is\n",
      "2    good\n",
      "3    This\n",
      "4  is fun\n",
      "           0\n",
      "count      5\n",
      "unique     4\n",
      "top     This\n",
      "freq       2\n"
     ]
    }
   ],
   "source": [
    "import pandas as pd \n",
    "s = pd.DataFrame({'0':['This','is','good','This','is fun']})\n",
    "print(s) \n",
    "print(s.describe()) \n"
   ]
  },
  {
   "cell_type": "code",
   "execution_count": 19,
   "id": "f6a413b6-4691-4b82-8092-db099742be4a",
   "metadata": {},
   "outputs": [
    {
     "name": "stdout",
     "output_type": "stream",
     "text": [
      "    A   B   C   D   E\n",
      "0  99  94  81  70  88\n",
      "1  94  94  72  67  82\n",
      "2  95  89  71  69  82\n",
      "               A          B          C          D          E\n",
      "count   3.000000   3.000000   3.000000   3.000000   3.000000\n",
      "mean   96.000000  92.333333  74.666667  68.666667  84.000000\n",
      "std     2.645751   2.886751   5.507571   1.527525   3.464102\n",
      "min    94.000000  89.000000  71.000000  67.000000  82.000000\n",
      "25%    94.500000  91.500000  71.500000  68.000000  82.000000\n",
      "50%    95.000000  94.000000  72.000000  69.000000  82.000000\n",
      "75%    97.000000  94.000000  76.500000  69.500000  85.000000\n",
      "max    99.000000  94.000000  81.000000  70.000000  88.000000\n"
     ]
    }
   ],
   "source": [
    "import pandas as pd \n",
    "import numpy as np \n",
    "a = [99,94,81,70,88] \n",
    "b = [94,94,72,67,82] \n",
    "c = [95,89,71,69,82] \n",
    "df = [a,b,c] \n",
    "df1 = pd.DataFrame(df, columns = ['A','B','C','D','E']) \n",
    "print(df1) \n",
    "print(df1.describe(include='all')) "
   ]
  },
  {
   "cell_type": "markdown",
   "id": "8fb9ce98-2217-4863-8ba8-db2ff153dd01",
   "metadata": {
    "jp-MarkdownHeadingCollapsed": true
   },
   "source": [
    "### Inspection Function info()"
   ]
  },
  {
   "cell_type": "code",
   "execution_count": 20,
   "id": "a2661116-6ded-49c8-b958-1d8640e8e655",
   "metadata": {},
   "outputs": [
    {
     "name": "stdout",
     "output_type": "stream",
     "text": [
      "       0    1   2   3   4   5   6   7   8   9\n",
      "Acct  99   94  81  70  88  90  41  61  42  68\n",
      "Eco   94   94  72  67  82  81  36  54  42  67\n",
      "Eng   95   89  71  69  82  79  51  60  45  66\n",
      "IP    94   87  79  65  89  81  42  63  43  64\n",
      "Math  97  100  65  69  86  84  40  55  40  60\n",
      "<class 'pandas.core.frame.DataFrame'>\n",
      "Index: 5 entries, Acct to Math\n",
      "Data columns (total 10 columns):\n",
      " #   Column  Non-Null Count  Dtype\n",
      "---  ------  --------------  -----\n",
      " 0   0       5 non-null      int64\n",
      " 1   1       5 non-null      int64\n",
      " 2   2       5 non-null      int64\n",
      " 3   3       5 non-null      int64\n",
      " 4   4       5 non-null      int64\n",
      " 5   5       5 non-null      int64\n",
      " 6   6       5 non-null      int64\n",
      " 7   7       5 non-null      int64\n",
      " 8   8       5 non-null      int64\n",
      " 9   9       5 non-null      int64\n",
      "dtypes: int64(10)\n",
      "memory usage: 440.0+ bytes\n",
      "None\n"
     ]
    }
   ],
   "source": [
    "a = [99,94,81,70,88,90,41,61,42,68] \n",
    "b = [94,94,72,67,82,81,36,54,42,67] \n",
    "c = [95,89,71,69,82,79,51,60,45,66] \n",
    "d = [94,87,79,65,89,81,42,63,43,64] \n",
    "e = [97,100,65,69,86,84,40,55,40,60] \n",
    "df = [a,b,c,d,e] \n",
    "df5 = pd.DataFrame(df, index = ['Acct','Eco','Eng','IP','Math']) \n",
    "print(df5) \n",
    "print(df5.info())"
   ]
  },
  {
   "cell_type": "code",
   "execution_count": 21,
   "id": "9c6fd290-ff63-48dc-9a2e-2396bc665689",
   "metadata": {},
   "outputs": [
    {
     "name": "stdout",
     "output_type": "stream",
     "text": [
      "              Rice    Wheat  Pulses    Fruits\n",
      "Andhra P.   7453.4      NaN   931.0    7830.0\n",
      "Gujarat     1930.0   2737.0   818.0   11950.0\n",
      "Kerala      2404.8      NaN     1.7     113.1\n",
      "Punjab     11586.2  16440.5    33.0    7152.0\n",
      "Tripura      814.6      0.5    23.2      44.1\n",
      "Uttar p.   13754.0  30056.0  2184.4  140169.2\n",
      "<class 'pandas.core.frame.DataFrame'>\n",
      "Index: 6 entries, Andhra P. to Uttar p.\n",
      "Data columns (total 4 columns):\n",
      " #   Column  Non-Null Count  Dtype  \n",
      "---  ------  --------------  -----  \n",
      " 0   Rice    6 non-null      float64\n",
      " 1   Wheat   4 non-null      float64\n",
      " 2   Pulses  6 non-null      float64\n",
      " 3   Fruits  6 non-null      float64\n",
      "dtypes: float64(4)\n",
      "memory usage: 240.0+ bytes\n",
      "None\n"
     ]
    }
   ],
   "source": [
    "iprod = {'Rice':{'Andhra P.':7453.4, 'Gujarat':1930.0, 'Kerala':2404.8,'Punjab':\n",
    "                 11586.2, 'Tripura': 814.6, 'Uttar p.':13754.0},\n",
    "          'Wheat':{'Andhra P.':np.NaN, 'Gujarat':2737.0, 'Kerala':np.NaN,'Punjab':\n",
    "                 16440.5, 'Tripura': 0.5, 'Uttar p.':30056.0},\n",
    "         'Pulses':{'Andhra P.':931.0, 'Gujarat':818.0, 'Kerala':1.7,'Punjab':\n",
    "                 33.0, 'Tripura':23.2, 'Uttar p.':2184.4},\n",
    "         'Fruits':{'Andhra P.':7830.0, 'Gujarat':11950.0, 'Kerala':113.1,'Punjab':\n",
    "                 7152.0, 'Tripura':44.1, 'Uttar p.':140169.2}} \n",
    "g = pd.DataFrame(iprod) \n",
    "print(g) \n",
    "print(g.info())"
   ]
  },
  {
   "cell_type": "markdown",
   "id": "803187e8-15ba-4af6-8035-b08f83f2e2fb",
   "metadata": {
    "jp-MarkdownHeadingCollapsed": true
   },
   "source": [
    "#### DataFrame's Top and Bottom Rows using head() and tail() "
   ]
  },
  {
   "cell_type": "code",
   "execution_count": 24,
   "id": "cb785037-35ba-4f7c-86f3-56821f2bae45",
   "metadata": {},
   "outputs": [
    {
     "name": "stdout",
     "output_type": "stream",
     "text": [
      "              Rice    Wheat  Pulses    Fruits\n",
      "Andhra P.   7453.4      NaN   931.0    7830.0\n",
      "Gujarat     1930.0   2737.0   818.0   11950.0\n",
      "Kerala      2404.8      NaN     1.7     113.1\n",
      "Punjab     11586.2  16440.5    33.0    7152.0\n",
      "Tripura      814.6      0.5    23.2      44.1\n",
      "Uttar p.   13754.0  30056.0  2184.4  140169.2\n",
      "             Rice    Wheat  Pulses    Fruits\n",
      "Gujarat    1930.0   2737.0   818.0   11950.0\n",
      "Kerala     2404.8      NaN     1.7     113.1\n",
      "Punjab    11586.2  16440.5    33.0    7152.0\n",
      "Tripura     814.6      0.5    23.2      44.1\n",
      "Uttar p.  13754.0  30056.0  2184.4  140169.2\n",
      "             Rice   Wheat  Pulses   Fruits\n",
      "Andhra P.  7453.4     NaN   931.0   7830.0\n",
      "Gujarat    1930.0  2737.0   818.0  11950.0\n",
      "Kerala     2404.8     NaN     1.7    113.1\n"
     ]
    }
   ],
   "source": [
    "iprod = {'Rice':{'Andhra P.':7453.4, 'Gujarat':1930.0, 'Kerala':2404.8,'Punjab':\n",
    "                 11586.2, 'Tripura': 814.6, 'Uttar p.':13754.0},\n",
    "          'Wheat':{'Andhra P.':np.NaN, 'Gujarat':2737.0, 'Kerala':np.NaN,'Punjab':\n",
    "                 16440.5, 'Tripura': 0.5, 'Uttar p.':30056.0},\n",
    "         'Pulses':{'Andhra P.':931.0, 'Gujarat':818.0, 'Kerala':1.7,'Punjab':\n",
    "                 33.0, 'Tripura':23.2, 'Uttar p.':2184.4},\n",
    "         'Fruits':{'Andhra P.':7830.0, 'Gujarat':11950.0, 'Kerala':113.1,'Punjab':\n",
    "                 7152.0, 'Tripura':44.1, 'Uttar p.':140169.2}} \n",
    "g = pd.DataFrame(iprod) \n",
    "print(g) \n",
    "print(g.tail()) \n",
    "print(g.head(n = 3))"
   ]
  },
  {
   "cell_type": "markdown",
   "id": "c742ea08-acc4-4fc9-af57-a631bd954b7d",
   "metadata": {},
   "source": [
    "Example 24: Given dataframe dtf6. Write a program to display top two rows' values of 'Schools' column and last 3 values of 'Hospitals' column."
   ]
  },
  {
   "cell_type": "code",
   "execution_count": 33,
   "id": "fc02a463-d482-432e-b2f6-0c748b18fc8b",
   "metadata": {},
   "outputs": [
    {
     "name": "stdout",
     "output_type": "stream",
     "text": [
      "         Hospitals  Schools\n",
      "Delhi          189     7916\n",
      "Mumbai         208     8508\n",
      "Kolkata        149     7226\n",
      "Chennai        157     7617\n",
      "Delhi     189\n",
      "Mumbai    208\n",
      "Name: Hospitals, dtype: int64\n",
      "Mumbai     8508\n",
      "Kolkata    7226\n",
      "Chennai    7617\n",
      "Name: Schools, dtype: int64\n"
     ]
    }
   ],
   "source": [
    "import pandas as pd  \n",
    "import numpy as np  \n",
    "a = [189,7916] \n",
    "b = [208,8508] \n",
    "c = [149,7226] \n",
    "d = [157,7617] \n",
    "e = [a,b,c,d] \n",
    "s = pd.DataFrame(e, index = ['Delhi','Mumbai','Kolkata','Chennai'], columns=\n",
    "                ['Hospitals','Schools']) \n",
    "print(s) \n",
    "print(s.Hospitals.head(2)) \n",
    "print(s.Schools.tail(3)) \n"
   ]
  },
  {
   "cell_type": "markdown",
   "id": "9b2fbc9f-95f5-4990-b9c2-c21a3043fb37",
   "metadata": {},
   "source": [
    "### Cumulative Calculations Funcctions"
   ]
  },
  {
   "cell_type": "markdown",
   "id": "7884899e-3cba-4276-8301-da870428976e",
   "metadata": {
    "jp-MarkdownHeadingCollapsed": true
   },
   "source": [
    "#### cumsum() Function"
   ]
  },
  {
   "cell_type": "code",
   "execution_count": 35,
   "id": "02415c14-119b-444b-890c-f7228d9d6d75",
   "metadata": {},
   "outputs": [
    {
     "name": "stdout",
     "output_type": "stream",
     "text": [
      "    A   B   C\n",
      "0   9  18  27\n",
      "1  36  45  54\n",
      "2  63  72  81\n"
     ]
    }
   ],
   "source": [
    "a = [9,18,27] \n",
    "b = [36,45,54] \n",
    "c = [63,72,81] \n",
    "d = [a,b,c] \n",
    "m = pd.DataFrame(d, columns = ['A','B','C']) \n",
    "print(m)"
   ]
  },
  {
   "cell_type": "code",
   "execution_count": 37,
   "id": "d270acaa-33ef-42aa-9f53-57270afe0a28",
   "metadata": {},
   "outputs": [
    {
     "name": "stdout",
     "output_type": "stream",
     "text": [
      "     A    B    C\n",
      "0    9   18   27\n",
      "1   45   63   81\n",
      "2  108  135  162\n",
      "     A    B    C\n",
      "0    9   18   27\n",
      "1   45   63   81\n",
      "2  108  135  162\n"
     ]
    }
   ],
   "source": [
    "print(m.cumsum()) \n",
    "print(m.cumsum(axis = 'rows'))"
   ]
  },
  {
   "cell_type": "code",
   "execution_count": 38,
   "id": "3534ddd5-dfd8-4aae-957d-6f1276dd42e0",
   "metadata": {},
   "outputs": [
    {
     "name": "stdout",
     "output_type": "stream",
     "text": [
      "    A    B    C\n",
      "0   9   27   54\n",
      "1  36   81  135\n",
      "2  63  135  216\n"
     ]
    }
   ],
   "source": [
    "print(m.cumsum(axis = 'columns')) "
   ]
  },
  {
   "cell_type": "markdown",
   "id": "f22e95ca-fae8-4d64-bf1a-a3e8a3ed660d",
   "metadata": {
    "jp-MarkdownHeadingCollapsed": true
   },
   "source": [
    "#### cumprod(), cummax(), cummin() Functions"
   ]
  },
  {
   "cell_type": "markdown",
   "id": "b66ef670-d7bb-437e-bd6c-6641dfa2bc8d",
   "metadata": {},
   "source": [
    "Example 25: Consider above given team points dataframe df1 and df2 , write a program to list maximum points till that round(cumlatively)."
   ]
  },
  {
   "cell_type": "code",
   "execution_count": 4,
   "id": "f79718b3-944a-48bf-9017-bdd930337284",
   "metadata": {},
   "outputs": [
    {
     "name": "stdout",
     "output_type": "stream",
     "text": [
      "Cumulative max. points till each round:\n",
      "    p1   p2\n",
      "0  700  490\n",
      "1  975  460\n",
      "2  970  570\n",
      "3  900  590\n",
      "    p1   p2\n",
      "0  700  490\n",
      "1  975  490\n",
      "2  975  570\n",
      "3  975  590\n",
      "     p1    p2\n",
      "0  1100  1400\n",
      "1  1275  1260\n",
      "2  1270  1500\n",
      "3  1400  1190\n",
      "     p1    p2\n",
      "0  1100  1400\n",
      "1  1275  1400\n",
      "2  1275  1500\n",
      "3  1400  1500\n"
     ]
    }
   ],
   "source": [
    "import pandas as pd \n",
    "a = {'p1':[700,975,970,900],'p2':[490,460,570,590]} \n",
    "team1 = pd.DataFrame(a)  \n",
    "b = {'p1':[1100,1275,1270,1400],'p2':[1400,1260,1500,1190]} \n",
    "team2 = pd.DataFrame(b) \n",
    "print(\"Cumulative max. points till each round:\") \n",
    "print(team1)\n",
    "print(team1.cummax()) \n",
    "print(team2)\n",
    "print(team2.cummax()) \n"
   ]
  },
  {
   "cell_type": "markdown",
   "id": "9953cc31-0e17-45bb-9e1b-f6c1fd683e0b",
   "metadata": {},
   "source": [
    "Example 26: Considering dataframe of team2's points, write a program to print  the total points of each player till each row."
   ]
  },
  {
   "cell_type": "code",
   "execution_count": 6,
   "id": "b19ae5be-c772-40c9-9940-39633d781448",
   "metadata": {},
   "outputs": [
    {
     "name": "stdout",
     "output_type": "stream",
     "text": [
      "     p1    p2\n",
      "0  1100  1400\n",
      "1  1275  1260\n",
      "2  1270  1500\n",
      "3  1400  1190\n",
      "Cumulative total points till each round:\n",
      "     p1    p2\n",
      "0  1100  1400\n",
      "1  2375  2660\n",
      "2  3645  4160\n",
      "3  5045  5350\n"
     ]
    }
   ],
   "source": [
    "import pandas as pd \n",
    "a = {'p1':[700,975,970,900],'p2':[490,460,570,590]} \n",
    "team1 = pd.DataFrame(a)  \n",
    "b = {'p1':[1100,1275,1270,1400],'p2':[1400,1260,1500,1190]} \n",
    "team2 = pd.DataFrame(b) \n",
    "print(team2)\n",
    "print(\"Cumulative total points till each round:\") \n",
    "print(team2.cumsum()) "
   ]
  },
  {
   "cell_type": "markdown",
   "id": "7aecceed-f0e2-4b41-997b-d84c79667ac7",
   "metadata": {},
   "source": [
    "Example 27: Consider the dataframe prodf that stores some agricultural statistics of some Indian states. Write a program to find out how many states produce Wheat crop."
   ]
  },
  {
   "cell_type": "markdown",
   "id": "6445ac34-26f9-406d-bec8-995fa275cee0",
   "metadata": {
    "jp-MarkdownHeadingCollapsed": true
   },
   "source": [
    "### Examples only till 32"
   ]
  },
  {
   "cell_type": "markdown",
   "id": "4fdc8447-0921-440d-b4cb-cc62361a37d7",
   "metadata": {},
   "source": [
    "import pandas as pd  \n",
    "import numpy as np \n",
    "iprod = {'Rice':{'Andhra P.':7453.4, 'Gujarat':1930.0, 'Kerala':2404.8,'Punjab':\n",
    "                 11586.2, 'Tripura': 814.6, 'Uttar p.':13754.0},\n",
    "          'Wheat':{'Andhra P.':np.NaN, 'Gujarat':2737.0, 'Kerala':np.NaN,'Punjab':\n",
    "                 16440.5, 'Tripura': 0.5, 'Uttar p.':30056.0},\n",
    "         'Pulses':{'Andhra P.':931.0, 'Gujarat':818.0, 'Kerala':1.7,'Punjab':\n",
    "                 33.0, 'Tripura':23.2, 'Uttar p.':2184.4},\n",
    "         'Fruits':{'Andhra P.':7830.0, 'Gujarat':11950.0, 'Kerala':113.1,'Punjab':\n",
    "                 7152.0, 'Tripura':44.1, 'Uttar p.':140169.2}} \n",
    "g = pd.DataFrame(iprod) \n",
    "print(g) \n",
    "print(\"Wheat crop produced by\", g['Wheat'].count(), 'states.') \n"
   ]
  },
  {
   "cell_type": "markdown",
   "id": "fab694c3-d0a0-4ccb-8be9-2aba3ca3ccc9",
   "metadata": {},
   "source": [
    "Example 28: Consider the dataframe prodf that stores some agricultural statistics of some Indian states. Write a program to find out how many states produce Wheat crop and how many produce the Rice crop"
   ]
  },
  {
   "cell_type": "code",
   "execution_count": 11,
   "id": "496751ad-38c1-4bfc-9601-e6de8098dcc3",
   "metadata": {},
   "outputs": [
    {
     "name": "stdout",
     "output_type": "stream",
     "text": [
      "              Rice    Wheat  Pulses    Fruits\n",
      "Andhra P.   7453.4      NaN   931.0    7830.0\n",
      "Gujarat     1930.0   2737.0   818.0   11950.0\n",
      "Kerala      2404.8      NaN     1.7     113.1\n",
      "Punjab     11586.2  16440.5    33.0    7152.0\n",
      "Tripura      814.6      0.5    23.2      44.1\n",
      "Uttar p.   13754.0  30056.0  2184.4  140169.2\n",
      "Wheat crop produced by in these many states\n",
      "Wheat    4\n",
      "Rice     6\n",
      "dtype: int64 states.\n"
     ]
    }
   ],
   "source": [
    "import pandas as pd  \n",
    "import numpy as np \n",
    "iprod = {'Rice':{'Andhra P.':7453.4, 'Gujarat':1930.0, 'Kerala':2404.8,'Punjab':\n",
    "                 11586.2, 'Tripura': 814.6, 'Uttar p.':13754.0},\n",
    "          'Wheat':{'Andhra P.':np.NaN, 'Gujarat':2737.0, 'Kerala':np.NaN,'Punjab':\n",
    "                 16440.5, 'Tripura': 0.5, 'Uttar p.':30056.0},\n",
    "         'Pulses':{'Andhra P.':931.0, 'Gujarat':818.0, 'Kerala':1.7,'Punjab':\n",
    "                 33.0, 'Tripura':23.2, 'Uttar p.':2184.4},\n",
    "         'Fruits':{'Andhra P.':7830.0, 'Gujarat':11950.0, 'Kerala':113.1,'Punjab':\n",
    "                 7152.0, 'Tripura':44.1, 'Uttar p.':140169.2}} \n",
    "g = pd.DataFrame(iprod) \n",
    "print(g) \n",
    "print(\"Wheat crop produced by in these many states\")\n",
    "print(g[['Wheat','Rice']].count(), 'states.') "
   ]
  },
  {
   "cell_type": "markdown",
   "id": "ec91d60e-3661-4f5d-8987-5f9c3939b13e",
   "metadata": {},
   "source": [
    "Example 29: Consider the dataframe prodf that stores some agricultural statistics of some Indian states. Write a program to find out how many states produce Wheat crops are produced by the state Andhra Pradesh"
   ]
  },
  {
   "cell_type": "code",
   "execution_count": 12,
   "id": "0a5cee27-bba5-437a-963a-d01278c5fc2c",
   "metadata": {},
   "outputs": [
    {
     "name": "stdout",
     "output_type": "stream",
     "text": [
      "              Rice    Wheat  Pulses    Fruits\n",
      "Andhra P.   7453.4      NaN   931.0    7830.0\n",
      "Gujarat     1930.0   2737.0   818.0   11950.0\n",
      "Kerala      2404.8      NaN     1.7     113.1\n",
      "Punjab     11586.2  16440.5    33.0    7152.0\n",
      "Tripura      814.6      0.5    23.2      44.1\n",
      "Uttar p.   13754.0  30056.0  2184.4  140169.2\n",
      " Crops produced by Andhra Pradesh are\n",
      "3\n"
     ]
    }
   ],
   "source": [
    "import pandas as pd  \n",
    "import numpy as np \n",
    "iprod = {'Rice':{'Andhra P.':7453.4, 'Gujarat':1930.0, 'Kerala':2404.8,'Punjab':\n",
    "                 11586.2, 'Tripura': 814.6, 'Uttar p.':13754.0},\n",
    "          'Wheat':{'Andhra P.':np.NaN, 'Gujarat':2737.0, 'Kerala':np.NaN,'Punjab':\n",
    "                 16440.5, 'Tripura': 0.5, 'Uttar p.':30056.0},\n",
    "         'Pulses':{'Andhra P.':931.0, 'Gujarat':818.0, 'Kerala':1.7,'Punjab':\n",
    "                 33.0, 'Tripura':23.2, 'Uttar p.':2184.4},\n",
    "         'Fruits':{'Andhra P.':7830.0, 'Gujarat':11950.0, 'Kerala':113.1,'Punjab':\n",
    "                 7152.0, 'Tripura':44.1, 'Uttar p.':140169.2}} \n",
    "g = pd.DataFrame(iprod) \n",
    "print(g) \n",
    "print(\" Crops produced by Andhra Pradesh are\") \n",
    "print(g.loc['Andhra P.', :].count()) "
   ]
  },
  {
   "cell_type": "markdown",
   "id": "2e7c06f9-fb5d-4074-a3c6-18ea3298be7d",
   "metadata": {},
   "source": [
    "Example 30: Consider the dataframe dfmks given. Write a program to count how many exams were conducted for each section."
   ]
  },
  {
   "cell_type": "code",
   "execution_count": 22,
   "id": "e9b1e23b-3659-4006-be40-20b7aba30c14",
   "metadata": {},
   "outputs": [
    {
     "name": "stdout",
     "output_type": "stream",
     "text": [
      "       0     1   2     3   4\n",
      "Acct  99  94.0  81  70.0  88\n",
      "Eco   94   NaN  72  67.0  82\n",
      "Eng   95  89.0  71   NaN  82\n",
      "IP    94  87.0  79  65.0  89\n",
      "Exams were conducted by each section are.\n",
      "0    4\n",
      "1    3\n",
      "2    4\n",
      "3    3\n",
      "4    4\n",
      "dtype: int64\n"
     ]
    }
   ],
   "source": [
    "import pandas as pd \n",
    "import numpy as np \n",
    "a = [99,94,81,70,88] \n",
    "b = [94,None,72,67,82] \n",
    "c = [95,89,71,None,82] \n",
    "d = [94,87,79,65,89] \n",
    "df = [a,b,c,d] \n",
    "df1 = pd.DataFrame(df, index = ['Acct','Eco','Eng','IP']) \n",
    "print(df1)\n",
    "print('Exams were conducted by each section are.') \n",
    "print(df1.iloc[:, :].count())"
   ]
  },
  {
   "cell_type": "markdown",
   "id": "a13cbafe-1c19-455e-90d0-7ebf018f4da7",
   "metadata": {},
   "source": [
    "Example 31: Consider the dataframe dfmks given. Write a program to list subject wise about how many sections took exam of that subject."
   ]
  },
  {
   "cell_type": "code",
   "execution_count": 25,
   "id": "21e5a4f3-ee0a-4e6a-bb3c-d4728a09ec03",
   "metadata": {},
   "outputs": [
    {
     "name": "stdout",
     "output_type": "stream",
     "text": [
      "       0     1     2   3   4\n",
      "Acct  99  94.0  81.0  70  88\n",
      "Eco   94  56.0  72.0  67  82\n",
      "Eng   95   NaN  71.0  98  82\n",
      "IP    94  87.0   NaN  65  89\n",
      "Exams were conducted by each section are.\n",
      "Acct    5\n",
      "Eco     5\n",
      "Eng     4\n",
      "IP      4\n",
      "dtype: int64\n"
     ]
    }
   ],
   "source": [
    "import pandas as pd \n",
    "import numpy as np \n",
    "a = [99,94,81,70,88] \n",
    "b = [94,56,72,67,82] \n",
    "c = [95,None,71,98,82] \n",
    "d = [94,87,None,65,89] \n",
    "df = [a,b,c,d] \n",
    "df1 = pd.DataFrame(df, index = ['Acct','Eco','Eng','IP']) \n",
    "print(df1) \n",
    "print(\"Exams were conducted by each section are.\") \n",
    "print(df1.iloc[:, :].count(axis = 1))"
   ]
  },
  {
   "cell_type": "markdown",
   "id": "a826cebd-4b6c-4d43-b3b7-d126e0a31880",
   "metadata": {},
   "source": [
    "Example 32: Consider dataframe prod given earlier. There are six states listed. Write a program to print maximum produce of the middle 2 states listed (Kerala and Punjab)"
   ]
  },
  {
   "cell_type": "code",
   "execution_count": 28,
   "id": "7aa6a71f-36ca-4f2a-8511-70c12761eb75",
   "metadata": {},
   "outputs": [
    {
     "name": "stdout",
     "output_type": "stream",
     "text": [
      "              Rice    Wheat  Pulses    Fruits\n",
      "Andhra P.   7453.4      NaN   931.0    7830.0\n",
      "Gujarat     1930.0   2737.0   818.0   11950.0\n",
      "Kerala      2404.8      NaN     1.7     113.1\n",
      "Punjab     11586.2  16440.5    33.0    7152.0\n",
      "Tripura      814.6      0.5    23.2      44.1\n",
      "Uttar p.   13754.0  30056.0  2184.4  140169.2\n",
      "Maximum produced by Kerala and Punjab:\n",
      "Kerala     2404.8\n",
      "Punjab    16440.5\n",
      "dtype: float64\n"
     ]
    }
   ],
   "source": [
    "iprod = {'Rice':{'Andhra P.':7453.4, 'Gujarat':1930.0, 'Kerala':2404.8,'Punjab':\n",
    "                 11586.2, 'Tripura': 814.6, 'Uttar p.':13754.0},\n",
    "          'Wheat':{'Andhra P.':np.NaN, 'Gujarat':2737.0, 'Kerala':np.NaN,'Punjab':\n",
    "                 16440.5, 'Tripura': 0.5, 'Uttar p.':30056.0},\n",
    "         'Pulses':{'Andhra P.':931.0, 'Gujarat':818.0, 'Kerala':1.7,'Punjab':\n",
    "                 33.0, 'Tripura':23.2, 'Uttar p.':2184.4},\n",
    "         'Fruits':{'Andhra P.':7830.0, 'Gujarat':11950.0, 'Kerala':113.1,'Punjab':\n",
    "                 7152.0, 'Tripura':44.1, 'Uttar p.':140169.2}} \n",
    "prodf = pd.DataFrame(iprod) \n",
    "print(prodf) \n",
    "print('Maximum produced by Kerala and Punjab:') \n",
    "print(prodf.iloc[2:4, :].max(axis = 1))"
   ]
  },
  {
   "cell_type": "markdown",
   "id": "acf8aea4-f4b7-4107-89dd-c08a9f402893",
   "metadata": {},
   "source": [
    "## Advanced Operations on DataFrame"
   ]
  },
  {
   "cell_type": "markdown",
   "id": "c80204b4-323e-420c-a30b-64b06fc7dc96",
   "metadata": {
    "jp-MarkdownHeadingCollapsed": true
   },
   "source": [
    "### Pivoting"
   ]
  },
  {
   "cell_type": "code",
   "execution_count": 11,
   "id": "2fc7469b-5019-4d3e-8e5a-d7b61489bfef",
   "metadata": {},
   "outputs": [
    {
     "name": "stdout",
     "output_type": "stream",
     "text": [
      "   Classes Country    Tutor\n",
      "0       28     USA   Tahira\n",
      "1       36      UK  Gurjyot\n",
      "2       41   Japan   Anusha\n",
      "3       32     USA    Jacob\n",
      "4       40  Brazil   Venkat\n",
      "Tutor    Anusha  Gurjyot  Jacob  Tahira  Venkat\n",
      "Country                                        \n",
      "Brazil      NaN      NaN    NaN     NaN    40.0\n",
      "Japan      41.0      NaN    NaN     NaN     NaN\n",
      "UK          NaN     36.0    NaN     NaN     NaN\n",
      "USA         NaN      NaN   32.0    28.0     NaN\n"
     ]
    }
   ],
   "source": [
    "#Syntax:<df>.pivot(index='<columnname>', columns='<columnname>',values='<columnname>')\n",
    "import pandas as pd  \n",
    "d1 = { 'Classes':[28,36,41,32,40],'Country':['USA','UK','Japan','USA','Brazil'],\n",
    "                          'Tutor':['Tahira','Gurjyot','Anusha','Jacob','Venkat']}\n",
    "                                                             \n",
    "dfd = pd.DataFrame(d1) \n",
    "print(dfd) \n",
    "print(dfd.pivot(index = 'Country', columns='Tutor', values='Classes')) "
   ]
  },
  {
   "cell_type": "code",
   "execution_count": 12,
   "id": "33f391e7-60e4-44f2-b95b-b534bafe12f4",
   "metadata": {},
   "outputs": [
    {
     "name": "stdout",
     "output_type": "stream",
     "text": [
      "        Classes                  \n",
      "Country  Brazil Japan    UK   USA\n",
      "Tutor                            \n",
      "Anusha      NaN  41.0   NaN   NaN\n",
      "Gurjyot     NaN   NaN  36.0   NaN\n",
      "Jacob       NaN   NaN   NaN  32.0\n",
      "Tahira      NaN   NaN   NaN  28.0\n",
      "Venkat     40.0   NaN   NaN   NaN\n"
     ]
    }
   ],
   "source": [
    "print(dfd.pivot(index = 'Tutor', columns= 'Country')) "
   ]
  },
  {
   "cell_type": "markdown",
   "id": "bb3b882d-d7ec-4c6a-aaf8-26dd9fc0501b",
   "metadata": {},
   "source": [
    "Example 33: Consider a dataframe ndf as shown below. Write a program to summarise hoe many projects are handled by each position for each city."
   ]
  },
  {
   "cell_type": "code",
   "execution_count": 17,
   "id": "c84eee29-b651-48df-96c8-8df5a00387ae",
   "metadata": {},
   "outputs": [
    {
     "name": "stdout",
     "output_type": "stream",
     "text": [
      "       Name Sex    Position       City  Age  Projects\n",
      "0     Rabin   F     Manager  Bangalore   30        13\n",
      "1      Evan   M  Programmer  New Delhi   27        17\n",
      "2       Jia   F     Manager    Chennai   32        16\n",
      "3     Lalit   M     Manager     Mumbai   40        20\n",
      "4  Jaspreet   M  Programmer    Chennai   28        21\n",
      "5     Sujal   F  Programmer  Bangalore   32        14\n"
     ]
    }
   ],
   "source": [
    "s = {'Name':['Rabin','Evan','Jia','Lalit','Jaspreet','Sujal'],\n",
    "     'Sex':['F','M','F','M','M','F'],\n",
    "     'Position':['Manager','Programmer','Manager'\n",
    "                                                ,'Manager','Programmer','Programmer'],\n",
    "    'City':['Bangalore','New Delhi','Chennai','Mumbai','Chennai','Bangalore'],\n",
    "     'Age':[30,27,32,40,28,32],'Projects':[13,17,16,20,21,14]}\n",
    "df = pd.DataFrame(s) \n",
    "print(df)  "
   ]
  },
  {
   "cell_type": "code",
   "execution_count": 19,
   "id": "861574c9-649f-4cfc-8533-4f9c958bc34e",
   "metadata": {},
   "outputs": [
    {
     "name": "stdout",
     "output_type": "stream",
     "text": [
      "City        Bangalore  Chennai  Mumbai  New Delhi\n",
      "Position                                         \n",
      "Manager          13.0     16.0    20.0        NaN\n",
      "Programmer       14.0     21.0     NaN       17.0\n"
     ]
    }
   ],
   "source": [
    "print(df.pivot(index = 'Position', columns='City', values='Projects')) "
   ]
  },
  {
   "cell_type": "markdown",
   "id": "5affd883-359e-4d5c-ae0c-a3a8f9d2d9b7",
   "metadata": {},
   "source": [
    "Example 34: Consider the ndf of previous example, write a program to summarise information Position wise about how many projects are being handled by them for each city. Print zero() in case the data is missing for some column/row."
   ]
  },
  {
   "cell_type": "code",
   "execution_count": 22,
   "id": "01f022bc-5da4-440f-943d-61d5fc08e0b8",
   "metadata": {},
   "outputs": [
    {
     "name": "stdout",
     "output_type": "stream",
     "text": [
      "       Name Sex    Position       City  Age  Projects\n",
      "0     Rabin   F     Manager  Bangalore   30        13\n",
      "1      Evan   M  Programmer  New Delhi   27        17\n",
      "2       Jia   F     Manager    Chennai   32        16\n",
      "3     Lalit   M     Manager     Mumbai   40        20\n",
      "4  Jaspreet   M  Programmer    Chennai   28        21\n",
      "5     Sujal   F  Programmer  Bangalore   32        14\n",
      "*********************\n",
      "City        Bangalore  Chennai  Mumbai  New Delhi\n",
      "Position                                         \n",
      "Manager          13.0     16.0    20.0        0.0\n",
      "Programmer       14.0     21.0     0.0       17.0\n"
     ]
    }
   ],
   "source": [
    "s = {'Name':['Rabin','Evan','Jia','Lalit','Jaspreet','Sujal'],\n",
    "     'Sex':['F','M','F','M','M','F'],\n",
    "     'Position':['Manager','Programmer','Manager'\n",
    "                                                ,'Manager','Programmer','Programmer'],\n",
    "    'City':['Bangalore','New Delhi','Chennai','Mumbai','Chennai','Bangalore'],\n",
    "     'Age':[30,27,32,40,28,32],'Projects':[13,17,16,20,21,14]}\n",
    "df = pd.DataFrame(s) \n",
    "print(df) \n",
    "print('*********************')\n",
    "print(df.pivot(index = 'Position', columns='City', values='Projects').fillna(0)) "
   ]
  },
  {
   "cell_type": "code",
   "execution_count": 27,
   "id": "ed051ccb-9c6c-4d47-9d7c-c26226fece94",
   "metadata": {},
   "outputs": [
    {
     "name": "stdout",
     "output_type": "stream",
     "text": [
      "    Classes Country  Quarter    Tutor\n",
      "0        28     USA        1   Tahira\n",
      "1        36      UK        1  Gurjyot\n",
      "2        41   Japan        1   Anusha\n",
      "3        32     USA        1    Jacob\n",
      "4        40  Brazil        1   Venkat\n",
      "5        36     USA        2   Tahira\n",
      "6        40     USA        2  Gurjyot\n",
      "7        36   Japan        2   Anusha\n",
      "8        40  Brazil        2    Jacob\n",
      "9        46     USA        2   Venkat\n",
      "10       24  Brazil        3   Tahira\n",
      "11       30     USA        3  Gurjyot\n",
      "12       44      UK        3   Anusha\n",
      "13       40  Brazil        3    Jacob\n",
      "14       32     USA        3   Venkat\n",
      "15       36   Japan        4   Tahira\n",
      "16       32   Japan        4  Gurjyot\n",
      "17       36  Brazil        4   Anusha\n",
      "18       42      UK        4    Jacob\n",
      "19       38     USA        4   Venkat\n"
     ]
    }
   ],
   "source": [
    "on = {'Classes':[28,36,41,32,40,36,40,36,40,46,24,30,44,40,32,36,32,36,42,38],\n",
    "           'Country':['USA','UK','Japan','USA','Brazil','USA','USA','Japan','Brazil',\n",
    "                    'USA','Brazil','USA','UK','Brazil','USA','Japan','Japan',\n",
    "                        'Brazil','UK','USA'],\n",
    "      'Quarter':[1,1,1,1,1,2,2,2,2,2,3,3,3,3,3,4,4,4,4,4],\n",
    "      'Tutor':['Tahira','Gurjyot','Anusha','Jacob','Venkat',\n",
    "                  'Tahira','Gurjyot','Anusha','Jacob','Venkat',\n",
    "                  'Tahira','Gurjyot','Anusha','Jacob','Venkat',\n",
    "                  'Tahira','Gurjyot','Anusha','Jacob','Venkat']}\n",
    "c = pd.DataFrame(on) \n",
    "print(c) \n",
    "# print(c.pivot(index='Tutor',columns='Country')) "
   ]
  },
  {
   "cell_type": "markdown",
   "id": "9ae68574-06ce-4a74-914e-469929e789cb",
   "metadata": {
    "jp-MarkdownHeadingCollapsed": true
   },
   "source": [
    "### Pivot_table Function "
   ]
  },
  {
   "cell_type": "code",
   "execution_count": 31,
   "id": "4f0c94d4-8b3c-41cf-85b0-50434a9167d0",
   "metadata": {},
   "outputs": [
    {
     "name": "stdout",
     "output_type": "stream",
     "text": [
      "    Classes Country  Quarter    Tutor\n",
      "0        28     USA        1   Tahira\n",
      "1        36      UK        1  Gurjyot\n",
      "2        41   Japan        1   Anusha\n",
      "3        32     USA        1    Jacob\n",
      "4        40  Brazil        1   Venkat\n",
      "5        36     USA        2   Tahira\n",
      "6        40     USA        2  Gurjyot\n",
      "7        36   Japan        2   Anusha\n",
      "8        40  Brazil        2    Jacob\n",
      "9        46     USA        2   Venkat\n",
      "10       24  Brazil        3   Tahira\n",
      "11       30     USA        3  Gurjyot\n",
      "12       44      UK        3   Anusha\n",
      "13       40  Brazil        3    Jacob\n",
      "14       32     USA        3   Venkat\n",
      "15       36   Japan        4   Tahira\n",
      "16       32   Japan        4  Gurjyot\n",
      "17       36  Brazil        4   Anusha\n",
      "18       42      UK        4    Jacob\n",
      "19       38     USA        4   Venkat\n",
      "Country  Brazil  Japan    UK        USA\n",
      "Tutor                                  \n",
      "Anusha     36.0   38.5  44.0        NaN\n",
      "Gurjyot     NaN   32.0  36.0  35.000000\n",
      "Jacob      40.0    NaN  42.0  32.000000\n",
      "Tahira     24.0   36.0   NaN  32.000000\n",
      "Venkat     40.0    NaN   NaN  38.666667\n",
      "Country  Brazil  Japan    UK        USA\n",
      "Tutor                                  \n",
      "Anusha     36.0   38.5  44.0   0.000000\n",
      "Gurjyot     0.0   32.0  36.0  35.000000\n",
      "Jacob      40.0    0.0  42.0  32.000000\n",
      "Tahira     24.0   36.0   0.0  32.000000\n",
      "Venkat     40.0    0.0   0.0  38.666667\n"
     ]
    }
   ],
   "source": [
    "on = {'Classes':[28,36,41,32,40,36,40,36,40,46,24,30,44,40,32,36,32,36,42,38],\n",
    "           'Country':['USA','UK','Japan','USA','Brazil','USA','USA','Japan','Brazil',\n",
    "                    'USA','Brazil','USA','UK','Brazil','USA','Japan','Japan',\n",
    "                        'Brazil','UK','USA'],\n",
    "      'Quarter':[1,1,1,1,1,2,2,2,2,2,3,3,3,3,3,4,4,4,4,4],\n",
    "      'Tutor':['Tahira','Gurjyot','Anusha','Jacob','Venkat',\n",
    "                  'Tahira','Gurjyot','Anusha','Jacob','Venkat',\n",
    "                  'Tahira','Gurjyot','Anusha','Jacob','Venkat',\n",
    "                  'Tahira','Gurjyot','Anusha','Jacob','Venkat']}\n",
    "c = pd.DataFrame(on) \n",
    "print(c) \n",
    "print(c.pivot_table(index='Tutor', columns='Country', values='Classes'))\n",
    "print(c.pivot_table(index='Tutor', columns='Country', values='Classes').fillna(0)) "
   ]
  },
  {
   "cell_type": "markdown",
   "id": "aa69a3fe-46db-40be-b137-fc33f0d95b85",
   "metadata": {},
   "source": [
    "Example 35: Consider the tutoring company data, compute tatal classes per tutor."
   ]
  },
  {
   "cell_type": "code",
   "execution_count": 32,
   "id": "8d4e9438-0272-4968-a7fa-5f50bcb4a6f8",
   "metadata": {},
   "outputs": [
    {
     "name": "stdout",
     "output_type": "stream",
     "text": [
      "         Classes\n",
      "Tutor           \n",
      "Anusha       157\n",
      "Gurjyot      138\n",
      "Jacob        154\n",
      "Tahira       124\n",
      "Venkat       156\n"
     ]
    }
   ],
   "source": [
    "print(c.pivot_table(index='Tutor', values='Classes', aggfunc='sum')) \n"
   ]
  },
  {
   "cell_type": "markdown",
   "id": "ef3d90fe-8811-4f5c-b408-67e7cf0947c7",
   "metadata": {},
   "source": [
    "Example 36:Consider the tutoring company data, compute number of countries per tutor"
   ]
  },
  {
   "cell_type": "code",
   "execution_count": 33,
   "id": "a852a0fb-8745-4950-ac38-07773170df87",
   "metadata": {},
   "outputs": [
    {
     "name": "stdout",
     "output_type": "stream",
     "text": [
      "         Classes\n",
      "Tutor           \n",
      "Anusha         4\n",
      "Gurjyot        4\n",
      "Jacob          4\n",
      "Tahira         4\n",
      "Venkat         4\n"
     ]
    }
   ],
   "source": [
    "print(c.pivot_table(index='Tutor', values='Classes', aggfunc='count')) "
   ]
  },
  {
   "cell_type": "markdown",
   "id": "13ae6f05-334f-42f7-bcd0-aea9ad2dfd1c",
   "metadata": {},
   "source": [
    "Example 37: Consider the tutoring company data, compute total classes by country."
   ]
  },
  {
   "cell_type": "code",
   "execution_count": 34,
   "id": "f645c838-a7e3-4f0f-8d00-339297baf270",
   "metadata": {},
   "outputs": [
    {
     "name": "stdout",
     "output_type": "stream",
     "text": [
      "         Classes\n",
      "Country         \n",
      "Brazil       180\n",
      "Japan        145\n",
      "UK           122\n",
      "USA          282\n"
     ]
    }
   ],
   "source": [
    "print(c.pivot_table(index='Country', values='Classes', aggfunc='sum')) "
   ]
  },
  {
   "cell_type": "markdown",
   "id": "f4955200-fb3f-4ef3-b74a-c12122ea4443",
   "metadata": {},
   "source": [
    "Example 38: Consider the tutoring company data, compute total classes on two fields, tutor and country wise. "
   ]
  },
  {
   "cell_type": "code",
   "execution_count": 36,
   "id": "e9777b6b-2a7d-4fec-987c-074e98cf2f5d",
   "metadata": {},
   "outputs": [
    {
     "name": "stdout",
     "output_type": "stream",
     "text": [
      "                 Classes\n",
      "Tutor   Country         \n",
      "Anusha  Brazil        36\n",
      "        Japan         77\n",
      "        UK            44\n",
      "Gurjyot Japan         32\n",
      "        UK            36\n",
      "        USA           70\n",
      "Jacob   Brazil        80\n",
      "        UK            42\n",
      "        USA           32\n",
      "Tahira  Brazil        24\n",
      "        Japan         36\n",
      "        USA           64\n",
      "Venkat  Brazil        40\n",
      "        USA          116\n"
     ]
    }
   ],
   "source": [
    "print(c.pivot_table(index = ['Tutor','Country'], values=['Classes'], aggfunc='sum'))  \n"
   ]
  },
  {
   "cell_type": "markdown",
   "id": "a8e45c54-8e89-46f6-9bd7-0d2caff18299",
   "metadata": {},
   "source": [
    "Example 39: Consider the tutoring company data, compute average classes on two fields. "
   ]
  },
  {
   "cell_type": "code",
   "execution_count": 37,
   "id": "148d51c8-d5c1-4794-82ba-38a3ef319231",
   "metadata": {},
   "outputs": [
    {
     "name": "stdout",
     "output_type": "stream",
     "text": [
      "                   Classes\n",
      "Tutor   Country           \n",
      "Anusha  Brazil   36.000000\n",
      "        Japan    38.500000\n",
      "        UK       44.000000\n",
      "Gurjyot Japan    32.000000\n",
      "        UK       36.000000\n",
      "        USA      35.000000\n",
      "Jacob   Brazil   40.000000\n",
      "        UK       42.000000\n",
      "        USA      32.000000\n",
      "Tahira  Brazil   24.000000\n",
      "        Japan    36.000000\n",
      "        USA      32.000000\n",
      "Venkat  Brazil   40.000000\n",
      "        USA      38.666667\n"
     ]
    }
   ],
   "source": [
    "print(c.pivot_table(index=['Tutor','Country'], values=['Classes'], aggfunc='mean'))  \n"
   ]
  },
  {
   "cell_type": "markdown",
   "id": "b739664e-e32f-4296-89be-b7b422bbf72a",
   "metadata": {},
   "source": [
    "### Sort_values Function"
   ]
  },
  {
   "cell_type": "markdown",
   "id": "95736f6e-7c84-4e69-b6f5-1dd8ec6f71ea",
   "metadata": {},
   "source": [
    "Example 40: Consider the prodf dataframe sorting crop production statistics of various states. Write a program to sort the values of prodf in the order of Wheat production by them."
   ]
  },
  {
   "cell_type": "code",
   "execution_count": 41,
   "id": "c8207d03-ba96-44bf-8e24-26541da999e4",
   "metadata": {},
   "outputs": [
    {
     "name": "stdout",
     "output_type": "stream",
     "text": [
      "              Rice    Wheat  Pulses    Fruits\n",
      "Andhra P.   7453.4      NaN   931.0    7830.0\n",
      "Gujarat     1930.0   2737.0   818.0   11950.0\n",
      "Kerala      2404.8      NaN     1.7     113.1\n",
      "Punjab     11586.2  16440.5    33.0    7152.0\n",
      "Tripura      814.6      0.5    23.2      44.1\n",
      "Uttar p.   13754.0  30056.0  2184.4  140169.2\n",
      "              Rice    Wheat  Pulses    Fruits\n",
      "Tripura      814.6      0.5    23.2      44.1\n",
      "Gujarat     1930.0   2737.0   818.0   11950.0\n",
      "Punjab     11586.2  16440.5    33.0    7152.0\n",
      "Uttar p.   13754.0  30056.0  2184.4  140169.2\n",
      "Andhra P.   7453.4      0.0   931.0    7830.0\n",
      "Kerala      2404.8      0.0     1.7     113.1\n"
     ]
    }
   ],
   "source": [
    "import pandas as pd  \n",
    "import numpy as np \n",
    "iprod = {'Rice':{'Andhra P.':7453.4, 'Gujarat':1930.0, 'Kerala':2404.8,'Punjab':\n",
    "                 11586.2, 'Tripura': 814.6, 'Uttar p.':13754.0},\n",
    "          'Wheat':{'Andhra P.':np.NaN, 'Gujarat':2737.0, 'Kerala':np.NaN,'Punjab':\n",
    "                 16440.5, 'Tripura': 0.5, 'Uttar p.':30056.0},\n",
    "         'Pulses':{'Andhra P.':931.0, 'Gujarat':818.0, 'Kerala':1.7,'Punjab':\n",
    "                 33.0, 'Tripura':23.2, 'Uttar p.':2184.4},\n",
    "         'Fruits':{'Andhra P.':7830.0, 'Gujarat':11950.0, 'Kerala':113.1,'Punjab':\n",
    "                 7152.0, 'Tripura':44.1, 'Uttar p.':140169.2}} \n",
    "g = pd.DataFrame(iprod) \n",
    "print(g) \n",
    "print(g.sort_values(by = ['Wheat']).fillna(0)) \n"
   ]
  },
  {
   "cell_type": "markdown",
   "id": "6af661fd-eddb-44b8-9f32-c3fea2b0e905",
   "metadata": {},
   "source": [
    "Example 41: Consider the prodf dataframe sorting crop production statistics of various states. Write a program to sort the values of prodf in the order of Fruits production by them, in descending order."
   ]
  },
  {
   "cell_type": "code",
   "execution_count": 44,
   "id": "6156eef9-2108-4b86-8b5c-90a5eaefd1d0",
   "metadata": {},
   "outputs": [
    {
     "name": "stdout",
     "output_type": "stream",
     "text": [
      "              Rice    Wheat  Pulses    Fruits\n",
      "Uttar p.   13754.0  30056.0  2184.4  140169.2\n",
      "Gujarat     1930.0   2737.0   818.0   11950.0\n",
      "Andhra P.   7453.4      0.0   931.0    7830.0\n",
      "Punjab     11586.2  16440.5    33.0    7152.0\n",
      "Kerala      2404.8      0.0     1.7     113.1\n",
      "Tripura      814.6      0.5    23.2      44.1\n"
     ]
    }
   ],
   "source": [
    "print(g.sort_values(by = ['Fruits'], ascending = False).fillna(0)) \n",
    "      "
   ]
  },
  {
   "cell_type": "markdown",
   "id": "38059201-d398-47b0-9cd4-0fb5c1302fe0",
   "metadata": {},
   "source": [
    "Example 42: Consider the prodf dataframe sorting crop production statistics of various states. Write a program to sort the values of prodf in the order of indexes, in descending order."
   ]
  },
  {
   "cell_type": "code",
   "execution_count": 45,
   "id": "4a1663fd-4e69-4f9c-bbcc-79490b335bd8",
   "metadata": {},
   "outputs": [
    {
     "name": "stdout",
     "output_type": "stream",
     "text": [
      "              Rice    Wheat  Pulses    Fruits\n",
      "Uttar p.   13754.0  30056.0  2184.4  140169.2\n",
      "Tripura      814.6      0.5    23.2      44.1\n",
      "Punjab     11586.2  16440.5    33.0    7152.0\n",
      "Kerala      2404.8      NaN     1.7     113.1\n",
      "Gujarat     1930.0   2737.0   818.0   11950.0\n",
      "Andhra P.   7453.4      NaN   931.0    7830.0\n"
     ]
    }
   ],
   "source": [
    "print(g.sort_index(ascending=False))"
   ]
  },
  {
   "cell_type": "markdown",
   "id": "7d68dacd-62d9-4c80-acba-102d33d032c1",
   "metadata": {
    "jp-MarkdownHeadingCollapsed": true
   },
   "source": [
    "### The mad() Function"
   ]
  },
  {
   "cell_type": "code",
   "execution_count": 58,
   "id": "e49fd1b4-df3d-439b-8e1d-2d9df70f09f0",
   "metadata": {},
   "outputs": [
    {
     "name": "stdout",
     "output_type": "stream",
     "text": [
      "              Rice    Wheat  Pulses    Fruits\n",
      "Andhra P.   7453.4      NaN   931.0    7830.0\n",
      "Gujarat     1930.0   2737.0   818.0   11950.0\n",
      "Kerala      2404.8      NaN     1.7     113.1\n",
      "Punjab     11586.2  16440.5    33.0    7152.0\n",
      "Tripura      814.6      0.5    23.2      44.1\n",
      "Uttar p.   13754.0  30056.0  2184.4  140169.2\n"
     ]
    }
   ],
   "source": [
    "import pandas as pd  \n",
    "import numpy as np \n",
    "iprod = {'Rice':{'Andhra P.':7453.4, 'Gujarat':1930.0, 'Kerala':2404.8,'Punjab':\n",
    "                 11586.2, 'Tripura': 814.6, 'Uttar p.':13754.0},\n",
    "          'Wheat':{'Andhra P.':np.NaN, 'Gujarat':2737.0, 'Kerala':np.NaN,'Punjab':\n",
    "                 16440.5, 'Tripura': 0.5, 'Uttar p.':30056.0},\n",
    "         'Pulses':{'Andhra P.':931.0, 'Gujarat':818.0, 'Kerala':1.7,'Punjab':\n",
    "                 33.0, 'Tripura':23.2, 'Uttar p.':2184.4},\n",
    "         'Fruits':{'Andhra P.':7830.0, 'Gujarat':11950.0, 'Kerala':113.1,'Punjab':\n",
    "                 7152.0, 'Tripura':44.1, 'Uttar p.':140169.2}} \n",
    "g = pd.DataFrame(iprod) \n",
    "print(g)  \n",
    "# print(g.groupby()) \n",
    "# print(g.aggregate('mean')) "
   ]
  },
  {
   "cell_type": "markdown",
   "id": "58e3901f-5ba2-45d8-9be1-5e26e64de020",
   "metadata": {
    "jp-MarkdownHeadingCollapsed": true
   },
   "source": [
    "## Handling Missing Data"
   ]
  },
  {
   "cell_type": "markdown",
   "id": "e6bad316-4a1c-4997-8ba5-fa2ae9b860d1",
   "metadata": {
    "jp-MarkdownHeadingCollapsed": true
   },
   "source": [
    "### Detecting/Filtering Missing Data"
   ]
  },
  {
   "cell_type": "code",
   "execution_count": 1,
   "id": "9fbe7d62-fe9c-4e27-95b2-97d5373279d0",
   "metadata": {},
   "outputs": [
    {
     "name": "stdout",
     "output_type": "stream",
     "text": [
      "   Classes Country    Tutor\n",
      "0       28     USA   Tahira\n",
      "1       36      UK  Gurjyot\n",
      "2       41   Japan   Anusha\n",
      "3       32     USA    Jacob\n",
      "4       40  Brazil   Venkat\n",
      "   Classes  Country  Tutor\n",
      "0    False    False  False\n",
      "1    False    False  False\n",
      "2    False    False  False\n",
      "3    False    False  False\n",
      "4    False    False  False\n"
     ]
    }
   ],
   "source": [
    "# Syntax: <PandaObject>.isnull() \n",
    "# Syntax: <series>[filter condition] \n",
    "import pandas as pd  \n",
    "d1 = { 'Classes':[28,36,41,32,40],'Country':['USA','UK','Japan','USA','Brazil'],\n",
    "                          'Tutor':['Tahira','Gurjyot','Anusha','Jacob','Venkat']}\n",
    "                                                             \n",
    "dfd = pd.DataFrame(d1) \n",
    "print(dfd) \n",
    "print(dfd.isnull())"
   ]
  },
  {
   "cell_type": "code",
   "execution_count": 4,
   "id": "294d470f-4d11-4de3-9f07-df0c3c0ad4f3",
   "metadata": {
    "scrolled": true
   },
   "outputs": [
    {
     "name": "stdout",
     "output_type": "stream",
     "text": [
      "Classes                        [28, 36, 41, 32, 40]\n",
      "Country               [USA, UK, Japan, USA, Brazil]\n",
      "Tutor      [Tahira, Gurjyot, Anusha, Jacob, Venkat]\n",
      "dtype: object\n",
      "Classes    False\n",
      "Country    False\n",
      "Tutor      False\n",
      "dtype: bool\n"
     ]
    }
   ],
   "source": [
    "import pandas as pd  \n",
    "d1 = { 'Classes':[28,36,41,32,40],'Country':['USA','UK','Japan','USA','Brazil'],\n",
    "                          'Tutor':['Tahira','Gurjyot','Anusha','Jacob','Venkat']}\n",
    "                                                             \n",
    "dfd = pd.Series(d1) \n",
    "print(dfd) \n",
    "print(dfd.isnull())"
   ]
  },
  {
   "cell_type": "code",
   "execution_count": 6,
   "id": "269dc09a-c596-45cf-811d-7b4e30624595",
   "metadata": {},
   "outputs": [
    {
     "name": "stdout",
     "output_type": "stream",
     "text": [
      "              Rice    Wheat  Pulses    Fruits\n",
      "Andhra P.   7453.4      NaN   931.0    7830.0\n",
      "Gujarat     1930.0   2737.0   818.0   11950.0\n",
      "Kerala      2404.8      NaN     1.7     113.1\n",
      "Punjab     11586.2  16440.5    33.0    7152.0\n",
      "Tripura      814.6      0.5    23.2      44.1\n",
      "Uttar p.   13754.0  30056.0  2184.4  140169.2\n",
      "            Rice  Wheat  Pulses  Fruits\n",
      "Andhra P.  False   True   False   False\n",
      "Gujarat    False  False   False   False\n",
      "Kerala     False   True   False   False\n",
      "Punjab     False  False   False   False\n",
      "Tripura    False  False   False   False\n",
      "Uttar p.   False  False   False   False\n"
     ]
    }
   ],
   "source": [
    "import pandas as pd   \n",
    "import numpy as np\n",
    "iprod = {'Rice':{'Andhra P.':7453.4, 'Gujarat':1930.0, 'Kerala':2404.8,'Punjab':\n",
    "                 11586.2, 'Tripura': 814.6, 'Uttar p.':13754.0},\n",
    "          'Wheat':{'Andhra P.':np.NaN, 'Gujarat':2737.0, 'Kerala':np.NaN,'Punjab':\n",
    "                 16440.5, 'Tripura': 0.5, 'Uttar p.':30056.0},\n",
    "         'Pulses':{'Andhra P.':931.0, 'Gujarat':818.0, 'Kerala':1.7,'Punjab':\n",
    "                 33.0, 'Tripura':23.2, 'Uttar p.':2184.4},\n",
    "         'Fruits':{'Andhra P.':7830.0, 'Gujarat':11950.0, 'Kerala':113.1,'Punjab':\n",
    "                 7152.0, 'Tripura':44.1, 'Uttar p.':140169.2}} \n",
    "g = pd.DataFrame(iprod) \n",
    "print(g) \n",
    "print(g.isnull())"
   ]
  },
  {
   "cell_type": "markdown",
   "id": "68b88801-ecb1-4639-8bee-9a4a3a8393fe",
   "metadata": {
    "jp-MarkdownHeadingCollapsed": true
   },
   "source": [
    "### Handling Missing Data- Dropping Missing Values "
   ]
  },
  {
   "cell_type": "code",
   "execution_count": 11,
   "id": "bced8556-b233-4c73-b57b-6b8dec0d66a2",
   "metadata": {},
   "outputs": [
    {
     "name": "stdout",
     "output_type": "stream",
     "text": [
      "  First Name Last Name   Age   Sex  ValueBefore  ValAfter\n",
      "0      Jivin     Arora  42.0     m          4.0      25.0\n",
      "1       None      None   NaN  None          NaN       NaN\n",
      "2       Ruhi      Hyat  36.0     f          NaN       NaN\n",
      "3     Ruhana     Singh  24.0     m          2.0      62.0\n",
      "4       Mike      John  73.0     f          3.0      70.0\n",
      "*******************\n",
      "  First Name Last Name   Age Sex  ValueBefore  ValAfter\n",
      "0      Jivin     Arora  42.0   m          4.0      25.0\n",
      "3     Ruhana     Singh  24.0   m          2.0      62.0\n",
      "4       Mike      John  73.0   f          3.0      70.0\n"
     ]
    }
   ],
   "source": [
    "# Syntax: <PandaObject>.dropna().This will drop all rows having NaN value even \n",
    "# with a single NaN\n",
    "\n",
    "s = {'First Name':['Jivin',None,'Ruhi','Ruhana','Mike'],'Last Name':['Arora',None,'Hyat' \n",
    ",'Singh','John'], 'Age':[42,None,36,24,73],'Sex':['m',None,'f','m','f'],\n",
    "     'ValueBefore':[4,None,None,2,3], 'ValAfter':[25,None,None,62,70]} \n",
    "ptdf=pd.DataFrame(s) \n",
    "print(ptdf) \n",
    "print(\"*******************\")\n",
    "print(ptdf.dropna())"
   ]
  },
  {
   "cell_type": "code",
   "execution_count": 12,
   "id": "cb85f21c-4140-4d19-9930-1e302ab4145a",
   "metadata": {},
   "outputs": [
    {
     "name": "stdout",
     "output_type": "stream",
     "text": [
      "  First Name Last Name   Age   Sex  ValueBefore  ValAfter\n",
      "0      Jivin     Arora  42.0     m          4.0      25.0\n",
      "1       None      None   NaN  None          NaN       NaN\n",
      "2       Ruhi      Hyat  36.0     f          NaN       NaN\n",
      "3     Ruhana     Singh  24.0     m          2.0      62.0\n",
      "4       Mike      John  73.0     f          3.0      70.0\n",
      "*******************\n",
      "  First Name Last Name   Age Sex  ValueBefore  ValAfter\n",
      "0      Jivin     Arora  42.0   m          4.0      25.0\n",
      "2       Ruhi      Hyat  36.0   f          NaN       NaN\n",
      "3     Ruhana     Singh  24.0   m          2.0      62.0\n",
      "4       Mike      John  73.0   f          3.0      70.0\n"
     ]
    }
   ],
   "source": [
    "# Syntax: pdObject.dropna(how = 'all'). it will remove only that row which have \n",
    "# all NaN values. \n",
    "s = {'First Name':['Jivin',None,'Ruhi','Ruhana','Mike'],'Last Name':['Arora',None,'Hyat' \n",
    ",'Singh','John'], 'Age':[42,None,36,24,73],'Sex':['m',None,'f','m','f'],\n",
    "     'ValueBefore':[4,None,None,2,3], 'ValAfter':[25,None,None,62,70]} \n",
    "ptdf=pd.DataFrame(s) \n",
    "print(ptdf) \n",
    "print(\"*******************\")\n",
    "print(ptdf.dropna(how='all'))"
   ]
  },
  {
   "cell_type": "code",
   "execution_count": 13,
   "id": "afbfa760-0a9c-4b23-8ff0-cc201c45edda",
   "metadata": {},
   "outputs": [
    {
     "name": "stdout",
     "output_type": "stream",
     "text": [
      "  First Name Last Name   Age   Sex  ValueBefore  ValAfter\n",
      "0      Jivin     Arora  42.0     m          4.0      25.0\n",
      "1       None      None   NaN  None          NaN       NaN\n",
      "2       Ruhi      Hyat  36.0     f          NaN       NaN\n",
      "3     Ruhana     Singh  24.0     m          2.0      62.0\n",
      "4       Mike      John  73.0     f          3.0      70.0\n",
      "*******************\n",
      "Empty DataFrame\n",
      "Columns: []\n",
      "Index: [0, 1, 2, 3, 4]\n"
     ]
    }
   ],
   "source": [
    "# Syntax: <pdobject>.dropna(axis=1). will drop all the columns which have any NaN \n",
    "# values in them. \n",
    "s = {'First Name':['Jivin',None,'Ruhi','Ruhana','Mike'],'Last Name':['Arora',None,'Hyat' \n",
    ",'Singh','John'], 'Age':[42,None,36,24,73],'Sex':['m',None,'f','m','f'],\n",
    "     'ValueBefore':[4,None,None,2,3], 'ValAfter':[25,None,None,62,70]} \n",
    "ptdf=pd.DataFrame(s) \n",
    "print(ptdf) \n",
    "print(\"*******************\")\n",
    "print(ptdf.dropna(axis = 1))"
   ]
  },
  {
   "cell_type": "markdown",
   "id": "9f2b9bce-8ba1-4f34-b667-cae870602689",
   "metadata": {
    "jp-MarkdownHeadingCollapsed": true
   },
   "source": [
    "### Handling Missing Values-Filling Missing values"
   ]
  },
  {
   "cell_type": "code",
   "execution_count": 14,
   "id": "e571f3dd-a003-4bb3-876f-d5fcef394f81",
   "metadata": {},
   "outputs": [
    {
     "name": "stdout",
     "output_type": "stream",
     "text": [
      "  First Name Last Name   Age   Sex  ValueBefore  ValAfter\n",
      "0      Jivin     Arora  42.0     m          4.0      25.0\n",
      "1       None      None   NaN  None          NaN       NaN\n",
      "2       Ruhi      Hyat  36.0     f          NaN       NaN\n",
      "3     Ruhana     Singh  24.0     m          2.0      62.0\n",
      "4       Mike      John  73.0     f          3.0      70.0\n",
      "  First Name Last Name   Age Sex  ValueBefore  ValAfter\n",
      "0      Jivin     Arora  42.0   m          4.0      25.0\n",
      "1          0         0   0.0   0          0.0       0.0\n",
      "2       Ruhi      Hyat  36.0   f          0.0       0.0\n",
      "3     Ruhana     Singh  24.0   m          2.0      62.0\n",
      "4       Mike      John  73.0   f          3.0      70.0\n"
     ]
    }
   ],
   "source": [
    "# Syntax: <pdobject>.fillna(<n>) \n",
    "s = {'First Name':['Jivin',None,'Ruhi','Ruhana','Mike'],'Last Name':['Arora',None,'Hyat' \n",
    ",'Singh','John'], 'Age':[42,None,36,24,73],'Sex':['m',None,'f','m','f'],\n",
    "     'ValueBefore':[4,None,None,2,3], 'ValAfter':[25,None,None,62,70]} \n",
    "ptdf=pd.DataFrame(s) \n",
    "print(ptdf) \n",
    "print(ptdf.fillna(0))"
   ]
  },
  {
   "cell_type": "code",
   "execution_count": 17,
   "id": "59516dc6-32bd-4c43-9804-0e143067c3fa",
   "metadata": {},
   "outputs": [
    {
     "name": "stdout",
     "output_type": "stream",
     "text": [
      "  First Name Last Name   Age   Sex  ValueBefore  ValAfter\n",
      "0      Jivin     Arora  42.0     m          4.0      25.0\n",
      "1       None      None   NaN  None          NaN       NaN\n",
      "2       Ruhi      Hyat  36.0     f          NaN       NaN\n",
      "3     Ruhana     Singh  24.0     m          2.0      62.0\n",
      "4       Mike      John  73.0     f          3.0      70.0\n",
      "None\n",
      "@@@@@@@@@@@@@@@@@@@@@@@@@@\n",
      "  First Name Last Name   Age Sex  ValueBefore  ValAfter\n",
      "0      Jivin     Arora  42.0   m          4.0      25.0\n",
      "1          0         0   0.0   0          0.0       0.0\n",
      "2       Ruhi      Hyat  36.0   f          0.0       0.0\n",
      "3     Ruhana     Singh  24.0   m          2.0      62.0\n",
      "4       Mike      John  73.0   f          3.0      70.0\n"
     ]
    }
   ],
   "source": [
    "# If you want to make change in dataframe also then you have to write. \n",
    "# Syntax: <pdobject>.fillna(0, inplace=True) \n",
    "# This arguement will make change in the original dataframe\n",
    "s = {'First Name':['Jivin',None,'Ruhi','Ruhana','Mike'],'Last Name':['Arora',None,'Hyat' \n",
    ",'Singh','John'], 'Age':[42,None,36,24,73],'Sex':['m',None,'f','m','f'],\n",
    "     'ValueBefore':[4,None,None,2,3], 'ValAfter':[25,None,None,62,70]} \n",
    "ptdf=pd.DataFrame(s) \n",
    "print(ptdf) \n",
    "print(ptdf.fillna(0, inplace = True)) \n",
    "print('@@@@@@@@@@@@@@@@@@@@@@@@@@')\n",
    "print(ptdf) \n"
   ]
  },
  {
   "cell_type": "code",
   "execution_count": 19,
   "id": "7b936e9a-300c-4cc3-8866-40cb73b37d6d",
   "metadata": {},
   "outputs": [
    {
     "name": "stdout",
     "output_type": "stream",
     "text": [
      "  First Name Last Name   Age   Sex  ValueBefore  ValAfter\n",
      "0      Jivin     Arora  42.0     m          4.0      25.0\n",
      "1       None      None   NaN  None          NaN       NaN\n",
      "2       Ruhi      Hyat  36.0     f          NaN       NaN\n",
      "3     Ruhana     Singh  24.0     m          2.0      62.0\n",
      "4       Mike      John  73.0     f          3.0      70.0\n",
      "  First Name Last Name   Age Sex ValueBefore  ValAfter\n",
      "0      Jivin     Arora  42.0   m         4.0      25.0\n",
      "1          x         x     0   x        -999       NaN\n",
      "2       Ruhi      Hyat  36.0   f        -999       NaN\n",
      "3     Ruhana     Singh  24.0   m         2.0      62.0\n",
      "4       Mike      John  73.0   f         3.0      70.0\n"
     ]
    }
   ],
   "source": [
    "# You can use dictionary also in case. \n",
    "# Syntax: fillvalues={'Key':'Value'} \n",
    "s = {'First Name':['Jivin',None,'Ruhi','Ruhana','Mike'],'Last Name':['Arora',None,'Hyat' \n",
    ",'Singh','John'], 'Age':[42,None,36,24,73],'Sex':['m',None,'f','m','f'],\n",
    "     'ValueBefore':[4,None,None,2,3], 'ValAfter':[25,None,None,62,70]} \n",
    "ptdf=pd.DataFrame(s) \n",
    "print(ptdf) \n",
    "fillvalues = {'First Name':'x','Last Name':'x','Age':'0','Sex':'x',\n",
    "                    'ValueBefore':'-999','ValueAfter':'-999'} \n",
    "ptd = ptdf.fillna(fillvalues) \n",
    "print(ptd)"
   ]
  },
  {
   "cell_type": "code",
   "execution_count": 24,
   "id": "67f97b97-45ea-49e1-9693-364d7a1f5673",
   "metadata": {},
   "outputs": [
    {
     "name": "stdout",
     "output_type": "stream",
     "text": [
      "  First Name Last Name   Age   Sex  ValueBefore  ValAfter\n",
      "0      Jivin     Arora  42.0     m          4.0      25.0\n",
      "1       None      None   NaN  None          NaN       NaN\n",
      "2       Ruhi      Hyat  36.0     f          NaN       NaN\n",
      "3     Ruhana     Singh  24.0     m          2.0      62.0\n",
      "4       Mike      John  73.0     f          3.0      70.0\n",
      "  First Name Last Name   Age Sex  ValueBefore  ValAfter\n",
      "0      Jivin     Arora  42.0   m          4.0      25.0\n",
      "1       None      None   0.0   x          NaN       NaN\n",
      "2       Ruhi      Hyat  36.0   f          NaN       NaN\n",
      "3     Ruhana     Singh  24.0   m          2.0      62.0\n",
      "4       Mike      John  73.0   f          3.0      70.0\n"
     ]
    }
   ],
   "source": [
    "# It can fill some one or two also whatever you will have to change\n",
    "s = {'First Name':['Jivin',None,'Ruhi','Ruhana','Mike'],'Last Name':['Arora',None,'Hyat' \n",
    ",'Singh','John'], 'Age':[42,None,36,24,73],'Sex':['m',None,'f','m','f'],\n",
    "     'ValueBefore':[4,None,None,2,3], 'ValAfter':[25,None,None,62,70]} \n",
    "ptdf=pd.DataFrame(s) \n",
    "print(ptdf) \n",
    "pt = ptdf.fillna({'Age': 0,'Sex':'x'})\n",
    "print(pt) \n"
   ]
  },
  {
   "cell_type": "markdown",
   "id": "e30fe03c-01b9-461f-9adc-19f7b708d2fa",
   "metadata": {},
   "source": [
    "Example 43: Consider the dataframe dfmks having some missing values as shown below. \n",
    "Write a program to fill the missing values with value(0)"
   ]
  },
  {
   "cell_type": "code",
   "execution_count": 28,
   "id": "f26b3cc1-6055-4ff0-9e47-68c08b3c8f04",
   "metadata": {},
   "outputs": [
    {
     "name": "stdout",
     "output_type": "stream",
     "text": [
      "       A      B   C     D\n",
      "Acct  99   94.0  92  97.0\n",
      "Eco   90   94.0  92  97.0\n",
      "Eng   95   89.0  91  89.0\n",
      "IP    94    NaN  99  95.0\n",
      "Math  97  100.0  99   NaN\n",
      "****************************\n",
      "DataFrame after filing the missing data\n",
      "       A      B   C     D\n",
      "Acct  99   94.0  92  97.0\n",
      "Eco   90   94.0  92  97.0\n",
      "Eng   95   89.0  91  89.0\n",
      "IP    94    0.0  99  95.0\n",
      "Math  97  100.0  99   0.0\n"
     ]
    }
   ],
   "source": [
    "a = [99,94.0,92,97.0] \n",
    "b = [90,94.0,92,97.0] \n",
    "c = [95,89.0,91,89.0] \n",
    "d = [94,None,99,95.0] \n",
    "e = [97,100.0,99,None] \n",
    "f = [a,b,c,d,e] \n",
    "s = pd.DataFrame(f, index = ['Acct','Eco','Eng','IP','Math'],\n",
    "                columns=['A','B','C','D']) \n",
    "print(s)\n",
    "print(\"****************************\")\n",
    "print(\"DataFrame after filing the missing data\")\n",
    "print(s.fillna(0))"
   ]
  },
  {
   "cell_type": "code",
   "execution_count": 35,
   "id": "1236896f-b35e-4532-9900-5cce9901fc08",
   "metadata": {},
   "outputs": [],
   "source": [
    "# If you want to fill the from another dataframe then you can use this syntax but\n",
    "# both the dataframes should have same column and row. \n",
    "#Syntax:Df1.fillna(Df2) \n"
   ]
  },
  {
   "cell_type": "markdown",
   "id": "702ef55f-d114-4317-8a30-ecd985b5657e",
   "metadata": {},
   "source": [
    "## Combining DataFrames"
   ]
  },
  {
   "cell_type": "code",
   "execution_count": 5,
   "id": "f5e51842-98f9-463e-a133-a5d5204fc9ae",
   "metadata": {},
   "outputs": [
    {
     "name": "stdout",
     "output_type": "stream",
     "text": [
      "   Subject_id First_Name Last_Name\n",
      "0           1      Sarah     Kapur\n",
      "1           2       Reet      Kaur\n",
      "2           3     Robert    Tiloda\n",
      "3           4      Zakir       Ali\n",
      "4           5        Jia    Taneja\n"
     ]
    }
   ],
   "source": [
    "import pandas as pd\n",
    "s = {'Subject_id':[1,2,3,4,5],'First_Name':['Sarah','Reet','Robert','Zakir','Jia'],\n",
    "     'Last_Name':['Kapur','Kaur','Tiloda','Ali','Taneja'] } \n",
    "a = pd.DataFrame(s) \n",
    "print(a)"
   ]
  },
  {
   "cell_type": "code",
   "execution_count": 7,
   "id": "7aaabdb8-1177-4d61-8a7e-cf6e198b5cc1",
   "metadata": {},
   "outputs": [
    {
     "name": "stdout",
     "output_type": "stream",
     "text": [
      "   Subject_id First_Name   Last_Name\n",
      "0           4     Ayushi      Thakur\n",
      "1           5   Minakshi  Singhaniya\n",
      "2           6      Kajal      Rajput\n",
      "3           7      Sweta       Sweet\n",
      "4           8       Jaan     Khadoos\n"
     ]
    }
   ],
   "source": [
    "import pandas as pd \n",
    "d = {'Subject_id':[4,5,6,7,8],'First_Name':['Ayushi','Minakshi','Kajal','Sweta','Jaan'],\n",
    "     'Last_Name':['Thakur','Singhaniya','Rajput','Sweet','Khadoos']} \n",
    "b = pd.DataFrame(d) \n",
    "print(b)"
   ]
  },
  {
   "cell_type": "code",
   "execution_count": 6,
   "id": "0d1d4222-46db-49b5-aaa4-52b30a77cf55",
   "metadata": {},
   "outputs": [
    {
     "name": "stdout",
     "output_type": "stream",
     "text": [
      "   Sub_id  Test_id\n",
      "0       1       51\n",
      "1       2       15\n",
      "2       3       15\n",
      "3       4       61\n",
      "4       5       16\n",
      "5       6       14\n",
      "6       7       15\n",
      "7       8        1\n",
      "8       9       61\n",
      "9      10       16\n"
     ]
    }
   ],
   "source": [
    "import pandas as pd \n",
    "s = {'Sub_id':[1,2,3,4,5,6,7,8,9,10],'Test_id':[51,15,15,61,16,14,15,1,61,16]} \n",
    "c = pd.DataFrame(s) \n",
    "print(c)"
   ]
  },
  {
   "cell_type": "markdown",
   "id": "ebe34fef-1424-4e15-9d12-287d7e7ebde1",
   "metadata": {
    "jp-MarkdownHeadingCollapsed": true
   },
   "source": [
    "### The concat() Function"
   ]
  },
  {
   "cell_type": "code",
   "execution_count": 14,
   "id": "3e505a8d-a5b7-4ebb-a5f1-b1f6626494a9",
   "metadata": {},
   "outputs": [
    {
     "name": "stdout",
     "output_type": "stream",
     "text": [
      "   Subject_id First_Name   Last_Name\n",
      "0           1      Sarah       Kapur\n",
      "1           2       Reet        Kaur\n",
      "2           3     Robert      Tiloda\n",
      "3           4      Zakir         Ali\n",
      "4           5        Jia      Taneja\n",
      "0           4     Ayushi      Thakur\n",
      "1           5   Minakshi  Singhaniya\n",
      "2           6      Kajal      Rajput\n",
      "3           7      Sweta       Sweet\n",
      "4           8       Jaan     Khadoos\n"
     ]
    }
   ],
   "source": [
    "s = pd.concat([a,b]) \n",
    "print(s)"
   ]
  },
  {
   "cell_type": "code",
   "execution_count": 13,
   "id": "c55ee18b-7b6a-4329-ac42-007ed48457c0",
   "metadata": {},
   "outputs": [
    {
     "name": "stdout",
     "output_type": "stream",
     "text": [
      "   Subject_id First_Name Last_Name  Subject_id First_Name   Last_Name\n",
      "0           1      Sarah     Kapur           4     Ayushi      Thakur\n",
      "1           2       Reet      Kaur           5   Minakshi  Singhaniya\n",
      "2           3     Robert    Tiloda           6      Kajal      Rajput\n",
      "3           4      Zakir       Ali           7      Sweta       Sweet\n",
      "4           5        Jia    Taneja           8       Jaan     Khadoos\n"
     ]
    }
   ],
   "source": [
    "d = pd.concat([a,b,], axis = 1) \n",
    "print(d)\n"
   ]
  },
  {
   "cell_type": "markdown",
   "id": "fbe59425-3190-4eeb-a2ee-369b7ed19c43",
   "metadata": {},
   "source": [
    "Example 44: Write a program to concat above used datafram along the rows but ensure that the new indexes are generated in the resultant dataframe."
   ]
  },
  {
   "cell_type": "code",
   "execution_count": 15,
   "id": "538f1c28-b9d5-4e02-b68c-4d00bc5b0694",
   "metadata": {},
   "outputs": [
    {
     "name": "stdout",
     "output_type": "stream",
     "text": [
      "   Subject_id First_Name   Last_Name\n",
      "0           1      Sarah       Kapur\n",
      "1           2       Reet        Kaur\n",
      "2           3     Robert      Tiloda\n",
      "3           4      Zakir         Ali\n",
      "4           5        Jia      Taneja\n",
      "5           4     Ayushi      Thakur\n",
      "6           5   Minakshi  Singhaniya\n",
      "7           6      Kajal      Rajput\n",
      "8           7      Sweta       Sweet\n",
      "9           8       Jaan     Khadoos\n"
     ]
    }
   ],
   "source": [
    "g = pd.concat([a,b],ignore_index=True) \n",
    "print(g)"
   ]
  },
  {
   "cell_type": "markdown",
   "id": "6b83c9cc-133b-458e-9962-508e4967b231",
   "metadata": {
    "jp-MarkdownHeadingCollapsed": true
   },
   "source": [
    "### Combining DataFrames using join()"
   ]
  },
  {
   "cell_type": "code",
   "execution_count": 32,
   "id": "8270e7aa-b479-49f0-9870-b6c2555c1097",
   "metadata": {},
   "outputs": [
    {
     "name": "stdout",
     "output_type": "stream",
     "text": [
      "     Name\n",
      "0  Harini\n",
      "1    Dave\n",
      "2  Simrat\n",
      "3   Saqib\n"
     ]
    }
   ],
   "source": [
    "c = {'Name':['Harini','Dave','Simrat','Saqib']} \n",
    "D1 = pd.DataFrame(c)  \n",
    "print(D1)\n",
    "\n",
    "\n"
   ]
  },
  {
   "cell_type": "code",
   "execution_count": 31,
   "id": "62a7e651-ce30-408f-be6a-aad7fa36661f",
   "metadata": {},
   "outputs": [
    {
     "name": "stdout",
     "output_type": "stream",
     "text": [
      "   Competitions\n",
      "0             5\n",
      "1             3\n",
      "2             3\n"
     ]
    }
   ],
   "source": [
    "d = {'Competitions':[5,3,3]} \n",
    "D2 = pd.DataFrame(d) \n",
    "print(D2)"
   ]
  },
  {
   "cell_type": "code",
   "execution_count": 36,
   "id": "ab69b86b-4a83-4978-a3f9-101024911520",
   "metadata": {},
   "outputs": [
    {
     "name": "stdout",
     "output_type": "stream",
     "text": [
      "     Name  Competitions\n",
      "0  Harini           5.0\n",
      "1    Dave           3.0\n",
      "2  Simrat           3.0\n",
      "3   Saqib           NaN\n",
      "     Name  Competitions\n",
      "0  Harini             5\n",
      "1    Dave             3\n",
      "2  Simrat             3\n",
      "     Name  Competitions\n",
      "0  Harini           5.0\n",
      "1    Dave           3.0\n",
      "2  Simrat           3.0\n",
      "3   Saqib           NaN\n",
      "     Name  Competitions\n",
      "0  Harini             5\n",
      "1    Dave             3\n",
      "2  Simrat             3\n"
     ]
    }
   ],
   "source": [
    "print(D1.join(D2, how = 'outer')) \n",
    "print(D1.join(D2, how = 'inner')) \n",
    "print(D1.join(D2, how = 'left')) \n",
    "print(D1.join(D2, how = 'right')) \n",
    "\n"
   ]
  },
  {
   "cell_type": "code",
   "execution_count": 40,
   "id": "a19c45a9-8e88-4a8d-93b5-5142e1e1dcfc",
   "metadata": {},
   "outputs": [
    {
     "name": "stdout",
     "output_type": "stream",
     "text": [
      "   Competitions    Name\n",
      "0           5.0  Harini\n",
      "1           3.0    Dave\n",
      "2           3.0  Simrat\n",
      "3           NaN   Saqib\n",
      "   Competitions    Name\n",
      "0             5  Harini\n",
      "1             3    Dave\n",
      "2             3  Simrat\n",
      "   Competitions    Name\n",
      "0             5  Harini\n",
      "1             3    Dave\n",
      "2             3  Simrat\n",
      "   Competitions    Name\n",
      "0           5.0  Harini\n",
      "1           3.0    Dave\n",
      "2           3.0  Simrat\n",
      "3           NaN   Saqib\n"
     ]
    }
   ],
   "source": [
    "print(D2.join(D1, how = 'outer')) \n",
    "print(D2.join(D1, how = 'inner')) \n",
    "print(D2.join(D1, how = 'left')) \n",
    "print(D2.join(D1, how = 'right')) \n"
   ]
  },
  {
   "cell_type": "code",
   "execution_count": 2,
   "id": "d4885886-644e-4a8f-9d49-f8157b66e17d",
   "metadata": {},
   "outputs": [
    {
     "name": "stdout",
     "output_type": "stream",
     "text": [
      "       Target  Sales\n",
      "zoneA   56000  58000\n",
      "zoneB   70000  68000\n",
      "zoneC   75000  78000\n",
      "zoneD   60000  61000\n",
      "           Name   Product\n",
      "zoneA      Purv      Oven\n",
      "zoneB   Paschim        AC\n",
      "zoneC  Kendriya        AC\n",
      "zoneD   Dakshin      Oven\n",
      "zoneE     Uttar        TV\n",
      "zoneF     Rural  Tubewell\n"
     ]
    }
   ],
   "source": [
    "h = {'Target':[56000,70000,75000,60000],'Sales':[58000,68000,78000,61000]} \n",
    "sal = pd.DataFrame(h, index = ['zoneA','zoneB','zoneC','zoneD']) \n",
    "print(sal)  \n",
    "j = {'Name':['Purv','Paschim','Kendriya','Dakshin','Uttar','Rural'],\n",
    "    'Product':['Oven','AC','AC','Oven','TV','Tubewell']}  \n",
    "sal1 = pd.DataFrame(j, index = ['zoneA','zoneB','zoneC','zoneD','zoneE','zoneF']) \n",
    "print(sal1)"
   ]
  },
  {
   "cell_type": "markdown",
   "id": "a0cf2663-0fd4-4909-92f8-9861a7829abe",
   "metadata": {},
   "source": [
    "Example 45: Write a program to create a dataframe namely df1 that stores all the rows of df2 and only the matching indexes rows from saledf2."
   ]
  },
  {
   "cell_type": "code",
   "execution_count": 3,
   "id": "6a003bf8-b564-4304-9a06-e597871f5f0b",
   "metadata": {},
   "outputs": [
    {
     "name": "stdout",
     "output_type": "stream",
     "text": [
      "           Name   Product   Target    Sales\n",
      "zoneA      Purv      Oven  56000.0  58000.0\n",
      "zoneB   Paschim        AC  70000.0  68000.0\n",
      "zoneC  Kendriya        AC  75000.0  78000.0\n",
      "zoneD   Dakshin      Oven  60000.0  61000.0\n",
      "zoneE     Uttar        TV      NaN      NaN\n",
      "zoneF     Rural  Tubewell      NaN      NaN\n"
     ]
    }
   ],
   "source": [
    "import pandas as pd  \n",
    "print(sal1.join(sal)) \n"
   ]
  },
  {
   "cell_type": "markdown",
   "id": "f4524c00-39f9-4211-b67a-6b59c2a833ca",
   "metadata": {},
   "source": [
    "Example 46: Write a program to create a dataframe namely df1 that stores only the matching indexes rows from both sal and sal1."
   ]
  },
  {
   "cell_type": "code",
   "execution_count": 4,
   "id": "1b1ebf04-4a4c-4033-9df2-3b7d0bb8bac8",
   "metadata": {},
   "outputs": [
    {
     "name": "stdout",
     "output_type": "stream",
     "text": [
      "           Name Product  Target  Sales\n",
      "zoneA      Purv    Oven   56000  58000\n",
      "zoneB   Paschim      AC   70000  68000\n",
      "zoneC  Kendriya      AC   75000  78000\n",
      "zoneD   Dakshin    Oven   60000  61000\n"
     ]
    }
   ],
   "source": [
    "import pandas as pd  \n",
    "print(sal1.join(sal, how = 'inner')) \n"
   ]
  },
  {
   "cell_type": "code",
   "execution_count": 8,
   "id": "cbfaff11-a929-4e57-9da9-54fc8b3981f2",
   "metadata": {},
   "outputs": [
    {
     "name": "stdout",
     "output_type": "stream",
     "text": [
      "   cust_id   Product\n",
      "0        1      Oven\n",
      "1        2        AC\n",
      "2        3        AC\n",
      "3        4      Oven\n",
      "4        5        TV\n",
      "5        6  Tubewell\n",
      "   p_id   State\n",
      "0     2   Delhi\n",
      "1     4     Goa\n",
      "2     6  Kerala\n"
     ]
    }
   ],
   "source": [
    "j = {'cust_id':[1,2,3,4,5,6],\n",
    "    'Product':['Oven','AC','AC','Oven','TV','Tubewell']}  \n",
    "sal5 = pd.DataFrame(j) \n",
    "print(sal5) \n",
    "k = {'p_id':[2,4,6],'State':[\"Delhi\",\"Goa\",\"Kerala\"]} \n",
    "sal4 = pd.DataFrame(k) \n",
    "print(sal4)"
   ]
  },
  {
   "cell_type": "code",
   "execution_count": 14,
   "id": "28966d9e-ccad-4594-8844-610601a951c7",
   "metadata": {},
   "outputs": [
    {
     "name": "stdout",
     "output_type": "stream",
     "text": [
      "   p_id   State  cust_id Product\n",
      "0     2   Delhi        1    Oven\n",
      "1     4     Goa        2      AC\n",
      "2     6  Kerala        3      AC\n",
      "   cust_id   Product  p_id   State\n",
      "0        1      Oven   4.0     Goa\n",
      "1        2        AC   6.0  Kerala\n",
      "2        3        AC   NaN     NaN\n",
      "3        4      Oven   NaN     NaN\n",
      "4        5        TV   NaN     NaN\n",
      "5        6  Tubewell   NaN     NaN\n",
      "   p_id   State  cust_id Product\n",
      "0     2   Delhi      3.0      AC\n",
      "1     4     Goa      5.0      TV\n",
      "2     6  Kerala      NaN     NaN\n"
     ]
    }
   ],
   "source": [
    "# Joining on a column \n",
    "print(sal4.join(sal5))\n",
    "print(sal5.join(sal4, on = 'cust_id')) \n",
    "print(sal4.join(sal5, on = 'p_id')) \n",
    "\n"
   ]
  },
  {
   "cell_type": "markdown",
   "id": "d403f96a-4b88-4e98-bf12-880129246826",
   "metadata": {
    "jp-MarkdownHeadingCollapsed": true
   },
   "source": [
    "### Combining DataFrames using merge() Function"
   ]
  },
  {
   "cell_type": "code",
   "execution_count": 22,
   "id": "7c194fad-9255-4a90-b4f4-d146e928b7df",
   "metadata": {},
   "outputs": [
    {
     "name": "stdout",
     "output_type": "stream",
     "text": [
      "   cust_id   Product\n",
      "0        1      Oven\n",
      "1        2        AC\n",
      "2        3        AC\n",
      "3        4      Oven\n",
      "4        5        TV\n",
      "5        6  Tubewell\n",
      "   p_id   State\n",
      "0     2   Delhi\n",
      "1     4     Goa\n",
      "2     6  Kerala\n"
     ]
    }
   ],
   "source": [
    "j = {'cust_id':[1,2,3,4,5,6],\n",
    "    'Product':['Oven','AC','AC','Oven','TV','Tubewell']}  \n",
    "sal5 = pd.DataFrame(j) \n",
    "print(sal5) \n",
    "k = {'p_id':[2,4,6],'State':[\"Delhi\",\"Goa\",\"Kerala\"]} \n",
    "sal4 = pd.DataFrame(k) \n",
    "print(sal4)\n",
    "# print(pd.merge(sal5,sal4, on = 'cust_id', how = 'all')) \n",
    "# print(p)"
   ]
  },
  {
   "cell_type": "code",
   "execution_count": 24,
   "id": "c2a3a162-e09b-485f-abab-ac6c296254c1",
   "metadata": {},
   "outputs": [
    {
     "name": "stdout",
     "output_type": "stream",
     "text": [
      "   cust_id      F_Name last_name       email\n",
      "0        1        Jaan     Singh   s@gak.com\n",
      "1        2       Cutie     Bevli    bev@.com\n",
      "2        3     Sweetie   Khurana   rana@.com\n",
      "3        4  Angry_Bird   Gadkary    Gad@.com\n",
      "4        5     Khadoos      Jaan  Jaan@s.com\n"
     ]
    }
   ],
   "source": [
    "l = {'cust_id':[1,2,3,4,5],'F_Name':['Jaan','Cutie','Sweetie','Angry_Bird','Khadoos'],\n",
    "     'last_name':['Singh','Bevli','Khurana','Gadkary','Jaan'],'email':\n",
    "     ['s@gak.com','bev@.com','rana@.com','Gad@.com','Jaan@s.com'] }\n",
    "cust = pd.DataFrame(l) \n",
    "print(cust)"
   ]
  },
  {
   "cell_type": "code",
   "execution_count": 25,
   "id": "57b9aa9d-351a-4b2e-8161-ea9acbd6bb09",
   "metadata": {},
   "outputs": [
    {
     "name": "stdout",
     "output_type": "stream",
     "text": [
      "   order_id    amount  cust_id\n",
      "0         1  23234.56        1\n",
      "1         2  62378.50        3\n",
      "2         3  32124.00        2\n",
      "3         4   8365.50        3\n",
      "4         5  12325.50       10\n",
      "5         6  12614.40        9\n"
     ]
    }
   ],
   "source": [
    "u = {'order_id':[1,2,3,4,5,6],'amount':[23234.56,62378.50,32124.00,8365.50,12325.50,\n",
    "                                       12614.40],'cust_id':[1,3,2,3,10,9]} \n",
    "order = pd.DataFrame(u) \n",
    "print(order)\n"
   ]
  },
  {
   "cell_type": "markdown",
   "id": "feac0366-dd23-4711-935e-365f2f38127a",
   "metadata": {},
   "source": [
    "Example 47: Write a program a create a merged dataframe using the cust and order dataframes, which is merged on common field cust_id and contains only the rows having matching cust_id values."
   ]
  },
  {
   "cell_type": "code",
   "execution_count": 27,
   "id": "781cb262-bf0d-48ec-9422-7f161a351d19",
   "metadata": {},
   "outputs": [
    {
     "name": "stdout",
     "output_type": "stream",
     "text": [
      "   cust_id      F_Name last_name       email\n",
      "0        1        Jaan     Singh   s@gak.com\n",
      "1        2       Cutie     Bevli    bev@.com\n",
      "2        3     Sweetie   Khurana   rana@.com\n",
      "3        4  Angry_Bird   Gadkary    Gad@.com\n",
      "4        5     Khadoos      Jaan  Jaan@s.com\n",
      "   order_id    amount  cust_id\n",
      "0         1  23234.56        1\n",
      "1         2  62378.50        3\n",
      "2         3  32124.00        2\n",
      "3         4   8365.50        3\n",
      "4         5  12325.50       10\n",
      "5         6  12614.40        9\n",
      "   order_id    amount  cust_id   F_Name last_name      email\n",
      "0         1  23234.56        1     Jaan     Singh  s@gak.com\n",
      "1         2  62378.50        3  Sweetie   Khurana  rana@.com\n",
      "2         3  32124.00        2    Cutie     Bevli   bev@.com\n",
      "3         4   8365.50        3  Sweetie   Khurana  rana@.com\n"
     ]
    }
   ],
   "source": [
    "l = {'cust_id':[1,2,3,4,5],'F_Name':['Jaan','Cutie','Sweetie','Angry_Bird','Khadoos'],\n",
    "     'last_name':['Singh','Bevli','Khurana','Gadkary','Jaan'],'email':\n",
    "     ['s@gak.com','bev@.com','rana@.com','Gad@.com','Jaan@s.com'] }\n",
    "cust = pd.DataFrame(l) \n",
    "print(cust)\n",
    "u = {'order_id':[1,2,3,4,5,6],'amount':[23234.56,62378.50,32124.00,8365.50,12325.50,\n",
    "                                       12614.40],'cust_id':[1,3,2,3,10,9]} \n",
    "order = pd.DataFrame(u) \n",
    "print(order)\n",
    "res0 = pd.merge(order, cust, on = 'cust_id') \n",
    "print(res0)"
   ]
  },
  {
   "cell_type": "markdown",
   "id": "2b7a0676-c8dd-40dc-af9e-67f50a8d36d5",
   "metadata": {},
   "source": [
    "Example 48: Write a program a create a merged dataframe using the cust and order dataframes, which is merged on common field cust_id and contains all the rows from order dataframe and from cust dataframe, only the rows having matching cust_id "
   ]
  },
  {
   "cell_type": "code",
   "execution_count": 28,
   "id": "00910e92-7967-4cf6-876b-9aa0cbcb8e3f",
   "metadata": {},
   "outputs": [
    {
     "name": "stdout",
     "output_type": "stream",
     "text": [
      "   cust_id      F_Name last_name       email\n",
      "0        1        Jaan     Singh   s@gak.com\n",
      "1        2       Cutie     Bevli    bev@.com\n",
      "2        3     Sweetie   Khurana   rana@.com\n",
      "3        4  Angry_Bird   Gadkary    Gad@.com\n",
      "4        5     Khadoos      Jaan  Jaan@s.com\n",
      "   order_id    amount  cust_id\n",
      "0         1  23234.56        1\n",
      "1         2  62378.50        3\n",
      "2         3  32124.00        2\n",
      "3         4   8365.50        3\n",
      "4         5  12325.50       10\n",
      "5         6  12614.40        9\n",
      "   order_id    amount  cust_id   F_Name last_name      email\n",
      "0         1  23234.56        1     Jaan     Singh  s@gak.com\n",
      "1         2  62378.50        3  Sweetie   Khurana  rana@.com\n",
      "2         3  32124.00        2    Cutie     Bevli   bev@.com\n",
      "3         4   8365.50        3  Sweetie   Khurana  rana@.com\n",
      "4         5  12325.50       10      NaN       NaN        NaN\n",
      "5         6  12614.40        9      NaN       NaN        NaN\n"
     ]
    }
   ],
   "source": [
    "l = {'cust_id':[1,2,3,4,5],'F_Name':['Jaan','Cutie','Sweetie','Angry_Bird','Khadoos'],\n",
    "     'last_name':['Singh','Bevli','Khurana','Gadkary','Jaan'],'email':\n",
    "     ['s@gak.com','bev@.com','rana@.com','Gad@.com','Jaan@s.com'] }\n",
    "cust = pd.DataFrame(l) \n",
    "print(cust)\n",
    "u = {'order_id':[1,2,3,4,5,6],'amount':[23234.56,62378.50,32124.00,8365.50,12325.50,\n",
    "                                       12614.40],'cust_id':[1,3,2,3,10,9]} \n",
    "order = pd.DataFrame(u) \n",
    "print(order)\n",
    "res = pd.merge(order, cust, on = 'cust_id', how = 'left') \n",
    "print(res)"
   ]
  },
  {
   "cell_type": "markdown",
   "id": "d99a8470-fb12-4dbe-8750-845057f54541",
   "metadata": {},
   "source": [
    "Example 48: Write a program a create a merged dataframe using the cust and order dataframes, which is merged on common field cust_id and contains all the rows from order dataframe and from cust dataframe."
   ]
  },
  {
   "cell_type": "code",
   "execution_count": 30,
   "id": "e9bf8521-e274-4031-bae9-30fac8f381fa",
   "metadata": {},
   "outputs": [
    {
     "name": "stdout",
     "output_type": "stream",
     "text": [
      "   cust_id      F_Name last_name       email\n",
      "0        1        Jaan     Singh   s@gak.com\n",
      "1        2       Cutie     Bevli    bev@.com\n",
      "2        3     Sweetie   Khurana   rana@.com\n",
      "3        4  Angry_Bird   Gadkary    Gad@.com\n",
      "4        5     Khadoos      Jaan  Jaan@s.com\n",
      "   order_id    amount  cust_id\n",
      "0         1  23234.56        1\n",
      "1         2  62378.50        3\n",
      "2         3  32124.00        2\n",
      "3         4   8365.50        3\n",
      "4         5  12325.50       10\n",
      "5         6  12614.40        9\n",
      "   order_id    amount  cust_id      F_Name last_name       email\n",
      "0       1.0  23234.56        1        Jaan     Singh   s@gak.com\n",
      "1       3.0  32124.00        2       Cutie     Bevli    bev@.com\n",
      "2       2.0  62378.50        3     Sweetie   Khurana   rana@.com\n",
      "3       4.0   8365.50        3     Sweetie   Khurana   rana@.com\n",
      "4       NaN       NaN        4  Angry_Bird   Gadkary    Gad@.com\n",
      "5       NaN       NaN        5     Khadoos      Jaan  Jaan@s.com\n",
      "6       6.0  12614.40        9         NaN       NaN         NaN\n",
      "7       5.0  12325.50       10         NaN       NaN         NaN\n"
     ]
    }
   ],
   "source": [
    "l = {'cust_id':[1,2,3,4,5],'F_Name':['Jaan','Cutie','Sweetie','Angry_Bird','Khadoos'],\n",
    "     'last_name':['Singh','Bevli','Khurana','Gadkary','Jaan'],'email':\n",
    "     ['s@gak.com','bev@.com','rana@.com','Gad@.com','Jaan@s.com'] }\n",
    "cust = pd.DataFrame(l) \n",
    "print(cust)\n",
    "u = {'order_id':[1,2,3,4,5,6],'amount':[23234.56,62378.50,32124.00,8365.50,12325.50,\n",
    "                                       12614.40],'cust_id':[1,3,2,3,10,9]} \n",
    "order = pd.DataFrame(u) \n",
    "print(order)\n",
    "res1 = pd.merge(order, cust, on = 'cust_id', how = 'outer') \n",
    "print(res1)"
   ]
  },
  {
   "cell_type": "markdown",
   "id": "1fd2026f-ecac-4838-817a-01bf911ee5ff",
   "metadata": {
    "jp-MarkdownHeadingCollapsed": true
   },
   "source": [
    "## Function groupby()"
   ]
  },
  {
   "cell_type": "code",
   "execution_count": 39,
   "id": "8f1ded6a-f69d-4b9e-9627-703b1d834545",
   "metadata": {},
   "outputs": [
    {
     "name": "stdout",
     "output_type": "stream",
     "text": [
      "    Classes Country  Quarter    Tutor\n",
      "0        28     USA        1   Tahira\n",
      "1        36      UK        1  Gurjyot\n",
      "2        41   Japan        1   Anusha\n",
      "3        32     USA        1    Jacob\n",
      "4        40  Brazil        1   Venkat\n",
      "5        36     USA        2   Tahira\n",
      "6        40     USA        2  Gurjyot\n",
      "7        36   Japan        2   Anusha\n",
      "8        40  Brazil        2    Jacob\n",
      "9        46     USA        2   Venkat\n",
      "10       24  Brazil        3   Tahira\n",
      "11       30     USA        3  Gurjyot\n",
      "12       44      UK        3   Anusha\n",
      "13       40  Brazil        3    Jacob\n",
      "14       32     USA        3   Venkat\n",
      "15       36   Japan        4   Tahira\n",
      "16       32   Japan        4  Gurjyot\n",
      "17       36  Brazil        4   Anusha\n",
      "18       42      UK        4    Jacob\n",
      "19       38     USA        4   Venkat\n",
      "*********************\n",
      "<pandas.core.groupby.generic.DataFrameGroupBy object at 0x7c0e8dfb4710>\n"
     ]
    }
   ],
   "source": [
    "# Syntax: <df>.groupby(by = None, axis = 0) \n",
    "on = {'Classes':[28,36,41,32,40,36,40,36,40,46,24,30,44,40,32,36,32,36,42,38],\n",
    "           'Country':['USA','UK','Japan','USA','Brazil','USA','USA','Japan','Brazil',\n",
    "                    'USA','Brazil','USA','UK','Brazil','USA','Japan','Japan',\n",
    "                        'Brazil','UK','USA'],\n",
    "      'Quarter':[1,1,1,1,1,2,2,2,2,2,3,3,3,3,3,4,4,4,4,4],\n",
    "      'Tutor':['Tahira','Gurjyot','Anusha','Jacob','Venkat',\n",
    "                  'Tahira','Gurjyot','Anusha','Jacob','Venkat',\n",
    "                  'Tahira','Gurjyot','Anusha','Jacob','Venkat',\n",
    "                  'Tahira','Gurjyot','Anusha','Jacob','Venkat']}\n",
    "c = pd.DataFrame(on) \n",
    "print(c)  \n",
    "print('*********************')\n",
    "gdf = c.groupby('Tutor') \n",
    "print(gdf)"
   ]
  },
  {
   "cell_type": "code",
   "execution_count": 40,
   "id": "f9dacf17-c361-4e1a-a5a7-bc29993b5d93",
   "metadata": {},
   "outputs": [
    {
     "name": "stdout",
     "output_type": "stream",
     "text": [
      "    Classes Country  Quarter   Tutor\n",
      "4        40  Brazil        1  Venkat\n",
      "9        46     USA        2  Venkat\n",
      "14       32     USA        3  Venkat\n",
      "19       38     USA        4  Venkat\n"
     ]
    }
   ],
   "source": [
    "print(gdf.get_group('Venkat')) "
   ]
  },
  {
   "cell_type": "code",
   "execution_count": 42,
   "id": "d70d3696-d795-4bd9-a035-4189d8439cec",
   "metadata": {},
   "outputs": [
    {
     "name": "stdout",
     "output_type": "stream",
     "text": [
      "    Classes Country  Quarter    Tutor\n",
      "1        36      UK        1  Gurjyot\n",
      "6        40     USA        2  Gurjyot\n",
      "11       30     USA        3  Gurjyot\n",
      "16       32   Japan        4  Gurjyot\n"
     ]
    }
   ],
   "source": [
    "print(gdf.get_group('Gurjyot' ))  "
   ]
  },
  {
   "cell_type": "code",
   "execution_count": 43,
   "id": "b0166c8a-d091-4ad1-a444-ab3e4d3caf8f",
   "metadata": {
    "scrolled": true
   },
   "outputs": [
    {
     "name": "stdout",
     "output_type": "stream",
     "text": [
      "Tutor\n",
      "Anusha     4\n",
      "Gurjyot    4\n",
      "Jacob      4\n",
      "Tahira     4\n",
      "Venkat     4\n",
      "dtype: int64\n"
     ]
    }
   ],
   "source": [
    "print(gdf.size()) "
   ]
  },
  {
   "cell_type": "code",
   "execution_count": 44,
   "id": "09894288-b8ba-4648-a120-4815104ec563",
   "metadata": {},
   "outputs": [
    {
     "name": "stdout",
     "output_type": "stream",
     "text": [
      "         Classes  Country  Quarter\n",
      "Tutor                             \n",
      "Anusha         4        4        4\n",
      "Gurjyot        4        4        4\n",
      "Jacob          4        4        4\n",
      "Tahira         4        4        4\n",
      "Venkat         4        4        4\n"
     ]
    }
   ],
   "source": [
    "print(gdf.count())"
   ]
  },
  {
   "cell_type": "markdown",
   "id": "750c1fac-b29b-4a88-828a-5d06a5de7433",
   "metadata": {},
   "source": [
    "Example 50: Create a dataframe QtrSales where each row contains the item category, item name, and expenditure. Group the rows by the category, and print total expenditure per category."
   ]
  },
  {
   "cell_type": "code",
   "execution_count": 48,
   "id": "6ddeeecc-441b-4120-8674-053d8d916aea",
   "metadata": {},
   "outputs": [
    {
     "name": "stdout",
     "output_type": "stream",
     "text": [
      "  Item Category   Item Name  Expenditure\n",
      "0             A        ipad       288000\n",
      "1             B         LCD       356000\n",
      "2             A      iphone       497000\n",
      "3             A      iwatch       315000\n",
      "4             B   Projector       413000\n",
      "5             C   Hard disk        45000\n",
      "6             B  Smartboard       211000\n",
      "7             C   Pen drive        21000\n",
      "Total expenditure category wise :\n",
      "Item Category\n",
      "A    1100000\n",
      "B     980000\n",
      "C      66000\n",
      "Name: Expenditure, dtype: int64\n"
     ]
    }
   ],
   "source": [
    "import pandas as pd  \n",
    "QtrSales = pd.DataFrame({'Item Category':['A','B','A','A','B','C','B','C'],\n",
    "                         'Item Name':['ipad','LCD','iphone','iwatch','Projector',\n",
    "                                     'Hard disk','Smartboard','Pen drive'],\n",
    "                         'Expenditure':[288000,356000,497000,315000,413000,45000,\n",
    "                                       211000,21000]})  \n",
    "print(QtrSales)\n",
    "print(\"Total expenditure category wise :\") \n",
    "print(QtrSales.groupby(\"Item Category\")[\"Expenditure\"].sum()) \n"
   ]
  },
  {
   "cell_type": "markdown",
   "id": "1f3d8bf8-4150-465a-9f86-ed9962995156",
   "metadata": {},
   "source": [
    "Example 51: Consider the same dataframe QtrSales of the previous example and Group the row by the category, and print the average expenditure per category."
   ]
  },
  {
   "cell_type": "code",
   "execution_count": 49,
   "id": "63e10871-e2ba-4ff9-9e9c-5f57a31e544c",
   "metadata": {},
   "outputs": [
    {
     "name": "stdout",
     "output_type": "stream",
     "text": [
      "  Item Category   Item Name  Expenditure\n",
      "0             A        ipad       288000\n",
      "1             B         LCD       356000\n",
      "2             A      iphone       497000\n",
      "3             A      iwatch       315000\n",
      "4             B   Projector       413000\n",
      "5             C   Hard disk        45000\n",
      "6             B  Smartboard       211000\n",
      "7             C   Pen drive        21000\n",
      "Average expenditure category wise: \n",
      "Item Category\n",
      "A    366666.666667\n",
      "B    326666.666667\n",
      "C     33000.000000\n",
      "Name: Expenditure, dtype: float64\n"
     ]
    }
   ],
   "source": [
    "import pandas as pd  \n",
    "QtrSales = pd.DataFrame({'Item Category':['A','B','A','A','B','C','B','C'],\n",
    "                         'Item Name':['ipad','LCD','iphone','iwatch','Projector',\n",
    "                                     'Hard disk','Smartboard','Pen drive'],\n",
    "                         'Expenditure':[288000,356000,497000,315000,413000,45000,\n",
    "                                       211000,21000]})  \n",
    "print(QtrSales) \n",
    "print(\"Average expenditure category wise: \") \n",
    "print(QtrSales.groupby(\"Item Category\")[\"Expenditure\"].mean())"
   ]
  }
 ],
 "metadata": {
  "kernelspec": {
   "display_name": "Python 3 (ipykernel)",
   "language": "python",
   "name": "python3"
  },
  "language_info": {
   "codemirror_mode": {
    "name": "ipython",
    "version": 3
   },
   "file_extension": ".py",
   "mimetype": "text/x-python",
   "name": "python",
   "nbconvert_exporter": "python",
   "pygments_lexer": "ipython3",
   "version": "3.11.6"
  }
 },
 "nbformat": 4,
 "nbformat_minor": 5
}
